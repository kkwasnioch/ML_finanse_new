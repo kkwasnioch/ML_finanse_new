{
 "cells": [
  {
   "cell_type": "code",
   "execution_count": 1,
   "metadata": {
    "id": "wRxxamPHXW7h"
   },
   "outputs": [],
   "source": [
    "import pandas as pd\n",
    "import numpy as np\n",
    "import time\n",
    "import matplotlib.pyplot as plt\n",
    "import pickle\n",
    "import math\n",
    "from xgboost import XGBRegressor\n",
    "from sklearn.model_selection import cross_val_score,KFold,train_test_split\n",
    "from sklearn.linear_model import LogisticRegression\n",
    "from sklearn.metrics import mean_squared_error, mean_absolute_percentage_error, mean_absolute_error\n",
    "from sklearn.metrics import r2_score\n",
    "from sklearn.model_selection import GridSearchCV\n",
    "\n",
    "import torch\n",
    "import torch.nn as nn\n",
    "from torch.autograd import Variable "
   ]
  },
  {
   "cell_type": "code",
   "execution_count": 2,
   "metadata": {},
   "outputs": [],
   "source": [
    "import seaborn as sns\n",
    "def plot_scatter_avp(actuals, predictions):\n",
    "        df = pd.DataFrame({\"actual\": actuals, \"predicted\": predictions})\n",
    "\n",
    "        max_actual = max(df.actual)\n",
    "\n",
    "        fig = sns.scatterplot(data=df, x=\"actual\", y=\"predicted\", s=3, marker=\"o\")\n",
    "        fig.plot(np.linspace(0, max_actual), np.linspace(0, max_actual), \"-r\")\n",
    "        plt.show()"
   ]
  },
  {
   "cell_type": "code",
   "execution_count": 3,
   "metadata": {},
   "outputs": [],
   "source": [
    "df = pd.read_csv('data_with_indicators_new.csv')"
   ]
  },
  {
   "cell_type": "code",
   "execution_count": 4,
   "metadata": {},
   "outputs": [],
   "source": [
    "list_y = ['Period',\n",
    "            'month',\n",
    "            'quarter',\n",
    "            'halfyear',\n",
    "            'year']"
   ]
  },
  {
   "cell_type": "code",
   "execution_count": 5,
   "metadata": {},
   "outputs": [
    {
     "data": {
      "text/plain": [
       "<AxesSubplot:>"
      ]
     },
     "execution_count": 5,
     "metadata": {},
     "output_type": "execute_result"
    },
    {
     "data": {
      "image/png": "[encoded data removed]",
      "text/plain": [
       "<Figure size 432x288 with 1 Axes>"
      ]
     },
     "metadata": {
      "needs_background": "light"
     },
     "output_type": "display_data"
    }
   ],
   "source": [
    "df[list_y[4]].hist()"
   ]
  },
  {
   "cell_type": "code",
   "execution_count": 6,
   "metadata": {},
   "outputs": [],
   "source": [
    "def y_preprocessing(name, df):\n",
    "    df = df[(df[name]>-0.2)&(df[name]<0.2)]\n",
    "    df = df.dropna()\n",
    "    dummy = pd.get_dummies(df['Ticker'])\n",
    "    df = pd.merge(df, dummy, left_index=True, right_index=True, how='inner')\n",
    "    df = df.drop('Ticker', axis=1)\n",
    "    df['Date'] = pd.to_datetime(df['Date'])\n",
    "    df['nb_months'] = ((df['Date'] - pd.to_datetime('2004-02'))/np.timedelta64(1, 'M'))\n",
    "    df['nb_months'] = df['nb_months'].astype(int)\n",
    "    df = df.drop('Date', axis=1)\n",
    "    \n",
    "    df = df.rename(columns={name: \"Y\"})\n",
    "    for e in df.columns:\n",
    "        if e in list_y:\n",
    "            df = df.drop(e, axis=1)\n",
    "    return df"
   ]
  },
  {
   "cell_type": "code",
   "execution_count": 7,
   "metadata": {},
   "outputs": [],
   "source": [
    "list_dfs = []\n",
    "for e in list_y:\n",
    "    df_new = df.copy()\n",
    "    df_2 = y_preprocessing(e, df_new)\n",
    "    list_dfs.append(df_2)"
   ]
  },
  {
   "cell_type": "code",
   "execution_count": 8,
   "metadata": {
    "id": "oPlVK005bXRM"
   },
   "outputs": [],
   "source": [
    "# correlation_matrix = df.corr()"
   ]
  },
  {
   "cell_type": "code",
   "execution_count": 9,
   "metadata": {},
   "outputs": [],
   "source": [
    "# correlation_matrix"
   ]
  },
  {
   "cell_type": "markdown",
   "metadata": {},
   "source": [
    "## Predict"
   ]
  },
  {
   "cell_type": "code",
   "execution_count": 26,
   "metadata": {},
   "outputs": [],
   "source": [
    "model_xgb = pickle.load(open('xgboost_final_model.sav', 'rb'))"
   ]
  },
  {
   "cell_type": "code",
   "execution_count": 27,
   "metadata": {},
   "outputs": [],
   "source": [
    "def predict_data(df, model):\n",
    "    y_test = df['Y']\n",
    "    X = df.drop('Y', axis=1)\n",
    "    y_pred = model.predict(X)\n",
    "    \n",
    "    rmse = (np.sqrt(mean_squared_error(y_test, y_pred)))\n",
    "    r2 = r2_score(y_test, y_pred)\n",
    "    mae = mean_absolute_error(y_test, y_pred)\n",
    "    print('Testing performance')\n",
    "    print('RMSE: {:.2f}'.format(rmse))\n",
    "    print('R2: {:.2f}'.format(r2))\n",
    "    print('MAE: {:.2f}'.format(mae))"
   ]
  },
  {
   "cell_type": "code",
   "execution_count": 28,
   "metadata": {},
   "outputs": [
    {
     "name": "stdout",
     "output_type": "stream",
     "text": [
      "Testing performance\n",
      "RMSE: 0.02\n",
      "R2: 0.90\n",
      "MAE: 0.01\n",
      "Testing performance\n",
      "RMSE: 0.05\n",
      "R2: 0.10\n",
      "MAE: 0.03\n",
      "Testing performance\n",
      "RMSE: 0.05\n",
      "R2: -0.80\n",
      "MAE: 0.04\n",
      "Testing performance\n",
      "RMSE: 0.05\n",
      "R2: -1.48\n",
      "MAE: 0.04\n",
      "Testing performance\n",
      "RMSE: 0.05\n",
      "R2: -3.03\n",
      "MAE: 0.04\n"
     ]
    }
   ],
   "source": [
    "for data in list_dfs:\n",
    "    predict_data(data, model_xgb)"
   ]
  },
  {
   "cell_type": "markdown",
   "metadata": {},
   "source": [
    "## XGBoost"
   ]
  },
  {
   "cell_type": "code",
   "execution_count": 30,
   "metadata": {},
   "outputs": [],
   "source": [
    "def train_model(df, params_right):\n",
    "    y = df['Y']\n",
    "    X = df.drop(\"Y\", axis=1)\n",
    "    X_train, X_test, y_train, y_test = train_test_split(X, y, test_size=0.2, random_state=420)\n",
    "    X_train, X_val, y_train, y_val = train_test_split(X_train, y_train, test_size=0.2, random_state=69)\n",
    "    eval_set = [(X_train, y_train), (X_val, y_val)]\n",
    "\n",
    "    model_xgb = XGBRegressor(**params_right)\n",
    "    model_xgb.fit(X_train,\n",
    "                  y_train,\n",
    "                  verbose=0,\n",
    "                  eval_set=eval_set,\n",
    "                  eval_metric='rmse',\n",
    "                  early_stopping_rounds=50\n",
    "                  )\n",
    "\n",
    "    y_pred = model_xgb.predict(X_test, ntree_limit=model_xgb.best_ntree_limit)\n",
    "    y_pred_train = model_xgb.predict(X_train)\n",
    "\n",
    "    rmse = (np.sqrt(mean_squared_error(y_test, y_pred)))\n",
    "    r2 = r2_score(y_test, y_pred)\n",
    "    mae = mean_absolute_error(y_test, y_pred)\n",
    "    print('Testing performance')\n",
    "    print('RMSE: {:.2f}'.format(rmse))\n",
    "    print('R2: {:.2f}'.format(r2))\n",
    "    print('MAE: {:.2f}'.format(mae))\n",
    "\n",
    "    return model_xgb, y_pred, y_pred_train, y_test, y_train"
   ]
  },
  {
   "cell_type": "code",
   "execution_count": 32,
   "metadata": {},
   "outputs": [
    {
     "name": "stderr",
     "output_type": "stream",
     "text": [
      "c:\\users\\kkwas\\pycharmprojects\\pythonproject\\venv\\lib\\site-packages\\xgboost\\core.py:105: UserWarning: ntree_limit is deprecated, use `iteration_range` or model slicing instead.\n",
      "  warnings.warn(\n"
     ]
    },
    {
     "name": "stdout",
     "output_type": "stream",
     "text": [
      "Testing performance\n",
      "RMSE: 0.02\n",
      "R2: 0.81\n",
      "MAE: 0.01\n"
     ]
    },
    {
     "name": "stderr",
     "output_type": "stream",
     "text": [
      "c:\\users\\kkwas\\pycharmprojects\\pythonproject\\venv\\lib\\site-packages\\xgboost\\core.py:105: UserWarning: ntree_limit is deprecated, use `iteration_range` or model slicing instead.\n",
      "  warnings.warn(\n"
     ]
    },
    {
     "name": "stdout",
     "output_type": "stream",
     "text": [
      "Testing performance\n",
      "RMSE: 0.04\n",
      "R2: 0.22\n",
      "MAE: 0.03\n"
     ]
    },
    {
     "name": "stderr",
     "output_type": "stream",
     "text": [
      "c:\\users\\kkwas\\pycharmprojects\\pythonproject\\venv\\lib\\site-packages\\xgboost\\core.py:105: UserWarning: ntree_limit is deprecated, use `iteration_range` or model slicing instead.\n",
      "  warnings.warn(\n"
     ]
    },
    {
     "name": "stdout",
     "output_type": "stream",
     "text": [
      "Testing performance\n",
      "RMSE: 0.04\n",
      "R2: 0.07\n",
      "MAE: 0.02\n"
     ]
    },
    {
     "name": "stderr",
     "output_type": "stream",
     "text": [
      "c:\\users\\kkwas\\pycharmprojects\\pythonproject\\venv\\lib\\site-packages\\xgboost\\core.py:105: UserWarning: ntree_limit is deprecated, use `iteration_range` or model slicing instead.\n",
      "  warnings.warn(\n"
     ]
    },
    {
     "name": "stdout",
     "output_type": "stream",
     "text": [
      "Testing performance\n",
      "RMSE: 0.03\n",
      "R2: 0.01\n",
      "MAE: 0.02\n",
      "Testing performance\n",
      "RMSE: 0.03\n",
      "R2: -0.01\n",
      "MAE: 0.01\n"
     ]
    },
    {
     "name": "stderr",
     "output_type": "stream",
     "text": [
      "c:\\users\\kkwas\\pycharmprojects\\pythonproject\\venv\\lib\\site-packages\\xgboost\\core.py:105: UserWarning: ntree_limit is deprecated, use `iteration_range` or model slicing instead.\n",
      "  warnings.warn(\n"
     ]
    }
   ],
   "source": [
    "params_right = {'colsample_bytree': 1, \n",
    "                'eval_metric': 'rmse', \n",
    "                'gamma': 0, \n",
    "                'grow_policy': 'depthwise', \n",
    "                'learning_rate': 0.05, \n",
    "                'max_depth': 6, \n",
    "                'n_estimators': 300, \n",
    "                'reg_alpha': 0, \n",
    "                'reg_lambda': 0, \n",
    "                'subsample': 0.8}\n",
    "\n",
    "d_final = {}\n",
    "n = 0\n",
    "for data in list_dfs:\n",
    "    model_xgb, y_pred, y_pred_train, y_test, y_train = train_model(data, params_right)\n",
    "    d_final[n] = [model_xgb, y_pred, y_pred_train, y_test, y_train]\n",
    "    n +=1"
   ]
  },
  {
   "cell_type": "markdown",
   "metadata": {},
   "source": [
    "## one dataframe model"
   ]
  },
  {
   "cell_type": "code",
   "execution_count": 17,
   "metadata": {},
   "outputs": [],
   "source": [
    "y = df['Y']\n",
    "X = df.drop(\"Y\", axis=1)"
   ]
  },
  {
   "cell_type": "code",
   "execution_count": 18,
   "metadata": {
    "id": "h6qVCyfuZkbU"
   },
   "outputs": [],
   "source": [
    "X_train, X_test, y_train, y_test = train_test_split(X, y, test_size=0.2, random_state=420)\n",
    "X_train, X_val, y_train, y_val = train_test_split(X_train, y_train, test_size=0.2, random_state=69)"
   ]
  },
  {
   "cell_type": "code",
   "execution_count": 19,
   "metadata": {
    "id": "DcyQYOjGaVEj"
   },
   "outputs": [],
   "source": [
    "params_CV_xgb_only = {'colsample_bytree': 1, \n",
    "                      'eval_metric': 'rmse', \n",
    "                      'gamma': 3, \n",
    "                      'grow_policy': 'depthwise', \n",
    "                      'learning_rate': 0.03, \n",
    "                      'max_depth': 8, \n",
    "                      'n_estimators': 500, \n",
    "                      'reg_alpha': 0, \n",
    "                      'reg_lambda': 3, \n",
    "                      'subsample': 0.8}"
   ]
  },
  {
   "cell_type": "code",
   "execution_count": 20,
   "metadata": {},
   "outputs": [],
   "source": [
    "params_right = {'colsample_bytree': 1, \n",
    "                'eval_metric': 'rmse', \n",
    "                'gamma': 0, \n",
    "                'grow_policy': 'depthwise', \n",
    "                'learning_rate': 0.05, \n",
    "                'max_depth': 6, \n",
    "                'n_estimators': 300, \n",
    "                'reg_alpha': 0, \n",
    "                'reg_lambda': 0, \n",
    "                'subsample': 0.8}"
   ]
  },
  {
   "cell_type": "code",
   "execution_count": 21,
   "metadata": {
    "colab": {
     "base_uri": "https://localhost:8080/"
    },
    "id": "nRdc_1lkbzJM",
    "outputId": "5cc59ae1-dde4-440e-a63b-43b8fafcfc18"
   },
   "outputs": [
    {
     "data": {
      "text/plain": [
       "XGBRegressor(base_score=0.5, booster='gbtree', colsample_bylevel=1,\n",
       "             colsample_bynode=1, colsample_bytree=1, enable_categorical=False,\n",
       "             eval_metric='rmse', gamma=0, gpu_id=-1, grow_policy='depthwise',\n",
       "             importance_type=None, interaction_constraints='',\n",
       "             learning_rate=0.05, max_delta_step=0, max_depth=6,\n",
       "             min_child_weight=1, missing=nan, monotone_constraints='()',\n",
       "             n_estimators=300, n_jobs=16, num_parallel_tree=1, predictor='auto',\n",
       "             random_state=0, reg_alpha=0, reg_lambda=0, scale_pos_weight=1,\n",
       "             subsample=0.8, tree_method='exact', validate_parameters=1,\n",
       "             verbosity=None)"
      ]
     },
     "execution_count": 21,
     "metadata": {},
     "output_type": "execute_result"
    }
   ],
   "source": [
    "eval_set = [(X_train, y_train), (X_val, y_val)]\n",
    "\n",
    "model_xgb = XGBRegressor(**params_right)\n",
    "model_xgb.fit(X_train,\n",
    "              y_train,\n",
    "              verbose=0,\n",
    "              eval_set=eval_set,\n",
    "              eval_metric='rmse',\n",
    "              early_stopping_rounds=50\n",
    "              )"
   ]
  },
  {
   "cell_type": "code",
   "execution_count": 22,
   "metadata": {},
   "outputs": [
    {
     "name": "stderr",
     "output_type": "stream",
     "text": [
      "c:\\users\\kkwas\\pycharmprojects\\pythonproject\\venv\\lib\\site-packages\\xgboost\\core.py:105: UserWarning: ntree_limit is deprecated, use `iteration_range` or model slicing instead.\n",
      "  warnings.warn(\n"
     ]
    }
   ],
   "source": [
    "y_pred = model_xgb.predict(X_test, ntree_limit=model_xgb.best_ntree_limit)"
   ]
  },
  {
   "cell_type": "code",
   "execution_count": 26,
   "metadata": {},
   "outputs": [],
   "source": [
    "y_pred_train = model_xgb.predict(X_train)"
   ]
  },
  {
   "cell_type": "code",
   "execution_count": 23,
   "metadata": {
    "colab": {
     "base_uri": "https://localhost:8080/"
    },
    "id": "ZN3nPkNdciPb",
    "outputId": "5887e82b-6a84-4203-80d4-805ff83a5e90"
   },
   "outputs": [
    {
     "name": "stdout",
     "output_type": "stream",
     "text": [
      "Testing performance\n",
      "RMSE: 0.02\n",
      "R2: 0.81\n",
      "MAE: 0.01\n"
     ]
    }
   ],
   "source": [
    "rmse = (np.sqrt(mean_squared_error(y_test, y_pred)))\n",
    "r2 = r2_score(y_test, y_pred)\n",
    "mae = mean_absolute_error(y_test, y_pred)\n",
    "print('Testing performance')\n",
    "print('RMSE: {:.2f}'.format(rmse))\n",
    "print('R2: {:.2f}'.format(r2))\n",
    "print('MAE: {:.2f}'.format(mae))"
   ]
  },
  {
   "cell_type": "code",
   "execution_count": 24,
   "metadata": {},
   "outputs": [
    {
     "data": {
      "image/png": "[encoded data removed]",
      "text/plain": [
       "<Figure size 720x504 with 1 Axes>"
      ]
     },
     "metadata": {
      "needs_background": "light"
     },
     "output_type": "display_data"
    }
   ],
   "source": [
    "# plot error\n",
    "results = model_xgb.evals_result()\n",
    "\n",
    "plt.figure(figsize=(10,7))\n",
    "plt.plot(results[\"validation_0\"][\"rmse\"], label=\"Training loss\")\n",
    "plt.plot(results[\"validation_1\"][\"rmse\"], label=\"Validation loss\")\n",
    "# plt.axvline(21, color=\"gray\", label=\"Optimal tree number\")\n",
    "plt.xlabel(\"Number of trees\")\n",
    "plt.ylabel(\"Loss\")\n",
    "plt.legend()\n",
    "plt.show()"
   ]
  },
  {
   "cell_type": "code",
   "execution_count": 27,
   "metadata": {},
   "outputs": [
    {
     "data": {
      "image/png": "[encoded data removed]",
      "text/plain": [
       "<Figure size 432x288 with 1 Axes>"
      ]
     },
     "metadata": {
      "needs_background": "light"
     },
     "output_type": "display_data"
    }
   ],
   "source": [
    "plot_scatter_avp(y_test, y_pred)"
   ]
  },
  {
   "cell_type": "code",
   "execution_count": 28,
   "metadata": {},
   "outputs": [
    {
     "data": {
      "image/png": "[encoded data removed]",
      "text/plain": [
       "<Figure size 432x288 with 1 Axes>"
      ]
     },
     "metadata": {
      "needs_background": "light"
     },
     "output_type": "display_data"
    }
   ],
   "source": [
    "plot_scatter_avp(y_train, y_pred_train)"
   ]
  },
  {
   "cell_type": "code",
   "execution_count": 32,
   "metadata": {},
   "outputs": [],
   "source": [
    "# save the model to disk\n",
    "filename = 'xgboost_final_model.pickle'\n",
    "pickle.dump(model_xgb, open(filename, 'wb'))"
   ]
  },
  {
   "cell_type": "markdown",
   "metadata": {},
   "source": [
    "## Grid Search XGBoost"
   ]
  },
  {
   "cell_type": "code",
   "execution_count": 83,
   "metadata": {},
   "outputs": [],
   "source": [
    "X_train, X_test, y_train, y_test = train_test_split(X, y, test_size=0.2, random_state=420)"
   ]
  },
  {
   "cell_type": "code",
   "execution_count": 84,
   "metadata": {},
   "outputs": [],
   "source": [
    "params_CV_xgb = {\n",
    "    'n_estimators': [100, 300],\n",
    "    'learning_rate': [0.05, 0.03],\n",
    "    'max_depth': [4, 6],\n",
    "    'eval_metric': ['rmse'],\n",
    "    'colsample_bytree': [1],\n",
    "    'subsample': [0.8],\n",
    "    'reg_alpha': [0, 1],\n",
    "    'grow_policy': ['depthwise'],\n",
    "    'reg_lambda': [0, 3],\n",
    "    'gamma':[0, 3]\n",
    "}\n"
   ]
  },
  {
   "cell_type": "code",
   "execution_count": 90,
   "metadata": {
    "id": "iO0NKsE6d5sr"
   },
   "outputs": [],
   "source": [
    "model = XGBRegressor()\n",
    "kf=KFold(n_splits=2)\n",
    "model_cv = GridSearchCV(estimator = model, \n",
    "                        param_grid = params_CV_xgb, \n",
    "                        scoring= 'neg_root_mean_squared_error', \n",
    "                        cv = kf, \n",
    "                        verbose = 100,\n",
    "                        return_train_score=True)  "
   ]
  },
  {
   "cell_type": "code",
   "execution_count": 89,
   "metadata": {},
   "outputs": [
    {
     "data": {
      "text/plain": [
       "dict_keys(['explained_variance', 'r2', 'max_error', 'neg_median_absolute_error', 'neg_mean_absolute_error', 'neg_mean_absolute_percentage_error', 'neg_mean_squared_error', 'neg_mean_squared_log_error', 'neg_root_mean_squared_error', 'neg_mean_poisson_deviance', 'neg_mean_gamma_deviance', 'accuracy', 'top_k_accuracy', 'roc_auc', 'roc_auc_ovr', 'roc_auc_ovo', 'roc_auc_ovr_weighted', 'roc_auc_ovo_weighted', 'balanced_accuracy', 'average_precision', 'neg_log_loss', 'neg_brier_score', 'adjusted_rand_score', 'rand_score', 'homogeneity_score', 'completeness_score', 'v_measure_score', 'mutual_info_score', 'adjusted_mutual_info_score', 'normalized_mutual_info_score', 'fowlkes_mallows_score', 'precision', 'precision_macro', 'precision_micro', 'precision_samples', 'precision_weighted', 'recall', 'recall_macro', 'recall_micro', 'recall_samples', 'recall_weighted', 'f1', 'f1_macro', 'f1_micro', 'f1_samples', 'f1_weighted', 'jaccard', 'jaccard_macro', 'jaccard_micro', 'jaccard_samples', 'jaccard_weighted'])"
      ]
     },
     "execution_count": 89,
     "metadata": {},
     "output_type": "execute_result"
    }
   ],
   "source": [
    "import sklearn\n",
    "sklearn.metrics.SCORERS.keys()"
   ]
  },
  {
   "cell_type": "code",
   "execution_count": 91,
   "metadata": {},
   "outputs": [
    {
     "name": "stdout",
     "output_type": "stream",
     "text": [
      "Fitting 2 folds for each of 64 candidates, totalling 128 fits\n",
      "[CV 1/2; 1/64] START colsample_bytree=1, eval_metric=rmse, gamma=0, grow_policy=depthwise, learning_rate=0.05, max_depth=4, n_estimators=100, reg_alpha=0, reg_lambda=0, subsample=0.8\n",
      "[CV 1/2; 1/64] END colsample_bytree=1, eval_metric=rmse, gamma=0, grow_policy=depthwise, learning_rate=0.05, max_depth=4, n_estimators=100, reg_alpha=0, reg_lambda=0, subsample=0.8;, score=(train=-0.025, test=-0.029) total time=   1.4s\n",
      "[CV 2/2; 1/64] START colsample_bytree=1, eval_metric=rmse, gamma=0, grow_policy=depthwise, learning_rate=0.05, max_depth=4, n_estimators=100, reg_alpha=0, reg_lambda=0, subsample=0.8\n",
      "[CV 2/2; 1/64] END colsample_bytree=1, eval_metric=rmse, gamma=0, grow_policy=depthwise, learning_rate=0.05, max_depth=4, n_estimators=100, reg_alpha=0, reg_lambda=0, subsample=0.8;, score=(train=-0.025, test=-0.028) total time=   1.4s\n",
      "[CV 1/2; 2/64] START colsample_bytree=1, eval_metric=rmse, gamma=0, grow_policy=depthwise, learning_rate=0.05, max_depth=4, n_estimators=100, reg_alpha=0, reg_lambda=3, subsample=0.8\n",
      "[CV 1/2; 2/64] END colsample_bytree=1, eval_metric=rmse, gamma=0, grow_policy=depthwise, learning_rate=0.05, max_depth=4, n_estimators=100, reg_alpha=0, reg_lambda=3, subsample=0.8;, score=(train=-0.026, test=-0.030) total time=   1.4s\n",
      "[CV 2/2; 2/64] START colsample_bytree=1, eval_metric=rmse, gamma=0, grow_policy=depthwise, learning_rate=0.05, max_depth=4, n_estimators=100, reg_alpha=0, reg_lambda=3, subsample=0.8\n",
      "[CV 2/2; 2/64] END colsample_bytree=1, eval_metric=rmse, gamma=0, grow_policy=depthwise, learning_rate=0.05, max_depth=4, n_estimators=100, reg_alpha=0, reg_lambda=3, subsample=0.8;, score=(train=-0.026, test=-0.029) total time=   1.5s\n",
      "[CV 1/2; 3/64] START colsample_bytree=1, eval_metric=rmse, gamma=0, grow_policy=depthwise, learning_rate=0.05, max_depth=4, n_estimators=100, reg_alpha=1, reg_lambda=0, subsample=0.8\n",
      "[CV 1/2; 3/64] END colsample_bytree=1, eval_metric=rmse, gamma=0, grow_policy=depthwise, learning_rate=0.05, max_depth=4, n_estimators=100, reg_alpha=1, reg_lambda=0, subsample=0.8;, score=(train=-0.029, test=-0.032) total time=   1.5s\n",
      "[CV 2/2; 3/64] START colsample_bytree=1, eval_metric=rmse, gamma=0, grow_policy=depthwise, learning_rate=0.05, max_depth=4, n_estimators=100, reg_alpha=1, reg_lambda=0, subsample=0.8\n",
      "[CV 2/2; 3/64] END colsample_bytree=1, eval_metric=rmse, gamma=0, grow_policy=depthwise, learning_rate=0.05, max_depth=4, n_estimators=100, reg_alpha=1, reg_lambda=0, subsample=0.8;, score=(train=-0.030, test=-0.031) total time=   1.4s\n",
      "[CV 1/2; 4/64] START colsample_bytree=1, eval_metric=rmse, gamma=0, grow_policy=depthwise, learning_rate=0.05, max_depth=4, n_estimators=100, reg_alpha=1, reg_lambda=3, subsample=0.8\n",
      "[CV 1/2; 4/64] END colsample_bytree=1, eval_metric=rmse, gamma=0, grow_policy=depthwise, learning_rate=0.05, max_depth=4, n_estimators=100, reg_alpha=1, reg_lambda=3, subsample=0.8;, score=(train=-0.029, test=-0.032) total time=   1.4s\n",
      "[CV 2/2; 4/64] START colsample_bytree=1, eval_metric=rmse, gamma=0, grow_policy=depthwise, learning_rate=0.05, max_depth=4, n_estimators=100, reg_alpha=1, reg_lambda=3, subsample=0.8\n",
      "[CV 2/2; 4/64] END colsample_bytree=1, eval_metric=rmse, gamma=0, grow_policy=depthwise, learning_rate=0.05, max_depth=4, n_estimators=100, reg_alpha=1, reg_lambda=3, subsample=0.8;, score=(train=-0.030, test=-0.031) total time=   1.4s\n",
      "[CV 1/2; 5/64] START colsample_bytree=1, eval_metric=rmse, gamma=0, grow_policy=depthwise, learning_rate=0.05, max_depth=4, n_estimators=300, reg_alpha=0, reg_lambda=0, subsample=0.8\n",
      "[CV 1/2; 5/64] END colsample_bytree=1, eval_metric=rmse, gamma=0, grow_policy=depthwise, learning_rate=0.05, max_depth=4, n_estimators=300, reg_alpha=0, reg_lambda=0, subsample=0.8;, score=(train=-0.018, test=-0.026) total time=   4.6s\n",
      "[CV 2/2; 5/64] START colsample_bytree=1, eval_metric=rmse, gamma=0, grow_policy=depthwise, learning_rate=0.05, max_depth=4, n_estimators=300, reg_alpha=0, reg_lambda=0, subsample=0.8\n",
      "[CV 2/2; 5/64] END colsample_bytree=1, eval_metric=rmse, gamma=0, grow_policy=depthwise, learning_rate=0.05, max_depth=4, n_estimators=300, reg_alpha=0, reg_lambda=0, subsample=0.8;, score=(train=-0.019, test=-0.026) total time=   4.4s\n",
      "[CV 1/2; 6/64] START colsample_bytree=1, eval_metric=rmse, gamma=0, grow_policy=depthwise, learning_rate=0.05, max_depth=4, n_estimators=300, reg_alpha=0, reg_lambda=3, subsample=0.8\n",
      "[CV 1/2; 6/64] END colsample_bytree=1, eval_metric=rmse, gamma=0, grow_policy=depthwise, learning_rate=0.05, max_depth=4, n_estimators=300, reg_alpha=0, reg_lambda=3, subsample=0.8;, score=(train=-0.019, test=-0.026) total time=   4.2s\n",
      "[CV 2/2; 6/64] START colsample_bytree=1, eval_metric=rmse, gamma=0, grow_policy=depthwise, learning_rate=0.05, max_depth=4, n_estimators=300, reg_alpha=0, reg_lambda=3, subsample=0.8\n",
      "[CV 2/2; 6/64] END colsample_bytree=1, eval_metric=rmse, gamma=0, grow_policy=depthwise, learning_rate=0.05, max_depth=4, n_estimators=300, reg_alpha=0, reg_lambda=3, subsample=0.8;, score=(train=-0.019, test=-0.026) total time=   4.2s\n",
      "[CV 1/2; 7/64] START colsample_bytree=1, eval_metric=rmse, gamma=0, grow_policy=depthwise, learning_rate=0.05, max_depth=4, n_estimators=300, reg_alpha=1, reg_lambda=0, subsample=0.8\n",
      "[CV 1/2; 7/64] END colsample_bytree=1, eval_metric=rmse, gamma=0, grow_policy=depthwise, learning_rate=0.05, max_depth=4, n_estimators=300, reg_alpha=1, reg_lambda=0, subsample=0.8;, score=(train=-0.023, test=-0.027) total time=   4.3s\n",
      "[CV 2/2; 7/64] START colsample_bytree=1, eval_metric=rmse, gamma=0, grow_policy=depthwise, learning_rate=0.05, max_depth=4, n_estimators=300, reg_alpha=1, reg_lambda=0, subsample=0.8\n",
      "[CV 2/2; 7/64] END colsample_bytree=1, eval_metric=rmse, gamma=0, grow_policy=depthwise, learning_rate=0.05, max_depth=4, n_estimators=300, reg_alpha=1, reg_lambda=0, subsample=0.8;, score=(train=-0.023, test=-0.027) total time=   4.3s\n",
      "[CV 1/2; 8/64] START colsample_bytree=1, eval_metric=rmse, gamma=0, grow_policy=depthwise, learning_rate=0.05, max_depth=4, n_estimators=300, reg_alpha=1, reg_lambda=3, subsample=0.8\n",
      "[CV 1/2; 8/64] END colsample_bytree=1, eval_metric=rmse, gamma=0, grow_policy=depthwise, learning_rate=0.05, max_depth=4, n_estimators=300, reg_alpha=1, reg_lambda=3, subsample=0.8;, score=(train=-0.023, test=-0.027) total time=   4.3s\n",
      "[CV 2/2; 8/64] START colsample_bytree=1, eval_metric=rmse, gamma=0, grow_policy=depthwise, learning_rate=0.05, max_depth=4, n_estimators=300, reg_alpha=1, reg_lambda=3, subsample=0.8\n",
      "[CV 2/2; 8/64] END colsample_bytree=1, eval_metric=rmse, gamma=0, grow_policy=depthwise, learning_rate=0.05, max_depth=4, n_estimators=300, reg_alpha=1, reg_lambda=3, subsample=0.8;, score=(train=-0.023, test=-0.027) total time=   4.3s\n",
      "[CV 1/2; 9/64] START colsample_bytree=1, eval_metric=rmse, gamma=0, grow_policy=depthwise, learning_rate=0.05, max_depth=6, n_estimators=100, reg_alpha=0, reg_lambda=0, subsample=0.8\n",
      "[CV 1/2; 9/64] END colsample_bytree=1, eval_metric=rmse, gamma=0, grow_policy=depthwise, learning_rate=0.05, max_depth=6, n_estimators=100, reg_alpha=0, reg_lambda=0, subsample=0.8;, score=(train=-0.017, test=-0.026) total time=   2.1s\n",
      "[CV 2/2; 9/64] START colsample_bytree=1, eval_metric=rmse, gamma=0, grow_policy=depthwise, learning_rate=0.05, max_depth=6, n_estimators=100, reg_alpha=0, reg_lambda=0, subsample=0.8\n",
      "[CV 2/2; 9/64] END colsample_bytree=1, eval_metric=rmse, gamma=0, grow_policy=depthwise, learning_rate=0.05, max_depth=6, n_estimators=100, reg_alpha=0, reg_lambda=0, subsample=0.8;, score=(train=-0.017, test=-0.026) total time=   2.1s\n",
      "[CV 1/2; 10/64] START colsample_bytree=1, eval_metric=rmse, gamma=0, grow_policy=depthwise, learning_rate=0.05, max_depth=6, n_estimators=100, reg_alpha=0, reg_lambda=3, subsample=0.8\n",
      "[CV 1/2; 10/64] END colsample_bytree=1, eval_metric=rmse, gamma=0, grow_policy=depthwise, learning_rate=0.05, max_depth=6, n_estimators=100, reg_alpha=0, reg_lambda=3, subsample=0.8;, score=(train=-0.021, test=-0.028) total time=   1.9s\n",
      "[CV 2/2; 10/64] START colsample_bytree=1, eval_metric=rmse, gamma=0, grow_policy=depthwise, learning_rate=0.05, max_depth=6, n_estimators=100, reg_alpha=0, reg_lambda=3, subsample=0.8\n",
      "[CV 2/2; 10/64] END colsample_bytree=1, eval_metric=rmse, gamma=0, grow_policy=depthwise, learning_rate=0.05, max_depth=6, n_estimators=100, reg_alpha=0, reg_lambda=3, subsample=0.8;, score=(train=-0.021, test=-0.027) total time=   1.9s\n",
      "[CV 1/2; 11/64] START colsample_bytree=1, eval_metric=rmse, gamma=0, grow_policy=depthwise, learning_rate=0.05, max_depth=6, n_estimators=100, reg_alpha=1, reg_lambda=0, subsample=0.8\n",
      "[CV 1/2; 11/64] END colsample_bytree=1, eval_metric=rmse, gamma=0, grow_policy=depthwise, learning_rate=0.05, max_depth=6, n_estimators=100, reg_alpha=1, reg_lambda=0, subsample=0.8;, score=(train=-0.027, test=-0.031) total time=   1.8s\n",
      "[CV 2/2; 11/64] START colsample_bytree=1, eval_metric=rmse, gamma=0, grow_policy=depthwise, learning_rate=0.05, max_depth=6, n_estimators=100, reg_alpha=1, reg_lambda=0, subsample=0.8\n",
      "[CV 2/2; 11/64] END colsample_bytree=1, eval_metric=rmse, gamma=0, grow_policy=depthwise, learning_rate=0.05, max_depth=6, n_estimators=100, reg_alpha=1, reg_lambda=0, subsample=0.8;, score=(train=-0.028, test=-0.031) total time=   1.8s\n",
      "[CV 1/2; 12/64] START colsample_bytree=1, eval_metric=rmse, gamma=0, grow_policy=depthwise, learning_rate=0.05, max_depth=6, n_estimators=100, reg_alpha=1, reg_lambda=3, subsample=0.8\n",
      "[CV 1/2; 12/64] END colsample_bytree=1, eval_metric=rmse, gamma=0, grow_policy=depthwise, learning_rate=0.05, max_depth=6, n_estimators=100, reg_alpha=1, reg_lambda=3, subsample=0.8;, score=(train=-0.028, test=-0.031) total time=   1.9s\n",
      "[CV 2/2; 12/64] START colsample_bytree=1, eval_metric=rmse, gamma=0, grow_policy=depthwise, learning_rate=0.05, max_depth=6, n_estimators=100, reg_alpha=1, reg_lambda=3, subsample=0.8\n",
      "[CV 2/2; 12/64] END colsample_bytree=1, eval_metric=rmse, gamma=0, grow_policy=depthwise, learning_rate=0.05, max_depth=6, n_estimators=100, reg_alpha=1, reg_lambda=3, subsample=0.8;, score=(train=-0.028, test=-0.031) total time=   1.8s\n",
      "[CV 1/2; 13/64] START colsample_bytree=1, eval_metric=rmse, gamma=0, grow_policy=depthwise, learning_rate=0.05, max_depth=6, n_estimators=300, reg_alpha=0, reg_lambda=0, subsample=0.8\n",
      "[CV 1/2; 13/64] END colsample_bytree=1, eval_metric=rmse, gamma=0, grow_policy=depthwise, learning_rate=0.05, max_depth=6, n_estimators=300, reg_alpha=0, reg_lambda=0, subsample=0.8;, score=(train=-0.010, test=-0.024) total time=   6.2s\n",
      "[CV 2/2; 13/64] START colsample_bytree=1, eval_metric=rmse, gamma=0, grow_policy=depthwise, learning_rate=0.05, max_depth=6, n_estimators=300, reg_alpha=0, reg_lambda=0, subsample=0.8\n",
      "[CV 2/2; 13/64] END colsample_bytree=1, eval_metric=rmse, gamma=0, grow_policy=depthwise, learning_rate=0.05, max_depth=6, n_estimators=300, reg_alpha=0, reg_lambda=0, subsample=0.8;, score=(train=-0.010, test=-0.024) total time=   6.2s\n",
      "[CV 1/2; 14/64] START colsample_bytree=1, eval_metric=rmse, gamma=0, grow_policy=depthwise, learning_rate=0.05, max_depth=6, n_estimators=300, reg_alpha=0, reg_lambda=3, subsample=0.8\n",
      "[CV 1/2; 14/64] END colsample_bytree=1, eval_metric=rmse, gamma=0, grow_policy=depthwise, learning_rate=0.05, max_depth=6, n_estimators=300, reg_alpha=0, reg_lambda=3, subsample=0.8;, score=(train=-0.011, test=-0.024) total time=   6.0s\n",
      "[CV 2/2; 14/64] START colsample_bytree=1, eval_metric=rmse, gamma=0, grow_policy=depthwise, learning_rate=0.05, max_depth=6, n_estimators=300, reg_alpha=0, reg_lambda=3, subsample=0.8\n",
      "[CV 2/2; 14/64] END colsample_bytree=1, eval_metric=rmse, gamma=0, grow_policy=depthwise, learning_rate=0.05, max_depth=6, n_estimators=300, reg_alpha=0, reg_lambda=3, subsample=0.8;, score=(train=-0.012, test=-0.024) total time=   6.1s\n",
      "[CV 1/2; 15/64] START colsample_bytree=1, eval_metric=rmse, gamma=0, grow_policy=depthwise, learning_rate=0.05, max_depth=6, n_estimators=300, reg_alpha=1, reg_lambda=0, subsample=0.8\n",
      "[CV 1/2; 15/64] END colsample_bytree=1, eval_metric=rmse, gamma=0, grow_policy=depthwise, learning_rate=0.05, max_depth=6, n_estimators=300, reg_alpha=1, reg_lambda=0, subsample=0.8;, score=(train=-0.019, test=-0.026) total time=   6.0s\n",
      "[CV 2/2; 15/64] START colsample_bytree=1, eval_metric=rmse, gamma=0, grow_policy=depthwise, learning_rate=0.05, max_depth=6, n_estimators=300, reg_alpha=1, reg_lambda=0, subsample=0.8\n",
      "[CV 2/2; 15/64] END colsample_bytree=1, eval_metric=rmse, gamma=0, grow_policy=depthwise, learning_rate=0.05, max_depth=6, n_estimators=300, reg_alpha=1, reg_lambda=0, subsample=0.8;, score=(train=-0.020, test=-0.025) total time=   6.0s\n",
      "[CV 1/2; 16/64] START colsample_bytree=1, eval_metric=rmse, gamma=0, grow_policy=depthwise, learning_rate=0.05, max_depth=6, n_estimators=300, reg_alpha=1, reg_lambda=3, subsample=0.8\n",
      "[CV 1/2; 16/64] END colsample_bytree=1, eval_metric=rmse, gamma=0, grow_policy=depthwise, learning_rate=0.05, max_depth=6, n_estimators=300, reg_alpha=1, reg_lambda=3, subsample=0.8;, score=(train=-0.019, test=-0.026) total time=   6.4s\n",
      "[CV 2/2; 16/64] START colsample_bytree=1, eval_metric=rmse, gamma=0, grow_policy=depthwise, learning_rate=0.05, max_depth=6, n_estimators=300, reg_alpha=1, reg_lambda=3, subsample=0.8\n",
      "[CV 2/2; 16/64] END colsample_bytree=1, eval_metric=rmse, gamma=0, grow_policy=depthwise, learning_rate=0.05, max_depth=6, n_estimators=300, reg_alpha=1, reg_lambda=3, subsample=0.8;, score=(train=-0.020, test=-0.025) total time=   6.4s\n",
      "[CV 1/2; 17/64] START colsample_bytree=1, eval_metric=rmse, gamma=0, grow_policy=depthwise, learning_rate=0.03, max_depth=4, n_estimators=100, reg_alpha=0, reg_lambda=0, subsample=0.8\n",
      "[CV 1/2; 17/64] END colsample_bytree=1, eval_metric=rmse, gamma=0, grow_policy=depthwise, learning_rate=0.03, max_depth=4, n_estimators=100, reg_alpha=0, reg_lambda=0, subsample=0.8;, score=(train=-0.036, test=-0.038) total time=   1.5s\n",
      "[CV 2/2; 17/64] START colsample_bytree=1, eval_metric=rmse, gamma=0, grow_policy=depthwise, learning_rate=0.03, max_depth=4, n_estimators=100, reg_alpha=0, reg_lambda=0, subsample=0.8\n",
      "[CV 2/2; 17/64] END colsample_bytree=1, eval_metric=rmse, gamma=0, grow_policy=depthwise, learning_rate=0.03, max_depth=4, n_estimators=100, reg_alpha=0, reg_lambda=0, subsample=0.8;, score=(train=-0.036, test=-0.038) total time=   1.5s\n",
      "[CV 1/2; 18/64] START colsample_bytree=1, eval_metric=rmse, gamma=0, grow_policy=depthwise, learning_rate=0.03, max_depth=4, n_estimators=100, reg_alpha=0, reg_lambda=3, subsample=0.8\n",
      "[CV 1/2; 18/64] END colsample_bytree=1, eval_metric=rmse, gamma=0, grow_policy=depthwise, learning_rate=0.03, max_depth=4, n_estimators=100, reg_alpha=0, reg_lambda=3, subsample=0.8;, score=(train=-0.037, test=-0.039) total time=   1.4s\n",
      "[CV 2/2; 18/64] START colsample_bytree=1, eval_metric=rmse, gamma=0, grow_policy=depthwise, learning_rate=0.03, max_depth=4, n_estimators=100, reg_alpha=0, reg_lambda=3, subsample=0.8\n",
      "[CV 2/2; 18/64] END colsample_bytree=1, eval_metric=rmse, gamma=0, grow_policy=depthwise, learning_rate=0.03, max_depth=4, n_estimators=100, reg_alpha=0, reg_lambda=3, subsample=0.8;, score=(train=-0.038, test=-0.039) total time=   1.4s\n",
      "[CV 1/2; 19/64] START colsample_bytree=1, eval_metric=rmse, gamma=0, grow_policy=depthwise, learning_rate=0.03, max_depth=4, n_estimators=100, reg_alpha=1, reg_lambda=0, subsample=0.8\n",
      "[CV 1/2; 19/64] END colsample_bytree=1, eval_metric=rmse, gamma=0, grow_policy=depthwise, learning_rate=0.03, max_depth=4, n_estimators=100, reg_alpha=1, reg_lambda=0, subsample=0.8;, score=(train=-0.040, test=-0.042) total time=   1.3s\n",
      "[CV 2/2; 19/64] START colsample_bytree=1, eval_metric=rmse, gamma=0, grow_policy=depthwise, learning_rate=0.03, max_depth=4, n_estimators=100, reg_alpha=1, reg_lambda=0, subsample=0.8\n",
      "[CV 2/2; 19/64] END colsample_bytree=1, eval_metric=rmse, gamma=0, grow_policy=depthwise, learning_rate=0.03, max_depth=4, n_estimators=100, reg_alpha=1, reg_lambda=0, subsample=0.8;, score=(train=-0.041, test=-0.041) total time=   1.3s\n",
      "[CV 1/2; 20/64] START colsample_bytree=1, eval_metric=rmse, gamma=0, grow_policy=depthwise, learning_rate=0.03, max_depth=4, n_estimators=100, reg_alpha=1, reg_lambda=3, subsample=0.8\n",
      "[CV 1/2; 20/64] END colsample_bytree=1, eval_metric=rmse, gamma=0, grow_policy=depthwise, learning_rate=0.03, max_depth=4, n_estimators=100, reg_alpha=1, reg_lambda=3, subsample=0.8;, score=(train=-0.040, test=-0.042) total time=   1.3s\n",
      "[CV 2/2; 20/64] START colsample_bytree=1, eval_metric=rmse, gamma=0, grow_policy=depthwise, learning_rate=0.03, max_depth=4, n_estimators=100, reg_alpha=1, reg_lambda=3, subsample=0.8\n",
      "[CV 2/2; 20/64] END colsample_bytree=1, eval_metric=rmse, gamma=0, grow_policy=depthwise, learning_rate=0.03, max_depth=4, n_estimators=100, reg_alpha=1, reg_lambda=3, subsample=0.8;, score=(train=-0.041, test=-0.041) total time=   1.3s\n",
      "[CV 1/2; 21/64] START colsample_bytree=1, eval_metric=rmse, gamma=0, grow_policy=depthwise, learning_rate=0.03, max_depth=4, n_estimators=300, reg_alpha=0, reg_lambda=0, subsample=0.8\n",
      "[CV 1/2; 21/64] END colsample_bytree=1, eval_metric=rmse, gamma=0, grow_policy=depthwise, learning_rate=0.03, max_depth=4, n_estimators=300, reg_alpha=0, reg_lambda=0, subsample=0.8;, score=(train=-0.022, test=-0.028) total time=   4.3s\n",
      "[CV 2/2; 21/64] START colsample_bytree=1, eval_metric=rmse, gamma=0, grow_policy=depthwise, learning_rate=0.03, max_depth=4, n_estimators=300, reg_alpha=0, reg_lambda=0, subsample=0.8\n",
      "[CV 2/2; 21/64] END colsample_bytree=1, eval_metric=rmse, gamma=0, grow_policy=depthwise, learning_rate=0.03, max_depth=4, n_estimators=300, reg_alpha=0, reg_lambda=0, subsample=0.8;, score=(train=-0.022, test=-0.027) total time=   4.3s\n",
      "[CV 1/2; 22/64] START colsample_bytree=1, eval_metric=rmse, gamma=0, grow_policy=depthwise, learning_rate=0.03, max_depth=4, n_estimators=300, reg_alpha=0, reg_lambda=3, subsample=0.8\n",
      "[CV 1/2; 22/64] END colsample_bytree=1, eval_metric=rmse, gamma=0, grow_policy=depthwise, learning_rate=0.03, max_depth=4, n_estimators=300, reg_alpha=0, reg_lambda=3, subsample=0.8;, score=(train=-0.023, test=-0.028) total time=   4.2s\n",
      "[CV 2/2; 22/64] START colsample_bytree=1, eval_metric=rmse, gamma=0, grow_policy=depthwise, learning_rate=0.03, max_depth=4, n_estimators=300, reg_alpha=0, reg_lambda=3, subsample=0.8\n",
      "[CV 2/2; 22/64] END colsample_bytree=1, eval_metric=rmse, gamma=0, grow_policy=depthwise, learning_rate=0.03, max_depth=4, n_estimators=300, reg_alpha=0, reg_lambda=3, subsample=0.8;, score=(train=-0.023, test=-0.027) total time=   4.2s\n",
      "[CV 1/2; 23/64] START colsample_bytree=1, eval_metric=rmse, gamma=0, grow_policy=depthwise, learning_rate=0.03, max_depth=4, n_estimators=300, reg_alpha=1, reg_lambda=0, subsample=0.8\n",
      "[CV 1/2; 23/64] END colsample_bytree=1, eval_metric=rmse, gamma=0, grow_policy=depthwise, learning_rate=0.03, max_depth=4, n_estimators=300, reg_alpha=1, reg_lambda=0, subsample=0.8;, score=(train=-0.026, test=-0.029) total time=   4.2s\n",
      "[CV 2/2; 23/64] START colsample_bytree=1, eval_metric=rmse, gamma=0, grow_policy=depthwise, learning_rate=0.03, max_depth=4, n_estimators=300, reg_alpha=1, reg_lambda=0, subsample=0.8\n",
      "[CV 2/2; 23/64] END colsample_bytree=1, eval_metric=rmse, gamma=0, grow_policy=depthwise, learning_rate=0.03, max_depth=4, n_estimators=300, reg_alpha=1, reg_lambda=0, subsample=0.8;, score=(train=-0.026, test=-0.028) total time=   4.2s\n",
      "[CV 1/2; 24/64] START colsample_bytree=1, eval_metric=rmse, gamma=0, grow_policy=depthwise, learning_rate=0.03, max_depth=4, n_estimators=300, reg_alpha=1, reg_lambda=3, subsample=0.8\n",
      "[CV 1/2; 24/64] END colsample_bytree=1, eval_metric=rmse, gamma=0, grow_policy=depthwise, learning_rate=0.03, max_depth=4, n_estimators=300, reg_alpha=1, reg_lambda=3, subsample=0.8;, score=(train=-0.026, test=-0.030) total time=   4.2s\n",
      "[CV 2/2; 24/64] START colsample_bytree=1, eval_metric=rmse, gamma=0, grow_policy=depthwise, learning_rate=0.03, max_depth=4, n_estimators=300, reg_alpha=1, reg_lambda=3, subsample=0.8\n",
      "[CV 2/2; 24/64] END colsample_bytree=1, eval_metric=rmse, gamma=0, grow_policy=depthwise, learning_rate=0.03, max_depth=4, n_estimators=300, reg_alpha=1, reg_lambda=3, subsample=0.8;, score=(train=-0.026, test=-0.028) total time=   4.2s\n",
      "[CV 1/2; 25/64] START colsample_bytree=1, eval_metric=rmse, gamma=0, grow_policy=depthwise, learning_rate=0.03, max_depth=6, n_estimators=100, reg_alpha=0, reg_lambda=0, subsample=0.8\n",
      "[CV 1/2; 25/64] END colsample_bytree=1, eval_metric=rmse, gamma=0, grow_policy=depthwise, learning_rate=0.03, max_depth=6, n_estimators=100, reg_alpha=0, reg_lambda=0, subsample=0.8;, score=(train=-0.031, test=-0.036) total time=   2.1s\n",
      "[CV 2/2; 25/64] START colsample_bytree=1, eval_metric=rmse, gamma=0, grow_policy=depthwise, learning_rate=0.03, max_depth=6, n_estimators=100, reg_alpha=0, reg_lambda=0, subsample=0.8\n",
      "[CV 2/2; 25/64] END colsample_bytree=1, eval_metric=rmse, gamma=0, grow_policy=depthwise, learning_rate=0.03, max_depth=6, n_estimators=100, reg_alpha=0, reg_lambda=0, subsample=0.8;, score=(train=-0.031, test=-0.035) total time=   2.1s\n",
      "[CV 1/2; 26/64] START colsample_bytree=1, eval_metric=rmse, gamma=0, grow_policy=depthwise, learning_rate=0.03, max_depth=6, n_estimators=100, reg_alpha=0, reg_lambda=3, subsample=0.8\n",
      "[CV 1/2; 26/64] END colsample_bytree=1, eval_metric=rmse, gamma=0, grow_policy=depthwise, learning_rate=0.03, max_depth=6, n_estimators=100, reg_alpha=0, reg_lambda=3, subsample=0.8;, score=(train=-0.035, test=-0.038) total time=   1.8s\n",
      "[CV 2/2; 26/64] START colsample_bytree=1, eval_metric=rmse, gamma=0, grow_policy=depthwise, learning_rate=0.03, max_depth=6, n_estimators=100, reg_alpha=0, reg_lambda=3, subsample=0.8\n",
      "[CV 2/2; 26/64] END colsample_bytree=1, eval_metric=rmse, gamma=0, grow_policy=depthwise, learning_rate=0.03, max_depth=6, n_estimators=100, reg_alpha=0, reg_lambda=3, subsample=0.8;, score=(train=-0.035, test=-0.038) total time=   1.8s\n",
      "[CV 1/2; 27/64] START colsample_bytree=1, eval_metric=rmse, gamma=0, grow_policy=depthwise, learning_rate=0.03, max_depth=6, n_estimators=100, reg_alpha=1, reg_lambda=0, subsample=0.8\n",
      "[CV 1/2; 27/64] END colsample_bytree=1, eval_metric=rmse, gamma=0, grow_policy=depthwise, learning_rate=0.03, max_depth=6, n_estimators=100, reg_alpha=1, reg_lambda=0, subsample=0.8;, score=(train=-0.040, test=-0.042) total time=   1.7s\n",
      "[CV 2/2; 27/64] START colsample_bytree=1, eval_metric=rmse, gamma=0, grow_policy=depthwise, learning_rate=0.03, max_depth=6, n_estimators=100, reg_alpha=1, reg_lambda=0, subsample=0.8\n",
      "[CV 2/2; 27/64] END colsample_bytree=1, eval_metric=rmse, gamma=0, grow_policy=depthwise, learning_rate=0.03, max_depth=6, n_estimators=100, reg_alpha=1, reg_lambda=0, subsample=0.8;, score=(train=-0.040, test=-0.041) total time=   1.7s\n",
      "[CV 1/2; 28/64] START colsample_bytree=1, eval_metric=rmse, gamma=0, grow_policy=depthwise, learning_rate=0.03, max_depth=6, n_estimators=100, reg_alpha=1, reg_lambda=3, subsample=0.8\n",
      "[CV 1/2; 28/64] END colsample_bytree=1, eval_metric=rmse, gamma=0, grow_policy=depthwise, learning_rate=0.03, max_depth=6, n_estimators=100, reg_alpha=1, reg_lambda=3, subsample=0.8;, score=(train=-0.040, test=-0.042) total time=   1.9s\n",
      "[CV 2/2; 28/64] START colsample_bytree=1, eval_metric=rmse, gamma=0, grow_policy=depthwise, learning_rate=0.03, max_depth=6, n_estimators=100, reg_alpha=1, reg_lambda=3, subsample=0.8\n",
      "[CV 2/2; 28/64] END colsample_bytree=1, eval_metric=rmse, gamma=0, grow_policy=depthwise, learning_rate=0.03, max_depth=6, n_estimators=100, reg_alpha=1, reg_lambda=3, subsample=0.8;, score=(train=-0.040, test=-0.041) total time=   2.0s\n",
      "[CV 1/2; 29/64] START colsample_bytree=1, eval_metric=rmse, gamma=0, grow_policy=depthwise, learning_rate=0.03, max_depth=6, n_estimators=300, reg_alpha=0, reg_lambda=0, subsample=0.8\n",
      "[CV 1/2; 29/64] END colsample_bytree=1, eval_metric=rmse, gamma=0, grow_policy=depthwise, learning_rate=0.03, max_depth=6, n_estimators=300, reg_alpha=0, reg_lambda=0, subsample=0.8;, score=(train=-0.013, test=-0.025) total time=   6.7s\n",
      "[CV 2/2; 29/64] START colsample_bytree=1, eval_metric=rmse, gamma=0, grow_policy=depthwise, learning_rate=0.03, max_depth=6, n_estimators=300, reg_alpha=0, reg_lambda=0, subsample=0.8\n",
      "[CV 2/2; 29/64] END colsample_bytree=1, eval_metric=rmse, gamma=0, grow_policy=depthwise, learning_rate=0.03, max_depth=6, n_estimators=300, reg_alpha=0, reg_lambda=0, subsample=0.8;, score=(train=-0.014, test=-0.024) total time=   8.4s\n",
      "[CV 1/2; 30/64] START colsample_bytree=1, eval_metric=rmse, gamma=0, grow_policy=depthwise, learning_rate=0.03, max_depth=6, n_estimators=300, reg_alpha=0, reg_lambda=3, subsample=0.8\n",
      "[CV 1/2; 30/64] END colsample_bytree=1, eval_metric=rmse, gamma=0, grow_policy=depthwise, learning_rate=0.03, max_depth=6, n_estimators=300, reg_alpha=0, reg_lambda=3, subsample=0.8;, score=(train=-0.016, test=-0.026) total time=   7.9s\n",
      "[CV 2/2; 30/64] START colsample_bytree=1, eval_metric=rmse, gamma=0, grow_policy=depthwise, learning_rate=0.03, max_depth=6, n_estimators=300, reg_alpha=0, reg_lambda=3, subsample=0.8\n",
      "[CV 2/2; 30/64] END colsample_bytree=1, eval_metric=rmse, gamma=0, grow_policy=depthwise, learning_rate=0.03, max_depth=6, n_estimators=300, reg_alpha=0, reg_lambda=3, subsample=0.8;, score=(train=-0.016, test=-0.025) total time=   6.7s\n",
      "[CV 1/2; 31/64] START colsample_bytree=1, eval_metric=rmse, gamma=0, grow_policy=depthwise, learning_rate=0.03, max_depth=6, n_estimators=300, reg_alpha=1, reg_lambda=0, subsample=0.8\n",
      "[CV 1/2; 31/64] END colsample_bytree=1, eval_metric=rmse, gamma=0, grow_policy=depthwise, learning_rate=0.03, max_depth=6, n_estimators=300, reg_alpha=1, reg_lambda=0, subsample=0.8;, score=(train=-0.022, test=-0.028) total time=   7.0s\n",
      "[CV 2/2; 31/64] START colsample_bytree=1, eval_metric=rmse, gamma=0, grow_policy=depthwise, learning_rate=0.03, max_depth=6, n_estimators=300, reg_alpha=1, reg_lambda=0, subsample=0.8\n",
      "[CV 2/2; 31/64] END colsample_bytree=1, eval_metric=rmse, gamma=0, grow_policy=depthwise, learning_rate=0.03, max_depth=6, n_estimators=300, reg_alpha=1, reg_lambda=0, subsample=0.8;, score=(train=-0.023, test=-0.027) total time=   7.1s\n",
      "[CV 1/2; 32/64] START colsample_bytree=1, eval_metric=rmse, gamma=0, grow_policy=depthwise, learning_rate=0.03, max_depth=6, n_estimators=300, reg_alpha=1, reg_lambda=3, subsample=0.8\n",
      "[CV 1/2; 32/64] END colsample_bytree=1, eval_metric=rmse, gamma=0, grow_policy=depthwise, learning_rate=0.03, max_depth=6, n_estimators=300, reg_alpha=1, reg_lambda=3, subsample=0.8;, score=(train=-0.023, test=-0.028) total time=   6.5s\n",
      "[CV 2/2; 32/64] START colsample_bytree=1, eval_metric=rmse, gamma=0, grow_policy=depthwise, learning_rate=0.03, max_depth=6, n_estimators=300, reg_alpha=1, reg_lambda=3, subsample=0.8\n",
      "[CV 2/2; 32/64] END colsample_bytree=1, eval_metric=rmse, gamma=0, grow_policy=depthwise, learning_rate=0.03, max_depth=6, n_estimators=300, reg_alpha=1, reg_lambda=3, subsample=0.8;, score=(train=-0.023, test=-0.027) total time=   6.9s\n",
      "[CV 1/2; 33/64] START colsample_bytree=1, eval_metric=rmse, gamma=3, grow_policy=depthwise, learning_rate=0.05, max_depth=4, n_estimators=100, reg_alpha=0, reg_lambda=0, subsample=0.8\n",
      "[CV 1/2; 33/64] END colsample_bytree=1, eval_metric=rmse, gamma=3, grow_policy=depthwise, learning_rate=0.05, max_depth=4, n_estimators=100, reg_alpha=0, reg_lambda=0, subsample=0.8;, score=(train=-0.044, test=-0.045) total time=   1.9s\n",
      "[CV 2/2; 33/64] START colsample_bytree=1, eval_metric=rmse, gamma=3, grow_policy=depthwise, learning_rate=0.05, max_depth=4, n_estimators=100, reg_alpha=0, reg_lambda=0, subsample=0.8\n",
      "[CV 2/2; 33/64] END colsample_bytree=1, eval_metric=rmse, gamma=3, grow_policy=depthwise, learning_rate=0.05, max_depth=4, n_estimators=100, reg_alpha=0, reg_lambda=0, subsample=0.8;, score=(train=-0.045, test=-0.044) total time=   1.8s\n",
      "[CV 1/2; 34/64] START colsample_bytree=1, eval_metric=rmse, gamma=3, grow_policy=depthwise, learning_rate=0.05, max_depth=4, n_estimators=100, reg_alpha=0, reg_lambda=3, subsample=0.8\n",
      "[CV 1/2; 34/64] END colsample_bytree=1, eval_metric=rmse, gamma=3, grow_policy=depthwise, learning_rate=0.05, max_depth=4, n_estimators=100, reg_alpha=0, reg_lambda=3, subsample=0.8;, score=(train=-0.044, test=-0.045) total time=   1.6s\n",
      "[CV 2/2; 34/64] START colsample_bytree=1, eval_metric=rmse, gamma=3, grow_policy=depthwise, learning_rate=0.05, max_depth=4, n_estimators=100, reg_alpha=0, reg_lambda=3, subsample=0.8\n",
      "[CV 2/2; 34/64] END colsample_bytree=1, eval_metric=rmse, gamma=3, grow_policy=depthwise, learning_rate=0.05, max_depth=4, n_estimators=100, reg_alpha=0, reg_lambda=3, subsample=0.8;, score=(train=-0.045, test=-0.044) total time=   1.8s\n",
      "[CV 1/2; 35/64] START colsample_bytree=1, eval_metric=rmse, gamma=3, grow_policy=depthwise, learning_rate=0.05, max_depth=4, n_estimators=100, reg_alpha=1, reg_lambda=0, subsample=0.8\n",
      "[CV 1/2; 35/64] END colsample_bytree=1, eval_metric=rmse, gamma=3, grow_policy=depthwise, learning_rate=0.05, max_depth=4, n_estimators=100, reg_alpha=1, reg_lambda=0, subsample=0.8;, score=(train=-0.044, test=-0.045) total time=   1.6s\n",
      "[CV 2/2; 35/64] START colsample_bytree=1, eval_metric=rmse, gamma=3, grow_policy=depthwise, learning_rate=0.05, max_depth=4, n_estimators=100, reg_alpha=1, reg_lambda=0, subsample=0.8\n",
      "[CV 2/2; 35/64] END colsample_bytree=1, eval_metric=rmse, gamma=3, grow_policy=depthwise, learning_rate=0.05, max_depth=4, n_estimators=100, reg_alpha=1, reg_lambda=0, subsample=0.8;, score=(train=-0.045, test=-0.044) total time=   1.6s\n",
      "[CV 1/2; 36/64] START colsample_bytree=1, eval_metric=rmse, gamma=3, grow_policy=depthwise, learning_rate=0.05, max_depth=4, n_estimators=100, reg_alpha=1, reg_lambda=3, subsample=0.8\n",
      "[CV 1/2; 36/64] END colsample_bytree=1, eval_metric=rmse, gamma=3, grow_policy=depthwise, learning_rate=0.05, max_depth=4, n_estimators=100, reg_alpha=1, reg_lambda=3, subsample=0.8;, score=(train=-0.044, test=-0.045) total time=   1.6s\n",
      "[CV 2/2; 36/64] START colsample_bytree=1, eval_metric=rmse, gamma=3, grow_policy=depthwise, learning_rate=0.05, max_depth=4, n_estimators=100, reg_alpha=1, reg_lambda=3, subsample=0.8\n",
      "[CV 2/2; 36/64] END colsample_bytree=1, eval_metric=rmse, gamma=3, grow_policy=depthwise, learning_rate=0.05, max_depth=4, n_estimators=100, reg_alpha=1, reg_lambda=3, subsample=0.8;, score=(train=-0.045, test=-0.044) total time=   1.6s\n",
      "[CV 1/2; 37/64] START colsample_bytree=1, eval_metric=rmse, gamma=3, grow_policy=depthwise, learning_rate=0.05, max_depth=4, n_estimators=300, reg_alpha=0, reg_lambda=0, subsample=0.8\n",
      "[CV 1/2; 37/64] END colsample_bytree=1, eval_metric=rmse, gamma=3, grow_policy=depthwise, learning_rate=0.05, max_depth=4, n_estimators=300, reg_alpha=0, reg_lambda=0, subsample=0.8;, score=(train=-0.044, test=-0.045) total time=   5.1s\n",
      "[CV 2/2; 37/64] START colsample_bytree=1, eval_metric=rmse, gamma=3, grow_policy=depthwise, learning_rate=0.05, max_depth=4, n_estimators=300, reg_alpha=0, reg_lambda=0, subsample=0.8\n",
      "[CV 2/2; 37/64] END colsample_bytree=1, eval_metric=rmse, gamma=3, grow_policy=depthwise, learning_rate=0.05, max_depth=4, n_estimators=300, reg_alpha=0, reg_lambda=0, subsample=0.8;, score=(train=-0.045, test=-0.044) total time=   5.2s\n",
      "[CV 1/2; 38/64] START colsample_bytree=1, eval_metric=rmse, gamma=3, grow_policy=depthwise, learning_rate=0.05, max_depth=4, n_estimators=300, reg_alpha=0, reg_lambda=3, subsample=0.8\n",
      "[CV 1/2; 38/64] END colsample_bytree=1, eval_metric=rmse, gamma=3, grow_policy=depthwise, learning_rate=0.05, max_depth=4, n_estimators=300, reg_alpha=0, reg_lambda=3, subsample=0.8;, score=(train=-0.044, test=-0.045) total time=   5.4s\n",
      "[CV 2/2; 38/64] START colsample_bytree=1, eval_metric=rmse, gamma=3, grow_policy=depthwise, learning_rate=0.05, max_depth=4, n_estimators=300, reg_alpha=0, reg_lambda=3, subsample=0.8\n",
      "[CV 2/2; 38/64] END colsample_bytree=1, eval_metric=rmse, gamma=3, grow_policy=depthwise, learning_rate=0.05, max_depth=4, n_estimators=300, reg_alpha=0, reg_lambda=3, subsample=0.8;, score=(train=-0.045, test=-0.044) total time=   5.1s\n",
      "[CV 1/2; 39/64] START colsample_bytree=1, eval_metric=rmse, gamma=3, grow_policy=depthwise, learning_rate=0.05, max_depth=4, n_estimators=300, reg_alpha=1, reg_lambda=0, subsample=0.8\n",
      "[CV 1/2; 39/64] END colsample_bytree=1, eval_metric=rmse, gamma=3, grow_policy=depthwise, learning_rate=0.05, max_depth=4, n_estimators=300, reg_alpha=1, reg_lambda=0, subsample=0.8;, score=(train=-0.044, test=-0.045) total time=   5.1s\n",
      "[CV 2/2; 39/64] START colsample_bytree=1, eval_metric=rmse, gamma=3, grow_policy=depthwise, learning_rate=0.05, max_depth=4, n_estimators=300, reg_alpha=1, reg_lambda=0, subsample=0.8\n",
      "[CV 2/2; 39/64] END colsample_bytree=1, eval_metric=rmse, gamma=3, grow_policy=depthwise, learning_rate=0.05, max_depth=4, n_estimators=300, reg_alpha=1, reg_lambda=0, subsample=0.8;, score=(train=-0.045, test=-0.044) total time=   5.0s\n",
      "[CV 1/2; 40/64] START colsample_bytree=1, eval_metric=rmse, gamma=3, grow_policy=depthwise, learning_rate=0.05, max_depth=4, n_estimators=300, reg_alpha=1, reg_lambda=3, subsample=0.8\n",
      "[CV 1/2; 40/64] END colsample_bytree=1, eval_metric=rmse, gamma=3, grow_policy=depthwise, learning_rate=0.05, max_depth=4, n_estimators=300, reg_alpha=1, reg_lambda=3, subsample=0.8;, score=(train=-0.044, test=-0.045) total time=   5.2s\n",
      "[CV 2/2; 40/64] START colsample_bytree=1, eval_metric=rmse, gamma=3, grow_policy=depthwise, learning_rate=0.05, max_depth=4, n_estimators=300, reg_alpha=1, reg_lambda=3, subsample=0.8\n",
      "[CV 2/2; 40/64] END colsample_bytree=1, eval_metric=rmse, gamma=3, grow_policy=depthwise, learning_rate=0.05, max_depth=4, n_estimators=300, reg_alpha=1, reg_lambda=3, subsample=0.8;, score=(train=-0.045, test=-0.044) total time=   5.3s\n",
      "[CV 1/2; 41/64] START colsample_bytree=1, eval_metric=rmse, gamma=3, grow_policy=depthwise, learning_rate=0.05, max_depth=6, n_estimators=100, reg_alpha=0, reg_lambda=0, subsample=0.8\n",
      "[CV 1/2; 41/64] END colsample_bytree=1, eval_metric=rmse, gamma=3, grow_policy=depthwise, learning_rate=0.05, max_depth=6, n_estimators=100, reg_alpha=0, reg_lambda=0, subsample=0.8;, score=(train=-0.044, test=-0.045) total time=   2.7s\n",
      "[CV 2/2; 41/64] START colsample_bytree=1, eval_metric=rmse, gamma=3, grow_policy=depthwise, learning_rate=0.05, max_depth=6, n_estimators=100, reg_alpha=0, reg_lambda=0, subsample=0.8\n",
      "[CV 2/2; 41/64] END colsample_bytree=1, eval_metric=rmse, gamma=3, grow_policy=depthwise, learning_rate=0.05, max_depth=6, n_estimators=100, reg_alpha=0, reg_lambda=0, subsample=0.8;, score=(train=-0.045, test=-0.044) total time=   2.6s\n",
      "[CV 1/2; 42/64] START colsample_bytree=1, eval_metric=rmse, gamma=3, grow_policy=depthwise, learning_rate=0.05, max_depth=6, n_estimators=100, reg_alpha=0, reg_lambda=3, subsample=0.8\n",
      "[CV 1/2; 42/64] END colsample_bytree=1, eval_metric=rmse, gamma=3, grow_policy=depthwise, learning_rate=0.05, max_depth=6, n_estimators=100, reg_alpha=0, reg_lambda=3, subsample=0.8;, score=(train=-0.044, test=-0.045) total time=   2.7s\n",
      "[CV 2/2; 42/64] START colsample_bytree=1, eval_metric=rmse, gamma=3, grow_policy=depthwise, learning_rate=0.05, max_depth=6, n_estimators=100, reg_alpha=0, reg_lambda=3, subsample=0.8\n",
      "[CV 2/2; 42/64] END colsample_bytree=1, eval_metric=rmse, gamma=3, grow_policy=depthwise, learning_rate=0.05, max_depth=6, n_estimators=100, reg_alpha=0, reg_lambda=3, subsample=0.8;, score=(train=-0.045, test=-0.044) total time=   2.5s\n",
      "[CV 1/2; 43/64] START colsample_bytree=1, eval_metric=rmse, gamma=3, grow_policy=depthwise, learning_rate=0.05, max_depth=6, n_estimators=100, reg_alpha=1, reg_lambda=0, subsample=0.8\n",
      "[CV 1/2; 43/64] END colsample_bytree=1, eval_metric=rmse, gamma=3, grow_policy=depthwise, learning_rate=0.05, max_depth=6, n_estimators=100, reg_alpha=1, reg_lambda=0, subsample=0.8;, score=(train=-0.044, test=-0.045) total time=   2.7s\n",
      "[CV 2/2; 43/64] START colsample_bytree=1, eval_metric=rmse, gamma=3, grow_policy=depthwise, learning_rate=0.05, max_depth=6, n_estimators=100, reg_alpha=1, reg_lambda=0, subsample=0.8\n",
      "[CV 2/2; 43/64] END colsample_bytree=1, eval_metric=rmse, gamma=3, grow_policy=depthwise, learning_rate=0.05, max_depth=6, n_estimators=100, reg_alpha=1, reg_lambda=0, subsample=0.8;, score=(train=-0.045, test=-0.044) total time=   2.5s\n",
      "[CV 1/2; 44/64] START colsample_bytree=1, eval_metric=rmse, gamma=3, grow_policy=depthwise, learning_rate=0.05, max_depth=6, n_estimators=100, reg_alpha=1, reg_lambda=3, subsample=0.8\n",
      "[CV 1/2; 44/64] END colsample_bytree=1, eval_metric=rmse, gamma=3, grow_policy=depthwise, learning_rate=0.05, max_depth=6, n_estimators=100, reg_alpha=1, reg_lambda=3, subsample=0.8;, score=(train=-0.044, test=-0.045) total time=   2.5s\n",
      "[CV 2/2; 44/64] START colsample_bytree=1, eval_metric=rmse, gamma=3, grow_policy=depthwise, learning_rate=0.05, max_depth=6, n_estimators=100, reg_alpha=1, reg_lambda=3, subsample=0.8\n",
      "[CV 2/2; 44/64] END colsample_bytree=1, eval_metric=rmse, gamma=3, grow_policy=depthwise, learning_rate=0.05, max_depth=6, n_estimators=100, reg_alpha=1, reg_lambda=3, subsample=0.8;, score=(train=-0.045, test=-0.044) total time=   3.3s\n",
      "[CV 1/2; 45/64] START colsample_bytree=1, eval_metric=rmse, gamma=3, grow_policy=depthwise, learning_rate=0.05, max_depth=6, n_estimators=300, reg_alpha=0, reg_lambda=0, subsample=0.8\n",
      "[CV 1/2; 45/64] END colsample_bytree=1, eval_metric=rmse, gamma=3, grow_policy=depthwise, learning_rate=0.05, max_depth=6, n_estimators=300, reg_alpha=0, reg_lambda=0, subsample=0.8;, score=(train=-0.044, test=-0.045) total time=   8.7s\n",
      "[CV 2/2; 45/64] START colsample_bytree=1, eval_metric=rmse, gamma=3, grow_policy=depthwise, learning_rate=0.05, max_depth=6, n_estimators=300, reg_alpha=0, reg_lambda=0, subsample=0.8\n",
      "[CV 2/2; 45/64] END colsample_bytree=1, eval_metric=rmse, gamma=3, grow_policy=depthwise, learning_rate=0.05, max_depth=6, n_estimators=300, reg_alpha=0, reg_lambda=0, subsample=0.8;, score=(train=-0.045, test=-0.044) total time=   7.8s\n",
      "[CV 1/2; 46/64] START colsample_bytree=1, eval_metric=rmse, gamma=3, grow_policy=depthwise, learning_rate=0.05, max_depth=6, n_estimators=300, reg_alpha=0, reg_lambda=3, subsample=0.8\n",
      "[CV 1/2; 46/64] END colsample_bytree=1, eval_metric=rmse, gamma=3, grow_policy=depthwise, learning_rate=0.05, max_depth=6, n_estimators=300, reg_alpha=0, reg_lambda=3, subsample=0.8;, score=(train=-0.044, test=-0.045) total time=   7.6s\n",
      "[CV 2/2; 46/64] START colsample_bytree=1, eval_metric=rmse, gamma=3, grow_policy=depthwise, learning_rate=0.05, max_depth=6, n_estimators=300, reg_alpha=0, reg_lambda=3, subsample=0.8\n",
      "[CV 2/2; 46/64] END colsample_bytree=1, eval_metric=rmse, gamma=3, grow_policy=depthwise, learning_rate=0.05, max_depth=6, n_estimators=300, reg_alpha=0, reg_lambda=3, subsample=0.8;, score=(train=-0.045, test=-0.044) total time=   7.9s\n",
      "[CV 1/2; 47/64] START colsample_bytree=1, eval_metric=rmse, gamma=3, grow_policy=depthwise, learning_rate=0.05, max_depth=6, n_estimators=300, reg_alpha=1, reg_lambda=0, subsample=0.8\n",
      "[CV 1/2; 47/64] END colsample_bytree=1, eval_metric=rmse, gamma=3, grow_policy=depthwise, learning_rate=0.05, max_depth=6, n_estimators=300, reg_alpha=1, reg_lambda=0, subsample=0.8;, score=(train=-0.044, test=-0.045) total time=   7.8s\n",
      "[CV 2/2; 47/64] START colsample_bytree=1, eval_metric=rmse, gamma=3, grow_policy=depthwise, learning_rate=0.05, max_depth=6, n_estimators=300, reg_alpha=1, reg_lambda=0, subsample=0.8\n",
      "[CV 2/2; 47/64] END colsample_bytree=1, eval_metric=rmse, gamma=3, grow_policy=depthwise, learning_rate=0.05, max_depth=6, n_estimators=300, reg_alpha=1, reg_lambda=0, subsample=0.8;, score=(train=-0.045, test=-0.044) total time=   7.7s\n",
      "[CV 1/2; 48/64] START colsample_bytree=1, eval_metric=rmse, gamma=3, grow_policy=depthwise, learning_rate=0.05, max_depth=6, n_estimators=300, reg_alpha=1, reg_lambda=3, subsample=0.8\n",
      "[CV 1/2; 48/64] END colsample_bytree=1, eval_metric=rmse, gamma=3, grow_policy=depthwise, learning_rate=0.05, max_depth=6, n_estimators=300, reg_alpha=1, reg_lambda=3, subsample=0.8;, score=(train=-0.044, test=-0.045) total time=   7.6s\n",
      "[CV 2/2; 48/64] START colsample_bytree=1, eval_metric=rmse, gamma=3, grow_policy=depthwise, learning_rate=0.05, max_depth=6, n_estimators=300, reg_alpha=1, reg_lambda=3, subsample=0.8\n",
      "[CV 2/2; 48/64] END colsample_bytree=1, eval_metric=rmse, gamma=3, grow_policy=depthwise, learning_rate=0.05, max_depth=6, n_estimators=300, reg_alpha=1, reg_lambda=3, subsample=0.8;, score=(train=-0.045, test=-0.044) total time=   7.3s\n",
      "[CV 1/2; 49/64] START colsample_bytree=1, eval_metric=rmse, gamma=3, grow_policy=depthwise, learning_rate=0.03, max_depth=4, n_estimators=100, reg_alpha=0, reg_lambda=0, subsample=0.8\n",
      "[CV 1/2; 49/64] END colsample_bytree=1, eval_metric=rmse, gamma=3, grow_policy=depthwise, learning_rate=0.03, max_depth=4, n_estimators=100, reg_alpha=0, reg_lambda=0, subsample=0.8;, score=(train=-0.050, test=-0.050) total time=   1.7s\n",
      "[CV 2/2; 49/64] START colsample_bytree=1, eval_metric=rmse, gamma=3, grow_policy=depthwise, learning_rate=0.03, max_depth=4, n_estimators=100, reg_alpha=0, reg_lambda=0, subsample=0.8\n",
      "[CV 2/2; 49/64] END colsample_bytree=1, eval_metric=rmse, gamma=3, grow_policy=depthwise, learning_rate=0.03, max_depth=4, n_estimators=100, reg_alpha=0, reg_lambda=0, subsample=0.8;, score=(train=-0.050, test=-0.050) total time=   1.7s\n",
      "[CV 1/2; 50/64] START colsample_bytree=1, eval_metric=rmse, gamma=3, grow_policy=depthwise, learning_rate=0.03, max_depth=4, n_estimators=100, reg_alpha=0, reg_lambda=3, subsample=0.8\n",
      "[CV 1/2; 50/64] END colsample_bytree=1, eval_metric=rmse, gamma=3, grow_policy=depthwise, learning_rate=0.03, max_depth=4, n_estimators=100, reg_alpha=0, reg_lambda=3, subsample=0.8;, score=(train=-0.050, test=-0.050) total time=   1.6s\n",
      "[CV 2/2; 50/64] START colsample_bytree=1, eval_metric=rmse, gamma=3, grow_policy=depthwise, learning_rate=0.03, max_depth=4, n_estimators=100, reg_alpha=0, reg_lambda=3, subsample=0.8\n",
      "[CV 2/2; 50/64] END colsample_bytree=1, eval_metric=rmse, gamma=3, grow_policy=depthwise, learning_rate=0.03, max_depth=4, n_estimators=100, reg_alpha=0, reg_lambda=3, subsample=0.8;, score=(train=-0.051, test=-0.050) total time=   1.6s\n",
      "[CV 1/2; 51/64] START colsample_bytree=1, eval_metric=rmse, gamma=3, grow_policy=depthwise, learning_rate=0.03, max_depth=4, n_estimators=100, reg_alpha=1, reg_lambda=0, subsample=0.8\n",
      "[CV 1/2; 51/64] END colsample_bytree=1, eval_metric=rmse, gamma=3, grow_policy=depthwise, learning_rate=0.03, max_depth=4, n_estimators=100, reg_alpha=1, reg_lambda=0, subsample=0.8;, score=(train=-0.050, test=-0.051) total time=   1.7s\n",
      "[CV 2/2; 51/64] START colsample_bytree=1, eval_metric=rmse, gamma=3, grow_policy=depthwise, learning_rate=0.03, max_depth=4, n_estimators=100, reg_alpha=1, reg_lambda=0, subsample=0.8\n",
      "[CV 2/2; 51/64] END colsample_bytree=1, eval_metric=rmse, gamma=3, grow_policy=depthwise, learning_rate=0.03, max_depth=4, n_estimators=100, reg_alpha=1, reg_lambda=0, subsample=0.8;, score=(train=-0.051, test=-0.050) total time=   1.5s\n",
      "[CV 1/2; 52/64] START colsample_bytree=1, eval_metric=rmse, gamma=3, grow_policy=depthwise, learning_rate=0.03, max_depth=4, n_estimators=100, reg_alpha=1, reg_lambda=3, subsample=0.8\n",
      "[CV 1/2; 52/64] END colsample_bytree=1, eval_metric=rmse, gamma=3, grow_policy=depthwise, learning_rate=0.03, max_depth=4, n_estimators=100, reg_alpha=1, reg_lambda=3, subsample=0.8;, score=(train=-0.050, test=-0.051) total time=   1.7s\n",
      "[CV 2/2; 52/64] START colsample_bytree=1, eval_metric=rmse, gamma=3, grow_policy=depthwise, learning_rate=0.03, max_depth=4, n_estimators=100, reg_alpha=1, reg_lambda=3, subsample=0.8\n",
      "[CV 2/2; 52/64] END colsample_bytree=1, eval_metric=rmse, gamma=3, grow_policy=depthwise, learning_rate=0.03, max_depth=4, n_estimators=100, reg_alpha=1, reg_lambda=3, subsample=0.8;, score=(train=-0.051, test=-0.050) total time=   1.6s\n",
      "[CV 1/2; 53/64] START colsample_bytree=1, eval_metric=rmse, gamma=3, grow_policy=depthwise, learning_rate=0.03, max_depth=4, n_estimators=300, reg_alpha=0, reg_lambda=0, subsample=0.8\n",
      "[CV 1/2; 53/64] END colsample_bytree=1, eval_metric=rmse, gamma=3, grow_policy=depthwise, learning_rate=0.03, max_depth=4, n_estimators=300, reg_alpha=0, reg_lambda=0, subsample=0.8;, score=(train=-0.044, test=-0.045) total time=   5.5s\n",
      "[CV 2/2; 53/64] START colsample_bytree=1, eval_metric=rmse, gamma=3, grow_policy=depthwise, learning_rate=0.03, max_depth=4, n_estimators=300, reg_alpha=0, reg_lambda=0, subsample=0.8\n",
      "[CV 2/2; 53/64] END colsample_bytree=1, eval_metric=rmse, gamma=3, grow_policy=depthwise, learning_rate=0.03, max_depth=4, n_estimators=300, reg_alpha=0, reg_lambda=0, subsample=0.8;, score=(train=-0.044, test=-0.044) total time=   5.2s\n",
      "[CV 1/2; 54/64] START colsample_bytree=1, eval_metric=rmse, gamma=3, grow_policy=depthwise, learning_rate=0.03, max_depth=4, n_estimators=300, reg_alpha=0, reg_lambda=3, subsample=0.8\n",
      "[CV 1/2; 54/64] END colsample_bytree=1, eval_metric=rmse, gamma=3, grow_policy=depthwise, learning_rate=0.03, max_depth=4, n_estimators=300, reg_alpha=0, reg_lambda=3, subsample=0.8;, score=(train=-0.044, test=-0.045) total time=   5.5s\n",
      "[CV 2/2; 54/64] START colsample_bytree=1, eval_metric=rmse, gamma=3, grow_policy=depthwise, learning_rate=0.03, max_depth=4, n_estimators=300, reg_alpha=0, reg_lambda=3, subsample=0.8\n",
      "[CV 2/2; 54/64] END colsample_bytree=1, eval_metric=rmse, gamma=3, grow_policy=depthwise, learning_rate=0.03, max_depth=4, n_estimators=300, reg_alpha=0, reg_lambda=3, subsample=0.8;, score=(train=-0.045, test=-0.044) total time=   5.0s\n",
      "[CV 1/2; 55/64] START colsample_bytree=1, eval_metric=rmse, gamma=3, grow_policy=depthwise, learning_rate=0.03, max_depth=4, n_estimators=300, reg_alpha=1, reg_lambda=0, subsample=0.8\n",
      "[CV 1/2; 55/64] END colsample_bytree=1, eval_metric=rmse, gamma=3, grow_policy=depthwise, learning_rate=0.03, max_depth=4, n_estimators=300, reg_alpha=1, reg_lambda=0, subsample=0.8;, score=(train=-0.044, test=-0.045) total time=   5.3s\n",
      "[CV 2/2; 55/64] START colsample_bytree=1, eval_metric=rmse, gamma=3, grow_policy=depthwise, learning_rate=0.03, max_depth=4, n_estimators=300, reg_alpha=1, reg_lambda=0, subsample=0.8\n",
      "[CV 2/2; 55/64] END colsample_bytree=1, eval_metric=rmse, gamma=3, grow_policy=depthwise, learning_rate=0.03, max_depth=4, n_estimators=300, reg_alpha=1, reg_lambda=0, subsample=0.8;, score=(train=-0.045, test=-0.044) total time=   6.0s\n",
      "[CV 1/2; 56/64] START colsample_bytree=1, eval_metric=rmse, gamma=3, grow_policy=depthwise, learning_rate=0.03, max_depth=4, n_estimators=300, reg_alpha=1, reg_lambda=3, subsample=0.8\n",
      "[CV 1/2; 56/64] END colsample_bytree=1, eval_metric=rmse, gamma=3, grow_policy=depthwise, learning_rate=0.03, max_depth=4, n_estimators=300, reg_alpha=1, reg_lambda=3, subsample=0.8;, score=(train=-0.044, test=-0.045) total time=   5.7s\n",
      "[CV 2/2; 56/64] START colsample_bytree=1, eval_metric=rmse, gamma=3, grow_policy=depthwise, learning_rate=0.03, max_depth=4, n_estimators=300, reg_alpha=1, reg_lambda=3, subsample=0.8\n",
      "[CV 2/2; 56/64] END colsample_bytree=1, eval_metric=rmse, gamma=3, grow_policy=depthwise, learning_rate=0.03, max_depth=4, n_estimators=300, reg_alpha=1, reg_lambda=3, subsample=0.8;, score=(train=-0.045, test=-0.044) total time=   5.6s\n",
      "[CV 1/2; 57/64] START colsample_bytree=1, eval_metric=rmse, gamma=3, grow_policy=depthwise, learning_rate=0.03, max_depth=6, n_estimators=100, reg_alpha=0, reg_lambda=0, subsample=0.8\n",
      "[CV 1/2; 57/64] END colsample_bytree=1, eval_metric=rmse, gamma=3, grow_policy=depthwise, learning_rate=0.03, max_depth=6, n_estimators=100, reg_alpha=0, reg_lambda=0, subsample=0.8;, score=(train=-0.050, test=-0.050) total time=   2.8s\n",
      "[CV 2/2; 57/64] START colsample_bytree=1, eval_metric=rmse, gamma=3, grow_policy=depthwise, learning_rate=0.03, max_depth=6, n_estimators=100, reg_alpha=0, reg_lambda=0, subsample=0.8\n",
      "[CV 2/2; 57/64] END colsample_bytree=1, eval_metric=rmse, gamma=3, grow_policy=depthwise, learning_rate=0.03, max_depth=6, n_estimators=100, reg_alpha=0, reg_lambda=0, subsample=0.8;, score=(train=-0.050, test=-0.050) total time=   2.9s\n",
      "[CV 1/2; 58/64] START colsample_bytree=1, eval_metric=rmse, gamma=3, grow_policy=depthwise, learning_rate=0.03, max_depth=6, n_estimators=100, reg_alpha=0, reg_lambda=3, subsample=0.8\n",
      "[CV 1/2; 58/64] END colsample_bytree=1, eval_metric=rmse, gamma=3, grow_policy=depthwise, learning_rate=0.03, max_depth=6, n_estimators=100, reg_alpha=0, reg_lambda=3, subsample=0.8;, score=(train=-0.050, test=-0.050) total time=   2.5s\n",
      "[CV 2/2; 58/64] START colsample_bytree=1, eval_metric=rmse, gamma=3, grow_policy=depthwise, learning_rate=0.03, max_depth=6, n_estimators=100, reg_alpha=0, reg_lambda=3, subsample=0.8\n",
      "[CV 2/2; 58/64] END colsample_bytree=1, eval_metric=rmse, gamma=3, grow_policy=depthwise, learning_rate=0.03, max_depth=6, n_estimators=100, reg_alpha=0, reg_lambda=3, subsample=0.8;, score=(train=-0.051, test=-0.050) total time=   2.6s\n",
      "[CV 1/2; 59/64] START colsample_bytree=1, eval_metric=rmse, gamma=3, grow_policy=depthwise, learning_rate=0.03, max_depth=6, n_estimators=100, reg_alpha=1, reg_lambda=0, subsample=0.8\n",
      "[CV 1/2; 59/64] END colsample_bytree=1, eval_metric=rmse, gamma=3, grow_policy=depthwise, learning_rate=0.03, max_depth=6, n_estimators=100, reg_alpha=1, reg_lambda=0, subsample=0.8;, score=(train=-0.050, test=-0.051) total time=   2.4s\n",
      "[CV 2/2; 59/64] START colsample_bytree=1, eval_metric=rmse, gamma=3, grow_policy=depthwise, learning_rate=0.03, max_depth=6, n_estimators=100, reg_alpha=1, reg_lambda=0, subsample=0.8\n",
      "[CV 2/2; 59/64] END colsample_bytree=1, eval_metric=rmse, gamma=3, grow_policy=depthwise, learning_rate=0.03, max_depth=6, n_estimators=100, reg_alpha=1, reg_lambda=0, subsample=0.8;, score=(train=-0.051, test=-0.050) total time=   2.4s\n",
      "[CV 1/2; 60/64] START colsample_bytree=1, eval_metric=rmse, gamma=3, grow_policy=depthwise, learning_rate=0.03, max_depth=6, n_estimators=100, reg_alpha=1, reg_lambda=3, subsample=0.8\n",
      "[CV 1/2; 60/64] END colsample_bytree=1, eval_metric=rmse, gamma=3, grow_policy=depthwise, learning_rate=0.03, max_depth=6, n_estimators=100, reg_alpha=1, reg_lambda=3, subsample=0.8;, score=(train=-0.050, test=-0.051) total time=   2.2s\n",
      "[CV 2/2; 60/64] START colsample_bytree=1, eval_metric=rmse, gamma=3, grow_policy=depthwise, learning_rate=0.03, max_depth=6, n_estimators=100, reg_alpha=1, reg_lambda=3, subsample=0.8\n",
      "[CV 2/2; 60/64] END colsample_bytree=1, eval_metric=rmse, gamma=3, grow_policy=depthwise, learning_rate=0.03, max_depth=6, n_estimators=100, reg_alpha=1, reg_lambda=3, subsample=0.8;, score=(train=-0.051, test=-0.050) total time=   2.2s\n",
      "[CV 1/2; 61/64] START colsample_bytree=1, eval_metric=rmse, gamma=3, grow_policy=depthwise, learning_rate=0.03, max_depth=6, n_estimators=300, reg_alpha=0, reg_lambda=0, subsample=0.8\n",
      "[CV 1/2; 61/64] END colsample_bytree=1, eval_metric=rmse, gamma=3, grow_policy=depthwise, learning_rate=0.03, max_depth=6, n_estimators=300, reg_alpha=0, reg_lambda=0, subsample=0.8;, score=(train=-0.044, test=-0.045) total time=   8.5s\n",
      "[CV 2/2; 61/64] START colsample_bytree=1, eval_metric=rmse, gamma=3, grow_policy=depthwise, learning_rate=0.03, max_depth=6, n_estimators=300, reg_alpha=0, reg_lambda=0, subsample=0.8\n",
      "[CV 2/2; 61/64] END colsample_bytree=1, eval_metric=rmse, gamma=3, grow_policy=depthwise, learning_rate=0.03, max_depth=6, n_estimators=300, reg_alpha=0, reg_lambda=0, subsample=0.8;, score=(train=-0.044, test=-0.044) total time=  10.2s\n",
      "[CV 1/2; 62/64] START colsample_bytree=1, eval_metric=rmse, gamma=3, grow_policy=depthwise, learning_rate=0.03, max_depth=6, n_estimators=300, reg_alpha=0, reg_lambda=3, subsample=0.8\n",
      "[CV 1/2; 62/64] END colsample_bytree=1, eval_metric=rmse, gamma=3, grow_policy=depthwise, learning_rate=0.03, max_depth=6, n_estimators=300, reg_alpha=0, reg_lambda=3, subsample=0.8;, score=(train=-0.044, test=-0.045) total time=   9.3s\n",
      "[CV 2/2; 62/64] START colsample_bytree=1, eval_metric=rmse, gamma=3, grow_policy=depthwise, learning_rate=0.03, max_depth=6, n_estimators=300, reg_alpha=0, reg_lambda=3, subsample=0.8\n",
      "[CV 2/2; 62/64] END colsample_bytree=1, eval_metric=rmse, gamma=3, grow_policy=depthwise, learning_rate=0.03, max_depth=6, n_estimators=300, reg_alpha=0, reg_lambda=3, subsample=0.8;, score=(train=-0.045, test=-0.044) total time=   9.4s\n",
      "[CV 1/2; 63/64] START colsample_bytree=1, eval_metric=rmse, gamma=3, grow_policy=depthwise, learning_rate=0.03, max_depth=6, n_estimators=300, reg_alpha=1, reg_lambda=0, subsample=0.8\n",
      "[CV 1/2; 63/64] END colsample_bytree=1, eval_metric=rmse, gamma=3, grow_policy=depthwise, learning_rate=0.03, max_depth=6, n_estimators=300, reg_alpha=1, reg_lambda=0, subsample=0.8;, score=(train=-0.044, test=-0.045) total time=  10.1s\n",
      "[CV 2/2; 63/64] START colsample_bytree=1, eval_metric=rmse, gamma=3, grow_policy=depthwise, learning_rate=0.03, max_depth=6, n_estimators=300, reg_alpha=1, reg_lambda=0, subsample=0.8\n",
      "[CV 2/2; 63/64] END colsample_bytree=1, eval_metric=rmse, gamma=3, grow_policy=depthwise, learning_rate=0.03, max_depth=6, n_estimators=300, reg_alpha=1, reg_lambda=0, subsample=0.8;, score=(train=-0.045, test=-0.044) total time=  10.2s\n",
      "[CV 1/2; 64/64] START colsample_bytree=1, eval_metric=rmse, gamma=3, grow_policy=depthwise, learning_rate=0.03, max_depth=6, n_estimators=300, reg_alpha=1, reg_lambda=3, subsample=0.8\n",
      "[CV 1/2; 64/64] END colsample_bytree=1, eval_metric=rmse, gamma=3, grow_policy=depthwise, learning_rate=0.03, max_depth=6, n_estimators=300, reg_alpha=1, reg_lambda=3, subsample=0.8;, score=(train=-0.044, test=-0.045) total time=  10.8s\n",
      "[CV 2/2; 64/64] START colsample_bytree=1, eval_metric=rmse, gamma=3, grow_policy=depthwise, learning_rate=0.03, max_depth=6, n_estimators=300, reg_alpha=1, reg_lambda=3, subsample=0.8\n",
      "[CV 2/2; 64/64] END colsample_bytree=1, eval_metric=rmse, gamma=3, grow_policy=depthwise, learning_rate=0.03, max_depth=6, n_estimators=300, reg_alpha=1, reg_lambda=3, subsample=0.8;, score=(train=-0.045, test=-0.044) total time=  10.8s\n",
      "{'colsample_bytree': 1, 'eval_metric': 'rmse', 'gamma': 0, 'grow_policy': 'depthwise', 'learning_rate': 0.05, 'max_depth': 6, 'n_estimators': 300, 'reg_alpha': 0, 'reg_lambda': 0, 'subsample': 0.8}\n"
     ]
    }
   ],
   "source": [
    "x = model_cv.fit(X_train, y_train)\n",
    "model = x.best_estimator_\n",
    "print(x.best_params_)\n",
    "pred = model.predict(X_test)"
   ]
  },
  {
   "cell_type": "code",
   "execution_count": 92,
   "metadata": {
    "id": "Rt7YEB8vhBDj"
   },
   "outputs": [],
   "source": [
    "y_pred = model_cv.predict(X_test)"
   ]
  },
  {
   "cell_type": "code",
   "execution_count": 98,
   "metadata": {},
   "outputs": [],
   "source": [
    "y_pred_train = model_cv.predict(X_train)"
   ]
  },
  {
   "cell_type": "code",
   "execution_count": 93,
   "metadata": {
    "colab": {
     "base_uri": "https://localhost:8080/"
    },
    "id": "wLjLD1bAdXqr",
    "outputId": "782a3491-1762-42fb-fa3c-4180cd66d7b4"
   },
   "outputs": [
    {
     "name": "stdout",
     "output_type": "stream",
     "text": [
      "Testing performance\n",
      "RMSE: 0.02\n",
      "R2: 0.82\n",
      "MAE: 0.01\n"
     ]
    }
   ],
   "source": [
    "rmse = (np.sqrt(mean_squared_error(y_test, y_pred)))\n",
    "r2 = r2_score(y_test, y_pred)\n",
    "mae = mean_absolute_error(y_test, y_pred)\n",
    "print('Testing performance')\n",
    "print('RMSE: {:.2f}'.format(rmse))\n",
    "print('R2: {:.2f}'.format(r2))\n",
    "print('MAE: {:.2f}'.format(mae))"
   ]
  },
  {
   "cell_type": "code",
   "execution_count": 94,
   "metadata": {},
   "outputs": [],
   "source": [
    "# {'colsample_bytree': 1, 'eval_metric': 'rmse', 'gamma': 0, 'grow_policy': 'depthwise', 'learning_rate': 0.05, 'max_depth': 6, 'n_estimators': 300, 'reg_alpha': 0, 'reg_lambda': 0, 'subsample': 0.8}"
   ]
  },
  {
   "cell_type": "code",
   "execution_count": 71,
   "metadata": {},
   "outputs": [],
   "source": [
    "import seaborn as sns\n",
    "def plot_scatter_avp(actuals, predictions):\n",
    "        df = pd.DataFrame({\"actual\": actuals, \"predicted\": predictions})\n",
    "\n",
    "        max_actual = max(df.actual)\n",
    "\n",
    "        fig = sns.scatterplot(data=df, x=\"actual\", y=\"predicted\", s=3, marker=\"o\")\n",
    "        fig.plot(np.linspace(0, max_actual), np.linspace(0, max_actual), \"-r\")\n",
    "        plt.show()"
   ]
  },
  {
   "cell_type": "code",
   "execution_count": 97,
   "metadata": {},
   "outputs": [
    {
     "data": {
      "image/png": "[encoded data removed]",
      "text/plain": [
       "<Figure size 432x288 with 1 Axes>"
      ]
     },
     "metadata": {
      "needs_background": "light"
     },
     "output_type": "display_data"
    }
   ],
   "source": [
    "plot_scatter_avp(y_test, y_pred)"
   ]
  },
  {
   "cell_type": "code",
   "execution_count": 99,
   "metadata": {},
   "outputs": [
    {
     "data": {
      "image/png": "[encoded data removed]",
      "text/plain": [
       "<Figure size 432x288 with 1 Axes>"
      ]
     },
     "metadata": {
      "needs_background": "light"
     },
     "output_type": "display_data"
    }
   ],
   "source": [
    "plot_scatter_avp(y_train, y_pred_train)"
   ]
  },
  {
   "cell_type": "markdown",
   "metadata": {},
   "source": [
    "## LSTM/GRU "
   ]
  },
  {
   "cell_type": "code",
   "execution_count": 13,
   "metadata": {},
   "outputs": [],
   "source": [
    "def deep_modeling(df, input_dim, hidden_dim, output_dim, num_layers):\n",
    "    y = df['Y']\n",
    "    X = df.drop(\"Y\", axis=1)\n",
    "    X_dl = X.to_numpy()\n",
    "    y_dl = y.to_numpy()\n",
    "    X_train, X_test, y_train, y_test = train_test_split(X_dl, y_dl, test_size=0.2, random_state=420)\n",
    "    X_train_tensors = Variable(torch.Tensor(X_train))\n",
    "    X_test_tensors = Variable(torch.Tensor(X_test))\n",
    "\n",
    "    y_train_tensors = Variable(torch.Tensor(y_train))\n",
    "    y_test_tensors = Variable(torch.Tensor(y_test))\n",
    "    \n",
    "    X_train_tensors_final = torch.reshape(X_train_tensors,   (X_train_tensors.shape[0], X_train_tensors.shape[1], 1))\n",
    "    X_test_tensors_final = torch.reshape(X_test_tensors,  (X_test_tensors.shape[0], X_test_tensors.shape[1], 1))\n",
    "\n",
    "    y_train_tensors_final = torch.reshape(y_train_tensors,   (y_train_tensors.shape[0], 1))\n",
    "    y_test_tensors_final = torch.reshape(y_test_tensors,  (y_test_tensors.shape[0], 1))\n",
    "    \n",
    "    model = LSTM(input_dim=input_dim, \n",
    "             hidden_dim=hidden_dim, \n",
    "             output_dim=output_dim, \n",
    "             num_layers=num_layers)\n",
    "    criterion = torch.nn.MSELoss(reduction='mean')\n",
    "    optimiser = torch.optim.Adam(model.parameters(), lr=0.01)\n",
    "    \n",
    "    hist = np.zeros(num_epochs)\n",
    "    start_time = time.time()\n",
    "    lstm = []\n",
    "    for t in range(num_epochs):\n",
    "        y_train_pred = model(X_train_tensors_final)\n",
    "        loss = criterion(y_train_pred, y_train_tensors_final)\n",
    "        print(\"Epoch \", t, \"MSE: \", loss.item())\n",
    "        hist[t] = loss.item()\n",
    "        optimiser.zero_grad()\n",
    "        loss.backward()\n",
    "        optimiser.step()\n",
    "\n",
    "    training_time = time.time()-start_time\n",
    "    print(\"Training time: {}\".format(training_time))\n",
    "    \n",
    "    # make predictions\n",
    "    y_test_pred = model(X_test_tensors_final)\n",
    "    y_test_pred.shape\n",
    "    \n",
    "    y_train_pred = y_train_pred.detach().numpy()\n",
    "    y_train = y_train_tensors_final.detach().numpy()\n",
    "    y_test_pred = y_test_pred.detach().numpy()\n",
    "    y_test = y_test_tensors_final.detach().numpy()\n",
    "    \n",
    "    trainScore = math.sqrt(mean_squared_error(y_train[:,0], y_train_pred[:,0]))\n",
    "    print('Train Score: %.2f RMSE' % (trainScore))\n",
    "    testScore = math.sqrt(mean_squared_error(y_test[:,0], y_test_pred[:,0]))\n",
    "    print('Test Score: %.2f RMSE' % (testScore))\n",
    "    lstm.append(trainScore)\n",
    "    lstm.append(testScore)\n",
    "    lstm.append(training_time)\n",
    "    \n",
    "    return lstm, y_pred, y_pred_train, y_test, y_train"
   ]
  },
  {
   "cell_type": "code",
   "execution_count": 14,
   "metadata": {},
   "outputs": [],
   "source": [
    "class LSTM(nn.Module):\n",
    "    def __init__(self, input_dim, hidden_dim, num_layers, output_dim):\n",
    "        super(LSTM, self).__init__()\n",
    "        self.hidden_dim = hidden_dim\n",
    "        self.num_layers = num_layers\n",
    "        \n",
    "        self.lstm = nn.LSTM(input_dim, hidden_dim, num_layers, batch_first=True)\n",
    "        self.fc = nn.Linear(hidden_dim, output_dim)\n",
    "        \n",
    "        # self.relu = nn.ReLU()\n",
    "\n",
    "    def forward(self, x):\n",
    "        h0 = torch.zeros(self.num_layers, x.size(0), self.hidden_dim).requires_grad_()\n",
    "        c0 = torch.zeros(self.num_layers, x.size(0), self.hidden_dim).requires_grad_()\n",
    "        out, (hn, cn) = self.lstm(x, (h0.detach(), c0.detach()))\n",
    "        out = self.fc(out[:, -1, :]) \n",
    "        return out"
   ]
  },
  {
   "cell_type": "code",
   "execution_count": 15,
   "metadata": {},
   "outputs": [],
   "source": [
    "class GRU(nn.Module):\n",
    "    def __init__(self, input_dim, hidden_dim, num_layers, output_dim):\n",
    "        super(GRU, self).__init__()\n",
    "        self.hidden_dim = hidden_dim\n",
    "        self.num_layers = num_layers\n",
    "        \n",
    "        self.gru = nn.GRU(input_dim, hidden_dim, num_layers, batch_first=True)\n",
    "        self.fc = nn.Linear(hidden_dim, output_dim)\n",
    "\n",
    "    def forward(self, x):\n",
    "        h0 = torch.zeros(self.num_layers, x.size(0), self.hidden_dim).requires_grad_()\n",
    "        out, (hn) = self.gru(x, (h0.detach()))\n",
    "        out = self.fc(out[:, -1, :]) \n",
    "        return out"
   ]
  },
  {
   "cell_type": "code",
   "execution_count": 16,
   "metadata": {},
   "outputs": [],
   "source": [
    "input_dim = 1\n",
    "hidden_dim = 32\n",
    "num_layers = 2\n",
    "output_dim = 1\n",
    "num_epochs = 50"
   ]
  },
  {
   "cell_type": "code",
   "execution_count": 18,
   "metadata": {},
   "outputs": [
    {
     "name": "stdout",
     "output_type": "stream",
     "text": [
      "Epoch  0 MSE:  0.013651130720973015\n",
      "Epoch  1 MSE:  0.015885669738054276\n",
      "Epoch  2 MSE:  0.0069469003938138485\n",
      "Epoch  3 MSE:  0.0027748295105993748\n",
      "Epoch  4 MSE:  0.004286967217922211\n",
      "Epoch  5 MSE:  0.005876431707292795\n",
      "Epoch  6 MSE:  0.005736224818974733\n",
      "Epoch  7 MSE:  0.00447099469602108\n",
      "Epoch  8 MSE:  0.003145502181723714\n",
      "Epoch  9 MSE:  0.0025206527207046747\n",
      "Epoch  10 MSE:  0.002794441767036915\n",
      "Epoch  11 MSE:  0.0034346103202551603\n",
      "Epoch  12 MSE:  0.00367955700494349\n",
      "Epoch  13 MSE:  0.0033655918668955564\n",
      "Epoch  14 MSE:  0.002839749213308096\n",
      "Epoch  15 MSE:  0.00248534488491714\n",
      "Epoch  16 MSE:  0.0024336394853889942\n",
      "Epoch  17 MSE:  0.002575287828221917\n",
      "Epoch  18 MSE:  0.002752161119133234\n",
      "Epoch  19 MSE:  0.002851156983524561\n",
      "Epoch  20 MSE:  0.0028300960548222065\n",
      "Epoch  21 MSE:  0.002711272332817316\n",
      "Epoch  22 MSE:  0.0025560574140399694\n",
      "Epoch  23 MSE:  0.0024326087441295385\n",
      "Epoch  24 MSE:  0.002385849831625819\n",
      "Epoch  25 MSE:  0.002418695017695427\n",
      "Epoch  26 MSE:  0.002493290463462472\n",
      "Epoch  27 MSE:  0.0025545256212353706\n",
      "Epoch  28 MSE:  0.0025636006612330675\n",
      "Epoch  29 MSE:  0.002518791938200593\n",
      "Epoch  30 MSE:  0.0024497369304299355\n",
      "Epoch  31 MSE:  0.0023935893550515175\n",
      "Epoch  32 MSE:  0.00237264484167099\n",
      "Epoch  33 MSE:  0.00238624750636518\n",
      "Epoch  34 MSE:  0.0024168880190700293\n",
      "Epoch  35 MSE:  0.002442847704514861\n",
      "Epoch  36 MSE:  0.002449450083076954\n",
      "Epoch  37 MSE:  0.002434436697512865\n",
      "Epoch  38 MSE:  0.0024067156482487917\n",
      "Epoch  39 MSE:  0.0023803163785487413\n",
      "Epoch  40 MSE:  0.0023667621426284313\n",
      "Epoch  41 MSE:  0.0023694350384175777\n",
      "Epoch  42 MSE:  0.0023826342076063156\n",
      "Epoch  43 MSE:  0.0023957358207553625\n",
      "Epoch  44 MSE:  0.0023998769465833902\n",
      "Epoch  45 MSE:  0.0023929018061608076\n",
      "Epoch  46 MSE:  0.0023795946035534143\n",
      "Epoch  47 MSE:  0.0023676592390984297\n",
      "Epoch  48 MSE:  0.0023626626934856176\n",
      "Epoch  49 MSE:  0.002365234773606062\n",
      "Training time: 3506.3668949604034\n",
      "Train Score: 0.05 RMSE\n",
      "Test Score: 0.05 RMSE\n"
     ]
    },
    {
     "ename": "NameError",
     "evalue": "name 'y_pred' is not defined",
     "output_type": "error",
     "traceback": [
      "\u001b[1;31m---------------------------------------------------------------------------\u001b[0m",
      "\u001b[1;31mNameError\u001b[0m                                 Traceback (most recent call last)",
      "\u001b[1;32m~\\AppData\\Local\\Temp/ipykernel_17580/2911882260.py\u001b[0m in \u001b[0;36m<module>\u001b[1;34m\u001b[0m\n\u001b[0;32m      2\u001b[0m \u001b[0mn\u001b[0m \u001b[1;33m=\u001b[0m \u001b[1;36m0\u001b[0m\u001b[1;33m\u001b[0m\u001b[1;33m\u001b[0m\u001b[0m\n\u001b[0;32m      3\u001b[0m \u001b[1;33m\u001b[0m\u001b[0m\n\u001b[1;32m----> 4\u001b[1;33m \u001b[0mlstm\u001b[0m\u001b[1;33m,\u001b[0m \u001b[0my_pred\u001b[0m\u001b[1;33m,\u001b[0m \u001b[0my_pred_train\u001b[0m\u001b[1;33m,\u001b[0m \u001b[0my_test\u001b[0m\u001b[1;33m,\u001b[0m \u001b[0my_train\u001b[0m \u001b[1;33m=\u001b[0m \u001b[0mdeep_modeling\u001b[0m\u001b[1;33m(\u001b[0m\u001b[0mlist_dfs\u001b[0m\u001b[1;33m[\u001b[0m\u001b[1;36m1\u001b[0m\u001b[1;33m]\u001b[0m\u001b[1;33m,\u001b[0m \u001b[0minput_dim\u001b[0m\u001b[1;33m,\u001b[0m \u001b[0mhidden_dim\u001b[0m\u001b[1;33m,\u001b[0m \u001b[0moutput_dim\u001b[0m\u001b[1;33m,\u001b[0m \u001b[0mnum_layers\u001b[0m\u001b[1;33m)\u001b[0m\u001b[1;33m\u001b[0m\u001b[1;33m\u001b[0m\u001b[0m\n\u001b[0m\u001b[0;32m      5\u001b[0m \u001b[0md_final\u001b[0m\u001b[1;33m[\u001b[0m\u001b[0mn\u001b[0m\u001b[1;33m]\u001b[0m \u001b[1;33m=\u001b[0m \u001b[1;33m[\u001b[0m\u001b[0mlstm\u001b[0m\u001b[1;33m,\u001b[0m \u001b[0my_pred\u001b[0m\u001b[1;33m,\u001b[0m \u001b[0my_pred_train\u001b[0m\u001b[1;33m,\u001b[0m \u001b[0my_test\u001b[0m\u001b[1;33m,\u001b[0m \u001b[0my_train\u001b[0m\u001b[1;33m]\u001b[0m\u001b[1;33m\u001b[0m\u001b[1;33m\u001b[0m\u001b[0m\n",
      "\u001b[1;32m~\\AppData\\Local\\Temp/ipykernel_17580/3358173646.py\u001b[0m in \u001b[0;36mdeep_modeling\u001b[1;34m(df, input_dim, hidden_dim, output_dim, num_layers)\u001b[0m\n\u001b[0;32m     56\u001b[0m     \u001b[0mlstm\u001b[0m\u001b[1;33m.\u001b[0m\u001b[0mappend\u001b[0m\u001b[1;33m(\u001b[0m\u001b[0mtraining_time\u001b[0m\u001b[1;33m)\u001b[0m\u001b[1;33m\u001b[0m\u001b[1;33m\u001b[0m\u001b[0m\n\u001b[0;32m     57\u001b[0m \u001b[1;33m\u001b[0m\u001b[0m\n\u001b[1;32m---> 58\u001b[1;33m     \u001b[1;32mreturn\u001b[0m \u001b[0mlstm\u001b[0m\u001b[1;33m,\u001b[0m \u001b[0my_pred\u001b[0m\u001b[1;33m,\u001b[0m \u001b[0my_pred_train\u001b[0m\u001b[1;33m,\u001b[0m \u001b[0my_test\u001b[0m\u001b[1;33m,\u001b[0m \u001b[0my_train\u001b[0m\u001b[1;33m\u001b[0m\u001b[1;33m\u001b[0m\u001b[0m\n\u001b[0m",
      "\u001b[1;31mNameError\u001b[0m: name 'y_pred' is not defined"
     ]
    }
   ],
   "source": [
    "d_final = {}\n",
    "n = 0\n",
    "\n",
    "lstm, y_pred, y_pred_train, y_test, y_train = deep_modeling(list_dfs[1], input_dim, hidden_dim, output_dim, num_layers)\n",
    "d_final[n] = [lstm, y_pred, y_pred_train, y_test, y_train]"
   ]
  },
  {
   "cell_type": "markdown",
   "metadata": {},
   "source": [
    "## One dataset modeling"
   ]
  },
  {
   "cell_type": "code",
   "execution_count": 51,
   "metadata": {},
   "outputs": [],
   "source": [
    "X_dl = X.to_numpy()\n",
    "y_dl = y.to_numpy()"
   ]
  },
  {
   "cell_type": "code",
   "execution_count": 52,
   "metadata": {},
   "outputs": [],
   "source": [
    "X_train, X_test, y_train, y_test = train_test_split(X_dl, y_dl, test_size=0.2, random_state=420)"
   ]
  },
  {
   "cell_type": "code",
   "execution_count": 53,
   "metadata": {},
   "outputs": [],
   "source": [
    "X_train_tensors = Variable(torch.Tensor(X_train))\n",
    "X_test_tensors = Variable(torch.Tensor(X_test))\n",
    "\n",
    "y_train_tensors = Variable(torch.Tensor(y_train))\n",
    "y_test_tensors = Variable(torch.Tensor(y_test)) "
   ]
  },
  {
   "cell_type": "code",
   "execution_count": 58,
   "metadata": {},
   "outputs": [
    {
     "data": {
      "text/plain": [
       "torch.Size([15272])"
      ]
     },
     "execution_count": 58,
     "metadata": {},
     "output_type": "execute_result"
    }
   ],
   "source": [
    "y_train_tensors.shape"
   ]
  },
  {
   "cell_type": "code",
   "execution_count": 57,
   "metadata": {},
   "outputs": [],
   "source": [
    "X_train_tensors_final = torch.reshape(X_train_tensors,   (X_train_tensors.shape[0], X_train_tensors.shape[1], 1))\n",
    "X_test_tensors_final = torch.reshape(X_test_tensors,  (X_test_tensors.shape[0], X_test_tensors.shape[1], 1))\n",
    "\n",
    "y_train_tensors_final = torch.reshape(y_train_tensors,   (y_train_tensors.shape[0], 1))\n",
    "y_test_tensors_final = torch.reshape(y_test_tensors,  (y_test_tensors.shape[0], 1)) "
   ]
  },
  {
   "cell_type": "code",
   "execution_count": 59,
   "metadata": {},
   "outputs": [
    {
     "data": {
      "text/plain": [
       "torch.Size([3819, 1])"
      ]
     },
     "execution_count": 59,
     "metadata": {},
     "output_type": "execute_result"
    }
   ],
   "source": [
    "y_test_tensors_final.shape"
   ]
  },
  {
   "cell_type": "code",
   "execution_count": 60,
   "metadata": {},
   "outputs": [],
   "source": [
    "input_dim = 1\n",
    "hidden_dim = 32\n",
    "num_layers = 2\n",
    "output_dim = 1\n",
    "num_epochs = 50"
   ]
  },
  {
   "cell_type": "code",
   "execution_count": 64,
   "metadata": {},
   "outputs": [],
   "source": [
    "model = LSTM(input_dim=input_dim, \n",
    "             hidden_dim=hidden_dim, \n",
    "             output_dim=output_dim, \n",
    "             num_layers=num_layers)\n",
    "criterion = torch.nn.MSELoss(reduction='mean')\n",
    "optimiser = torch.optim.Adam(model.parameters(), lr=0.01)"
   ]
  },
  {
   "cell_type": "code",
   "execution_count": 66,
   "metadata": {},
   "outputs": [
    {
     "name": "stdout",
     "output_type": "stream",
     "text": [
      "Epoch  0 MSE:  0.0054879700765013695\n",
      "Epoch  1 MSE:  0.005546393804252148\n",
      "Epoch  2 MSE:  0.011457887478172779\n",
      "Epoch  3 MSE:  0.011637087911367416\n",
      "Epoch  4 MSE:  0.008776838891208172\n",
      "Epoch  5 MSE:  0.005671583116054535\n",
      "Epoch  6 MSE:  0.0035988297313451767\n",
      "Epoch  7 MSE:  0.002927315654233098\n",
      "Epoch  8 MSE:  0.003432739991694689\n",
      "Epoch  9 MSE:  0.0041704862378537655\n",
      "Epoch  10 MSE:  0.004393030423671007\n",
      "Epoch  11 MSE:  0.004092009272426367\n",
      "Epoch  12 MSE:  0.003578804899007082\n",
      "Epoch  13 MSE:  0.003142380388453603\n",
      "Epoch  14 MSE:  0.002925268141552806\n",
      "Epoch  15 MSE:  0.0029268504586070776\n",
      "Epoch  16 MSE:  0.003063506679609418\n",
      "Epoch  17 MSE:  0.0032308262307196856\n",
      "Epoch  18 MSE:  0.0033466529566794634\n",
      "Epoch  19 MSE:  0.003371268277987838\n",
      "Epoch  20 MSE:  0.003307400504127145\n",
      "Epoch  21 MSE:  0.0031874263659119606\n",
      "Epoch  22 MSE:  0.003055957145988941\n",
      "Epoch  23 MSE:  0.002953531453385949\n",
      "Epoch  24 MSE:  0.002904675668105483\n",
      "Epoch  25 MSE:  0.002912231022492051\n",
      "Epoch  26 MSE:  0.0029589501209557056\n",
      "Epoch  27 MSE:  0.0030159377492964268\n",
      "Epoch  28 MSE:  0.003055211389437318\n",
      "Epoch  29 MSE:  0.0030609823297709227\n",
      "Epoch  30 MSE:  0.0030340340454131365\n",
      "Epoch  31 MSE:  0.0029881298542022705\n",
      "Epoch  32 MSE:  0.0029418431222438812\n",
      "Epoch  33 MSE:  0.0029102922417223454\n",
      "Epoch  34 MSE:  0.0029001382645219564\n",
      "Epoch  35 MSE:  0.002908968133851886\n",
      "Epoch  36 MSE:  0.002928144996985793\n",
      "Epoch  37 MSE:  0.0029472075402736664\n",
      "Epoch  38 MSE:  0.002957907970994711\n",
      "Epoch  39 MSE:  0.002956647891551256\n",
      "Epoch  40 MSE:  0.0029448699206113815\n",
      "Epoch  41 MSE:  0.0029276900459080935\n",
      "Epoch  42 MSE:  0.002911483170464635\n",
      "Epoch  43 MSE:  0.002901369007304311\n",
      "Epoch  44 MSE:  0.002899453742429614\n",
      "Epoch  45 MSE:  0.0029044095426797867\n",
      "Epoch  46 MSE:  0.002912440337240696\n",
      "Epoch  47 MSE:  0.0029191458597779274\n",
      "Epoch  48 MSE:  0.0029214248061180115\n",
      "Epoch  49 MSE:  0.00291857635602355\n",
      "Training time: 2705.312191963196\n"
     ]
    }
   ],
   "source": [
    "import time\n",
    "hist = np.zeros(num_epochs)\n",
    "start_time = time.time()\n",
    "lstm = []\n",
    "for t in range(num_epochs):\n",
    "    y_train_pred = model(X_train_tensors_final)\n",
    "    loss = criterion(y_train_pred, y_train_tensors_final)\n",
    "    print(\"Epoch \", t, \"MSE: \", loss.item())\n",
    "    hist[t] = loss.item()\n",
    "    optimiser.zero_grad()\n",
    "    loss.backward()\n",
    "    optimiser.step()\n",
    "    \n",
    "training_time = time.time()-start_time\n",
    "print(\"Training time: {}\".format(training_time))"
   ]
  },
  {
   "cell_type": "code",
   "execution_count": 72,
   "metadata": {},
   "outputs": [
    {
     "data": {
      "text/plain": [
       "torch.Size([3819, 1])"
      ]
     },
     "execution_count": 72,
     "metadata": {},
     "output_type": "execute_result"
    }
   ],
   "source": [
    "import math, time\n",
    "from sklearn.metrics import mean_squared_error\n",
    "\n",
    "# make predictions\n",
    "y_test_pred = model(X_test_tensors_final)\n",
    "y_test_pred.shape"
   ]
  },
  {
   "cell_type": "code",
   "execution_count": 68,
   "metadata": {},
   "outputs": [],
   "source": [
    "torch.save(model.state_dict(), 'model_LSTM.pt')"
   ]
  },
  {
   "cell_type": "code",
   "execution_count": 73,
   "metadata": {},
   "outputs": [],
   "source": [
    "# invert predictions\n",
    "# y_train_pred = y_train_pred.detach().numpy()\n",
    "y_train = y_train_tensors_final.detach().numpy()\n",
    "y_test_pred = y_test_pred.detach().numpy()\n",
    "y_test = y_test_tensors_final.detach().numpy()"
   ]
  },
  {
   "cell_type": "code",
   "execution_count": 74,
   "metadata": {},
   "outputs": [
    {
     "name": "stdout",
     "output_type": "stream",
     "text": [
      "Train Score: 0.05 RMSE\n",
      "Test Score: 0.05 RMSE\n"
     ]
    }
   ],
   "source": [
    "# calculate root mean squared error\n",
    "trainScore = math.sqrt(mean_squared_error(y_train[:,0], y_train_pred[:,0]))\n",
    "print('Train Score: %.2f RMSE' % (trainScore))\n",
    "testScore = math.sqrt(mean_squared_error(y_test[:,0], y_test_pred[:,0]))\n",
    "print('Test Score: %.2f RMSE' % (testScore))\n",
    "lstm.append(trainScore)\n",
    "lstm.append(testScore)\n",
    "lstm.append(training_time)"
   ]
  },
  {
   "cell_type": "code",
   "execution_count": 75,
   "metadata": {},
   "outputs": [],
   "source": [
    "model = GRU(input_dim=input_dim, hidden_dim=hidden_dim, output_dim=output_dim, num_layers=num_layers)\n",
    "criterion = torch.nn.MSELoss(reduction='mean')\n",
    "optimiser = torch.optim.Adam(model.parameters(), lr=0.01)"
   ]
  },
  {
   "cell_type": "code",
   "execution_count": 76,
   "metadata": {},
   "outputs": [],
   "source": [
    "X_train, X_test, y_train, y_test = train_test_split(X_dl, y_dl, test_size=0.2, random_state=420)\n",
    "\n",
    "X_train_tensors = Variable(torch.Tensor(X_train))\n",
    "X_test_tensors = Variable(torch.Tensor(X_test))\n",
    "\n",
    "y_train_tensors = Variable(torch.Tensor(y_train))\n",
    "y_test_tensors = Variable(torch.Tensor(y_test))\n",
    "\n",
    "X_train_tensors_final = torch.reshape(X_train_tensors,   (X_train_tensors.shape[0], X_train_tensors.shape[1], 1))\n",
    "\n",
    "X_test_tensors_final = torch.reshape(X_test_tensors,  (X_test_tensors.shape[0], X_test_tensors.shape[1], 1))\n",
    "\n",
    "y_train_tensors_final = torch.reshape(y_train_tensors,   (y_train_tensors.shape[0], 1))\n",
    "y_test_tensors_final = torch.reshape(y_test_tensors,  (y_test_tensors.shape[0], 1)) "
   ]
  },
  {
   "cell_type": "code",
   "execution_count": 77,
   "metadata": {},
   "outputs": [
    {
     "name": "stdout",
     "output_type": "stream",
     "text": [
      "Epoch  0 MSE:  0.05450622737407684\n",
      "Epoch  1 MSE:  0.03689612075686455\n",
      "Epoch  2 MSE:  0.031600143760442734\n",
      "Epoch  3 MSE:  0.0071031441912055016\n",
      "Epoch  4 MSE:  0.004293963313102722\n",
      "Epoch  5 MSE:  0.011633778922259808\n",
      "Epoch  6 MSE:  0.013792445883154869\n",
      "Epoch  7 MSE:  0.009346707724034786\n",
      "Epoch  8 MSE:  0.004175536800175905\n",
      "Epoch  9 MSE:  0.0031369670759886503\n",
      "Epoch  10 MSE:  0.004360849037766457\n",
      "Epoch  11 MSE:  0.0051625799387693405\n",
      "Epoch  12 MSE:  0.004727320279926062\n",
      "Epoch  13 MSE:  0.003703546477481723\n",
      "Epoch  14 MSE:  0.0030248600523918867\n",
      "Epoch  15 MSE:  0.002967854030430317\n",
      "Epoch  16 MSE:  0.0032879039645195007\n",
      "Epoch  17 MSE:  0.0036011599004268646\n",
      "Epoch  18 MSE:  0.003631589002907276\n",
      "Epoch  19 MSE:  0.003363940631970763\n",
      "Epoch  20 MSE:  0.003033748595044017\n",
      "Epoch  21 MSE:  0.002925993176177144\n",
      "Epoch  22 MSE:  0.0030210709664970636\n",
      "Epoch  23 MSE:  0.0031631519086658955\n",
      "Epoch  24 MSE:  0.0032337636221200228\n",
      "Epoch  25 MSE:  0.003190661082044244\n",
      "Epoch  26 MSE:  0.003074696520343423\n",
      "Epoch  27 MSE:  0.002965467981994152\n",
      "Epoch  28 MSE:  0.002922689775004983\n",
      "Epoch  29 MSE:  0.002953144023194909\n",
      "Epoch  30 MSE:  0.0030170271638780832\n",
      "Epoch  31 MSE:  0.0030615648720413446\n",
      "Epoch  32 MSE:  0.003056437009945512\n",
      "Epoch  33 MSE:  0.00300878775306046\n",
      "Epoch  34 MSE:  0.002951960079371929\n",
      "Epoch  35 MSE:  0.0029197242110967636\n",
      "Epoch  36 MSE:  0.002924686996266246\n",
      "Epoch  37 MSE:  0.002953633666038513\n",
      "Epoch  38 MSE:  0.0029800839256495237\n",
      "Epoch  39 MSE:  0.002983716782182455\n",
      "Epoch  40 MSE:  0.0029633238445967436\n",
      "Epoch  41 MSE:  0.0029346595983952284\n",
      "Epoch  42 MSE:  0.002916445955634117\n",
      "Epoch  43 MSE:  0.0029170503839850426\n",
      "Epoch  44 MSE:  0.002930778544396162\n",
      "Epoch  45 MSE:  0.002944220555946231\n",
      "Epoch  46 MSE:  0.00294665084220469\n",
      "Epoch  47 MSE:  0.0029368719551712275\n",
      "Epoch  48 MSE:  0.0029224553145468235\n",
      "Epoch  49 MSE:  0.002913100877776742\n",
      "Training time: 2426.2223999500275\n"
     ]
    }
   ],
   "source": [
    "import time\n",
    "hist = np.zeros(num_epochs)\n",
    "start_time = time.time()\n",
    "lstm = []\n",
    "for t in range(num_epochs):\n",
    "    y_train_pred = model(X_train_tensors_final)\n",
    "    loss = criterion(y_train_pred, y_train_tensors_final)\n",
    "    print(\"Epoch \", t, \"MSE: \", loss.item())\n",
    "    hist[t] = loss.item()\n",
    "    optimiser.zero_grad()\n",
    "    loss.backward()\n",
    "    optimiser.step()\n",
    "    \n",
    "training_time = time.time()-start_time\n",
    "print(\"Training time: {}\".format(training_time))"
   ]
  },
  {
   "cell_type": "code",
   "execution_count": 78,
   "metadata": {},
   "outputs": [
    {
     "data": {
      "text/plain": [
       "torch.Size([3819, 1])"
      ]
     },
     "execution_count": 78,
     "metadata": {},
     "output_type": "execute_result"
    }
   ],
   "source": [
    "y_test_pred = model(X_test_tensors_final)\n",
    "y_test_pred.shape"
   ]
  },
  {
   "cell_type": "code",
   "execution_count": 79,
   "metadata": {},
   "outputs": [],
   "source": [
    "torch.save(model.state_dict(), 'model_GRU.pt')"
   ]
  },
  {
   "cell_type": "code",
   "execution_count": 80,
   "metadata": {},
   "outputs": [],
   "source": [
    "y_train_pred = y_train_pred.detach().numpy()\n",
    "y_train = y_train_tensors_final.detach().numpy()\n",
    "y_test_pred = y_test_pred.detach().numpy()\n",
    "y_test = y_test_tensors_final.detach().numpy()"
   ]
  },
  {
   "cell_type": "code",
   "execution_count": 81,
   "metadata": {},
   "outputs": [
    {
     "name": "stdout",
     "output_type": "stream",
     "text": [
      "Train Score: 0.05 RMSE\n",
      "Test Score: 0.05 RMSE\n"
     ]
    }
   ],
   "source": [
    "trainScore = math.sqrt(mean_squared_error(y_train[:,0], y_train_pred[:,0]))\n",
    "print('Train Score: %.2f RMSE' % (trainScore))\n",
    "testScore = math.sqrt(mean_squared_error(y_test[:,0], y_test_pred[:,0]))\n",
    "print('Test Score: %.2f RMSE' % (testScore))\n",
    "lstm.append(trainScore)\n",
    "lstm.append(testScore)\n",
    "lstm.append(training_time)"
   ]
  },
  {
   "cell_type": "markdown",
   "metadata": {},
   "source": [
    "## Random Forest"
   ]
  },
  {
   "cell_type": "code",
   "execution_count": 36,
   "metadata": {},
   "outputs": [],
   "source": [
    "from sklearn.ensemble import RandomForestRegressor"
   ]
  },
  {
   "cell_type": "code",
   "execution_count": 42,
   "metadata": {},
   "outputs": [],
   "source": [
    "X_train, X_test, y_train, y_test = train_test_split(X, y, test_size=0.3, random_state=420)"
   ]
  },
  {
   "cell_type": "code",
   "execution_count": 44,
   "metadata": {},
   "outputs": [],
   "source": [
    "params_rf = {'bootstrap': True, \n",
    "             'max_depth': 8, \n",
    "             'max_samples': 0.75, \n",
    "             'min_samples_split': 2, \n",
    "             'n_estimators': 500}"
   ]
  },
  {
   "cell_type": "code",
   "execution_count": 45,
   "metadata": {},
   "outputs": [],
   "source": [
    "rf = RandomForestRegressor(**params_rf)"
   ]
  },
  {
   "cell_type": "code",
   "execution_count": 46,
   "metadata": {},
   "outputs": [
    {
     "data": {
      "text/plain": [
       "RandomForestRegressor(max_depth=8, max_samples=0.75, n_estimators=500)"
      ]
     },
     "execution_count": 46,
     "metadata": {},
     "output_type": "execute_result"
    }
   ],
   "source": [
    "rf.fit(X_train, y_train)"
   ]
  },
  {
   "cell_type": "code",
   "execution_count": 48,
   "metadata": {},
   "outputs": [],
   "source": [
    "pred = rf.predict(X_test)"
   ]
  },
  {
   "cell_type": "code",
   "execution_count": 49,
   "metadata": {},
   "outputs": [
    {
     "name": "stdout",
     "output_type": "stream",
     "text": [
      "Testing performance\n",
      "RMSE: 0.03\n",
      "R2: 0.72\n",
      "MAE: 0.02\n"
     ]
    }
   ],
   "source": [
    "rmse = (np.sqrt(mean_squared_error(y_test, pred)))\n",
    "r2 = r2_score(y_test, pred)\n",
    "mae = mean_absolute_error(y_test, pred)\n",
    "print('Testing performance')\n",
    "print('RMSE: {:.2f}'.format(rmse))\n",
    "print('R2: {:.2f}'.format(r2))\n",
    "print('MAE: {:.2f}'.format(mae))"
   ]
  },
  {
   "cell_type": "code",
   "execution_count": 50,
   "metadata": {},
   "outputs": [],
   "source": [
    "filename = 'random_forest_final_model.sav'\n",
    "pickle.dump(rf, open(filename, 'wb'))"
   ]
  },
  {
   "cell_type": "markdown",
   "metadata": {},
   "source": [
    "## Grid for Random Forest"
   ]
  },
  {
   "cell_type": "code",
   "execution_count": 43,
   "metadata": {},
   "outputs": [],
   "source": [
    "params_CV_rf = {\n",
    "    'n_estimators': [100, 300, 500],\n",
    "    'max_depth': [4, 6, 8],\n",
    "    'min_samples_split': [2, 4],\n",
    "    'bootstrap': [True],\n",
    "    'max_samples': [0.75, 1]\n",
    "    \n",
    "}"
   ]
  },
  {
   "cell_type": "code",
   "execution_count": null,
   "metadata": {},
   "outputs": [],
   "source": [
    "rf = RandomForestRegressor()"
   ]
  },
  {
   "cell_type": "code",
   "execution_count": 66,
   "metadata": {},
   "outputs": [],
   "source": [
    "kf=KFold(n_splits=3)\n",
    "model_cv = GridSearchCV(estimator = rf, \n",
    "                        param_grid = params_CV_rf, \n",
    "                        scoring= 'neg_mean_squared_error', \n",
    "                        cv = kf, \n",
    "                        verbose = 100,\n",
    "                        return_train_score=True)  "
   ]
  },
  {
   "cell_type": "code",
   "execution_count": 67,
   "metadata": {},
   "outputs": [
    {
     "name": "stdout",
     "output_type": "stream",
     "text": [
      "Fitting 3 folds for each of 36 candidates, totalling 108 fits\n",
      "[CV 1/3; 1/36] START bootstrap=True, max_depth=4, max_samples=0.75, min_samples_split=2, n_estimators=100\n",
      "[CV 1/3; 1/36] END bootstrap=True, max_depth=4, max_samples=0.75, min_samples_split=2, n_estimators=100;, score=(train=-0.001, test=-0.001) total time=  16.7s\n",
      "[CV 2/3; 1/36] START bootstrap=True, max_depth=4, max_samples=0.75, min_samples_split=2, n_estimators=100\n",
      "[CV 2/3; 1/36] END bootstrap=True, max_depth=4, max_samples=0.75, min_samples_split=2, n_estimators=100;, score=(train=-0.001, test=-0.001) total time=  16.7s\n",
      "[CV 3/3; 1/36] START bootstrap=True, max_depth=4, max_samples=0.75, min_samples_split=2, n_estimators=100\n",
      "[CV 3/3; 1/36] END bootstrap=True, max_depth=4, max_samples=0.75, min_samples_split=2, n_estimators=100;, score=(train=-0.001, test=-0.001) total time=  16.6s\n",
      "[CV 1/3; 2/36] START bootstrap=True, max_depth=4, max_samples=0.75, min_samples_split=2, n_estimators=300\n",
      "[CV 1/3; 2/36] END bootstrap=True, max_depth=4, max_samples=0.75, min_samples_split=2, n_estimators=300;, score=(train=-0.001, test=-0.001) total time=  50.4s\n",
      "[CV 2/3; 2/36] START bootstrap=True, max_depth=4, max_samples=0.75, min_samples_split=2, n_estimators=300\n",
      "[CV 2/3; 2/36] END bootstrap=True, max_depth=4, max_samples=0.75, min_samples_split=2, n_estimators=300;, score=(train=-0.001, test=-0.001) total time=  50.5s\n",
      "[CV 3/3; 2/36] START bootstrap=True, max_depth=4, max_samples=0.75, min_samples_split=2, n_estimators=300\n",
      "[CV 3/3; 2/36] END bootstrap=True, max_depth=4, max_samples=0.75, min_samples_split=2, n_estimators=300;, score=(train=-0.001, test=-0.001) total time=  50.0s\n",
      "[CV 1/3; 3/36] START bootstrap=True, max_depth=4, max_samples=0.75, min_samples_split=2, n_estimators=500\n",
      "[CV 1/3; 3/36] END bootstrap=True, max_depth=4, max_samples=0.75, min_samples_split=2, n_estimators=500;, score=(train=-0.001, test=-0.001) total time= 1.4min\n",
      "[CV 2/3; 3/36] START bootstrap=True, max_depth=4, max_samples=0.75, min_samples_split=2, n_estimators=500\n",
      "[CV 2/3; 3/36] END bootstrap=True, max_depth=4, max_samples=0.75, min_samples_split=2, n_estimators=500;, score=(train=-0.001, test=-0.001) total time= 1.6min\n",
      "[CV 3/3; 3/36] START bootstrap=True, max_depth=4, max_samples=0.75, min_samples_split=2, n_estimators=500\n",
      "[CV 3/3; 3/36] END bootstrap=True, max_depth=4, max_samples=0.75, min_samples_split=2, n_estimators=500;, score=(train=-0.001, test=-0.001) total time= 1.5min\n",
      "[CV 1/3; 4/36] START bootstrap=True, max_depth=4, max_samples=0.75, min_samples_split=4, n_estimators=100\n",
      "[CV 1/3; 4/36] END bootstrap=True, max_depth=4, max_samples=0.75, min_samples_split=4, n_estimators=100;, score=(train=-0.001, test=-0.001) total time=  16.8s\n",
      "[CV 2/3; 4/36] START bootstrap=True, max_depth=4, max_samples=0.75, min_samples_split=4, n_estimators=100\n",
      "[CV 2/3; 4/36] END bootstrap=True, max_depth=4, max_samples=0.75, min_samples_split=4, n_estimators=100;, score=(train=-0.001, test=-0.001) total time=  17.0s\n",
      "[CV 3/3; 4/36] START bootstrap=True, max_depth=4, max_samples=0.75, min_samples_split=4, n_estimators=100\n",
      "[CV 3/3; 4/36] END bootstrap=True, max_depth=4, max_samples=0.75, min_samples_split=4, n_estimators=100;, score=(train=-0.001, test=-0.001) total time=  16.8s\n",
      "[CV 1/3; 5/36] START bootstrap=True, max_depth=4, max_samples=0.75, min_samples_split=4, n_estimators=300\n",
      "[CV 1/3; 5/36] END bootstrap=True, max_depth=4, max_samples=0.75, min_samples_split=4, n_estimators=300;, score=(train=-0.001, test=-0.001) total time=  50.6s\n",
      "[CV 2/3; 5/36] START bootstrap=True, max_depth=4, max_samples=0.75, min_samples_split=4, n_estimators=300\n",
      "[CV 2/3; 5/36] END bootstrap=True, max_depth=4, max_samples=0.75, min_samples_split=4, n_estimators=300;, score=(train=-0.001, test=-0.001) total time=  50.2s\n",
      "[CV 3/3; 5/36] START bootstrap=True, max_depth=4, max_samples=0.75, min_samples_split=4, n_estimators=300\n",
      "[CV 3/3; 5/36] END bootstrap=True, max_depth=4, max_samples=0.75, min_samples_split=4, n_estimators=300;, score=(train=-0.001, test=-0.001) total time=  50.2s\n",
      "[CV 1/3; 6/36] START bootstrap=True, max_depth=4, max_samples=0.75, min_samples_split=4, n_estimators=500\n",
      "[CV 1/3; 6/36] END bootstrap=True, max_depth=4, max_samples=0.75, min_samples_split=4, n_estimators=500;, score=(train=-0.001, test=-0.001) total time= 1.4min\n",
      "[CV 2/3; 6/36] START bootstrap=True, max_depth=4, max_samples=0.75, min_samples_split=4, n_estimators=500\n",
      "[CV 2/3; 6/36] END bootstrap=True, max_depth=4, max_samples=0.75, min_samples_split=4, n_estimators=500;, score=(train=-0.001, test=-0.001) total time= 1.4min\n",
      "[CV 3/3; 6/36] START bootstrap=True, max_depth=4, max_samples=0.75, min_samples_split=4, n_estimators=500\n",
      "[CV 3/3; 6/36] END bootstrap=True, max_depth=4, max_samples=0.75, min_samples_split=4, n_estimators=500;, score=(train=-0.001, test=-0.001) total time= 1.4min\n",
      "[CV 1/3; 7/36] START bootstrap=True, max_depth=4, max_samples=1, min_samples_split=2, n_estimators=100\n",
      "[CV 1/3; 7/36] END bootstrap=True, max_depth=4, max_samples=1, min_samples_split=2, n_estimators=100;, score=(train=-0.003, test=-0.003) total time=   0.0s\n",
      "[CV 2/3; 7/36] START bootstrap=True, max_depth=4, max_samples=1, min_samples_split=2, n_estimators=100\n",
      "[CV 2/3; 7/36] END bootstrap=True, max_depth=4, max_samples=1, min_samples_split=2, n_estimators=100;, score=(train=-0.003, test=-0.003) total time=   0.0s\n",
      "[CV 3/3; 7/36] START bootstrap=True, max_depth=4, max_samples=1, min_samples_split=2, n_estimators=100\n",
      "[CV 3/3; 7/36] END bootstrap=True, max_depth=4, max_samples=1, min_samples_split=2, n_estimators=100;, score=(train=-0.003, test=-0.003) total time=   0.0s\n",
      "[CV 1/3; 8/36] START bootstrap=True, max_depth=4, max_samples=1, min_samples_split=2, n_estimators=300\n",
      "[CV 1/3; 8/36] END bootstrap=True, max_depth=4, max_samples=1, min_samples_split=2, n_estimators=300;, score=(train=-0.003, test=-0.003) total time=   0.1s\n",
      "[CV 2/3; 8/36] START bootstrap=True, max_depth=4, max_samples=1, min_samples_split=2, n_estimators=300\n",
      "[CV 2/3; 8/36] END bootstrap=True, max_depth=4, max_samples=1, min_samples_split=2, n_estimators=300;, score=(train=-0.003, test=-0.003) total time=   0.1s\n",
      "[CV 3/3; 8/36] START bootstrap=True, max_depth=4, max_samples=1, min_samples_split=2, n_estimators=300\n",
      "[CV 3/3; 8/36] END bootstrap=True, max_depth=4, max_samples=1, min_samples_split=2, n_estimators=300;, score=(train=-0.003, test=-0.003) total time=   0.1s\n",
      "[CV 1/3; 9/36] START bootstrap=True, max_depth=4, max_samples=1, min_samples_split=2, n_estimators=500\n",
      "[CV 1/3; 9/36] END bootstrap=True, max_depth=4, max_samples=1, min_samples_split=2, n_estimators=500;, score=(train=-0.003, test=-0.003) total time=   0.3s\n",
      "[CV 2/3; 9/36] START bootstrap=True, max_depth=4, max_samples=1, min_samples_split=2, n_estimators=500\n",
      "[CV 2/3; 9/36] END bootstrap=True, max_depth=4, max_samples=1, min_samples_split=2, n_estimators=500;, score=(train=-0.003, test=-0.003) total time=   0.2s\n",
      "[CV 3/3; 9/36] START bootstrap=True, max_depth=4, max_samples=1, min_samples_split=2, n_estimators=500\n",
      "[CV 3/3; 9/36] END bootstrap=True, max_depth=4, max_samples=1, min_samples_split=2, n_estimators=500;, score=(train=-0.003, test=-0.003) total time=   0.2s\n",
      "[CV 1/3; 10/36] START bootstrap=True, max_depth=4, max_samples=1, min_samples_split=4, n_estimators=100\n",
      "[CV 1/3; 10/36] END bootstrap=True, max_depth=4, max_samples=1, min_samples_split=4, n_estimators=100;, score=(train=-0.003, test=-0.003) total time=   0.0s\n",
      "[CV 2/3; 10/36] START bootstrap=True, max_depth=4, max_samples=1, min_samples_split=4, n_estimators=100\n",
      "[CV 2/3; 10/36] END bootstrap=True, max_depth=4, max_samples=1, min_samples_split=4, n_estimators=100;, score=(train=-0.003, test=-0.003) total time=   0.0s\n",
      "[CV 3/3; 10/36] START bootstrap=True, max_depth=4, max_samples=1, min_samples_split=4, n_estimators=100\n",
      "[CV 3/3; 10/36] END bootstrap=True, max_depth=4, max_samples=1, min_samples_split=4, n_estimators=100;, score=(train=-0.003, test=-0.003) total time=   0.0s\n",
      "[CV 1/3; 11/36] START bootstrap=True, max_depth=4, max_samples=1, min_samples_split=4, n_estimators=300\n",
      "[CV 1/3; 11/36] END bootstrap=True, max_depth=4, max_samples=1, min_samples_split=4, n_estimators=300;, score=(train=-0.003, test=-0.003) total time=   0.1s\n",
      "[CV 2/3; 11/36] START bootstrap=True, max_depth=4, max_samples=1, min_samples_split=4, n_estimators=300\n",
      "[CV 2/3; 11/36] END bootstrap=True, max_depth=4, max_samples=1, min_samples_split=4, n_estimators=300;, score=(train=-0.003, test=-0.003) total time=   0.1s\n",
      "[CV 3/3; 11/36] START bootstrap=True, max_depth=4, max_samples=1, min_samples_split=4, n_estimators=300\n",
      "[CV 3/3; 11/36] END bootstrap=True, max_depth=4, max_samples=1, min_samples_split=4, n_estimators=300;, score=(train=-0.003, test=-0.003) total time=   0.1s\n",
      "[CV 1/3; 12/36] START bootstrap=True, max_depth=4, max_samples=1, min_samples_split=4, n_estimators=500\n",
      "[CV 1/3; 12/36] END bootstrap=True, max_depth=4, max_samples=1, min_samples_split=4, n_estimators=500;, score=(train=-0.003, test=-0.003) total time=   0.3s\n",
      "[CV 2/3; 12/36] START bootstrap=True, max_depth=4, max_samples=1, min_samples_split=4, n_estimators=500\n",
      "[CV 2/3; 12/36] END bootstrap=True, max_depth=4, max_samples=1, min_samples_split=4, n_estimators=500;, score=(train=-0.003, test=-0.003) total time=   0.2s\n",
      "[CV 3/3; 12/36] START bootstrap=True, max_depth=4, max_samples=1, min_samples_split=4, n_estimators=500\n",
      "[CV 3/3; 12/36] END bootstrap=True, max_depth=4, max_samples=1, min_samples_split=4, n_estimators=500;, score=(train=-0.003, test=-0.003) total time=   0.2s\n",
      "[CV 1/3; 13/36] START bootstrap=True, max_depth=6, max_samples=0.75, min_samples_split=2, n_estimators=100\n",
      "[CV 1/3; 13/36] END bootstrap=True, max_depth=6, max_samples=0.75, min_samples_split=2, n_estimators=100;, score=(train=-0.001, test=-0.001) total time=  22.9s\n",
      "[CV 2/3; 13/36] START bootstrap=True, max_depth=6, max_samples=0.75, min_samples_split=2, n_estimators=100\n",
      "[CV 2/3; 13/36] END bootstrap=True, max_depth=6, max_samples=0.75, min_samples_split=2, n_estimators=100;, score=(train=-0.001, test=-0.001) total time=  22.8s\n",
      "[CV 3/3; 13/36] START bootstrap=True, max_depth=6, max_samples=0.75, min_samples_split=2, n_estimators=100\n",
      "[CV 3/3; 13/36] END bootstrap=True, max_depth=6, max_samples=0.75, min_samples_split=2, n_estimators=100;, score=(train=-0.001, test=-0.001) total time=  22.7s\n",
      "[CV 1/3; 14/36] START bootstrap=True, max_depth=6, max_samples=0.75, min_samples_split=2, n_estimators=300\n",
      "[CV 1/3; 14/36] END bootstrap=True, max_depth=6, max_samples=0.75, min_samples_split=2, n_estimators=300;, score=(train=-0.001, test=-0.001) total time= 1.1min\n",
      "[CV 2/3; 14/36] START bootstrap=True, max_depth=6, max_samples=0.75, min_samples_split=2, n_estimators=300\n",
      "[CV 2/3; 14/36] END bootstrap=True, max_depth=6, max_samples=0.75, min_samples_split=2, n_estimators=300;, score=(train=-0.001, test=-0.001) total time= 1.1min\n",
      "[CV 3/3; 14/36] START bootstrap=True, max_depth=6, max_samples=0.75, min_samples_split=2, n_estimators=300\n",
      "[CV 3/3; 14/36] END bootstrap=True, max_depth=6, max_samples=0.75, min_samples_split=2, n_estimators=300;, score=(train=-0.001, test=-0.001) total time= 1.1min\n",
      "[CV 1/3; 15/36] START bootstrap=True, max_depth=6, max_samples=0.75, min_samples_split=2, n_estimators=500\n",
      "[CV 1/3; 15/36] END bootstrap=True, max_depth=6, max_samples=0.75, min_samples_split=2, n_estimators=500;, score=(train=-0.001, test=-0.001) total time= 1.9min\n",
      "[CV 2/3; 15/36] START bootstrap=True, max_depth=6, max_samples=0.75, min_samples_split=2, n_estimators=500\n",
      "[CV 2/3; 15/36] END bootstrap=True, max_depth=6, max_samples=0.75, min_samples_split=2, n_estimators=500;, score=(train=-0.001, test=-0.001) total time= 2.1min\n",
      "[CV 3/3; 15/36] START bootstrap=True, max_depth=6, max_samples=0.75, min_samples_split=2, n_estimators=500\n",
      "[CV 3/3; 15/36] END bootstrap=True, max_depth=6, max_samples=0.75, min_samples_split=2, n_estimators=500;, score=(train=-0.001, test=-0.001) total time= 2.0min\n",
      "[CV 1/3; 16/36] START bootstrap=True, max_depth=6, max_samples=0.75, min_samples_split=4, n_estimators=100\n",
      "[CV 1/3; 16/36] END bootstrap=True, max_depth=6, max_samples=0.75, min_samples_split=4, n_estimators=100;, score=(train=-0.001, test=-0.001) total time=  24.5s\n",
      "[CV 2/3; 16/36] START bootstrap=True, max_depth=6, max_samples=0.75, min_samples_split=4, n_estimators=100\n",
      "[CV 2/3; 16/36] END bootstrap=True, max_depth=6, max_samples=0.75, min_samples_split=4, n_estimators=100;, score=(train=-0.001, test=-0.001) total time=  24.6s\n",
      "[CV 3/3; 16/36] START bootstrap=True, max_depth=6, max_samples=0.75, min_samples_split=4, n_estimators=100\n",
      "[CV 3/3; 16/36] END bootstrap=True, max_depth=6, max_samples=0.75, min_samples_split=4, n_estimators=100;, score=(train=-0.001, test=-0.001) total time=  24.5s\n",
      "[CV 1/3; 17/36] START bootstrap=True, max_depth=6, max_samples=0.75, min_samples_split=4, n_estimators=300\n",
      "[CV 1/3; 17/36] END bootstrap=True, max_depth=6, max_samples=0.75, min_samples_split=4, n_estimators=300;, score=(train=-0.001, test=-0.001) total time= 1.2min\n",
      "[CV 2/3; 17/36] START bootstrap=True, max_depth=6, max_samples=0.75, min_samples_split=4, n_estimators=300\n",
      "[CV 2/3; 17/36] END bootstrap=True, max_depth=6, max_samples=0.75, min_samples_split=4, n_estimators=300;, score=(train=-0.001, test=-0.001) total time= 1.1min\n",
      "[CV 3/3; 17/36] START bootstrap=True, max_depth=6, max_samples=0.75, min_samples_split=4, n_estimators=300\n",
      "[CV 3/3; 17/36] END bootstrap=True, max_depth=6, max_samples=0.75, min_samples_split=4, n_estimators=300;, score=(train=-0.001, test=-0.001) total time= 1.1min\n",
      "[CV 1/3; 18/36] START bootstrap=True, max_depth=6, max_samples=0.75, min_samples_split=4, n_estimators=500\n",
      "[CV 1/3; 18/36] END bootstrap=True, max_depth=6, max_samples=0.75, min_samples_split=4, n_estimators=500;, score=(train=-0.001, test=-0.001) total time= 1.9min\n",
      "[CV 2/3; 18/36] START bootstrap=True, max_depth=6, max_samples=0.75, min_samples_split=4, n_estimators=500\n",
      "[CV 2/3; 18/36] END bootstrap=True, max_depth=6, max_samples=0.75, min_samples_split=4, n_estimators=500;, score=(train=-0.001, test=-0.001) total time= 1.9min\n",
      "[CV 3/3; 18/36] START bootstrap=True, max_depth=6, max_samples=0.75, min_samples_split=4, n_estimators=500\n",
      "[CV 3/3; 18/36] END bootstrap=True, max_depth=6, max_samples=0.75, min_samples_split=4, n_estimators=500;, score=(train=-0.001, test=-0.001) total time= 1.9min\n",
      "[CV 1/3; 19/36] START bootstrap=True, max_depth=6, max_samples=1, min_samples_split=2, n_estimators=100\n",
      "[CV 1/3; 19/36] END bootstrap=True, max_depth=6, max_samples=1, min_samples_split=2, n_estimators=100;, score=(train=-0.003, test=-0.003) total time=   0.0s\n",
      "[CV 2/3; 19/36] START bootstrap=True, max_depth=6, max_samples=1, min_samples_split=2, n_estimators=100\n",
      "[CV 2/3; 19/36] END bootstrap=True, max_depth=6, max_samples=1, min_samples_split=2, n_estimators=100;, score=(train=-0.003, test=-0.003) total time=   0.0s\n",
      "[CV 3/3; 19/36] START bootstrap=True, max_depth=6, max_samples=1, min_samples_split=2, n_estimators=100\n",
      "[CV 3/3; 19/36] END bootstrap=True, max_depth=6, max_samples=1, min_samples_split=2, n_estimators=100;, score=(train=-0.003, test=-0.003) total time=   0.0s\n",
      "[CV 1/3; 20/36] START bootstrap=True, max_depth=6, max_samples=1, min_samples_split=2, n_estimators=300\n",
      "[CV 1/3; 20/36] END bootstrap=True, max_depth=6, max_samples=1, min_samples_split=2, n_estimators=300;, score=(train=-0.003, test=-0.003) total time=   0.1s\n",
      "[CV 2/3; 20/36] START bootstrap=True, max_depth=6, max_samples=1, min_samples_split=2, n_estimators=300\n",
      "[CV 2/3; 20/36] END bootstrap=True, max_depth=6, max_samples=1, min_samples_split=2, n_estimators=300;, score=(train=-0.003, test=-0.003) total time=   0.1s\n",
      "[CV 3/3; 20/36] START bootstrap=True, max_depth=6, max_samples=1, min_samples_split=2, n_estimators=300\n",
      "[CV 3/3; 20/36] END bootstrap=True, max_depth=6, max_samples=1, min_samples_split=2, n_estimators=300;, score=(train=-0.003, test=-0.003) total time=   0.1s\n",
      "[CV 1/3; 21/36] START bootstrap=True, max_depth=6, max_samples=1, min_samples_split=2, n_estimators=500\n",
      "[CV 1/3; 21/36] END bootstrap=True, max_depth=6, max_samples=1, min_samples_split=2, n_estimators=500;, score=(train=-0.003, test=-0.003) total time=   0.2s\n",
      "[CV 2/3; 21/36] START bootstrap=True, max_depth=6, max_samples=1, min_samples_split=2, n_estimators=500\n",
      "[CV 2/3; 21/36] END bootstrap=True, max_depth=6, max_samples=1, min_samples_split=2, n_estimators=500;, score=(train=-0.003, test=-0.003) total time=   0.2s\n",
      "[CV 3/3; 21/36] START bootstrap=True, max_depth=6, max_samples=1, min_samples_split=2, n_estimators=500\n",
      "[CV 3/3; 21/36] END bootstrap=True, max_depth=6, max_samples=1, min_samples_split=2, n_estimators=500;, score=(train=-0.003, test=-0.003) total time=   0.2s\n",
      "[CV 1/3; 22/36] START bootstrap=True, max_depth=6, max_samples=1, min_samples_split=4, n_estimators=100\n",
      "[CV 1/3; 22/36] END bootstrap=True, max_depth=6, max_samples=1, min_samples_split=4, n_estimators=100;, score=(train=-0.003, test=-0.003) total time=   0.0s\n",
      "[CV 2/3; 22/36] START bootstrap=True, max_depth=6, max_samples=1, min_samples_split=4, n_estimators=100\n",
      "[CV 2/3; 22/36] END bootstrap=True, max_depth=6, max_samples=1, min_samples_split=4, n_estimators=100;, score=(train=-0.003, test=-0.003) total time=   0.0s\n",
      "[CV 3/3; 22/36] START bootstrap=True, max_depth=6, max_samples=1, min_samples_split=4, n_estimators=100\n",
      "[CV 3/3; 22/36] END bootstrap=True, max_depth=6, max_samples=1, min_samples_split=4, n_estimators=100;, score=(train=-0.003, test=-0.003) total time=   0.0s\n",
      "[CV 1/3; 23/36] START bootstrap=True, max_depth=6, max_samples=1, min_samples_split=4, n_estimators=300\n",
      "[CV 1/3; 23/36] END bootstrap=True, max_depth=6, max_samples=1, min_samples_split=4, n_estimators=300;, score=(train=-0.003, test=-0.003) total time=   0.1s\n",
      "[CV 2/3; 23/36] START bootstrap=True, max_depth=6, max_samples=1, min_samples_split=4, n_estimators=300\n",
      "[CV 2/3; 23/36] END bootstrap=True, max_depth=6, max_samples=1, min_samples_split=4, n_estimators=300;, score=(train=-0.003, test=-0.003) total time=   0.1s\n",
      "[CV 3/3; 23/36] START bootstrap=True, max_depth=6, max_samples=1, min_samples_split=4, n_estimators=300\n",
      "[CV 3/3; 23/36] END bootstrap=True, max_depth=6, max_samples=1, min_samples_split=4, n_estimators=300;, score=(train=-0.003, test=-0.003) total time=   0.1s\n",
      "[CV 1/3; 24/36] START bootstrap=True, max_depth=6, max_samples=1, min_samples_split=4, n_estimators=500\n",
      "[CV 1/3; 24/36] END bootstrap=True, max_depth=6, max_samples=1, min_samples_split=4, n_estimators=500;, score=(train=-0.003, test=-0.003) total time=   0.2s\n",
      "[CV 2/3; 24/36] START bootstrap=True, max_depth=6, max_samples=1, min_samples_split=4, n_estimators=500\n",
      "[CV 2/3; 24/36] END bootstrap=True, max_depth=6, max_samples=1, min_samples_split=4, n_estimators=500;, score=(train=-0.003, test=-0.003) total time=   0.2s\n",
      "[CV 3/3; 24/36] START bootstrap=True, max_depth=6, max_samples=1, min_samples_split=4, n_estimators=500\n",
      "[CV 3/3; 24/36] END bootstrap=True, max_depth=6, max_samples=1, min_samples_split=4, n_estimators=500;, score=(train=-0.003, test=-0.003) total time=   0.2s\n",
      "[CV 1/3; 25/36] START bootstrap=True, max_depth=8, max_samples=0.75, min_samples_split=2, n_estimators=100\n",
      "[CV 1/3; 25/36] END bootstrap=True, max_depth=8, max_samples=0.75, min_samples_split=2, n_estimators=100;, score=(train=-0.001, test=-0.001) total time=  27.7s\n",
      "[CV 2/3; 25/36] START bootstrap=True, max_depth=8, max_samples=0.75, min_samples_split=2, n_estimators=100\n",
      "[CV 2/3; 25/36] END bootstrap=True, max_depth=8, max_samples=0.75, min_samples_split=2, n_estimators=100;, score=(train=-0.001, test=-0.001) total time=  27.6s\n",
      "[CV 3/3; 25/36] START bootstrap=True, max_depth=8, max_samples=0.75, min_samples_split=2, n_estimators=100\n",
      "[CV 3/3; 25/36] END bootstrap=True, max_depth=8, max_samples=0.75, min_samples_split=2, n_estimators=100;, score=(train=-0.001, test=-0.001) total time=  27.7s\n",
      "[CV 1/3; 26/36] START bootstrap=True, max_depth=8, max_samples=0.75, min_samples_split=2, n_estimators=300\n",
      "[CV 1/3; 26/36] END bootstrap=True, max_depth=8, max_samples=0.75, min_samples_split=2, n_estimators=300;, score=(train=-0.001, test=-0.001) total time= 1.4min\n",
      "[CV 2/3; 26/36] START bootstrap=True, max_depth=8, max_samples=0.75, min_samples_split=2, n_estimators=300\n",
      "[CV 2/3; 26/36] END bootstrap=True, max_depth=8, max_samples=0.75, min_samples_split=2, n_estimators=300;, score=(train=-0.001, test=-0.001) total time= 1.4min\n",
      "[CV 3/3; 26/36] START bootstrap=True, max_depth=8, max_samples=0.75, min_samples_split=2, n_estimators=300\n",
      "[CV 3/3; 26/36] END bootstrap=True, max_depth=8, max_samples=0.75, min_samples_split=2, n_estimators=300;, score=(train=-0.001, test=-0.001) total time= 1.4min\n",
      "[CV 1/3; 27/36] START bootstrap=True, max_depth=8, max_samples=0.75, min_samples_split=2, n_estimators=500\n",
      "[CV 1/3; 27/36] END bootstrap=True, max_depth=8, max_samples=0.75, min_samples_split=2, n_estimators=500;, score=(train=-0.001, test=-0.001) total time= 2.3min\n",
      "[CV 2/3; 27/36] START bootstrap=True, max_depth=8, max_samples=0.75, min_samples_split=2, n_estimators=500\n",
      "[CV 2/3; 27/36] END bootstrap=True, max_depth=8, max_samples=0.75, min_samples_split=2, n_estimators=500;, score=(train=-0.001, test=-0.001) total time= 2.4min\n",
      "[CV 3/3; 27/36] START bootstrap=True, max_depth=8, max_samples=0.75, min_samples_split=2, n_estimators=500\n",
      "[CV 3/3; 27/36] END bootstrap=True, max_depth=8, max_samples=0.75, min_samples_split=2, n_estimators=500;, score=(train=-0.001, test=-0.001) total time= 2.5min\n",
      "[CV 1/3; 28/36] START bootstrap=True, max_depth=8, max_samples=0.75, min_samples_split=4, n_estimators=100\n",
      "[CV 1/3; 28/36] END bootstrap=True, max_depth=8, max_samples=0.75, min_samples_split=4, n_estimators=100;, score=(train=-0.001, test=-0.001) total time=  29.3s\n",
      "[CV 2/3; 28/36] START bootstrap=True, max_depth=8, max_samples=0.75, min_samples_split=4, n_estimators=100\n",
      "[CV 2/3; 28/36] END bootstrap=True, max_depth=8, max_samples=0.75, min_samples_split=4, n_estimators=100;, score=(train=-0.001, test=-0.001) total time=  27.8s\n",
      "[CV 3/3; 28/36] START bootstrap=True, max_depth=8, max_samples=0.75, min_samples_split=4, n_estimators=100\n",
      "[CV 3/3; 28/36] END bootstrap=True, max_depth=8, max_samples=0.75, min_samples_split=4, n_estimators=100;, score=(train=-0.001, test=-0.001) total time=  27.4s\n",
      "[CV 1/3; 29/36] START bootstrap=True, max_depth=8, max_samples=0.75, min_samples_split=4, n_estimators=300\n",
      "[CV 1/3; 29/36] END bootstrap=True, max_depth=8, max_samples=0.75, min_samples_split=4, n_estimators=300;, score=(train=-0.001, test=-0.001) total time= 1.4min\n",
      "[CV 2/3; 29/36] START bootstrap=True, max_depth=8, max_samples=0.75, min_samples_split=4, n_estimators=300\n",
      "[CV 2/3; 29/36] END bootstrap=True, max_depth=8, max_samples=0.75, min_samples_split=4, n_estimators=300;, score=(train=-0.001, test=-0.001) total time= 1.4min\n",
      "[CV 3/3; 29/36] START bootstrap=True, max_depth=8, max_samples=0.75, min_samples_split=4, n_estimators=300\n",
      "[CV 3/3; 29/36] END bootstrap=True, max_depth=8, max_samples=0.75, min_samples_split=4, n_estimators=300;, score=(train=-0.001, test=-0.001) total time= 1.4min\n",
      "[CV 1/3; 30/36] START bootstrap=True, max_depth=8, max_samples=0.75, min_samples_split=4, n_estimators=500\n",
      "[CV 1/3; 30/36] END bootstrap=True, max_depth=8, max_samples=0.75, min_samples_split=4, n_estimators=500;, score=(train=-0.001, test=-0.001) total time= 2.5min\n",
      "[CV 2/3; 30/36] START bootstrap=True, max_depth=8, max_samples=0.75, min_samples_split=4, n_estimators=500\n",
      "[CV 2/3; 30/36] END bootstrap=True, max_depth=8, max_samples=0.75, min_samples_split=4, n_estimators=500;, score=(train=-0.001, test=-0.001) total time= 2.5min\n",
      "[CV 3/3; 30/36] START bootstrap=True, max_depth=8, max_samples=0.75, min_samples_split=4, n_estimators=500\n",
      "[CV 3/3; 30/36] END bootstrap=True, max_depth=8, max_samples=0.75, min_samples_split=4, n_estimators=500;, score=(train=-0.001, test=-0.001) total time= 2.3min\n",
      "[CV 1/3; 31/36] START bootstrap=True, max_depth=8, max_samples=1, min_samples_split=2, n_estimators=100\n",
      "[CV 1/3; 31/36] END bootstrap=True, max_depth=8, max_samples=1, min_samples_split=2, n_estimators=100;, score=(train=-0.003, test=-0.003) total time=   0.0s\n",
      "[CV 2/3; 31/36] START bootstrap=True, max_depth=8, max_samples=1, min_samples_split=2, n_estimators=100\n",
      "[CV 2/3; 31/36] END bootstrap=True, max_depth=8, max_samples=1, min_samples_split=2, n_estimators=100;, score=(train=-0.003, test=-0.003) total time=   0.0s\n",
      "[CV 3/3; 31/36] START bootstrap=True, max_depth=8, max_samples=1, min_samples_split=2, n_estimators=100\n",
      "[CV 3/3; 31/36] END bootstrap=True, max_depth=8, max_samples=1, min_samples_split=2, n_estimators=100;, score=(train=-0.003, test=-0.003) total time=   0.0s\n",
      "[CV 1/3; 32/36] START bootstrap=True, max_depth=8, max_samples=1, min_samples_split=2, n_estimators=300\n",
      "[CV 1/3; 32/36] END bootstrap=True, max_depth=8, max_samples=1, min_samples_split=2, n_estimators=300;, score=(train=-0.003, test=-0.003) total time=   0.1s\n",
      "[CV 2/3; 32/36] START bootstrap=True, max_depth=8, max_samples=1, min_samples_split=2, n_estimators=300\n",
      "[CV 2/3; 32/36] END bootstrap=True, max_depth=8, max_samples=1, min_samples_split=2, n_estimators=300;, score=(train=-0.003, test=-0.003) total time=   0.1s\n",
      "[CV 3/3; 32/36] START bootstrap=True, max_depth=8, max_samples=1, min_samples_split=2, n_estimators=300\n",
      "[CV 3/3; 32/36] END bootstrap=True, max_depth=8, max_samples=1, min_samples_split=2, n_estimators=300;, score=(train=-0.003, test=-0.003) total time=   0.1s\n",
      "[CV 1/3; 33/36] START bootstrap=True, max_depth=8, max_samples=1, min_samples_split=2, n_estimators=500\n",
      "[CV 1/3; 33/36] END bootstrap=True, max_depth=8, max_samples=1, min_samples_split=2, n_estimators=500;, score=(train=-0.003, test=-0.003) total time=   0.3s\n",
      "[CV 2/3; 33/36] START bootstrap=True, max_depth=8, max_samples=1, min_samples_split=2, n_estimators=500\n",
      "[CV 2/3; 33/36] END bootstrap=True, max_depth=8, max_samples=1, min_samples_split=2, n_estimators=500;, score=(train=-0.003, test=-0.003) total time=   0.2s\n",
      "[CV 3/3; 33/36] START bootstrap=True, max_depth=8, max_samples=1, min_samples_split=2, n_estimators=500\n",
      "[CV 3/3; 33/36] END bootstrap=True, max_depth=8, max_samples=1, min_samples_split=2, n_estimators=500;, score=(train=-0.003, test=-0.003) total time=   0.2s\n",
      "[CV 1/3; 34/36] START bootstrap=True, max_depth=8, max_samples=1, min_samples_split=4, n_estimators=100\n",
      "[CV 1/3; 34/36] END bootstrap=True, max_depth=8, max_samples=1, min_samples_split=4, n_estimators=100;, score=(train=-0.003, test=-0.003) total time=   0.0s\n",
      "[CV 2/3; 34/36] START bootstrap=True, max_depth=8, max_samples=1, min_samples_split=4, n_estimators=100\n",
      "[CV 2/3; 34/36] END bootstrap=True, max_depth=8, max_samples=1, min_samples_split=4, n_estimators=100;, score=(train=-0.003, test=-0.003) total time=   0.0s\n",
      "[CV 3/3; 34/36] START bootstrap=True, max_depth=8, max_samples=1, min_samples_split=4, n_estimators=100\n",
      "[CV 3/3; 34/36] END bootstrap=True, max_depth=8, max_samples=1, min_samples_split=4, n_estimators=100;, score=(train=-0.003, test=-0.003) total time=   0.0s\n",
      "[CV 1/3; 35/36] START bootstrap=True, max_depth=8, max_samples=1, min_samples_split=4, n_estimators=300\n",
      "[CV 1/3; 35/36] END bootstrap=True, max_depth=8, max_samples=1, min_samples_split=4, n_estimators=300;, score=(train=-0.003, test=-0.003) total time=   0.1s\n",
      "[CV 2/3; 35/36] START bootstrap=True, max_depth=8, max_samples=1, min_samples_split=4, n_estimators=300\n",
      "[CV 2/3; 35/36] END bootstrap=True, max_depth=8, max_samples=1, min_samples_split=4, n_estimators=300;, score=(train=-0.003, test=-0.003) total time=   0.1s\n",
      "[CV 3/3; 35/36] START bootstrap=True, max_depth=8, max_samples=1, min_samples_split=4, n_estimators=300\n",
      "[CV 3/3; 35/36] END bootstrap=True, max_depth=8, max_samples=1, min_samples_split=4, n_estimators=300;, score=(train=-0.003, test=-0.003) total time=   0.1s\n",
      "[CV 1/3; 36/36] START bootstrap=True, max_depth=8, max_samples=1, min_samples_split=4, n_estimators=500\n",
      "[CV 1/3; 36/36] END bootstrap=True, max_depth=8, max_samples=1, min_samples_split=4, n_estimators=500;, score=(train=-0.003, test=-0.003) total time=   0.2s\n",
      "[CV 2/3; 36/36] START bootstrap=True, max_depth=8, max_samples=1, min_samples_split=4, n_estimators=500\n",
      "[CV 2/3; 36/36] END bootstrap=True, max_depth=8, max_samples=1, min_samples_split=4, n_estimators=500;, score=(train=-0.003, test=-0.003) total time=   0.2s\n",
      "[CV 3/3; 36/36] START bootstrap=True, max_depth=8, max_samples=1, min_samples_split=4, n_estimators=500\n",
      "[CV 3/3; 36/36] END bootstrap=True, max_depth=8, max_samples=1, min_samples_split=4, n_estimators=500;, score=(train=-0.003, test=-0.003) total time=   0.3s\n",
      "{'bootstrap': True, 'max_depth': 8, 'max_samples': 0.75, 'min_samples_split': 2, 'n_estimators': 500}\n"
     ]
    }
   ],
   "source": [
    "x = model_cv.fit(X_train, y_train)\n",
    "model = x.best_estimator_\n",
    "print(x.best_params_)\n",
    "pred = model.predict(X_test)"
   ]
  },
  {
   "cell_type": "code",
   "execution_count": 68,
   "metadata": {},
   "outputs": [],
   "source": [
    "y_pred_train = model_cv.predict(X_train)"
   ]
  },
  {
   "cell_type": "code",
   "execution_count": 70,
   "metadata": {},
   "outputs": [
    {
     "name": "stdout",
     "output_type": "stream",
     "text": [
      "Testing performance\n",
      "RMSE: 0.03\n",
      "R2: 0.72\n",
      "MAE: 0.02\n"
     ]
    }
   ],
   "source": [
    "rmse = (np.sqrt(mean_squared_error(y_test, pred)))\n",
    "r2 = r2_score(y_test, pred)\n",
    "mae = mean_absolute_error(y_test, pred)\n",
    "print('Testing performance')\n",
    "print('RMSE: {:.2f}'.format(rmse))\n",
    "print('R2: {:.2f}'.format(r2))\n",
    "print('MAE: {:.2f}'.format(mae))"
   ]
  },
  {
   "cell_type": "code",
   "execution_count": 75,
   "metadata": {},
   "outputs": [
    {
     "data": {
      "image/png": "[encoded data removed]",
      "text/plain": [
       "<Figure size 432x288 with 1 Axes>"
      ]
     },
     "metadata": {
      "needs_background": "light"
     },
     "output_type": "display_data"
    }
   ],
   "source": [
    "plot_scatter_avp(y_test, pred)"
   ]
  },
  {
   "cell_type": "code",
   "execution_count": 76,
   "metadata": {},
   "outputs": [
    {
     "data": {
      "image/png": "[encoded data removed]",
      "text/plain": [
       "<Figure size 432x288 with 1 Axes>"
      ]
     },
     "metadata": {
      "needs_background": "light"
     },
     "output_type": "display_data"
    }
   ],
   "source": [
    "plot_scatter_avp(y_train, y_pred_train)"
   ]
  },
  {
   "cell_type": "code",
   "execution_count": null,
   "metadata": {},
   "outputs": [],
   "source": [
    "# {'bootstrap': True, 'max_depth': 8, 'max_samples': 0.75, 'min_samples_split': 2, 'n_estimators': 500}"
   ]
  }
 ],
 "metadata": {
  "colab": {
   "name": "LinearRegression.ipynb",
   "provenance": []
  },
  "kernelspec": {
   "display_name": "Python 3 (ipykernel)",
   "language": "python",
   "name": "python3"
  },
  "language_info": {
   "codemirror_mode": {
    "name": "ipython",
    "version": 3
   },
   "file_extension": ".py",
   "mimetype": "text/x-python",
   "name": "python",
   "nbconvert_exporter": "python",
   "pygments_lexer": "ipython3",
   "version": "3.9.7"
  }
 },
 "nbformat": 4,
 "nbformat_minor": 4
}
