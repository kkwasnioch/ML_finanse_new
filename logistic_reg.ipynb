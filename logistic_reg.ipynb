{
  "nbformat": 4,
  "nbformat_minor": 0,
  "metadata": {
    "colab": {
      "name": "Untitled7.ipynb",
      "provenance": []
    },
    "kernelspec": {
      "name": "python3",
      "display_name": "Python 3"
    },
    "language_info": {
      "name": "python"
    }
  },
  "cells": [
    {
      "cell_type": "code",
      "execution_count": null,
      "metadata": {
        "id": "okY3aBSErB2n"
      },
      "outputs": [],
      "source": [
        "#import general libraries\n",
        "import pandas as pd\n",
        "import numpy as np\n",
        "#import library for hyperparameters optimization\n",
        "from hyperopt import fmin, tpe, hp, STATUS_OK, Trials\n",
        "#import fuction for general ml process\n",
        "from sklearn.model_selection import KFold, cross_val_score, train_test_split \n",
        "from sklearn.metrics import confusion_matrix, ConfusionMatrixDisplay, accuracy_score, classification_report\n",
        "from sklearn.inspection import permutation_importance\n",
        "from sklearn import preprocessing, svm, metrics, utils\n",
        "from sklearn.inspection import permutation_importance\n",
        "from sklearn.linear_model import LogisticRegression\n",
        "import matplotlib.pyplot as plt\n",
        "import seaborn as sn\n",
        "#import warnings\n",
        "import warnings\n",
        "warnings.filterwarnings('ignore')\n",
        "%matplotlib inline"
      ]
    },
    {
      "cell_type": "markdown",
      "source": [
        ""
      ],
      "metadata": {
        "id": "1fqp2m0nuRpa"
      }
    },
    {
      "cell_type": "code",
      "source": [
        "df = pd.read_csv(\"/content/data/Prepared_data.csv\", sep=',')\n",
        "df.head()"
      ],
      "metadata": {
        "id": "LrCCnSEWKVwu",
        "colab": {
          "base_uri": "https://localhost:8080/",
          "height": 206
        },
        "outputId": "b86622f2-59c6-43e9-c4c2-81b61d8f6da4"
      },
      "execution_count": null,
      "outputs": [
        {
          "output_type": "execute_result",
          "data": {
            "text/plain": [
              "  No     Date Ticker            Category     Value     Timestamp      Close  \\\n",
              "0  1  38028.0    CWT           Utilities  0.934181  1.076454e+09  14.720000   \n",
              "1  2  38028.0    BLL  Process Industries  0.922862  1.076454e+09   8.095000   \n",
              "2  3  38028.0    APA     Energy Minerals  0.912117  1.076454e+09  39.830002   \n",
              "3  4  38028.0   MATX      Transportation  0.866946  1.076454e+09  16.394106   \n",
              "4  5  38028.0   ROST        Retail Trade  0.864789  1.076454e+09   7.712500   \n",
              "\n",
              "  Returns  \n",
              "0   start  \n",
              "1   start  \n",
              "2   start  \n",
              "3   start  \n",
              "4   start  "
            ],
            "text/html": [
              "\n",
              "  <div id=\"df-ca591604-c2be-4fc3-b7ce-3a500d710d35\">\n",
              "    <div class=\"colab-df-container\">\n",
              "      <div>\n",
              "<style scoped>\n",
              "    .dataframe tbody tr th:only-of-type {\n",
              "        vertical-align: middle;\n",
              "    }\n",
              "\n",
              "    .dataframe tbody tr th {\n",
              "        vertical-align: top;\n",
              "    }\n",
              "\n",
              "    .dataframe thead th {\n",
              "        text-align: right;\n",
              "    }\n",
              "</style>\n",
              "<table border=\"1\" class=\"dataframe\">\n",
              "  <thead>\n",
              "    <tr style=\"text-align: right;\">\n",
              "      <th></th>\n",
              "      <th>No</th>\n",
              "      <th>Date</th>\n",
              "      <th>Ticker</th>\n",
              "      <th>Category</th>\n",
              "      <th>Value</th>\n",
              "      <th>Timestamp</th>\n",
              "      <th>Close</th>\n",
              "      <th>Returns</th>\n",
              "    </tr>\n",
              "  </thead>\n",
              "  <tbody>\n",
              "    <tr>\n",
              "      <th>0</th>\n",
              "      <td>1</td>\n",
              "      <td>38028.0</td>\n",
              "      <td>CWT</td>\n",
              "      <td>Utilities</td>\n",
              "      <td>0.934181</td>\n",
              "      <td>1.076454e+09</td>\n",
              "      <td>14.720000</td>\n",
              "      <td>start</td>\n",
              "    </tr>\n",
              "    <tr>\n",
              "      <th>1</th>\n",
              "      <td>2</td>\n",
              "      <td>38028.0</td>\n",
              "      <td>BLL</td>\n",
              "      <td>Process Industries</td>\n",
              "      <td>0.922862</td>\n",
              "      <td>1.076454e+09</td>\n",
              "      <td>8.095000</td>\n",
              "      <td>start</td>\n",
              "    </tr>\n",
              "    <tr>\n",
              "      <th>2</th>\n",
              "      <td>3</td>\n",
              "      <td>38028.0</td>\n",
              "      <td>APA</td>\n",
              "      <td>Energy Minerals</td>\n",
              "      <td>0.912117</td>\n",
              "      <td>1.076454e+09</td>\n",
              "      <td>39.830002</td>\n",
              "      <td>start</td>\n",
              "    </tr>\n",
              "    <tr>\n",
              "      <th>3</th>\n",
              "      <td>4</td>\n",
              "      <td>38028.0</td>\n",
              "      <td>MATX</td>\n",
              "      <td>Transportation</td>\n",
              "      <td>0.866946</td>\n",
              "      <td>1.076454e+09</td>\n",
              "      <td>16.394106</td>\n",
              "      <td>start</td>\n",
              "    </tr>\n",
              "    <tr>\n",
              "      <th>4</th>\n",
              "      <td>5</td>\n",
              "      <td>38028.0</td>\n",
              "      <td>ROST</td>\n",
              "      <td>Retail Trade</td>\n",
              "      <td>0.864789</td>\n",
              "      <td>1.076454e+09</td>\n",
              "      <td>7.712500</td>\n",
              "      <td>start</td>\n",
              "    </tr>\n",
              "  </tbody>\n",
              "</table>\n",
              "</div>\n",
              "      <button class=\"colab-df-convert\" onclick=\"convertToInteractive('df-ca591604-c2be-4fc3-b7ce-3a500d710d35')\"\n",
              "              title=\"Convert this dataframe to an interactive table.\"\n",
              "              style=\"display:none;\">\n",
              "        \n",
              "  <svg xmlns=\"http://www.w3.org/2000/svg\" height=\"24px\"viewBox=\"0 0 24 24\"\n",
              "       width=\"24px\">\n",
              "    <path d=\"M0 0h24v24H0V0z\" fill=\"none\"/>\n",
              "    <path d=\"M18.56 5.44l.94 2.06.94-2.06 2.06-.94-2.06-.94-.94-2.06-.94 2.06-2.06.94zm-11 1L8.5 8.5l.94-2.06 2.06-.94-2.06-.94L8.5 2.5l-.94 2.06-2.06.94zm10 10l.94 2.06.94-2.06 2.06-.94-2.06-.94-.94-2.06-.94 2.06-2.06.94z\"/><path d=\"M17.41 7.96l-1.37-1.37c-.4-.4-.92-.59-1.43-.59-.52 0-1.04.2-1.43.59L10.3 9.45l-7.72 7.72c-.78.78-.78 2.05 0 2.83L4 21.41c.39.39.9.59 1.41.59.51 0 1.02-.2 1.41-.59l7.78-7.78 2.81-2.81c.8-.78.8-2.07 0-2.86zM5.41 20L4 18.59l7.72-7.72 1.47 1.35L5.41 20z\"/>\n",
              "  </svg>\n",
              "      </button>\n",
              "      \n",
              "  <style>\n",
              "    .colab-df-container {\n",
              "      display:flex;\n",
              "      flex-wrap:wrap;\n",
              "      gap: 12px;\n",
              "    }\n",
              "\n",
              "    .colab-df-convert {\n",
              "      background-color: #E8F0FE;\n",
              "      border: none;\n",
              "      border-radius: 50%;\n",
              "      cursor: pointer;\n",
              "      display: none;\n",
              "      fill: #1967D2;\n",
              "      height: 32px;\n",
              "      padding: 0 0 0 0;\n",
              "      width: 32px;\n",
              "    }\n",
              "\n",
              "    .colab-df-convert:hover {\n",
              "      background-color: #E2EBFA;\n",
              "      box-shadow: 0px 1px 2px rgba(60, 64, 67, 0.3), 0px 1px 3px 1px rgba(60, 64, 67, 0.15);\n",
              "      fill: #174EA6;\n",
              "    }\n",
              "\n",
              "    [theme=dark] .colab-df-convert {\n",
              "      background-color: #3B4455;\n",
              "      fill: #D2E3FC;\n",
              "    }\n",
              "\n",
              "    [theme=dark] .colab-df-convert:hover {\n",
              "      background-color: #434B5C;\n",
              "      box-shadow: 0px 1px 3px 1px rgba(0, 0, 0, 0.15);\n",
              "      filter: drop-shadow(0px 1px 2px rgba(0, 0, 0, 0.3));\n",
              "      fill: #FFFFFF;\n",
              "    }\n",
              "  </style>\n",
              "\n",
              "      <script>\n",
              "        const buttonEl =\n",
              "          document.querySelector('#df-ca591604-c2be-4fc3-b7ce-3a500d710d35 button.colab-df-convert');\n",
              "        buttonEl.style.display =\n",
              "          google.colab.kernel.accessAllowed ? 'block' : 'none';\n",
              "\n",
              "        async function convertToInteractive(key) {\n",
              "          const element = document.querySelector('#df-ca591604-c2be-4fc3-b7ce-3a500d710d35');\n",
              "          const dataTable =\n",
              "            await google.colab.kernel.invokeFunction('convertToInteractive',\n",
              "                                                     [key], {});\n",
              "          if (!dataTable) return;\n",
              "\n",
              "          const docLinkHtml = 'Like what you see? Visit the ' +\n",
              "            '<a target=\"_blank\" href=https://colab.research.google.com/notebooks/data_table.ipynb>data table notebook</a>'\n",
              "            + ' to learn more about interactive tables.';\n",
              "          element.innerHTML = '';\n",
              "          dataTable['output_type'] = 'display_data';\n",
              "          await google.colab.output.renderOutput(dataTable, element);\n",
              "          const docLink = document.createElement('div');\n",
              "          docLink.innerHTML = docLinkHtml;\n",
              "          element.appendChild(docLink);\n",
              "        }\n",
              "      </script>\n",
              "    </div>\n",
              "  </div>\n",
              "  "
            ]
          },
          "metadata": {},
          "execution_count": 62
        }
      ]
    },
    {
      "cell_type": "markdown",
      "source": [
        "Returns t=0 removal"
      ],
      "metadata": {
        "id": "nZTcSRCrzoeK"
      }
    },
    {
      "cell_type": "code",
      "source": [
        "df = df[df.Returns != 'start']\n",
        "df = df[df.Returns != 'Start']"
      ],
      "metadata": {
        "id": "UaNMnzmGzoQi"
      },
      "execution_count": null,
      "outputs": []
    },
    {
      "cell_type": "code",
      "source": [
        "df.isnull().sum(axis = 0)"
      ],
      "metadata": {
        "colab": {
          "base_uri": "https://localhost:8080/"
        },
        "id": "b6L1mMQTsIP3",
        "outputId": "e9e3c183-9ebb-4919-9704-d86b9c6c0563"
      },
      "execution_count": null,
      "outputs": [
        {
          "output_type": "execute_result",
          "data": {
            "text/plain": [
              "No             0\n",
              "Date         218\n",
              "Ticker       218\n",
              "Category     218\n",
              "Value        218\n",
              "Timestamp    218\n",
              "Close        218\n",
              "Returns      218\n",
              "dtype: int64"
            ]
          },
          "metadata": {},
          "execution_count": 64
        }
      ]
    },
    {
      "cell_type": "code",
      "source": [
        "df = df.dropna()\n",
        "df.isnull().sum(axis = 0)"
      ],
      "metadata": {
        "colab": {
          "base_uri": "https://localhost:8080/"
        },
        "id": "vR_x_6q0xkMu",
        "outputId": "2483d5b0-e957-4d44-87fa-c148d1e323b8"
      },
      "execution_count": null,
      "outputs": [
        {
          "output_type": "execute_result",
          "data": {
            "text/plain": [
              "No           0\n",
              "Date         0\n",
              "Ticker       0\n",
              "Category     0\n",
              "Value        0\n",
              "Timestamp    0\n",
              "Close        0\n",
              "Returns      0\n",
              "dtype: int64"
            ]
          },
          "metadata": {},
          "execution_count": 65
        }
      ]
    },
    {
      "cell_type": "code",
      "source": [
        "df.dtypes"
      ],
      "metadata": {
        "colab": {
          "base_uri": "https://localhost:8080/"
        },
        "id": "cTSrPSRlspIK",
        "outputId": "891e8d2b-cf9f-4237-c73d-6d97f3067d6f"
      },
      "execution_count": null,
      "outputs": [
        {
          "output_type": "execute_result",
          "data": {
            "text/plain": [
              "No            object\n",
              "Date         float64\n",
              "Ticker        object\n",
              "Category      object\n",
              "Value        float64\n",
              "Timestamp    float64\n",
              "Close        float64\n",
              "Returns       object\n",
              "dtype: object"
            ]
          },
          "metadata": {},
          "execution_count": 66
        }
      ]
    },
    {
      "cell_type": "code",
      "source": [
        "df[\"Returns\"] = pd.to_numeric(df[\"Returns\"], downcast=\"float\")"
      ],
      "metadata": {
        "id": "OHp14G4b6aNA"
      },
      "execution_count": null,
      "outputs": []
    },
    {
      "cell_type": "code",
      "source": [
        "df.dtypes"
      ],
      "metadata": {
        "colab": {
          "base_uri": "https://localhost:8080/"
        },
        "id": "XXsIkkNO6ayB",
        "outputId": "66036f02-646f-49c8-d816-b94d74d123d0"
      },
      "execution_count": null,
      "outputs": [
        {
          "output_type": "execute_result",
          "data": {
            "text/plain": [
              "No            object\n",
              "Date         float64\n",
              "Ticker        object\n",
              "Category      object\n",
              "Value        float64\n",
              "Timestamp    float64\n",
              "Close        float64\n",
              "Returns      float32\n",
              "dtype: object"
            ]
          },
          "metadata": {},
          "execution_count": 68
        }
      ]
    },
    {
      "cell_type": "code",
      "source": [
        "corr = df.corr()\n",
        "corr.style.background_gradient(cmap='coolwarm').set_precision(2)"
      ],
      "metadata": {
        "colab": {
          "base_uri": "https://localhost:8080/",
          "height": 206
        },
        "id": "qft1x4yqtafs",
        "outputId": "034cbfa4-c563-4267-a8e3-d799037c30b5"
      },
      "execution_count": null,
      "outputs": [
        {
          "output_type": "execute_result",
          "data": {
            "text/plain": [
              "<pandas.io.formats.style.Styler at 0x7fed84144f10>"
            ],
            "text/html": [
              "<style type=\"text/css\">\n",
              "#T_aac74_row0_col0, #T_aac74_row0_col2, #T_aac74_row1_col1, #T_aac74_row2_col0, #T_aac74_row2_col2, #T_aac74_row3_col3, #T_aac74_row4_col4 {\n",
              "  background-color: #b40426;\n",
              "  color: #f1f1f1;\n",
              "}\n",
              "#T_aac74_row0_col1, #T_aac74_row1_col0, #T_aac74_row1_col2, #T_aac74_row1_col4, #T_aac74_row2_col1, #T_aac74_row4_col3 {\n",
              "  background-color: #3b4cc0;\n",
              "  color: #f1f1f1;\n",
              "}\n",
              "#T_aac74_row0_col3, #T_aac74_row2_col3 {\n",
              "  background-color: #4257c9;\n",
              "  color: #f1f1f1;\n",
              "}\n",
              "#T_aac74_row0_col4, #T_aac74_row2_col4 {\n",
              "  background-color: #4b64d5;\n",
              "  color: #f1f1f1;\n",
              "}\n",
              "#T_aac74_row1_col3 {\n",
              "  background-color: #4a63d3;\n",
              "  color: #f1f1f1;\n",
              "}\n",
              "#T_aac74_row3_col0, #T_aac74_row3_col2 {\n",
              "  background-color: #6b8df0;\n",
              "  color: #f1f1f1;\n",
              "}\n",
              "#T_aac74_row3_col1 {\n",
              "  background-color: #7396f5;\n",
              "  color: #f1f1f1;\n",
              "}\n",
              "#T_aac74_row3_col4 {\n",
              "  background-color: #3d50c3;\n",
              "  color: #f1f1f1;\n",
              "}\n",
              "#T_aac74_row4_col0, #T_aac74_row4_col2 {\n",
              "  background-color: #7295f4;\n",
              "  color: #f1f1f1;\n",
              "}\n",
              "#T_aac74_row4_col1 {\n",
              "  background-color: #6282ea;\n",
              "  color: #f1f1f1;\n",
              "}\n",
              "</style>\n",
              "<table id=\"T_aac74_\" class=\"dataframe\">\n",
              "  <thead>\n",
              "    <tr>\n",
              "      <th class=\"blank level0\" >&nbsp;</th>\n",
              "      <th class=\"col_heading level0 col0\" >Date</th>\n",
              "      <th class=\"col_heading level0 col1\" >Value</th>\n",
              "      <th class=\"col_heading level0 col2\" >Timestamp</th>\n",
              "      <th class=\"col_heading level0 col3\" >Close</th>\n",
              "      <th class=\"col_heading level0 col4\" >Returns</th>\n",
              "    </tr>\n",
              "  </thead>\n",
              "  <tbody>\n",
              "    <tr>\n",
              "      <th id=\"T_aac74_level0_row0\" class=\"row_heading level0 row0\" >Date</th>\n",
              "      <td id=\"T_aac74_row0_col0\" class=\"data row0 col0\" >1.00</td>\n",
              "      <td id=\"T_aac74_row0_col1\" class=\"data row0 col1\" >-0.16</td>\n",
              "      <td id=\"T_aac74_row0_col2\" class=\"data row0 col2\" >1.00</td>\n",
              "      <td id=\"T_aac74_row0_col3\" class=\"data row0 col3\" >0.02</td>\n",
              "      <td id=\"T_aac74_row0_col4\" class=\"data row0 col4\" >0.04</td>\n",
              "    </tr>\n",
              "    <tr>\n",
              "      <th id=\"T_aac74_level0_row1\" class=\"row_heading level0 row1\" >Value</th>\n",
              "      <td id=\"T_aac74_row1_col0\" class=\"data row1 col0\" >-0.16</td>\n",
              "      <td id=\"T_aac74_row1_col1\" class=\"data row1 col1\" >1.00</td>\n",
              "      <td id=\"T_aac74_row1_col2\" class=\"data row1 col2\" >-0.16</td>\n",
              "      <td id=\"T_aac74_row1_col3\" class=\"data row1 col3\" >0.05</td>\n",
              "      <td id=\"T_aac74_row1_col4\" class=\"data row1 col4\" >-0.01</td>\n",
              "    </tr>\n",
              "    <tr>\n",
              "      <th id=\"T_aac74_level0_row2\" class=\"row_heading level0 row2\" >Timestamp</th>\n",
              "      <td id=\"T_aac74_row2_col0\" class=\"data row2 col0\" >1.00</td>\n",
              "      <td id=\"T_aac74_row2_col1\" class=\"data row2 col1\" >-0.16</td>\n",
              "      <td id=\"T_aac74_row2_col2\" class=\"data row2 col2\" >1.00</td>\n",
              "      <td id=\"T_aac74_row2_col3\" class=\"data row2 col3\" >0.02</td>\n",
              "      <td id=\"T_aac74_row2_col4\" class=\"data row2 col4\" >0.04</td>\n",
              "    </tr>\n",
              "    <tr>\n",
              "      <th id=\"T_aac74_level0_row3\" class=\"row_heading level0 row3\" >Close</th>\n",
              "      <td id=\"T_aac74_row3_col0\" class=\"data row3 col0\" >0.02</td>\n",
              "      <td id=\"T_aac74_row3_col1\" class=\"data row3 col1\" >0.05</td>\n",
              "      <td id=\"T_aac74_row3_col2\" class=\"data row3 col2\" >0.02</td>\n",
              "      <td id=\"T_aac74_row3_col3\" class=\"data row3 col3\" >1.00</td>\n",
              "      <td id=\"T_aac74_row3_col4\" class=\"data row3 col4\" >-0.00</td>\n",
              "    </tr>\n",
              "    <tr>\n",
              "      <th id=\"T_aac74_level0_row4\" class=\"row_heading level0 row4\" >Returns</th>\n",
              "      <td id=\"T_aac74_row4_col0\" class=\"data row4 col0\" >0.04</td>\n",
              "      <td id=\"T_aac74_row4_col1\" class=\"data row4 col1\" >-0.01</td>\n",
              "      <td id=\"T_aac74_row4_col2\" class=\"data row4 col2\" >0.04</td>\n",
              "      <td id=\"T_aac74_row4_col3\" class=\"data row4 col3\" >-0.00</td>\n",
              "      <td id=\"T_aac74_row4_col4\" class=\"data row4 col4\" >1.00</td>\n",
              "    </tr>\n",
              "  </tbody>\n",
              "</table>\n"
            ]
          },
          "metadata": {},
          "execution_count": 69
        }
      ]
    },
    {
      "cell_type": "code",
      "source": [
        "y = df[\"Returns\"].values\n",
        "y_lin = y.copy()\n",
        "\n",
        "XLogReg = df.filter(['Value', 'Timestamp'], axis=1)\n",
        "XLogReg.head()\n",
        "x_lin = XLogReg.copy()"
      ],
      "metadata": {
        "id": "abZi10WdtiAe"
      },
      "execution_count": null,
      "outputs": []
    },
    {
      "cell_type": "code",
      "source": [
        "y"
      ],
      "metadata": {
        "colab": {
          "base_uri": "https://localhost:8080/"
        },
        "id": "KDrgPWnD_ksm",
        "outputId": "b098a7ce-7f41-4b53-aed6-017927db2cda"
      },
      "execution_count": null,
      "outputs": [
        {
          "output_type": "execute_result",
          "data": {
            "text/plain": [
              "array([-0.00067959, -0.01024382,  0.00450894, ...,  0.05525851,\n",
              "        0.45016032,  0.03485853], dtype=float32)"
            ]
          },
          "metadata": {},
          "execution_count": 71
        }
      ]
    },
    {
      "cell_type": "code",
      "source": [
        "#XLogReg_train, XLogReg_test, yLogReg_train, yLogReg_test = train_test_split(XLogReg, y, test_size=0.3, random_state=42)\n",
        "#logReg = LogisticRegression()\n",
        "#logReg.fit(XLogReg_train, yLogReg_train)\n",
        "#continuous error"
      ],
      "metadata": {
        "colab": {
          "base_uri": "https://localhost:8080/",
          "height": 372
        },
        "id": "_uL8w1byxbCb",
        "outputId": "7ad9fd2c-fef9-4221-b39a-a6cd34df57e3"
      },
      "execution_count": null,
      "outputs": [
        {
          "output_type": "error",
          "ename": "ValueError",
          "evalue": "ignored",
          "traceback": [
            "\u001b[0;31m---------------------------------------------------------------------------\u001b[0m",
            "\u001b[0;31mValueError\u001b[0m                                Traceback (most recent call last)",
            "\u001b[0;32m<ipython-input-81-a3892529b826>\u001b[0m in \u001b[0;36m<module>\u001b[0;34m()\u001b[0m\n\u001b[1;32m      1\u001b[0m \u001b[0mXLogReg_train\u001b[0m\u001b[0;34m,\u001b[0m \u001b[0mXLogReg_test\u001b[0m\u001b[0;34m,\u001b[0m \u001b[0myLogReg_train\u001b[0m\u001b[0;34m,\u001b[0m \u001b[0myLogReg_test\u001b[0m \u001b[0;34m=\u001b[0m \u001b[0mtrain_test_split\u001b[0m\u001b[0;34m(\u001b[0m\u001b[0mXLogReg\u001b[0m\u001b[0;34m,\u001b[0m \u001b[0my\u001b[0m\u001b[0;34m,\u001b[0m \u001b[0mtest_size\u001b[0m\u001b[0;34m=\u001b[0m\u001b[0;36m0.3\u001b[0m\u001b[0;34m,\u001b[0m \u001b[0mrandom_state\u001b[0m\u001b[0;34m=\u001b[0m\u001b[0;36m42\u001b[0m\u001b[0;34m)\u001b[0m\u001b[0;34m\u001b[0m\u001b[0;34m\u001b[0m\u001b[0m\n\u001b[1;32m      2\u001b[0m \u001b[0mlogReg\u001b[0m \u001b[0;34m=\u001b[0m \u001b[0mLogisticRegression\u001b[0m\u001b[0;34m(\u001b[0m\u001b[0;34m)\u001b[0m\u001b[0;34m\u001b[0m\u001b[0;34m\u001b[0m\u001b[0m\n\u001b[0;32m----> 3\u001b[0;31m \u001b[0mlogReg\u001b[0m\u001b[0;34m.\u001b[0m\u001b[0mfit\u001b[0m\u001b[0;34m(\u001b[0m\u001b[0mXLogReg_train\u001b[0m\u001b[0;34m,\u001b[0m \u001b[0myLogReg_train\u001b[0m\u001b[0;34m)\u001b[0m\u001b[0;34m\u001b[0m\u001b[0;34m\u001b[0m\u001b[0m\n\u001b[0m",
            "\u001b[0;32m/usr/local/lib/python3.7/dist-packages/sklearn/linear_model/_logistic.py\u001b[0m in \u001b[0;36mfit\u001b[0;34m(self, X, y, sample_weight)\u001b[0m\n\u001b[1;32m   1514\u001b[0m             \u001b[0maccept_large_sparse\u001b[0m\u001b[0;34m=\u001b[0m\u001b[0msolver\u001b[0m \u001b[0;32mnot\u001b[0m \u001b[0;32min\u001b[0m \u001b[0;34m[\u001b[0m\u001b[0;34m\"liblinear\"\u001b[0m\u001b[0;34m,\u001b[0m \u001b[0;34m\"sag\"\u001b[0m\u001b[0;34m,\u001b[0m \u001b[0;34m\"saga\"\u001b[0m\u001b[0;34m]\u001b[0m\u001b[0;34m,\u001b[0m\u001b[0;34m\u001b[0m\u001b[0;34m\u001b[0m\u001b[0m\n\u001b[1;32m   1515\u001b[0m         )\n\u001b[0;32m-> 1516\u001b[0;31m         \u001b[0mcheck_classification_targets\u001b[0m\u001b[0;34m(\u001b[0m\u001b[0my\u001b[0m\u001b[0;34m)\u001b[0m\u001b[0;34m\u001b[0m\u001b[0;34m\u001b[0m\u001b[0m\n\u001b[0m\u001b[1;32m   1517\u001b[0m         \u001b[0mself\u001b[0m\u001b[0;34m.\u001b[0m\u001b[0mclasses_\u001b[0m \u001b[0;34m=\u001b[0m \u001b[0mnp\u001b[0m\u001b[0;34m.\u001b[0m\u001b[0munique\u001b[0m\u001b[0;34m(\u001b[0m\u001b[0my\u001b[0m\u001b[0;34m)\u001b[0m\u001b[0;34m\u001b[0m\u001b[0;34m\u001b[0m\u001b[0m\n\u001b[1;32m   1518\u001b[0m \u001b[0;34m\u001b[0m\u001b[0m\n",
            "\u001b[0;32m/usr/local/lib/python3.7/dist-packages/sklearn/utils/multiclass.py\u001b[0m in \u001b[0;36mcheck_classification_targets\u001b[0;34m(y)\u001b[0m\n\u001b[1;32m    195\u001b[0m         \u001b[0;34m\"multilabel-sequences\"\u001b[0m\u001b[0;34m,\u001b[0m\u001b[0;34m\u001b[0m\u001b[0;34m\u001b[0m\u001b[0m\n\u001b[1;32m    196\u001b[0m     ]:\n\u001b[0;32m--> 197\u001b[0;31m         \u001b[0;32mraise\u001b[0m \u001b[0mValueError\u001b[0m\u001b[0;34m(\u001b[0m\u001b[0;34m\"Unknown label type: %r\"\u001b[0m \u001b[0;34m%\u001b[0m \u001b[0my_type\u001b[0m\u001b[0;34m)\u001b[0m\u001b[0;34m\u001b[0m\u001b[0;34m\u001b[0m\u001b[0m\n\u001b[0m\u001b[1;32m    198\u001b[0m \u001b[0;34m\u001b[0m\u001b[0m\n\u001b[1;32m    199\u001b[0m \u001b[0;34m\u001b[0m\u001b[0m\n",
            "\u001b[0;31mValueError\u001b[0m: Unknown label type: 'continuous'"
          ]
        }
      ]
    },
    {
      "cell_type": "code",
      "source": [
        "x = np.mean(y)\n",
        "for i in range(len(y)):\n",
        "  if y[i]<x:\n",
        "    y[i] = 0\n",
        "  else:\n",
        "    y[i] = 1\n",
        "y"
      ],
      "metadata": {
        "colab": {
          "base_uri": "https://localhost:8080/"
        },
        "id": "BuJhzQJc8Who",
        "outputId": "3b316e63-dddf-4f21-8bd7-480b747ec353"
      },
      "execution_count": null,
      "outputs": [
        {
          "output_type": "execute_result",
          "data": {
            "text/plain": [
              "array([0., 0., 0., ..., 1., 1., 1.], dtype=float32)"
            ]
          },
          "metadata": {},
          "execution_count": 74
        }
      ]
    },
    {
      "cell_type": "code",
      "source": [
        "y"
      ],
      "metadata": {
        "colab": {
          "base_uri": "https://localhost:8080/"
        },
        "id": "L2QhuiSE_Y_U",
        "outputId": "2b17b3fc-1fc3-45e8-99ed-a4bf2e1f3849"
      },
      "execution_count": null,
      "outputs": [
        {
          "output_type": "execute_result",
          "data": {
            "text/plain": [
              "array([0., 0., 0., ..., 1., 1., 1.], dtype=float32)"
            ]
          },
          "metadata": {},
          "execution_count": 75
        }
      ]
    },
    {
      "cell_type": "code",
      "source": [
        "XLogReg"
      ],
      "metadata": {
        "colab": {
          "base_uri": "https://localhost:8080/",
          "height": 424
        },
        "id": "YNVTGzEsCkhb",
        "outputId": "0a0f20fa-cc0b-4d4e-fc4d-5cd2b50f230f"
      },
      "execution_count": null,
      "outputs": [
        {
          "output_type": "execute_result",
          "data": {
            "text/plain": [
              "          Value     Timestamp\n",
              "36     0.934870  1.077664e+09\n",
              "37     0.921895  1.077664e+09\n",
              "38     0.907334  1.077664e+09\n",
              "39     0.890755  1.077664e+09\n",
              "40     0.868216  1.077664e+09\n",
              "...         ...           ...\n",
              "26420  0.709506  1.644361e+09\n",
              "26421  0.701507  1.644361e+09\n",
              "26422  0.701123  1.644361e+09\n",
              "26423  0.697954  1.644361e+09\n",
              "26424  0.697741  1.644361e+09\n",
              "\n",
              "[25501 rows x 2 columns]"
            ],
            "text/html": [
              "\n",
              "  <div id=\"df-096512d1-12f6-4f63-946b-e46e1f35f11b\">\n",
              "    <div class=\"colab-df-container\">\n",
              "      <div>\n",
              "<style scoped>\n",
              "    .dataframe tbody tr th:only-of-type {\n",
              "        vertical-align: middle;\n",
              "    }\n",
              "\n",
              "    .dataframe tbody tr th {\n",
              "        vertical-align: top;\n",
              "    }\n",
              "\n",
              "    .dataframe thead th {\n",
              "        text-align: right;\n",
              "    }\n",
              "</style>\n",
              "<table border=\"1\" class=\"dataframe\">\n",
              "  <thead>\n",
              "    <tr style=\"text-align: right;\">\n",
              "      <th></th>\n",
              "      <th>Value</th>\n",
              "      <th>Timestamp</th>\n",
              "    </tr>\n",
              "  </thead>\n",
              "  <tbody>\n",
              "    <tr>\n",
              "      <th>36</th>\n",
              "      <td>0.934870</td>\n",
              "      <td>1.077664e+09</td>\n",
              "    </tr>\n",
              "    <tr>\n",
              "      <th>37</th>\n",
              "      <td>0.921895</td>\n",
              "      <td>1.077664e+09</td>\n",
              "    </tr>\n",
              "    <tr>\n",
              "      <th>38</th>\n",
              "      <td>0.907334</td>\n",
              "      <td>1.077664e+09</td>\n",
              "    </tr>\n",
              "    <tr>\n",
              "      <th>39</th>\n",
              "      <td>0.890755</td>\n",
              "      <td>1.077664e+09</td>\n",
              "    </tr>\n",
              "    <tr>\n",
              "      <th>40</th>\n",
              "      <td>0.868216</td>\n",
              "      <td>1.077664e+09</td>\n",
              "    </tr>\n",
              "    <tr>\n",
              "      <th>...</th>\n",
              "      <td>...</td>\n",
              "      <td>...</td>\n",
              "    </tr>\n",
              "    <tr>\n",
              "      <th>26420</th>\n",
              "      <td>0.709506</td>\n",
              "      <td>1.644361e+09</td>\n",
              "    </tr>\n",
              "    <tr>\n",
              "      <th>26421</th>\n",
              "      <td>0.701507</td>\n",
              "      <td>1.644361e+09</td>\n",
              "    </tr>\n",
              "    <tr>\n",
              "      <th>26422</th>\n",
              "      <td>0.701123</td>\n",
              "      <td>1.644361e+09</td>\n",
              "    </tr>\n",
              "    <tr>\n",
              "      <th>26423</th>\n",
              "      <td>0.697954</td>\n",
              "      <td>1.644361e+09</td>\n",
              "    </tr>\n",
              "    <tr>\n",
              "      <th>26424</th>\n",
              "      <td>0.697741</td>\n",
              "      <td>1.644361e+09</td>\n",
              "    </tr>\n",
              "  </tbody>\n",
              "</table>\n",
              "<p>25501 rows × 2 columns</p>\n",
              "</div>\n",
              "      <button class=\"colab-df-convert\" onclick=\"convertToInteractive('df-096512d1-12f6-4f63-946b-e46e1f35f11b')\"\n",
              "              title=\"Convert this dataframe to an interactive table.\"\n",
              "              style=\"display:none;\">\n",
              "        \n",
              "  <svg xmlns=\"http://www.w3.org/2000/svg\" height=\"24px\"viewBox=\"0 0 24 24\"\n",
              "       width=\"24px\">\n",
              "    <path d=\"M0 0h24v24H0V0z\" fill=\"none\"/>\n",
              "    <path d=\"M18.56 5.44l.94 2.06.94-2.06 2.06-.94-2.06-.94-.94-2.06-.94 2.06-2.06.94zm-11 1L8.5 8.5l.94-2.06 2.06-.94-2.06-.94L8.5 2.5l-.94 2.06-2.06.94zm10 10l.94 2.06.94-2.06 2.06-.94-2.06-.94-.94-2.06-.94 2.06-2.06.94z\"/><path d=\"M17.41 7.96l-1.37-1.37c-.4-.4-.92-.59-1.43-.59-.52 0-1.04.2-1.43.59L10.3 9.45l-7.72 7.72c-.78.78-.78 2.05 0 2.83L4 21.41c.39.39.9.59 1.41.59.51 0 1.02-.2 1.41-.59l7.78-7.78 2.81-2.81c.8-.78.8-2.07 0-2.86zM5.41 20L4 18.59l7.72-7.72 1.47 1.35L5.41 20z\"/>\n",
              "  </svg>\n",
              "      </button>\n",
              "      \n",
              "  <style>\n",
              "    .colab-df-container {\n",
              "      display:flex;\n",
              "      flex-wrap:wrap;\n",
              "      gap: 12px;\n",
              "    }\n",
              "\n",
              "    .colab-df-convert {\n",
              "      background-color: #E8F0FE;\n",
              "      border: none;\n",
              "      border-radius: 50%;\n",
              "      cursor: pointer;\n",
              "      display: none;\n",
              "      fill: #1967D2;\n",
              "      height: 32px;\n",
              "      padding: 0 0 0 0;\n",
              "      width: 32px;\n",
              "    }\n",
              "\n",
              "    .colab-df-convert:hover {\n",
              "      background-color: #E2EBFA;\n",
              "      box-shadow: 0px 1px 2px rgba(60, 64, 67, 0.3), 0px 1px 3px 1px rgba(60, 64, 67, 0.15);\n",
              "      fill: #174EA6;\n",
              "    }\n",
              "\n",
              "    [theme=dark] .colab-df-convert {\n",
              "      background-color: #3B4455;\n",
              "      fill: #D2E3FC;\n",
              "    }\n",
              "\n",
              "    [theme=dark] .colab-df-convert:hover {\n",
              "      background-color: #434B5C;\n",
              "      box-shadow: 0px 1px 3px 1px rgba(0, 0, 0, 0.15);\n",
              "      filter: drop-shadow(0px 1px 2px rgba(0, 0, 0, 0.3));\n",
              "      fill: #FFFFFF;\n",
              "    }\n",
              "  </style>\n",
              "\n",
              "      <script>\n",
              "        const buttonEl =\n",
              "          document.querySelector('#df-096512d1-12f6-4f63-946b-e46e1f35f11b button.colab-df-convert');\n",
              "        buttonEl.style.display =\n",
              "          google.colab.kernel.accessAllowed ? 'block' : 'none';\n",
              "\n",
              "        async function convertToInteractive(key) {\n",
              "          const element = document.querySelector('#df-096512d1-12f6-4f63-946b-e46e1f35f11b');\n",
              "          const dataTable =\n",
              "            await google.colab.kernel.invokeFunction('convertToInteractive',\n",
              "                                                     [key], {});\n",
              "          if (!dataTable) return;\n",
              "\n",
              "          const docLinkHtml = 'Like what you see? Visit the ' +\n",
              "            '<a target=\"_blank\" href=https://colab.research.google.com/notebooks/data_table.ipynb>data table notebook</a>'\n",
              "            + ' to learn more about interactive tables.';\n",
              "          element.innerHTML = '';\n",
              "          dataTable['output_type'] = 'display_data';\n",
              "          await google.colab.output.renderOutput(dataTable, element);\n",
              "          const docLink = document.createElement('div');\n",
              "          docLink.innerHTML = docLinkHtml;\n",
              "          element.appendChild(docLink);\n",
              "        }\n",
              "      </script>\n",
              "    </div>\n",
              "  </div>\n",
              "  "
            ]
          },
          "metadata": {},
          "execution_count": 76
        }
      ]
    },
    {
      "cell_type": "code",
      "source": [
        "[np.sum(y), len(y) - np.sum(y)]"
      ],
      "metadata": {
        "colab": {
          "base_uri": "https://localhost:8080/"
        },
        "id": "7qGUNuQCAD6E",
        "outputId": "860c1977-840c-4fc5-8bff-f4a9574256de"
      },
      "execution_count": null,
      "outputs": [
        {
          "output_type": "execute_result",
          "data": {
            "text/plain": [
              "[9851.0, 15650.0]"
            ]
          },
          "metadata": {},
          "execution_count": 54
        }
      ]
    },
    {
      "cell_type": "code",
      "source": [
        "XLogReg_train, XLogReg_test, yLogReg_train, yLogReg_test = train_test_split(XLogReg, y, test_size=0.3, random_state=42)\n",
        "logReg = LogisticRegression()\n",
        "logReg.fit(XLogReg_train, yLogReg_train)"
      ],
      "metadata": {
        "colab": {
          "base_uri": "https://localhost:8080/"
        },
        "id": "O6PkMMz48krE",
        "outputId": "bc9030b1-19c2-4342-aa01-896733b28e3c"
      },
      "execution_count": null,
      "outputs": [
        {
          "output_type": "execute_result",
          "data": {
            "text/plain": [
              "LogisticRegression()"
            ]
          },
          "metadata": {},
          "execution_count": 55
        }
      ]
    },
    {
      "cell_type": "code",
      "source": [
        "yLogReg_pred = logReg.predict(XLogReg_test)\n",
        "print('Accuracy of logistic regression classifier on test set: {:.2f}'.format(logReg.score(XLogReg_test, yLogReg_test)))"
      ],
      "metadata": {
        "colab": {
          "base_uri": "https://localhost:8080/"
        },
        "id": "nm83feF7_2m0",
        "outputId": "fc3b9348-40d4-4522-8730-773e52bb5019"
      },
      "execution_count": null,
      "outputs": [
        {
          "output_type": "stream",
          "name": "stdout",
          "text": [
            "Accuracy of logistic regression classifier on test set: 0.61\n"
          ]
        }
      ]
    },
    {
      "cell_type": "code",
      "source": [
        "from sklearn.metrics import confusion_matrix # musi zostać, usunięcie powoduje, że czyta jakąś inną bibliotekę chyba\n",
        "confusion_matrix = confusion_matrix(yLogReg_test, yLogReg_pred)\n",
        "disp = ConfusionMatrixDisplay(confusion_matrix=confusion_matrix, display_labels=logReg.classes_)\n",
        "disp.plot()\n",
        "plt.show()"
      ],
      "metadata": {
        "colab": {
          "base_uri": "https://localhost:8080/",
          "height": 279
        },
        "id": "5OWHdRzy_3F4",
        "outputId": "20f177c3-b77e-4099-b386-7a8c3fb2a20e"
      },
      "execution_count": null,
      "outputs": [
        {
          "output_type": "display_data",
          "data": {
            "text/plain": [
              "<Figure size 432x288 with 2 Axes>"
            ],
            "image/png": "[encoded data removed]"
          },
          "metadata": {
            "needs_background": "light"
          }
        }
      ]
    },
    {
      "cell_type": "code",
      "source": [
        "print(classification_report(yLogReg_test, yLogReg_pred))"
      ],
      "metadata": {
        "colab": {
          "base_uri": "https://localhost:8080/"
        },
        "id": "z8JuYv5O__z6",
        "outputId": "4f5fb635-3fee-469f-f012-f7412da8d0ef"
      },
      "execution_count": null,
      "outputs": [
        {
          "output_type": "stream",
          "name": "stdout",
          "text": [
            "              precision    recall  f1-score   support\n",
            "\n",
            "         0.0       0.61      1.00      0.76      4668\n",
            "         1.0       0.00      0.00      0.00      2983\n",
            "\n",
            "    accuracy                           0.61      7651\n",
            "   macro avg       0.31      0.50      0.38      7651\n",
            "weighted avg       0.37      0.61      0.46      7651\n",
            "\n"
          ]
        }
      ]
    },
    {
      "cell_type": "code",
      "source": [
        "y_lin"
      ],
      "metadata": {
        "colab": {
          "base_uri": "https://localhost:8080/"
        },
        "id": "qJkhtk94MTTi",
        "outputId": "a44aefd4-97b2-4132-e87a-1fa07b93d2e4"
      },
      "execution_count": null,
      "outputs": [
        {
          "output_type": "execute_result",
          "data": {
            "text/plain": [
              "array([-0.00067959, -0.01024382,  0.00450894, ...,  0.05525851,\n",
              "        0.45016032,  0.03485853], dtype=float32)"
            ]
          },
          "metadata": {},
          "execution_count": 80
        }
      ]
    },
    {
      "cell_type": "code",
      "source": [
        "x_lin"
      ],
      "metadata": {
        "colab": {
          "base_uri": "https://localhost:8080/",
          "height": 424
        },
        "id": "iyrvyegqNEdg",
        "outputId": "74544e3a-41a1-44f8-b045-38d750deb609"
      },
      "execution_count": null,
      "outputs": [
        {
          "output_type": "execute_result",
          "data": {
            "text/plain": [
              "          Value     Timestamp\n",
              "36     0.934870  1.077664e+09\n",
              "37     0.921895  1.077664e+09\n",
              "38     0.907334  1.077664e+09\n",
              "39     0.890755  1.077664e+09\n",
              "40     0.868216  1.077664e+09\n",
              "...         ...           ...\n",
              "26420  0.709506  1.644361e+09\n",
              "26421  0.701507  1.644361e+09\n",
              "26422  0.701123  1.644361e+09\n",
              "26423  0.697954  1.644361e+09\n",
              "26424  0.697741  1.644361e+09\n",
              "\n",
              "[25501 rows x 2 columns]"
            ],
            "text/html": [
              "\n",
              "  <div id=\"df-217cec5f-034d-4bd6-99d7-e6e12c1aaf51\">\n",
              "    <div class=\"colab-df-container\">\n",
              "      <div>\n",
              "<style scoped>\n",
              "    .dataframe tbody tr th:only-of-type {\n",
              "        vertical-align: middle;\n",
              "    }\n",
              "\n",
              "    .dataframe tbody tr th {\n",
              "        vertical-align: top;\n",
              "    }\n",
              "\n",
              "    .dataframe thead th {\n",
              "        text-align: right;\n",
              "    }\n",
              "</style>\n",
              "<table border=\"1\" class=\"dataframe\">\n",
              "  <thead>\n",
              "    <tr style=\"text-align: right;\">\n",
              "      <th></th>\n",
              "      <th>Value</th>\n",
              "      <th>Timestamp</th>\n",
              "    </tr>\n",
              "  </thead>\n",
              "  <tbody>\n",
              "    <tr>\n",
              "      <th>36</th>\n",
              "      <td>0.934870</td>\n",
              "      <td>1.077664e+09</td>\n",
              "    </tr>\n",
              "    <tr>\n",
              "      <th>37</th>\n",
              "      <td>0.921895</td>\n",
              "      <td>1.077664e+09</td>\n",
              "    </tr>\n",
              "    <tr>\n",
              "      <th>38</th>\n",
              "      <td>0.907334</td>\n",
              "      <td>1.077664e+09</td>\n",
              "    </tr>\n",
              "    <tr>\n",
              "      <th>39</th>\n",
              "      <td>0.890755</td>\n",
              "      <td>1.077664e+09</td>\n",
              "    </tr>\n",
              "    <tr>\n",
              "      <th>40</th>\n",
              "      <td>0.868216</td>\n",
              "      <td>1.077664e+09</td>\n",
              "    </tr>\n",
              "    <tr>\n",
              "      <th>...</th>\n",
              "      <td>...</td>\n",
              "      <td>...</td>\n",
              "    </tr>\n",
              "    <tr>\n",
              "      <th>26420</th>\n",
              "      <td>0.709506</td>\n",
              "      <td>1.644361e+09</td>\n",
              "    </tr>\n",
              "    <tr>\n",
              "      <th>26421</th>\n",
              "      <td>0.701507</td>\n",
              "      <td>1.644361e+09</td>\n",
              "    </tr>\n",
              "    <tr>\n",
              "      <th>26422</th>\n",
              "      <td>0.701123</td>\n",
              "      <td>1.644361e+09</td>\n",
              "    </tr>\n",
              "    <tr>\n",
              "      <th>26423</th>\n",
              "      <td>0.697954</td>\n",
              "      <td>1.644361e+09</td>\n",
              "    </tr>\n",
              "    <tr>\n",
              "      <th>26424</th>\n",
              "      <td>0.697741</td>\n",
              "      <td>1.644361e+09</td>\n",
              "    </tr>\n",
              "  </tbody>\n",
              "</table>\n",
              "<p>25501 rows × 2 columns</p>\n",
              "</div>\n",
              "      <button class=\"colab-df-convert\" onclick=\"convertToInteractive('df-217cec5f-034d-4bd6-99d7-e6e12c1aaf51')\"\n",
              "              title=\"Convert this dataframe to an interactive table.\"\n",
              "              style=\"display:none;\">\n",
              "        \n",
              "  <svg xmlns=\"http://www.w3.org/2000/svg\" height=\"24px\"viewBox=\"0 0 24 24\"\n",
              "       width=\"24px\">\n",
              "    <path d=\"M0 0h24v24H0V0z\" fill=\"none\"/>\n",
              "    <path d=\"M18.56 5.44l.94 2.06.94-2.06 2.06-.94-2.06-.94-.94-2.06-.94 2.06-2.06.94zm-11 1L8.5 8.5l.94-2.06 2.06-.94-2.06-.94L8.5 2.5l-.94 2.06-2.06.94zm10 10l.94 2.06.94-2.06 2.06-.94-2.06-.94-.94-2.06-.94 2.06-2.06.94z\"/><path d=\"M17.41 7.96l-1.37-1.37c-.4-.4-.92-.59-1.43-.59-.52 0-1.04.2-1.43.59L10.3 9.45l-7.72 7.72c-.78.78-.78 2.05 0 2.83L4 21.41c.39.39.9.59 1.41.59.51 0 1.02-.2 1.41-.59l7.78-7.78 2.81-2.81c.8-.78.8-2.07 0-2.86zM5.41 20L4 18.59l7.72-7.72 1.47 1.35L5.41 20z\"/>\n",
              "  </svg>\n",
              "      </button>\n",
              "      \n",
              "  <style>\n",
              "    .colab-df-container {\n",
              "      display:flex;\n",
              "      flex-wrap:wrap;\n",
              "      gap: 12px;\n",
              "    }\n",
              "\n",
              "    .colab-df-convert {\n",
              "      background-color: #E8F0FE;\n",
              "      border: none;\n",
              "      border-radius: 50%;\n",
              "      cursor: pointer;\n",
              "      display: none;\n",
              "      fill: #1967D2;\n",
              "      height: 32px;\n",
              "      padding: 0 0 0 0;\n",
              "      width: 32px;\n",
              "    }\n",
              "\n",
              "    .colab-df-convert:hover {\n",
              "      background-color: #E2EBFA;\n",
              "      box-shadow: 0px 1px 2px rgba(60, 64, 67, 0.3), 0px 1px 3px 1px rgba(60, 64, 67, 0.15);\n",
              "      fill: #174EA6;\n",
              "    }\n",
              "\n",
              "    [theme=dark] .colab-df-convert {\n",
              "      background-color: #3B4455;\n",
              "      fill: #D2E3FC;\n",
              "    }\n",
              "\n",
              "    [theme=dark] .colab-df-convert:hover {\n",
              "      background-color: #434B5C;\n",
              "      box-shadow: 0px 1px 3px 1px rgba(0, 0, 0, 0.15);\n",
              "      filter: drop-shadow(0px 1px 2px rgba(0, 0, 0, 0.3));\n",
              "      fill: #FFFFFF;\n",
              "    }\n",
              "  </style>\n",
              "\n",
              "      <script>\n",
              "        const buttonEl =\n",
              "          document.querySelector('#df-217cec5f-034d-4bd6-99d7-e6e12c1aaf51 button.colab-df-convert');\n",
              "        buttonEl.style.display =\n",
              "          google.colab.kernel.accessAllowed ? 'block' : 'none';\n",
              "\n",
              "        async function convertToInteractive(key) {\n",
              "          const element = document.querySelector('#df-217cec5f-034d-4bd6-99d7-e6e12c1aaf51');\n",
              "          const dataTable =\n",
              "            await google.colab.kernel.invokeFunction('convertToInteractive',\n",
              "                                                     [key], {});\n",
              "          if (!dataTable) return;\n",
              "\n",
              "          const docLinkHtml = 'Like what you see? Visit the ' +\n",
              "            '<a target=\"_blank\" href=https://colab.research.google.com/notebooks/data_table.ipynb>data table notebook</a>'\n",
              "            + ' to learn more about interactive tables.';\n",
              "          element.innerHTML = '';\n",
              "          dataTable['output_type'] = 'display_data';\n",
              "          await google.colab.output.renderOutput(dataTable, element);\n",
              "          const docLink = document.createElement('div');\n",
              "          docLink.innerHTML = docLinkHtml;\n",
              "          element.appendChild(docLink);\n",
              "        }\n",
              "      </script>\n",
              "    </div>\n",
              "  </div>\n",
              "  "
            ]
          },
          "metadata": {},
          "execution_count": 81
        }
      ]
    },
    {
      "cell_type": "code",
      "source": [
        "from sklearn.linear_model import LinearRegression\n",
        "\n",
        "model = LinearRegression()\n",
        "\n",
        "#fit regression model\n",
        "model.fit(x_lin, y_lin)\n",
        "\n",
        "#calculate R-squared of regression model\n",
        "r_squared = model.score(x_lin, y_lin)\n",
        "\n",
        "#view R-squared value\n",
        "print(r_squared)\n"
      ],
      "metadata": {
        "colab": {
          "base_uri": "https://localhost:8080/"
        },
        "id": "1QzPSTe3LetM",
        "outputId": "30433777-244f-4bc3-8b3f-bea6d6d5c85e"
      },
      "execution_count": null,
      "outputs": [
        {
          "output_type": "stream",
          "name": "stdout",
          "text": [
            "0.0019113536124075736\n"
          ]
        }
      ]
    },
    {
      "cell_type": "code",
      "source": [
        "from mpl_toolkits import mplot3d\n",
        "%matplotlib inline\n",
        "import numpy as np\n",
        "import matplotlib.pyplot as plt\n",
        "\n"
      ],
      "metadata": {
        "id": "dWlResVXN0ZZ"
      },
      "execution_count": null,
      "outputs": []
    },
    {
      "cell_type": "code",
      "source": [
        "fig = plt.figure()\n",
        "ax = plt.axes(projection='3d')"
      ],
      "metadata": {
        "colab": {
          "base_uri": "https://localhost:8080/",
          "height": 248
        },
        "id": "QiRyViGeN46Y",
        "outputId": "9e77f525-9727-41df-f1de-5901c3e37bd6"
      },
      "execution_count": null,
      "outputs": [
        {
          "output_type": "display_data",
          "data": {
            "text/plain": [
              "<Figure size 432x288 with 1 Axes>"
            ],
            "image/png": "[encoded data removed]"
          },
          "metadata": {
            "needs_background": "light"
          }
        }
      ]
    },
    {
      "cell_type": "code",
      "source": [
        "ax = plt.axes(projection='3d')\n",
        "\n",
        "zdata = x_lin.Value\n",
        "xdata = x_lin.Timestamp\n",
        "ydata = y_lin\n",
        "\n",
        "\n",
        "ax.scatter3D(xdata, ydata, zdata, c=zdata, cmap='Greens');\n",
        "ax.view_init(40, 15)"
      ],
      "metadata": {
        "colab": {
          "base_uri": "https://localhost:8080/",
          "height": 248
        },
        "id": "9Q8XV9_YN7St",
        "outputId": "e0383c91-5568-46ca-a988-78ad3e6a0b02"
      },
      "execution_count": null,
      "outputs": [
        {
          "output_type": "display_data",
          "data": {
            "text/plain": [
              "<Figure size 432x288 with 1 Axes>"
            ],
            "image/png": "[encoded data removed]"
          },
          "metadata": {
            "needs_background": "light"
          }
        }
      ]
    },
    {
      "cell_type": "code",
      "source": [
        "xdata"
      ],
      "metadata": {
        "colab": {
          "base_uri": "https://localhost:8080/"
        },
        "id": "wrcss8d3OSO4",
        "outputId": "670e2d00-58da-4fec-d3e4-90c3649b0557"
      },
      "execution_count": null,
      "outputs": [
        {
          "output_type": "execute_result",
          "data": {
            "text/plain": [
              "36       0.0\n",
              "37       0.0\n",
              "38       0.0\n",
              "39       1.0\n",
              "40       0.0\n",
              "        ... \n",
              "26420    1.0\n",
              "26421    0.0\n",
              "26422    1.0\n",
              "26423    1.0\n",
              "26424    1.0\n",
              "Name: Returns, Length: 25501, dtype: float32"
            ]
          },
          "metadata": {},
          "execution_count": 90
        }
      ]
    },
    {
      "cell_type": "code",
      "source": [
        "import matplotlib.pyplot as plt\n",
        "plt.plot(ydata)"
      ],
      "metadata": {
        "colab": {
          "base_uri": "https://localhost:8080/",
          "height": 283
        },
        "id": "7m8uAuxePYWI",
        "outputId": "1e00fe1e-7c74-4557-e133-3494282558f9"
      },
      "execution_count": null,
      "outputs": [
        {
          "output_type": "execute_result",
          "data": {
            "text/plain": [
              "[<matplotlib.lines.Line2D at 0x7fed82322490>]"
            ]
          },
          "metadata": {},
          "execution_count": 99
        },
        {
          "output_type": "display_data",
          "data": {
            "text/plain": [
              "<Figure size 432x288 with 1 Axes>"
            ],
            "image/png": "[encoded data removed]"
          },
          "metadata": {
            "needs_background": "light"
          }
        }
      ]
    },
    {
      "cell_type": "code",
      "source": [
        "plt.scatter(x_lin.Value, y_lin,color='g')\n",
        "plt.plot(x_lin, model.predict(x_lin),color='k')\n",
        "\n",
        "plt.show()"
      ],
      "metadata": {
        "colab": {
          "base_uri": "https://localhost:8080/",
          "height": 278
        },
        "id": "5LcCVIrbRbZg",
        "outputId": "1fa042e8-2849-4b7a-8153-d3d72e9abbf6"
      },
      "execution_count": null,
      "outputs": [
        {
          "output_type": "display_data",
          "data": {
            "text/plain": [
              "<Figure size 432x288 with 1 Axes>"
            ],
            "image/png": "[encoded data removed]"
          },
          "metadata": {
            "needs_background": "light"
          }
        }
      ]
    },
    {
      "cell_type": "code",
      "source": [
        "len(y_lin)"
      ],
      "metadata": {
        "colab": {
          "base_uri": "https://localhost:8080/"
        },
        "id": "rm2tmyu_RvAx",
        "outputId": "68e35a14-5371-4dca-b6c2-c1e3161b6e1d"
      },
      "execution_count": null,
      "outputs": [
        {
          "output_type": "execute_result",
          "data": {
            "text/plain": [
              "25501"
            ]
          },
          "metadata": {},
          "execution_count": 105
        }
      ]
    },
    {
      "cell_type": "code",
      "source": [
        "import matplotlib.pyplot as plt\n",
        "import numpy as np\n",
        "import sklearn.linear_model\n",
        "\n",
        "from mpl_toolkits.mplot3d import Axes3D\n",
        "\n",
        "X_train, X_test, y_train, y_test = train_test_split(x_lin, y_lin, test_size=0.3, random_state=42)\n",
        "\n",
        "\n",
        "fig = plt.figure()\n",
        "ax = fig.add_subplot(111, projection='3d')\n",
        "ax.scatter(X_train.Value, X_train.Timestamp, y_train, marker='.', color='red')\n",
        "ax.set_xlabel(\"X1\")\n",
        "ax.set_ylabel(\"X2\")\n",
        "ax.set_zlabel(\"y\")\n",
        "\n",
        "model = sklearn.linear_model.LinearRegression()\n",
        "model.fit(X_train, y_train)\n",
        "y_pred = model.predict(X_test)\n",
        "\n",
        "print(\"MAE: {}\".format(np.abs(y_test-y_pred).mean()))\n",
        "print(\"RMSE: {}\".format(np.sqrt(((y_test-y_pred)**2).mean())))\n",
        "\n",
        "coefs = model.coef_\n",
        "intercept = model.intercept_\n",
        "xs = np.tile(np.arange(61), (61,1))\n",
        "ys = np.tile(np.arange(61), (61,1)).T\n",
        "zs = xs*coefs[0]+ys*coefs[1]+intercept\n",
        "print(\"Equation: y = {:.2f} + {:.2f}x1 + {:.2f}x2\".format(intercept, coefs[0],\n",
        "                                                          coefs[1]))\n",
        "print(model.score(X_train, y))\n",
        "\n",
        "ax.plot_surface(xs,ys,zs, alpha=0.5)\n",
        "plt.show()"
      ],
      "metadata": {
        "colab": {
          "base_uri": "https://localhost:8080/",
          "height": 302
        },
        "id": "2nbZkqRbSEN9",
        "outputId": "32525740-356c-4434-e5b0-d2679d6eedb3"
      },
      "execution_count": null,
      "outputs": [
        {
          "output_type": "stream",
          "name": "stdout",
          "text": [
            "MAE: 0.06268616160260121\n",
            "RMSE: 0.13569307129878436\n",
            "Equation: y = -0.03 + -0.00x1 + 0.00x2\n"
          ]
        },
        {
          "output_type": "display_data",
          "data": {
            "text/plain": [
              "<Figure size 432x288 with 1 Axes>"
            ],
            "image/png": "[encoded data removed]"
          },
          "metadata": {
            "needs_background": "light"
          }
        }
      ]
    }
  ]
}