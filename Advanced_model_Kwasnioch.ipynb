{
 "cells": [
  {
   "cell_type": "code",
   "execution_count": 74,
   "metadata": {
    "id": "wRxxamPHXW7h"
   },
   "outputs": [],
   "source": [
    "import pandas as pd\n",
    "import numpy as np\n",
    "from xgboost import XGBRegressor\n",
    "from sklearn.model_selection import cross_val_score,KFold,train_test_split\n",
    "from sklearn.linear_model import LogisticRegression\n",
    "from sklearn.metrics import mean_squared_error, mean_absolute_percentage_error, mean_absolute_error\n",
    "from sklearn.metrics import r2_score\n",
    "from sklearn.model_selection import GridSearchCV\n",
    "import matplotlib.pyplot as plt\n",
    "\n",
    "import torch\n",
    "import torch.nn as nn\n",
    "from torch.autograd import Variable "
   ]
  },
  {
   "cell_type": "code",
   "execution_count": 2,
   "metadata": {},
   "outputs": [],
   "source": [
    "df = pd.read_csv('data_with_indicators.csv')"
   ]
  },
  {
   "cell_type": "code",
   "execution_count": 3,
   "metadata": {},
   "outputs": [
    {
     "data": {
      "text/plain": [
       "<AxesSubplot:>"
      ]
     },
     "execution_count": 3,
     "metadata": {},
     "output_type": "execute_result"
    },
    {
     "data": {
      "image/png": "[encoded data removed]",
      "text/plain": [
       "<Figure size 432x288 with 1 Axes>"
      ]
     },
     "metadata": {
      "needs_background": "light"
     },
     "output_type": "display_data"
    }
   ],
   "source": [
    "df[\"Y\"].hist()"
   ]
  },
  {
   "cell_type": "code",
   "execution_count": 4,
   "metadata": {},
   "outputs": [],
   "source": [
    "df = df[(df['Y']>-0.2)&(df['Y']<0.2)] "
   ]
  },
  {
   "cell_type": "code",
   "execution_count": 5,
   "metadata": {},
   "outputs": [
    {
     "data": {
      "text/plain": [
       "<AxesSubplot:>"
      ]
     },
     "execution_count": 5,
     "metadata": {},
     "output_type": "execute_result"
    },
    {
     "data": {
      "image/png": "[encoded data removed]",
      "text/plain": [
       "<Figure size 432x288 with 1 Axes>"
      ]
     },
     "metadata": {
      "needs_background": "light"
     },
     "output_type": "display_data"
    }
   ],
   "source": [
    "df[\"Y\"].hist()"
   ]
  },
  {
   "cell_type": "code",
   "execution_count": 6,
   "metadata": {
    "id": "nS9WOrqnZyTz"
   },
   "outputs": [
    {
     "name": "stdout",
     "output_type": "stream",
     "text": [
      "83\n",
      "83\n",
      "83\n",
      "83\n",
      "83\n",
      "83\n",
      "74\n"
     ]
    }
   ],
   "source": [
    "for e in df.isna().sum():\n",
    "    if e != 0:\n",
    "        print(e)"
   ]
  },
  {
   "cell_type": "code",
   "execution_count": 7,
   "metadata": {
    "id": "kwyW0AB6azVU"
   },
   "outputs": [],
   "source": [
    "df = df.dropna()"
   ]
  },
  {
   "cell_type": "code",
   "execution_count": 8,
   "metadata": {},
   "outputs": [],
   "source": [
    "dummy = pd.get_dummies(df['Ticker'])\n",
    "df = pd.merge(df, dummy, left_index=True, right_index=True, how='inner')\n",
    "df = df.drop('Ticker', axis=1)"
   ]
  },
  {
   "cell_type": "code",
   "execution_count": 9,
   "metadata": {},
   "outputs": [],
   "source": [
    "df['Date'] = pd.to_datetime(df['Date'])"
   ]
  },
  {
   "cell_type": "code",
   "execution_count": 10,
   "metadata": {},
   "outputs": [
    {
     "data": {
      "text/plain": [
       "Timestamp('2004-02-11 00:00:00')"
      ]
     },
     "execution_count": 10,
     "metadata": {},
     "output_type": "execute_result"
    }
   ],
   "source": [
    "min(df['Date'])"
   ]
  },
  {
   "cell_type": "code",
   "execution_count": 11,
   "metadata": {},
   "outputs": [],
   "source": [
    "# df['year'] = df['Date'].dt.year\n",
    "# df['month'] = df['Date'].dt.month"
   ]
  },
  {
   "cell_type": "code",
   "execution_count": 12,
   "metadata": {},
   "outputs": [],
   "source": [
    "df['nb_months'] = ((df['Date'] - pd.to_datetime('2004-02'))/np.timedelta64(1, 'M'))"
   ]
  },
  {
   "cell_type": "code",
   "execution_count": 13,
   "metadata": {},
   "outputs": [],
   "source": [
    "df['nb_months'] = df['nb_months'].astype(int)"
   ]
  },
  {
   "cell_type": "code",
   "execution_count": 14,
   "metadata": {},
   "outputs": [],
   "source": [
    "df = df.drop('Date', axis=1)"
   ]
  },
  {
   "cell_type": "code",
   "execution_count": 15,
   "metadata": {
    "id": "oPlVK005bXRM"
   },
   "outputs": [],
   "source": [
    "correlation_matrix = df.corr()"
   ]
  },
  {
   "cell_type": "code",
   "execution_count": 16,
   "metadata": {},
   "outputs": [
    {
     "data": {
      "text/html": [
       "<div>\n",
       "<style scoped>\n",
       "    .dataframe tbody tr th:only-of-type {\n",
       "        vertical-align: middle;\n",
       "    }\n",
       "\n",
       "    .dataframe tbody tr th {\n",
       "        vertical-align: top;\n",
       "    }\n",
       "\n",
       "    .dataframe thead th {\n",
       "        text-align: right;\n",
       "    }\n",
       "</style>\n",
       "<table border=\"1\" class=\"dataframe\">\n",
       "  <thead>\n",
       "    <tr style=\"text-align: right;\">\n",
       "      <th></th>\n",
       "      <th>Category</th>\n",
       "      <th>Value</th>\n",
       "      <th>Timestamp</th>\n",
       "      <th>Open</th>\n",
       "      <th>High</th>\n",
       "      <th>Low</th>\n",
       "      <th>Close</th>\n",
       "      <th>Adj Close</th>\n",
       "      <th>Volume</th>\n",
       "      <th>Y</th>\n",
       "      <th>...</th>\n",
       "      <th>WPC</th>\n",
       "      <th>WRLD</th>\n",
       "      <th>WSM</th>\n",
       "      <th>WSO</th>\n",
       "      <th>WWW</th>\n",
       "      <th>WY</th>\n",
       "      <th>XOM</th>\n",
       "      <th>YUM</th>\n",
       "      <th>ZD</th>\n",
       "      <th>nb_months</th>\n",
       "    </tr>\n",
       "  </thead>\n",
       "  <tbody>\n",
       "    <tr>\n",
       "      <th>Category</th>\n",
       "      <td>1.000000</td>\n",
       "      <td>0.041233</td>\n",
       "      <td>-0.003191</td>\n",
       "      <td>0.056245</td>\n",
       "      <td>0.056273</td>\n",
       "      <td>0.056271</td>\n",
       "      <td>0.056292</td>\n",
       "      <td>-0.010096</td>\n",
       "      <td>-0.049916</td>\n",
       "      <td>0.008423</td>\n",
       "      <td>...</td>\n",
       "      <td>-0.019760</td>\n",
       "      <td>-0.023973</td>\n",
       "      <td>0.057497</td>\n",
       "      <td>0.048103</td>\n",
       "      <td>-0.055887</td>\n",
       "      <td>-0.018560</td>\n",
       "      <td>-0.029820</td>\n",
       "      <td>-0.058254</td>\n",
       "      <td>0.040462</td>\n",
       "      <td>-0.003208</td>\n",
       "    </tr>\n",
       "    <tr>\n",
       "      <th>Value</th>\n",
       "      <td>0.041233</td>\n",
       "      <td>1.000000</td>\n",
       "      <td>-0.146068</td>\n",
       "      <td>0.053072</td>\n",
       "      <td>0.053033</td>\n",
       "      <td>0.053004</td>\n",
       "      <td>0.052939</td>\n",
       "      <td>0.009258</td>\n",
       "      <td>-0.008706</td>\n",
       "      <td>-0.003821</td>\n",
       "      <td>...</td>\n",
       "      <td>0.010742</td>\n",
       "      <td>-0.003688</td>\n",
       "      <td>0.013859</td>\n",
       "      <td>0.010696</td>\n",
       "      <td>0.033401</td>\n",
       "      <td>-0.000937</td>\n",
       "      <td>0.012516</td>\n",
       "      <td>-0.008281</td>\n",
       "      <td>-0.014487</td>\n",
       "      <td>-0.146139</td>\n",
       "    </tr>\n",
       "    <tr>\n",
       "      <th>Timestamp</th>\n",
       "      <td>-0.003191</td>\n",
       "      <td>-0.146068</td>\n",
       "      <td>1.000000</td>\n",
       "      <td>0.026120</td>\n",
       "      <td>0.026203</td>\n",
       "      <td>0.026129</td>\n",
       "      <td>0.026172</td>\n",
       "      <td>0.003945</td>\n",
       "      <td>-0.027703</td>\n",
       "      <td>-0.023416</td>\n",
       "      <td>...</td>\n",
       "      <td>-0.029033</td>\n",
       "      <td>-0.069483</td>\n",
       "      <td>-0.015445</td>\n",
       "      <td>0.027340</td>\n",
       "      <td>-0.041411</td>\n",
       "      <td>-0.020246</td>\n",
       "      <td>-0.050685</td>\n",
       "      <td>-0.006629</td>\n",
       "      <td>-0.034775</td>\n",
       "      <td>0.999989</td>\n",
       "    </tr>\n",
       "    <tr>\n",
       "      <th>Open</th>\n",
       "      <td>0.056245</td>\n",
       "      <td>0.053072</td>\n",
       "      <td>0.026120</td>\n",
       "      <td>1.000000</td>\n",
       "      <td>0.999963</td>\n",
       "      <td>0.999914</td>\n",
       "      <td>0.999849</td>\n",
       "      <td>0.000493</td>\n",
       "      <td>-0.006486</td>\n",
       "      <td>0.008680</td>\n",
       "      <td>...</td>\n",
       "      <td>-0.002270</td>\n",
       "      <td>-0.002968</td>\n",
       "      <td>-0.003326</td>\n",
       "      <td>-0.001997</td>\n",
       "      <td>-0.002678</td>\n",
       "      <td>-0.002095</td>\n",
       "      <td>-0.002093</td>\n",
       "      <td>-0.002666</td>\n",
       "      <td>-0.002332</td>\n",
       "      <td>0.026104</td>\n",
       "    </tr>\n",
       "    <tr>\n",
       "      <th>High</th>\n",
       "      <td>0.056273</td>\n",
       "      <td>0.053033</td>\n",
       "      <td>0.026203</td>\n",
       "      <td>0.999963</td>\n",
       "      <td>1.000000</td>\n",
       "      <td>0.999898</td>\n",
       "      <td>0.999892</td>\n",
       "      <td>0.000494</td>\n",
       "      <td>-0.006497</td>\n",
       "      <td>0.008771</td>\n",
       "      <td>...</td>\n",
       "      <td>-0.002276</td>\n",
       "      <td>-0.002971</td>\n",
       "      <td>-0.003330</td>\n",
       "      <td>-0.001996</td>\n",
       "      <td>-0.002685</td>\n",
       "      <td>-0.002099</td>\n",
       "      <td>-0.002090</td>\n",
       "      <td>-0.002674</td>\n",
       "      <td>-0.002334</td>\n",
       "      <td>0.026187</td>\n",
       "    </tr>\n",
       "    <tr>\n",
       "      <th>...</th>\n",
       "      <td>...</td>\n",
       "      <td>...</td>\n",
       "      <td>...</td>\n",
       "      <td>...</td>\n",
       "      <td>...</td>\n",
       "      <td>...</td>\n",
       "      <td>...</td>\n",
       "      <td>...</td>\n",
       "      <td>...</td>\n",
       "      <td>...</td>\n",
       "      <td>...</td>\n",
       "      <td>...</td>\n",
       "      <td>...</td>\n",
       "      <td>...</td>\n",
       "      <td>...</td>\n",
       "      <td>...</td>\n",
       "      <td>...</td>\n",
       "      <td>...</td>\n",
       "      <td>...</td>\n",
       "      <td>...</td>\n",
       "      <td>...</td>\n",
       "    </tr>\n",
       "    <tr>\n",
       "      <th>WY</th>\n",
       "      <td>-0.018560</td>\n",
       "      <td>-0.000937</td>\n",
       "      <td>-0.020246</td>\n",
       "      <td>-0.002095</td>\n",
       "      <td>-0.002099</td>\n",
       "      <td>-0.002096</td>\n",
       "      <td>-0.002100</td>\n",
       "      <td>0.000292</td>\n",
       "      <td>-0.002039</td>\n",
       "      <td>-0.010249</td>\n",
       "      <td>...</td>\n",
       "      <td>-0.001676</td>\n",
       "      <td>-0.002033</td>\n",
       "      <td>-0.002622</td>\n",
       "      <td>-0.002715</td>\n",
       "      <td>-0.001700</td>\n",
       "      <td>1.000000</td>\n",
       "      <td>-0.001863</td>\n",
       "      <td>-0.002033</td>\n",
       "      <td>-0.001547</td>\n",
       "      <td>-0.020209</td>\n",
       "    </tr>\n",
       "    <tr>\n",
       "      <th>XOM</th>\n",
       "      <td>-0.029820</td>\n",
       "      <td>0.012516</td>\n",
       "      <td>-0.050685</td>\n",
       "      <td>-0.002093</td>\n",
       "      <td>-0.002090</td>\n",
       "      <td>-0.002096</td>\n",
       "      <td>-0.002095</td>\n",
       "      <td>0.000346</td>\n",
       "      <td>0.031293</td>\n",
       "      <td>-0.001899</td>\n",
       "      <td>...</td>\n",
       "      <td>-0.001983</td>\n",
       "      <td>-0.002406</td>\n",
       "      <td>-0.003103</td>\n",
       "      <td>-0.003214</td>\n",
       "      <td>-0.002012</td>\n",
       "      <td>-0.001863</td>\n",
       "      <td>1.000000</td>\n",
       "      <td>-0.002406</td>\n",
       "      <td>-0.001831</td>\n",
       "      <td>-0.050690</td>\n",
       "    </tr>\n",
       "    <tr>\n",
       "      <th>YUM</th>\n",
       "      <td>-0.058254</td>\n",
       "      <td>-0.008281</td>\n",
       "      <td>-0.006629</td>\n",
       "      <td>-0.002666</td>\n",
       "      <td>-0.002674</td>\n",
       "      <td>-0.002666</td>\n",
       "      <td>-0.002674</td>\n",
       "      <td>0.000377</td>\n",
       "      <td>-0.002090</td>\n",
       "      <td>-0.004294</td>\n",
       "      <td>...</td>\n",
       "      <td>-0.002164</td>\n",
       "      <td>-0.002626</td>\n",
       "      <td>-0.003386</td>\n",
       "      <td>-0.003507</td>\n",
       "      <td>-0.002196</td>\n",
       "      <td>-0.002033</td>\n",
       "      <td>-0.002406</td>\n",
       "      <td>1.000000</td>\n",
       "      <td>-0.001999</td>\n",
       "      <td>-0.006654</td>\n",
       "    </tr>\n",
       "    <tr>\n",
       "      <th>ZD</th>\n",
       "      <td>0.040462</td>\n",
       "      <td>-0.014487</td>\n",
       "      <td>-0.034775</td>\n",
       "      <td>-0.002332</td>\n",
       "      <td>-0.002334</td>\n",
       "      <td>-0.002335</td>\n",
       "      <td>-0.002336</td>\n",
       "      <td>0.000287</td>\n",
       "      <td>-0.004011</td>\n",
       "      <td>-0.000914</td>\n",
       "      <td>...</td>\n",
       "      <td>-0.001648</td>\n",
       "      <td>-0.001999</td>\n",
       "      <td>-0.002577</td>\n",
       "      <td>-0.002669</td>\n",
       "      <td>-0.001672</td>\n",
       "      <td>-0.001547</td>\n",
       "      <td>-0.001831</td>\n",
       "      <td>-0.001999</td>\n",
       "      <td>1.000000</td>\n",
       "      <td>-0.034823</td>\n",
       "    </tr>\n",
       "    <tr>\n",
       "      <th>nb_months</th>\n",
       "      <td>-0.003208</td>\n",
       "      <td>-0.146139</td>\n",
       "      <td>0.999989</td>\n",
       "      <td>0.026104</td>\n",
       "      <td>0.026187</td>\n",
       "      <td>0.026113</td>\n",
       "      <td>0.026157</td>\n",
       "      <td>0.003928</td>\n",
       "      <td>-0.027711</td>\n",
       "      <td>-0.023177</td>\n",
       "      <td>...</td>\n",
       "      <td>-0.029046</td>\n",
       "      <td>-0.069487</td>\n",
       "      <td>-0.015384</td>\n",
       "      <td>0.027310</td>\n",
       "      <td>-0.041384</td>\n",
       "      <td>-0.020209</td>\n",
       "      <td>-0.050690</td>\n",
       "      <td>-0.006654</td>\n",
       "      <td>-0.034823</td>\n",
       "      <td>1.000000</td>\n",
       "    </tr>\n",
       "  </tbody>\n",
       "</table>\n",
       "<p>496 rows × 496 columns</p>\n",
       "</div>"
      ],
      "text/plain": [
       "           Category     Value  Timestamp      Open      High       Low  \\\n",
       "Category   1.000000  0.041233  -0.003191  0.056245  0.056273  0.056271   \n",
       "Value      0.041233  1.000000  -0.146068  0.053072  0.053033  0.053004   \n",
       "Timestamp -0.003191 -0.146068   1.000000  0.026120  0.026203  0.026129   \n",
       "Open       0.056245  0.053072   0.026120  1.000000  0.999963  0.999914   \n",
       "High       0.056273  0.053033   0.026203  0.999963  1.000000  0.999898   \n",
       "...             ...       ...        ...       ...       ...       ...   \n",
       "WY        -0.018560 -0.000937  -0.020246 -0.002095 -0.002099 -0.002096   \n",
       "XOM       -0.029820  0.012516  -0.050685 -0.002093 -0.002090 -0.002096   \n",
       "YUM       -0.058254 -0.008281  -0.006629 -0.002666 -0.002674 -0.002666   \n",
       "ZD         0.040462 -0.014487  -0.034775 -0.002332 -0.002334 -0.002335   \n",
       "nb_months -0.003208 -0.146139   0.999989  0.026104  0.026187  0.026113   \n",
       "\n",
       "              Close  Adj Close    Volume         Y  ...       WPC      WRLD  \\\n",
       "Category   0.056292  -0.010096 -0.049916  0.008423  ... -0.019760 -0.023973   \n",
       "Value      0.052939   0.009258 -0.008706 -0.003821  ...  0.010742 -0.003688   \n",
       "Timestamp  0.026172   0.003945 -0.027703 -0.023416  ... -0.029033 -0.069483   \n",
       "Open       0.999849   0.000493 -0.006486  0.008680  ... -0.002270 -0.002968   \n",
       "High       0.999892   0.000494 -0.006497  0.008771  ... -0.002276 -0.002971   \n",
       "...             ...        ...       ...       ...  ...       ...       ...   \n",
       "WY        -0.002100   0.000292 -0.002039 -0.010249  ... -0.001676 -0.002033   \n",
       "XOM       -0.002095   0.000346  0.031293 -0.001899  ... -0.001983 -0.002406   \n",
       "YUM       -0.002674   0.000377 -0.002090 -0.004294  ... -0.002164 -0.002626   \n",
       "ZD        -0.002336   0.000287 -0.004011 -0.000914  ... -0.001648 -0.001999   \n",
       "nb_months  0.026157   0.003928 -0.027711 -0.023177  ... -0.029046 -0.069487   \n",
       "\n",
       "                WSM       WSO       WWW        WY       XOM       YUM  \\\n",
       "Category   0.057497  0.048103 -0.055887 -0.018560 -0.029820 -0.058254   \n",
       "Value      0.013859  0.010696  0.033401 -0.000937  0.012516 -0.008281   \n",
       "Timestamp -0.015445  0.027340 -0.041411 -0.020246 -0.050685 -0.006629   \n",
       "Open      -0.003326 -0.001997 -0.002678 -0.002095 -0.002093 -0.002666   \n",
       "High      -0.003330 -0.001996 -0.002685 -0.002099 -0.002090 -0.002674   \n",
       "...             ...       ...       ...       ...       ...       ...   \n",
       "WY        -0.002622 -0.002715 -0.001700  1.000000 -0.001863 -0.002033   \n",
       "XOM       -0.003103 -0.003214 -0.002012 -0.001863  1.000000 -0.002406   \n",
       "YUM       -0.003386 -0.003507 -0.002196 -0.002033 -0.002406  1.000000   \n",
       "ZD        -0.002577 -0.002669 -0.001672 -0.001547 -0.001831 -0.001999   \n",
       "nb_months -0.015384  0.027310 -0.041384 -0.020209 -0.050690 -0.006654   \n",
       "\n",
       "                 ZD  nb_months  \n",
       "Category   0.040462  -0.003208  \n",
       "Value     -0.014487  -0.146139  \n",
       "Timestamp -0.034775   0.999989  \n",
       "Open      -0.002332   0.026104  \n",
       "High      -0.002334   0.026187  \n",
       "...             ...        ...  \n",
       "WY        -0.001547  -0.020209  \n",
       "XOM       -0.001831  -0.050690  \n",
       "YUM       -0.001999  -0.006654  \n",
       "ZD         1.000000  -0.034823  \n",
       "nb_months -0.034823   1.000000  \n",
       "\n",
       "[496 rows x 496 columns]"
      ]
     },
     "execution_count": 16,
     "metadata": {},
     "output_type": "execute_result"
    }
   ],
   "source": [
    "correlation_matrix"
   ]
  },
  {
   "cell_type": "code",
   "execution_count": 17,
   "metadata": {},
   "outputs": [],
   "source": [
    "y = df['Y']\n",
    "X = df.drop(\"Y\", axis=1)"
   ]
  },
  {
   "cell_type": "markdown",
   "metadata": {},
   "source": [
    "## XGBoost"
   ]
  },
  {
   "cell_type": "code",
   "execution_count": 72,
   "metadata": {
    "id": "h6qVCyfuZkbU"
   },
   "outputs": [],
   "source": [
    "X_train, X_test, y_train, y_test = train_test_split(X, y, test_size=0.2, random_state=420)\n",
    "X_train, X_val, y_train, y_val = train_test_split(X_train, y_train, test_size=0.2, random_state=69)"
   ]
  },
  {
   "cell_type": "code",
   "execution_count": 73,
   "metadata": {
    "id": "DcyQYOjGaVEj"
   },
   "outputs": [],
   "source": [
    "params_CV_xgb_only = {'colsample_bytree': 1, \n",
    "                      'eval_metric': 'rmse', \n",
    "                      'gamma': 3, \n",
    "                      'grow_policy': 'depthwise', \n",
    "                      'learning_rate': 0.03, \n",
    "                      'max_depth': 8, \n",
    "                      'n_estimators': 500, \n",
    "                      'reg_alpha': 0, \n",
    "                      'reg_lambda': 3, \n",
    "                      'subsample': 0.8}"
   ]
  },
  {
   "cell_type": "code",
   "execution_count": 74,
   "metadata": {
    "colab": {
     "base_uri": "https://localhost:8080/"
    },
    "id": "nRdc_1lkbzJM",
    "outputId": "5cc59ae1-dde4-440e-a63b-43b8fafcfc18"
   },
   "outputs": [
    {
     "data": {
      "text/plain": [
       "XGBRegressor(base_score=0.5, booster='gbtree', colsample_bylevel=1,\n",
       "             colsample_bynode=1, colsample_bytree=1, enable_categorical=False,\n",
       "             eval_metric='rmse', gamma=3, gpu_id=-1, grow_policy='depthwise',\n",
       "             importance_type=None, interaction_constraints='',\n",
       "             learning_rate=0.03, max_delta_step=0, max_depth=8,\n",
       "             min_child_weight=1, missing=nan, monotone_constraints='()',\n",
       "             n_estimators=500, n_jobs=16, num_parallel_tree=1, predictor='auto',\n",
       "             random_state=0, reg_alpha=0, reg_lambda=3, scale_pos_weight=1,\n",
       "             subsample=0.8, tree_method='exact', validate_parameters=1,\n",
       "             verbosity=None)"
      ]
     },
     "execution_count": 74,
     "metadata": {},
     "output_type": "execute_result"
    }
   ],
   "source": [
    "eval_set = [(X_train, y_train), (X_val, y_val)]\n",
    "\n",
    "model_xgb = XGBRegressor(**params_CV_xgb_only)\n",
    "model_xgb.fit(X_train,\n",
    "              y_train,\n",
    "              verbose=0,\n",
    "              eval_set=eval_set,\n",
    "              eval_metric='rmse',\n",
    "              early_stopping_rounds=50\n",
    "              )"
   ]
  },
  {
   "cell_type": "code",
   "execution_count": 77,
   "metadata": {},
   "outputs": [
    {
     "name": "stderr",
     "output_type": "stream",
     "text": [
      "c:\\users\\kkwas\\pycharmprojects\\pythonproject\\venv\\lib\\site-packages\\xgboost\\core.py:105: UserWarning: ntree_limit is deprecated, use `iteration_range` or model slicing instead.\n",
      "  warnings.warn(\n"
     ]
    }
   ],
   "source": [
    "y_pred = model_xgb.predict(X_test, ntree_limit=model_xgb.best_ntree_limit)"
   ]
  },
  {
   "cell_type": "code",
   "execution_count": 78,
   "metadata": {
    "colab": {
     "base_uri": "https://localhost:8080/"
    },
    "id": "ZN3nPkNdciPb",
    "outputId": "5887e82b-6a84-4203-80d4-805ff83a5e90"
   },
   "outputs": [
    {
     "name": "stdout",
     "output_type": "stream",
     "text": [
      "Testing performance\n",
      "RMSE: 0.04\n",
      "R2: 0.37\n",
      "MAE: 0.03\n"
     ]
    }
   ],
   "source": [
    "rmse = (np.sqrt(mean_squared_error(y_test, y_pred)))\n",
    "r2 = r2_score(y_test, y_pred)\n",
    "mae = mean_absolute_error(y_test, y_pred)\n",
    "print('Testing performance')\n",
    "print('RMSE: {:.2f}'.format(rmse))\n",
    "print('R2: {:.2f}'.format(r2))\n",
    "print('MAE: {:.2f}'.format(mae))"
   ]
  },
  {
   "cell_type": "code",
   "execution_count": 81,
   "metadata": {},
   "outputs": [
    {
     "data": {
      "image/png": "[encoded data removed]",
      "text/plain": [
       "<Figure size 720x504 with 1 Axes>"
      ]
     },
     "metadata": {
      "needs_background": "light"
     },
     "output_type": "display_data"
    }
   ],
   "source": [
    "# plot error\n",
    "results = model_xgb.evals_result()\n",
    "\n",
    "plt.figure(figsize=(10,7))\n",
    "plt.plot(results[\"validation_0\"][\"rmse\"], label=\"Training loss\")\n",
    "plt.plot(results[\"validation_1\"][\"rmse\"], label=\"Validation loss\")\n",
    "# plt.axvline(21, color=\"gray\", label=\"Optimal tree number\")\n",
    "plt.xlabel(\"Number of trees\")\n",
    "plt.ylabel(\"Loss\")\n",
    "plt.legend()\n",
    "plt.show()"
   ]
  },
  {
   "cell_type": "code",
   "execution_count": 83,
   "metadata": {},
   "outputs": [],
   "source": [
    "X_train, X_test, y_train, y_test = train_test_split(X, y, test_size=0.2, random_state=420)"
   ]
  },
  {
   "cell_type": "code",
   "execution_count": 84,
   "metadata": {},
   "outputs": [],
   "source": [
    "params_CV_xgb = {\n",
    "    'n_estimators': [100, 300],\n",
    "    'learning_rate': [0.05, 0.03],\n",
    "    'max_depth': [4, 6],\n",
    "    'eval_metric': ['rmse'],\n",
    "    'colsample_bytree': [1],\n",
    "    'subsample': [0.8],\n",
    "    'reg_alpha': [0, 1],\n",
    "    'grow_policy': ['depthwise'],\n",
    "    'reg_lambda': [0, 3],\n",
    "    'gamma':[0, 3]\n",
    "}\n"
   ]
  },
  {
   "cell_type": "code",
   "execution_count": 90,
   "metadata": {
    "id": "iO0NKsE6d5sr"
   },
   "outputs": [],
   "source": [
    "model = XGBRegressor()\n",
    "kf=KFold(n_splits=2)\n",
    "model_cv = GridSearchCV(estimator = model, \n",
    "                        param_grid = params_CV_xgb, \n",
    "                        scoring= 'neg_root_mean_squared_error', \n",
    "                        cv = kf, \n",
    "                        verbose = 100,\n",
    "                        return_train_score=True)  "
   ]
  },
  {
   "cell_type": "code",
   "execution_count": 89,
   "metadata": {},
   "outputs": [
    {
     "data": {
      "text/plain": [
       "dict_keys(['explained_variance', 'r2', 'max_error', 'neg_median_absolute_error', 'neg_mean_absolute_error', 'neg_mean_absolute_percentage_error', 'neg_mean_squared_error', 'neg_mean_squared_log_error', 'neg_root_mean_squared_error', 'neg_mean_poisson_deviance', 'neg_mean_gamma_deviance', 'accuracy', 'top_k_accuracy', 'roc_auc', 'roc_auc_ovr', 'roc_auc_ovo', 'roc_auc_ovr_weighted', 'roc_auc_ovo_weighted', 'balanced_accuracy', 'average_precision', 'neg_log_loss', 'neg_brier_score', 'adjusted_rand_score', 'rand_score', 'homogeneity_score', 'completeness_score', 'v_measure_score', 'mutual_info_score', 'adjusted_mutual_info_score', 'normalized_mutual_info_score', 'fowlkes_mallows_score', 'precision', 'precision_macro', 'precision_micro', 'precision_samples', 'precision_weighted', 'recall', 'recall_macro', 'recall_micro', 'recall_samples', 'recall_weighted', 'f1', 'f1_macro', 'f1_micro', 'f1_samples', 'f1_weighted', 'jaccard', 'jaccard_macro', 'jaccard_micro', 'jaccard_samples', 'jaccard_weighted'])"
      ]
     },
     "execution_count": 89,
     "metadata": {},
     "output_type": "execute_result"
    }
   ],
   "source": [
    "import sklearn\n",
    "sklearn.metrics.SCORERS.keys()"
   ]
  },
  {
   "cell_type": "code",
   "execution_count": 91,
   "metadata": {},
   "outputs": [
    {
     "name": "stdout",
     "output_type": "stream",
     "text": [
      "Fitting 2 folds for each of 64 candidates, totalling 128 fits\n",
      "[CV 1/2; 1/64] START colsample_bytree=1, eval_metric=rmse, gamma=0, grow_policy=depthwise, learning_rate=0.05, max_depth=4, n_estimators=100, reg_alpha=0, reg_lambda=0, subsample=0.8\n",
      "[CV 1/2; 1/64] END colsample_bytree=1, eval_metric=rmse, gamma=0, grow_policy=depthwise, learning_rate=0.05, max_depth=4, n_estimators=100, reg_alpha=0, reg_lambda=0, subsample=0.8;, score=(train=-0.025, test=-0.029) total time=   1.4s\n",
      "[CV 2/2; 1/64] START colsample_bytree=1, eval_metric=rmse, gamma=0, grow_policy=depthwise, learning_rate=0.05, max_depth=4, n_estimators=100, reg_alpha=0, reg_lambda=0, subsample=0.8\n",
      "[CV 2/2; 1/64] END colsample_bytree=1, eval_metric=rmse, gamma=0, grow_policy=depthwise, learning_rate=0.05, max_depth=4, n_estimators=100, reg_alpha=0, reg_lambda=0, subsample=0.8;, score=(train=-0.025, test=-0.028) total time=   1.4s\n",
      "[CV 1/2; 2/64] START colsample_bytree=1, eval_metric=rmse, gamma=0, grow_policy=depthwise, learning_rate=0.05, max_depth=4, n_estimators=100, reg_alpha=0, reg_lambda=3, subsample=0.8\n",
      "[CV 1/2; 2/64] END colsample_bytree=1, eval_metric=rmse, gamma=0, grow_policy=depthwise, learning_rate=0.05, max_depth=4, n_estimators=100, reg_alpha=0, reg_lambda=3, subsample=0.8;, score=(train=-0.026, test=-0.030) total time=   1.4s\n",
      "[CV 2/2; 2/64] START colsample_bytree=1, eval_metric=rmse, gamma=0, grow_policy=depthwise, learning_rate=0.05, max_depth=4, n_estimators=100, reg_alpha=0, reg_lambda=3, subsample=0.8\n",
      "[CV 2/2; 2/64] END colsample_bytree=1, eval_metric=rmse, gamma=0, grow_policy=depthwise, learning_rate=0.05, max_depth=4, n_estimators=100, reg_alpha=0, reg_lambda=3, subsample=0.8;, score=(train=-0.026, test=-0.029) total time=   1.5s\n",
      "[CV 1/2; 3/64] START colsample_bytree=1, eval_metric=rmse, gamma=0, grow_policy=depthwise, learning_rate=0.05, max_depth=4, n_estimators=100, reg_alpha=1, reg_lambda=0, subsample=0.8\n",
      "[CV 1/2; 3/64] END colsample_bytree=1, eval_metric=rmse, gamma=0, grow_policy=depthwise, learning_rate=0.05, max_depth=4, n_estimators=100, reg_alpha=1, reg_lambda=0, subsample=0.8;, score=(train=-0.029, test=-0.032) total time=   1.5s\n",
      "[CV 2/2; 3/64] START colsample_bytree=1, eval_metric=rmse, gamma=0, grow_policy=depthwise, learning_rate=0.05, max_depth=4, n_estimators=100, reg_alpha=1, reg_lambda=0, subsample=0.8\n",
      "[CV 2/2; 3/64] END colsample_bytree=1, eval_metric=rmse, gamma=0, grow_policy=depthwise, learning_rate=0.05, max_depth=4, n_estimators=100, reg_alpha=1, reg_lambda=0, subsample=0.8;, score=(train=-0.030, test=-0.031) total time=   1.4s\n",
      "[CV 1/2; 4/64] START colsample_bytree=1, eval_metric=rmse, gamma=0, grow_policy=depthwise, learning_rate=0.05, max_depth=4, n_estimators=100, reg_alpha=1, reg_lambda=3, subsample=0.8\n",
      "[CV 1/2; 4/64] END colsample_bytree=1, eval_metric=rmse, gamma=0, grow_policy=depthwise, learning_rate=0.05, max_depth=4, n_estimators=100, reg_alpha=1, reg_lambda=3, subsample=0.8;, score=(train=-0.029, test=-0.032) total time=   1.4s\n",
      "[CV 2/2; 4/64] START colsample_bytree=1, eval_metric=rmse, gamma=0, grow_policy=depthwise, learning_rate=0.05, max_depth=4, n_estimators=100, reg_alpha=1, reg_lambda=3, subsample=0.8\n",
      "[CV 2/2; 4/64] END colsample_bytree=1, eval_metric=rmse, gamma=0, grow_policy=depthwise, learning_rate=0.05, max_depth=4, n_estimators=100, reg_alpha=1, reg_lambda=3, subsample=0.8;, score=(train=-0.030, test=-0.031) total time=   1.4s\n",
      "[CV 1/2; 5/64] START colsample_bytree=1, eval_metric=rmse, gamma=0, grow_policy=depthwise, learning_rate=0.05, max_depth=4, n_estimators=300, reg_alpha=0, reg_lambda=0, subsample=0.8\n",
      "[CV 1/2; 5/64] END colsample_bytree=1, eval_metric=rmse, gamma=0, grow_policy=depthwise, learning_rate=0.05, max_depth=4, n_estimators=300, reg_alpha=0, reg_lambda=0, subsample=0.8;, score=(train=-0.018, test=-0.026) total time=   4.6s\n",
      "[CV 2/2; 5/64] START colsample_bytree=1, eval_metric=rmse, gamma=0, grow_policy=depthwise, learning_rate=0.05, max_depth=4, n_estimators=300, reg_alpha=0, reg_lambda=0, subsample=0.8\n",
      "[CV 2/2; 5/64] END colsample_bytree=1, eval_metric=rmse, gamma=0, grow_policy=depthwise, learning_rate=0.05, max_depth=4, n_estimators=300, reg_alpha=0, reg_lambda=0, subsample=0.8;, score=(train=-0.019, test=-0.026) total time=   4.4s\n",
      "[CV 1/2; 6/64] START colsample_bytree=1, eval_metric=rmse, gamma=0, grow_policy=depthwise, learning_rate=0.05, max_depth=4, n_estimators=300, reg_alpha=0, reg_lambda=3, subsample=0.8\n",
      "[CV 1/2; 6/64] END colsample_bytree=1, eval_metric=rmse, gamma=0, grow_policy=depthwise, learning_rate=0.05, max_depth=4, n_estimators=300, reg_alpha=0, reg_lambda=3, subsample=0.8;, score=(train=-0.019, test=-0.026) total time=   4.2s\n",
      "[CV 2/2; 6/64] START colsample_bytree=1, eval_metric=rmse, gamma=0, grow_policy=depthwise, learning_rate=0.05, max_depth=4, n_estimators=300, reg_alpha=0, reg_lambda=3, subsample=0.8\n",
      "[CV 2/2; 6/64] END colsample_bytree=1, eval_metric=rmse, gamma=0, grow_policy=depthwise, learning_rate=0.05, max_depth=4, n_estimators=300, reg_alpha=0, reg_lambda=3, subsample=0.8;, score=(train=-0.019, test=-0.026) total time=   4.2s\n",
      "[CV 1/2; 7/64] START colsample_bytree=1, eval_metric=rmse, gamma=0, grow_policy=depthwise, learning_rate=0.05, max_depth=4, n_estimators=300, reg_alpha=1, reg_lambda=0, subsample=0.8\n",
      "[CV 1/2; 7/64] END colsample_bytree=1, eval_metric=rmse, gamma=0, grow_policy=depthwise, learning_rate=0.05, max_depth=4, n_estimators=300, reg_alpha=1, reg_lambda=0, subsample=0.8;, score=(train=-0.023, test=-0.027) total time=   4.3s\n",
      "[CV 2/2; 7/64] START colsample_bytree=1, eval_metric=rmse, gamma=0, grow_policy=depthwise, learning_rate=0.05, max_depth=4, n_estimators=300, reg_alpha=1, reg_lambda=0, subsample=0.8\n",
      "[CV 2/2; 7/64] END colsample_bytree=1, eval_metric=rmse, gamma=0, grow_policy=depthwise, learning_rate=0.05, max_depth=4, n_estimators=300, reg_alpha=1, reg_lambda=0, subsample=0.8;, score=(train=-0.023, test=-0.027) total time=   4.3s\n",
      "[CV 1/2; 8/64] START colsample_bytree=1, eval_metric=rmse, gamma=0, grow_policy=depthwise, learning_rate=0.05, max_depth=4, n_estimators=300, reg_alpha=1, reg_lambda=3, subsample=0.8\n",
      "[CV 1/2; 8/64] END colsample_bytree=1, eval_metric=rmse, gamma=0, grow_policy=depthwise, learning_rate=0.05, max_depth=4, n_estimators=300, reg_alpha=1, reg_lambda=3, subsample=0.8;, score=(train=-0.023, test=-0.027) total time=   4.3s\n",
      "[CV 2/2; 8/64] START colsample_bytree=1, eval_metric=rmse, gamma=0, grow_policy=depthwise, learning_rate=0.05, max_depth=4, n_estimators=300, reg_alpha=1, reg_lambda=3, subsample=0.8\n",
      "[CV 2/2; 8/64] END colsample_bytree=1, eval_metric=rmse, gamma=0, grow_policy=depthwise, learning_rate=0.05, max_depth=4, n_estimators=300, reg_alpha=1, reg_lambda=3, subsample=0.8;, score=(train=-0.023, test=-0.027) total time=   4.3s\n",
      "[CV 1/2; 9/64] START colsample_bytree=1, eval_metric=rmse, gamma=0, grow_policy=depthwise, learning_rate=0.05, max_depth=6, n_estimators=100, reg_alpha=0, reg_lambda=0, subsample=0.8\n",
      "[CV 1/2; 9/64] END colsample_bytree=1, eval_metric=rmse, gamma=0, grow_policy=depthwise, learning_rate=0.05, max_depth=6, n_estimators=100, reg_alpha=0, reg_lambda=0, subsample=0.8;, score=(train=-0.017, test=-0.026) total time=   2.1s\n",
      "[CV 2/2; 9/64] START colsample_bytree=1, eval_metric=rmse, gamma=0, grow_policy=depthwise, learning_rate=0.05, max_depth=6, n_estimators=100, reg_alpha=0, reg_lambda=0, subsample=0.8\n",
      "[CV 2/2; 9/64] END colsample_bytree=1, eval_metric=rmse, gamma=0, grow_policy=depthwise, learning_rate=0.05, max_depth=6, n_estimators=100, reg_alpha=0, reg_lambda=0, subsample=0.8;, score=(train=-0.017, test=-0.026) total time=   2.1s\n",
      "[CV 1/2; 10/64] START colsample_bytree=1, eval_metric=rmse, gamma=0, grow_policy=depthwise, learning_rate=0.05, max_depth=6, n_estimators=100, reg_alpha=0, reg_lambda=3, subsample=0.8\n",
      "[CV 1/2; 10/64] END colsample_bytree=1, eval_metric=rmse, gamma=0, grow_policy=depthwise, learning_rate=0.05, max_depth=6, n_estimators=100, reg_alpha=0, reg_lambda=3, subsample=0.8;, score=(train=-0.021, test=-0.028) total time=   1.9s\n",
      "[CV 2/2; 10/64] START colsample_bytree=1, eval_metric=rmse, gamma=0, grow_policy=depthwise, learning_rate=0.05, max_depth=6, n_estimators=100, reg_alpha=0, reg_lambda=3, subsample=0.8\n",
      "[CV 2/2; 10/64] END colsample_bytree=1, eval_metric=rmse, gamma=0, grow_policy=depthwise, learning_rate=0.05, max_depth=6, n_estimators=100, reg_alpha=0, reg_lambda=3, subsample=0.8;, score=(train=-0.021, test=-0.027) total time=   1.9s\n",
      "[CV 1/2; 11/64] START colsample_bytree=1, eval_metric=rmse, gamma=0, grow_policy=depthwise, learning_rate=0.05, max_depth=6, n_estimators=100, reg_alpha=1, reg_lambda=0, subsample=0.8\n",
      "[CV 1/2; 11/64] END colsample_bytree=1, eval_metric=rmse, gamma=0, grow_policy=depthwise, learning_rate=0.05, max_depth=6, n_estimators=100, reg_alpha=1, reg_lambda=0, subsample=0.8;, score=(train=-0.027, test=-0.031) total time=   1.8s\n",
      "[CV 2/2; 11/64] START colsample_bytree=1, eval_metric=rmse, gamma=0, grow_policy=depthwise, learning_rate=0.05, max_depth=6, n_estimators=100, reg_alpha=1, reg_lambda=0, subsample=0.8\n",
      "[CV 2/2; 11/64] END colsample_bytree=1, eval_metric=rmse, gamma=0, grow_policy=depthwise, learning_rate=0.05, max_depth=6, n_estimators=100, reg_alpha=1, reg_lambda=0, subsample=0.8;, score=(train=-0.028, test=-0.031) total time=   1.8s\n",
      "[CV 1/2; 12/64] START colsample_bytree=1, eval_metric=rmse, gamma=0, grow_policy=depthwise, learning_rate=0.05, max_depth=6, n_estimators=100, reg_alpha=1, reg_lambda=3, subsample=0.8\n",
      "[CV 1/2; 12/64] END colsample_bytree=1, eval_metric=rmse, gamma=0, grow_policy=depthwise, learning_rate=0.05, max_depth=6, n_estimators=100, reg_alpha=1, reg_lambda=3, subsample=0.8;, score=(train=-0.028, test=-0.031) total time=   1.9s\n",
      "[CV 2/2; 12/64] START colsample_bytree=1, eval_metric=rmse, gamma=0, grow_policy=depthwise, learning_rate=0.05, max_depth=6, n_estimators=100, reg_alpha=1, reg_lambda=3, subsample=0.8\n",
      "[CV 2/2; 12/64] END colsample_bytree=1, eval_metric=rmse, gamma=0, grow_policy=depthwise, learning_rate=0.05, max_depth=6, n_estimators=100, reg_alpha=1, reg_lambda=3, subsample=0.8;, score=(train=-0.028, test=-0.031) total time=   1.8s\n",
      "[CV 1/2; 13/64] START colsample_bytree=1, eval_metric=rmse, gamma=0, grow_policy=depthwise, learning_rate=0.05, max_depth=6, n_estimators=300, reg_alpha=0, reg_lambda=0, subsample=0.8\n",
      "[CV 1/2; 13/64] END colsample_bytree=1, eval_metric=rmse, gamma=0, grow_policy=depthwise, learning_rate=0.05, max_depth=6, n_estimators=300, reg_alpha=0, reg_lambda=0, subsample=0.8;, score=(train=-0.010, test=-0.024) total time=   6.2s\n",
      "[CV 2/2; 13/64] START colsample_bytree=1, eval_metric=rmse, gamma=0, grow_policy=depthwise, learning_rate=0.05, max_depth=6, n_estimators=300, reg_alpha=0, reg_lambda=0, subsample=0.8\n",
      "[CV 2/2; 13/64] END colsample_bytree=1, eval_metric=rmse, gamma=0, grow_policy=depthwise, learning_rate=0.05, max_depth=6, n_estimators=300, reg_alpha=0, reg_lambda=0, subsample=0.8;, score=(train=-0.010, test=-0.024) total time=   6.2s\n",
      "[CV 1/2; 14/64] START colsample_bytree=1, eval_metric=rmse, gamma=0, grow_policy=depthwise, learning_rate=0.05, max_depth=6, n_estimators=300, reg_alpha=0, reg_lambda=3, subsample=0.8\n",
      "[CV 1/2; 14/64] END colsample_bytree=1, eval_metric=rmse, gamma=0, grow_policy=depthwise, learning_rate=0.05, max_depth=6, n_estimators=300, reg_alpha=0, reg_lambda=3, subsample=0.8;, score=(train=-0.011, test=-0.024) total time=   6.0s\n",
      "[CV 2/2; 14/64] START colsample_bytree=1, eval_metric=rmse, gamma=0, grow_policy=depthwise, learning_rate=0.05, max_depth=6, n_estimators=300, reg_alpha=0, reg_lambda=3, subsample=0.8\n",
      "[CV 2/2; 14/64] END colsample_bytree=1, eval_metric=rmse, gamma=0, grow_policy=depthwise, learning_rate=0.05, max_depth=6, n_estimators=300, reg_alpha=0, reg_lambda=3, subsample=0.8;, score=(train=-0.012, test=-0.024) total time=   6.1s\n",
      "[CV 1/2; 15/64] START colsample_bytree=1, eval_metric=rmse, gamma=0, grow_policy=depthwise, learning_rate=0.05, max_depth=6, n_estimators=300, reg_alpha=1, reg_lambda=0, subsample=0.8\n",
      "[CV 1/2; 15/64] END colsample_bytree=1, eval_metric=rmse, gamma=0, grow_policy=depthwise, learning_rate=0.05, max_depth=6, n_estimators=300, reg_alpha=1, reg_lambda=0, subsample=0.8;, score=(train=-0.019, test=-0.026) total time=   6.0s\n",
      "[CV 2/2; 15/64] START colsample_bytree=1, eval_metric=rmse, gamma=0, grow_policy=depthwise, learning_rate=0.05, max_depth=6, n_estimators=300, reg_alpha=1, reg_lambda=0, subsample=0.8\n",
      "[CV 2/2; 15/64] END colsample_bytree=1, eval_metric=rmse, gamma=0, grow_policy=depthwise, learning_rate=0.05, max_depth=6, n_estimators=300, reg_alpha=1, reg_lambda=0, subsample=0.8;, score=(train=-0.020, test=-0.025) total time=   6.0s\n",
      "[CV 1/2; 16/64] START colsample_bytree=1, eval_metric=rmse, gamma=0, grow_policy=depthwise, learning_rate=0.05, max_depth=6, n_estimators=300, reg_alpha=1, reg_lambda=3, subsample=0.8\n",
      "[CV 1/2; 16/64] END colsample_bytree=1, eval_metric=rmse, gamma=0, grow_policy=depthwise, learning_rate=0.05, max_depth=6, n_estimators=300, reg_alpha=1, reg_lambda=3, subsample=0.8;, score=(train=-0.019, test=-0.026) total time=   6.4s\n",
      "[CV 2/2; 16/64] START colsample_bytree=1, eval_metric=rmse, gamma=0, grow_policy=depthwise, learning_rate=0.05, max_depth=6, n_estimators=300, reg_alpha=1, reg_lambda=3, subsample=0.8\n",
      "[CV 2/2; 16/64] END colsample_bytree=1, eval_metric=rmse, gamma=0, grow_policy=depthwise, learning_rate=0.05, max_depth=6, n_estimators=300, reg_alpha=1, reg_lambda=3, subsample=0.8;, score=(train=-0.020, test=-0.025) total time=   6.4s\n",
      "[CV 1/2; 17/64] START colsample_bytree=1, eval_metric=rmse, gamma=0, grow_policy=depthwise, learning_rate=0.03, max_depth=4, n_estimators=100, reg_alpha=0, reg_lambda=0, subsample=0.8\n",
      "[CV 1/2; 17/64] END colsample_bytree=1, eval_metric=rmse, gamma=0, grow_policy=depthwise, learning_rate=0.03, max_depth=4, n_estimators=100, reg_alpha=0, reg_lambda=0, subsample=0.8;, score=(train=-0.036, test=-0.038) total time=   1.5s\n",
      "[CV 2/2; 17/64] START colsample_bytree=1, eval_metric=rmse, gamma=0, grow_policy=depthwise, learning_rate=0.03, max_depth=4, n_estimators=100, reg_alpha=0, reg_lambda=0, subsample=0.8\n",
      "[CV 2/2; 17/64] END colsample_bytree=1, eval_metric=rmse, gamma=0, grow_policy=depthwise, learning_rate=0.03, max_depth=4, n_estimators=100, reg_alpha=0, reg_lambda=0, subsample=0.8;, score=(train=-0.036, test=-0.038) total time=   1.5s\n",
      "[CV 1/2; 18/64] START colsample_bytree=1, eval_metric=rmse, gamma=0, grow_policy=depthwise, learning_rate=0.03, max_depth=4, n_estimators=100, reg_alpha=0, reg_lambda=3, subsample=0.8\n",
      "[CV 1/2; 18/64] END colsample_bytree=1, eval_metric=rmse, gamma=0, grow_policy=depthwise, learning_rate=0.03, max_depth=4, n_estimators=100, reg_alpha=0, reg_lambda=3, subsample=0.8;, score=(train=-0.037, test=-0.039) total time=   1.4s\n",
      "[CV 2/2; 18/64] START colsample_bytree=1, eval_metric=rmse, gamma=0, grow_policy=depthwise, learning_rate=0.03, max_depth=4, n_estimators=100, reg_alpha=0, reg_lambda=3, subsample=0.8\n",
      "[CV 2/2; 18/64] END colsample_bytree=1, eval_metric=rmse, gamma=0, grow_policy=depthwise, learning_rate=0.03, max_depth=4, n_estimators=100, reg_alpha=0, reg_lambda=3, subsample=0.8;, score=(train=-0.038, test=-0.039) total time=   1.4s\n",
      "[CV 1/2; 19/64] START colsample_bytree=1, eval_metric=rmse, gamma=0, grow_policy=depthwise, learning_rate=0.03, max_depth=4, n_estimators=100, reg_alpha=1, reg_lambda=0, subsample=0.8\n",
      "[CV 1/2; 19/64] END colsample_bytree=1, eval_metric=rmse, gamma=0, grow_policy=depthwise, learning_rate=0.03, max_depth=4, n_estimators=100, reg_alpha=1, reg_lambda=0, subsample=0.8;, score=(train=-0.040, test=-0.042) total time=   1.3s\n",
      "[CV 2/2; 19/64] START colsample_bytree=1, eval_metric=rmse, gamma=0, grow_policy=depthwise, learning_rate=0.03, max_depth=4, n_estimators=100, reg_alpha=1, reg_lambda=0, subsample=0.8\n",
      "[CV 2/2; 19/64] END colsample_bytree=1, eval_metric=rmse, gamma=0, grow_policy=depthwise, learning_rate=0.03, max_depth=4, n_estimators=100, reg_alpha=1, reg_lambda=0, subsample=0.8;, score=(train=-0.041, test=-0.041) total time=   1.3s\n",
      "[CV 1/2; 20/64] START colsample_bytree=1, eval_metric=rmse, gamma=0, grow_policy=depthwise, learning_rate=0.03, max_depth=4, n_estimators=100, reg_alpha=1, reg_lambda=3, subsample=0.8\n",
      "[CV 1/2; 20/64] END colsample_bytree=1, eval_metric=rmse, gamma=0, grow_policy=depthwise, learning_rate=0.03, max_depth=4, n_estimators=100, reg_alpha=1, reg_lambda=3, subsample=0.8;, score=(train=-0.040, test=-0.042) total time=   1.3s\n",
      "[CV 2/2; 20/64] START colsample_bytree=1, eval_metric=rmse, gamma=0, grow_policy=depthwise, learning_rate=0.03, max_depth=4, n_estimators=100, reg_alpha=1, reg_lambda=3, subsample=0.8\n",
      "[CV 2/2; 20/64] END colsample_bytree=1, eval_metric=rmse, gamma=0, grow_policy=depthwise, learning_rate=0.03, max_depth=4, n_estimators=100, reg_alpha=1, reg_lambda=3, subsample=0.8;, score=(train=-0.041, test=-0.041) total time=   1.3s\n",
      "[CV 1/2; 21/64] START colsample_bytree=1, eval_metric=rmse, gamma=0, grow_policy=depthwise, learning_rate=0.03, max_depth=4, n_estimators=300, reg_alpha=0, reg_lambda=0, subsample=0.8\n",
      "[CV 1/2; 21/64] END colsample_bytree=1, eval_metric=rmse, gamma=0, grow_policy=depthwise, learning_rate=0.03, max_depth=4, n_estimators=300, reg_alpha=0, reg_lambda=0, subsample=0.8;, score=(train=-0.022, test=-0.028) total time=   4.3s\n",
      "[CV 2/2; 21/64] START colsample_bytree=1, eval_metric=rmse, gamma=0, grow_policy=depthwise, learning_rate=0.03, max_depth=4, n_estimators=300, reg_alpha=0, reg_lambda=0, subsample=0.8\n",
      "[CV 2/2; 21/64] END colsample_bytree=1, eval_metric=rmse, gamma=0, grow_policy=depthwise, learning_rate=0.03, max_depth=4, n_estimators=300, reg_alpha=0, reg_lambda=0, subsample=0.8;, score=(train=-0.022, test=-0.027) total time=   4.3s\n",
      "[CV 1/2; 22/64] START colsample_bytree=1, eval_metric=rmse, gamma=0, grow_policy=depthwise, learning_rate=0.03, max_depth=4, n_estimators=300, reg_alpha=0, reg_lambda=3, subsample=0.8\n",
      "[CV 1/2; 22/64] END colsample_bytree=1, eval_metric=rmse, gamma=0, grow_policy=depthwise, learning_rate=0.03, max_depth=4, n_estimators=300, reg_alpha=0, reg_lambda=3, subsample=0.8;, score=(train=-0.023, test=-0.028) total time=   4.2s\n",
      "[CV 2/2; 22/64] START colsample_bytree=1, eval_metric=rmse, gamma=0, grow_policy=depthwise, learning_rate=0.03, max_depth=4, n_estimators=300, reg_alpha=0, reg_lambda=3, subsample=0.8\n",
      "[CV 2/2; 22/64] END colsample_bytree=1, eval_metric=rmse, gamma=0, grow_policy=depthwise, learning_rate=0.03, max_depth=4, n_estimators=300, reg_alpha=0, reg_lambda=3, subsample=0.8;, score=(train=-0.023, test=-0.027) total time=   4.2s\n",
      "[CV 1/2; 23/64] START colsample_bytree=1, eval_metric=rmse, gamma=0, grow_policy=depthwise, learning_rate=0.03, max_depth=4, n_estimators=300, reg_alpha=1, reg_lambda=0, subsample=0.8\n",
      "[CV 1/2; 23/64] END colsample_bytree=1, eval_metric=rmse, gamma=0, grow_policy=depthwise, learning_rate=0.03, max_depth=4, n_estimators=300, reg_alpha=1, reg_lambda=0, subsample=0.8;, score=(train=-0.026, test=-0.029) total time=   4.2s\n",
      "[CV 2/2; 23/64] START colsample_bytree=1, eval_metric=rmse, gamma=0, grow_policy=depthwise, learning_rate=0.03, max_depth=4, n_estimators=300, reg_alpha=1, reg_lambda=0, subsample=0.8\n",
      "[CV 2/2; 23/64] END colsample_bytree=1, eval_metric=rmse, gamma=0, grow_policy=depthwise, learning_rate=0.03, max_depth=4, n_estimators=300, reg_alpha=1, reg_lambda=0, subsample=0.8;, score=(train=-0.026, test=-0.028) total time=   4.2s\n",
      "[CV 1/2; 24/64] START colsample_bytree=1, eval_metric=rmse, gamma=0, grow_policy=depthwise, learning_rate=0.03, max_depth=4, n_estimators=300, reg_alpha=1, reg_lambda=3, subsample=0.8\n",
      "[CV 1/2; 24/64] END colsample_bytree=1, eval_metric=rmse, gamma=0, grow_policy=depthwise, learning_rate=0.03, max_depth=4, n_estimators=300, reg_alpha=1, reg_lambda=3, subsample=0.8;, score=(train=-0.026, test=-0.030) total time=   4.2s\n",
      "[CV 2/2; 24/64] START colsample_bytree=1, eval_metric=rmse, gamma=0, grow_policy=depthwise, learning_rate=0.03, max_depth=4, n_estimators=300, reg_alpha=1, reg_lambda=3, subsample=0.8\n",
      "[CV 2/2; 24/64] END colsample_bytree=1, eval_metric=rmse, gamma=0, grow_policy=depthwise, learning_rate=0.03, max_depth=4, n_estimators=300, reg_alpha=1, reg_lambda=3, subsample=0.8;, score=(train=-0.026, test=-0.028) total time=   4.2s\n",
      "[CV 1/2; 25/64] START colsample_bytree=1, eval_metric=rmse, gamma=0, grow_policy=depthwise, learning_rate=0.03, max_depth=6, n_estimators=100, reg_alpha=0, reg_lambda=0, subsample=0.8\n",
      "[CV 1/2; 25/64] END colsample_bytree=1, eval_metric=rmse, gamma=0, grow_policy=depthwise, learning_rate=0.03, max_depth=6, n_estimators=100, reg_alpha=0, reg_lambda=0, subsample=0.8;, score=(train=-0.031, test=-0.036) total time=   2.1s\n",
      "[CV 2/2; 25/64] START colsample_bytree=1, eval_metric=rmse, gamma=0, grow_policy=depthwise, learning_rate=0.03, max_depth=6, n_estimators=100, reg_alpha=0, reg_lambda=0, subsample=0.8\n",
      "[CV 2/2; 25/64] END colsample_bytree=1, eval_metric=rmse, gamma=0, grow_policy=depthwise, learning_rate=0.03, max_depth=6, n_estimators=100, reg_alpha=0, reg_lambda=0, subsample=0.8;, score=(train=-0.031, test=-0.035) total time=   2.1s\n",
      "[CV 1/2; 26/64] START colsample_bytree=1, eval_metric=rmse, gamma=0, grow_policy=depthwise, learning_rate=0.03, max_depth=6, n_estimators=100, reg_alpha=0, reg_lambda=3, subsample=0.8\n",
      "[CV 1/2; 26/64] END colsample_bytree=1, eval_metric=rmse, gamma=0, grow_policy=depthwise, learning_rate=0.03, max_depth=6, n_estimators=100, reg_alpha=0, reg_lambda=3, subsample=0.8;, score=(train=-0.035, test=-0.038) total time=   1.8s\n",
      "[CV 2/2; 26/64] START colsample_bytree=1, eval_metric=rmse, gamma=0, grow_policy=depthwise, learning_rate=0.03, max_depth=6, n_estimators=100, reg_alpha=0, reg_lambda=3, subsample=0.8\n",
      "[CV 2/2; 26/64] END colsample_bytree=1, eval_metric=rmse, gamma=0, grow_policy=depthwise, learning_rate=0.03, max_depth=6, n_estimators=100, reg_alpha=0, reg_lambda=3, subsample=0.8;, score=(train=-0.035, test=-0.038) total time=   1.8s\n",
      "[CV 1/2; 27/64] START colsample_bytree=1, eval_metric=rmse, gamma=0, grow_policy=depthwise, learning_rate=0.03, max_depth=6, n_estimators=100, reg_alpha=1, reg_lambda=0, subsample=0.8\n",
      "[CV 1/2; 27/64] END colsample_bytree=1, eval_metric=rmse, gamma=0, grow_policy=depthwise, learning_rate=0.03, max_depth=6, n_estimators=100, reg_alpha=1, reg_lambda=0, subsample=0.8;, score=(train=-0.040, test=-0.042) total time=   1.7s\n",
      "[CV 2/2; 27/64] START colsample_bytree=1, eval_metric=rmse, gamma=0, grow_policy=depthwise, learning_rate=0.03, max_depth=6, n_estimators=100, reg_alpha=1, reg_lambda=0, subsample=0.8\n",
      "[CV 2/2; 27/64] END colsample_bytree=1, eval_metric=rmse, gamma=0, grow_policy=depthwise, learning_rate=0.03, max_depth=6, n_estimators=100, reg_alpha=1, reg_lambda=0, subsample=0.8;, score=(train=-0.040, test=-0.041) total time=   1.7s\n",
      "[CV 1/2; 28/64] START colsample_bytree=1, eval_metric=rmse, gamma=0, grow_policy=depthwise, learning_rate=0.03, max_depth=6, n_estimators=100, reg_alpha=1, reg_lambda=3, subsample=0.8\n",
      "[CV 1/2; 28/64] END colsample_bytree=1, eval_metric=rmse, gamma=0, grow_policy=depthwise, learning_rate=0.03, max_depth=6, n_estimators=100, reg_alpha=1, reg_lambda=3, subsample=0.8;, score=(train=-0.040, test=-0.042) total time=   1.9s\n",
      "[CV 2/2; 28/64] START colsample_bytree=1, eval_metric=rmse, gamma=0, grow_policy=depthwise, learning_rate=0.03, max_depth=6, n_estimators=100, reg_alpha=1, reg_lambda=3, subsample=0.8\n",
      "[CV 2/2; 28/64] END colsample_bytree=1, eval_metric=rmse, gamma=0, grow_policy=depthwise, learning_rate=0.03, max_depth=6, n_estimators=100, reg_alpha=1, reg_lambda=3, subsample=0.8;, score=(train=-0.040, test=-0.041) total time=   2.0s\n",
      "[CV 1/2; 29/64] START colsample_bytree=1, eval_metric=rmse, gamma=0, grow_policy=depthwise, learning_rate=0.03, max_depth=6, n_estimators=300, reg_alpha=0, reg_lambda=0, subsample=0.8\n",
      "[CV 1/2; 29/64] END colsample_bytree=1, eval_metric=rmse, gamma=0, grow_policy=depthwise, learning_rate=0.03, max_depth=6, n_estimators=300, reg_alpha=0, reg_lambda=0, subsample=0.8;, score=(train=-0.013, test=-0.025) total time=   6.7s\n",
      "[CV 2/2; 29/64] START colsample_bytree=1, eval_metric=rmse, gamma=0, grow_policy=depthwise, learning_rate=0.03, max_depth=6, n_estimators=300, reg_alpha=0, reg_lambda=0, subsample=0.8\n",
      "[CV 2/2; 29/64] END colsample_bytree=1, eval_metric=rmse, gamma=0, grow_policy=depthwise, learning_rate=0.03, max_depth=6, n_estimators=300, reg_alpha=0, reg_lambda=0, subsample=0.8;, score=(train=-0.014, test=-0.024) total time=   8.4s\n",
      "[CV 1/2; 30/64] START colsample_bytree=1, eval_metric=rmse, gamma=0, grow_policy=depthwise, learning_rate=0.03, max_depth=6, n_estimators=300, reg_alpha=0, reg_lambda=3, subsample=0.8\n",
      "[CV 1/2; 30/64] END colsample_bytree=1, eval_metric=rmse, gamma=0, grow_policy=depthwise, learning_rate=0.03, max_depth=6, n_estimators=300, reg_alpha=0, reg_lambda=3, subsample=0.8;, score=(train=-0.016, test=-0.026) total time=   7.9s\n",
      "[CV 2/2; 30/64] START colsample_bytree=1, eval_metric=rmse, gamma=0, grow_policy=depthwise, learning_rate=0.03, max_depth=6, n_estimators=300, reg_alpha=0, reg_lambda=3, subsample=0.8\n",
      "[CV 2/2; 30/64] END colsample_bytree=1, eval_metric=rmse, gamma=0, grow_policy=depthwise, learning_rate=0.03, max_depth=6, n_estimators=300, reg_alpha=0, reg_lambda=3, subsample=0.8;, score=(train=-0.016, test=-0.025) total time=   6.7s\n",
      "[CV 1/2; 31/64] START colsample_bytree=1, eval_metric=rmse, gamma=0, grow_policy=depthwise, learning_rate=0.03, max_depth=6, n_estimators=300, reg_alpha=1, reg_lambda=0, subsample=0.8\n",
      "[CV 1/2; 31/64] END colsample_bytree=1, eval_metric=rmse, gamma=0, grow_policy=depthwise, learning_rate=0.03, max_depth=6, n_estimators=300, reg_alpha=1, reg_lambda=0, subsample=0.8;, score=(train=-0.022, test=-0.028) total time=   7.0s\n",
      "[CV 2/2; 31/64] START colsample_bytree=1, eval_metric=rmse, gamma=0, grow_policy=depthwise, learning_rate=0.03, max_depth=6, n_estimators=300, reg_alpha=1, reg_lambda=0, subsample=0.8\n",
      "[CV 2/2; 31/64] END colsample_bytree=1, eval_metric=rmse, gamma=0, grow_policy=depthwise, learning_rate=0.03, max_depth=6, n_estimators=300, reg_alpha=1, reg_lambda=0, subsample=0.8;, score=(train=-0.023, test=-0.027) total time=   7.1s\n",
      "[CV 1/2; 32/64] START colsample_bytree=1, eval_metric=rmse, gamma=0, grow_policy=depthwise, learning_rate=0.03, max_depth=6, n_estimators=300, reg_alpha=1, reg_lambda=3, subsample=0.8\n",
      "[CV 1/2; 32/64] END colsample_bytree=1, eval_metric=rmse, gamma=0, grow_policy=depthwise, learning_rate=0.03, max_depth=6, n_estimators=300, reg_alpha=1, reg_lambda=3, subsample=0.8;, score=(train=-0.023, test=-0.028) total time=   6.5s\n",
      "[CV 2/2; 32/64] START colsample_bytree=1, eval_metric=rmse, gamma=0, grow_policy=depthwise, learning_rate=0.03, max_depth=6, n_estimators=300, reg_alpha=1, reg_lambda=3, subsample=0.8\n",
      "[CV 2/2; 32/64] END colsample_bytree=1, eval_metric=rmse, gamma=0, grow_policy=depthwise, learning_rate=0.03, max_depth=6, n_estimators=300, reg_alpha=1, reg_lambda=3, subsample=0.8;, score=(train=-0.023, test=-0.027) total time=   6.9s\n",
      "[CV 1/2; 33/64] START colsample_bytree=1, eval_metric=rmse, gamma=3, grow_policy=depthwise, learning_rate=0.05, max_depth=4, n_estimators=100, reg_alpha=0, reg_lambda=0, subsample=0.8\n",
      "[CV 1/2; 33/64] END colsample_bytree=1, eval_metric=rmse, gamma=3, grow_policy=depthwise, learning_rate=0.05, max_depth=4, n_estimators=100, reg_alpha=0, reg_lambda=0, subsample=0.8;, score=(train=-0.044, test=-0.045) total time=   1.9s\n",
      "[CV 2/2; 33/64] START colsample_bytree=1, eval_metric=rmse, gamma=3, grow_policy=depthwise, learning_rate=0.05, max_depth=4, n_estimators=100, reg_alpha=0, reg_lambda=0, subsample=0.8\n",
      "[CV 2/2; 33/64] END colsample_bytree=1, eval_metric=rmse, gamma=3, grow_policy=depthwise, learning_rate=0.05, max_depth=4, n_estimators=100, reg_alpha=0, reg_lambda=0, subsample=0.8;, score=(train=-0.045, test=-0.044) total time=   1.8s\n",
      "[CV 1/2; 34/64] START colsample_bytree=1, eval_metric=rmse, gamma=3, grow_policy=depthwise, learning_rate=0.05, max_depth=4, n_estimators=100, reg_alpha=0, reg_lambda=3, subsample=0.8\n",
      "[CV 1/2; 34/64] END colsample_bytree=1, eval_metric=rmse, gamma=3, grow_policy=depthwise, learning_rate=0.05, max_depth=4, n_estimators=100, reg_alpha=0, reg_lambda=3, subsample=0.8;, score=(train=-0.044, test=-0.045) total time=   1.6s\n",
      "[CV 2/2; 34/64] START colsample_bytree=1, eval_metric=rmse, gamma=3, grow_policy=depthwise, learning_rate=0.05, max_depth=4, n_estimators=100, reg_alpha=0, reg_lambda=3, subsample=0.8\n",
      "[CV 2/2; 34/64] END colsample_bytree=1, eval_metric=rmse, gamma=3, grow_policy=depthwise, learning_rate=0.05, max_depth=4, n_estimators=100, reg_alpha=0, reg_lambda=3, subsample=0.8;, score=(train=-0.045, test=-0.044) total time=   1.8s\n",
      "[CV 1/2; 35/64] START colsample_bytree=1, eval_metric=rmse, gamma=3, grow_policy=depthwise, learning_rate=0.05, max_depth=4, n_estimators=100, reg_alpha=1, reg_lambda=0, subsample=0.8\n",
      "[CV 1/2; 35/64] END colsample_bytree=1, eval_metric=rmse, gamma=3, grow_policy=depthwise, learning_rate=0.05, max_depth=4, n_estimators=100, reg_alpha=1, reg_lambda=0, subsample=0.8;, score=(train=-0.044, test=-0.045) total time=   1.6s\n",
      "[CV 2/2; 35/64] START colsample_bytree=1, eval_metric=rmse, gamma=3, grow_policy=depthwise, learning_rate=0.05, max_depth=4, n_estimators=100, reg_alpha=1, reg_lambda=0, subsample=0.8\n",
      "[CV 2/2; 35/64] END colsample_bytree=1, eval_metric=rmse, gamma=3, grow_policy=depthwise, learning_rate=0.05, max_depth=4, n_estimators=100, reg_alpha=1, reg_lambda=0, subsample=0.8;, score=(train=-0.045, test=-0.044) total time=   1.6s\n",
      "[CV 1/2; 36/64] START colsample_bytree=1, eval_metric=rmse, gamma=3, grow_policy=depthwise, learning_rate=0.05, max_depth=4, n_estimators=100, reg_alpha=1, reg_lambda=3, subsample=0.8\n",
      "[CV 1/2; 36/64] END colsample_bytree=1, eval_metric=rmse, gamma=3, grow_policy=depthwise, learning_rate=0.05, max_depth=4, n_estimators=100, reg_alpha=1, reg_lambda=3, subsample=0.8;, score=(train=-0.044, test=-0.045) total time=   1.6s\n",
      "[CV 2/2; 36/64] START colsample_bytree=1, eval_metric=rmse, gamma=3, grow_policy=depthwise, learning_rate=0.05, max_depth=4, n_estimators=100, reg_alpha=1, reg_lambda=3, subsample=0.8\n",
      "[CV 2/2; 36/64] END colsample_bytree=1, eval_metric=rmse, gamma=3, grow_policy=depthwise, learning_rate=0.05, max_depth=4, n_estimators=100, reg_alpha=1, reg_lambda=3, subsample=0.8;, score=(train=-0.045, test=-0.044) total time=   1.6s\n",
      "[CV 1/2; 37/64] START colsample_bytree=1, eval_metric=rmse, gamma=3, grow_policy=depthwise, learning_rate=0.05, max_depth=4, n_estimators=300, reg_alpha=0, reg_lambda=0, subsample=0.8\n",
      "[CV 1/2; 37/64] END colsample_bytree=1, eval_metric=rmse, gamma=3, grow_policy=depthwise, learning_rate=0.05, max_depth=4, n_estimators=300, reg_alpha=0, reg_lambda=0, subsample=0.8;, score=(train=-0.044, test=-0.045) total time=   5.1s\n",
      "[CV 2/2; 37/64] START colsample_bytree=1, eval_metric=rmse, gamma=3, grow_policy=depthwise, learning_rate=0.05, max_depth=4, n_estimators=300, reg_alpha=0, reg_lambda=0, subsample=0.8\n",
      "[CV 2/2; 37/64] END colsample_bytree=1, eval_metric=rmse, gamma=3, grow_policy=depthwise, learning_rate=0.05, max_depth=4, n_estimators=300, reg_alpha=0, reg_lambda=0, subsample=0.8;, score=(train=-0.045, test=-0.044) total time=   5.2s\n",
      "[CV 1/2; 38/64] START colsample_bytree=1, eval_metric=rmse, gamma=3, grow_policy=depthwise, learning_rate=0.05, max_depth=4, n_estimators=300, reg_alpha=0, reg_lambda=3, subsample=0.8\n",
      "[CV 1/2; 38/64] END colsample_bytree=1, eval_metric=rmse, gamma=3, grow_policy=depthwise, learning_rate=0.05, max_depth=4, n_estimators=300, reg_alpha=0, reg_lambda=3, subsample=0.8;, score=(train=-0.044, test=-0.045) total time=   5.4s\n",
      "[CV 2/2; 38/64] START colsample_bytree=1, eval_metric=rmse, gamma=3, grow_policy=depthwise, learning_rate=0.05, max_depth=4, n_estimators=300, reg_alpha=0, reg_lambda=3, subsample=0.8\n",
      "[CV 2/2; 38/64] END colsample_bytree=1, eval_metric=rmse, gamma=3, grow_policy=depthwise, learning_rate=0.05, max_depth=4, n_estimators=300, reg_alpha=0, reg_lambda=3, subsample=0.8;, score=(train=-0.045, test=-0.044) total time=   5.1s\n",
      "[CV 1/2; 39/64] START colsample_bytree=1, eval_metric=rmse, gamma=3, grow_policy=depthwise, learning_rate=0.05, max_depth=4, n_estimators=300, reg_alpha=1, reg_lambda=0, subsample=0.8\n",
      "[CV 1/2; 39/64] END colsample_bytree=1, eval_metric=rmse, gamma=3, grow_policy=depthwise, learning_rate=0.05, max_depth=4, n_estimators=300, reg_alpha=1, reg_lambda=0, subsample=0.8;, score=(train=-0.044, test=-0.045) total time=   5.1s\n",
      "[CV 2/2; 39/64] START colsample_bytree=1, eval_metric=rmse, gamma=3, grow_policy=depthwise, learning_rate=0.05, max_depth=4, n_estimators=300, reg_alpha=1, reg_lambda=0, subsample=0.8\n",
      "[CV 2/2; 39/64] END colsample_bytree=1, eval_metric=rmse, gamma=3, grow_policy=depthwise, learning_rate=0.05, max_depth=4, n_estimators=300, reg_alpha=1, reg_lambda=0, subsample=0.8;, score=(train=-0.045, test=-0.044) total time=   5.0s\n",
      "[CV 1/2; 40/64] START colsample_bytree=1, eval_metric=rmse, gamma=3, grow_policy=depthwise, learning_rate=0.05, max_depth=4, n_estimators=300, reg_alpha=1, reg_lambda=3, subsample=0.8\n",
      "[CV 1/2; 40/64] END colsample_bytree=1, eval_metric=rmse, gamma=3, grow_policy=depthwise, learning_rate=0.05, max_depth=4, n_estimators=300, reg_alpha=1, reg_lambda=3, subsample=0.8;, score=(train=-0.044, test=-0.045) total time=   5.2s\n",
      "[CV 2/2; 40/64] START colsample_bytree=1, eval_metric=rmse, gamma=3, grow_policy=depthwise, learning_rate=0.05, max_depth=4, n_estimators=300, reg_alpha=1, reg_lambda=3, subsample=0.8\n",
      "[CV 2/2; 40/64] END colsample_bytree=1, eval_metric=rmse, gamma=3, grow_policy=depthwise, learning_rate=0.05, max_depth=4, n_estimators=300, reg_alpha=1, reg_lambda=3, subsample=0.8;, score=(train=-0.045, test=-0.044) total time=   5.3s\n",
      "[CV 1/2; 41/64] START colsample_bytree=1, eval_metric=rmse, gamma=3, grow_policy=depthwise, learning_rate=0.05, max_depth=6, n_estimators=100, reg_alpha=0, reg_lambda=0, subsample=0.8\n",
      "[CV 1/2; 41/64] END colsample_bytree=1, eval_metric=rmse, gamma=3, grow_policy=depthwise, learning_rate=0.05, max_depth=6, n_estimators=100, reg_alpha=0, reg_lambda=0, subsample=0.8;, score=(train=-0.044, test=-0.045) total time=   2.7s\n",
      "[CV 2/2; 41/64] START colsample_bytree=1, eval_metric=rmse, gamma=3, grow_policy=depthwise, learning_rate=0.05, max_depth=6, n_estimators=100, reg_alpha=0, reg_lambda=0, subsample=0.8\n",
      "[CV 2/2; 41/64] END colsample_bytree=1, eval_metric=rmse, gamma=3, grow_policy=depthwise, learning_rate=0.05, max_depth=6, n_estimators=100, reg_alpha=0, reg_lambda=0, subsample=0.8;, score=(train=-0.045, test=-0.044) total time=   2.6s\n",
      "[CV 1/2; 42/64] START colsample_bytree=1, eval_metric=rmse, gamma=3, grow_policy=depthwise, learning_rate=0.05, max_depth=6, n_estimators=100, reg_alpha=0, reg_lambda=3, subsample=0.8\n",
      "[CV 1/2; 42/64] END colsample_bytree=1, eval_metric=rmse, gamma=3, grow_policy=depthwise, learning_rate=0.05, max_depth=6, n_estimators=100, reg_alpha=0, reg_lambda=3, subsample=0.8;, score=(train=-0.044, test=-0.045) total time=   2.7s\n",
      "[CV 2/2; 42/64] START colsample_bytree=1, eval_metric=rmse, gamma=3, grow_policy=depthwise, learning_rate=0.05, max_depth=6, n_estimators=100, reg_alpha=0, reg_lambda=3, subsample=0.8\n",
      "[CV 2/2; 42/64] END colsample_bytree=1, eval_metric=rmse, gamma=3, grow_policy=depthwise, learning_rate=0.05, max_depth=6, n_estimators=100, reg_alpha=0, reg_lambda=3, subsample=0.8;, score=(train=-0.045, test=-0.044) total time=   2.5s\n",
      "[CV 1/2; 43/64] START colsample_bytree=1, eval_metric=rmse, gamma=3, grow_policy=depthwise, learning_rate=0.05, max_depth=6, n_estimators=100, reg_alpha=1, reg_lambda=0, subsample=0.8\n",
      "[CV 1/2; 43/64] END colsample_bytree=1, eval_metric=rmse, gamma=3, grow_policy=depthwise, learning_rate=0.05, max_depth=6, n_estimators=100, reg_alpha=1, reg_lambda=0, subsample=0.8;, score=(train=-0.044, test=-0.045) total time=   2.7s\n",
      "[CV 2/2; 43/64] START colsample_bytree=1, eval_metric=rmse, gamma=3, grow_policy=depthwise, learning_rate=0.05, max_depth=6, n_estimators=100, reg_alpha=1, reg_lambda=0, subsample=0.8\n",
      "[CV 2/2; 43/64] END colsample_bytree=1, eval_metric=rmse, gamma=3, grow_policy=depthwise, learning_rate=0.05, max_depth=6, n_estimators=100, reg_alpha=1, reg_lambda=0, subsample=0.8;, score=(train=-0.045, test=-0.044) total time=   2.5s\n",
      "[CV 1/2; 44/64] START colsample_bytree=1, eval_metric=rmse, gamma=3, grow_policy=depthwise, learning_rate=0.05, max_depth=6, n_estimators=100, reg_alpha=1, reg_lambda=3, subsample=0.8\n",
      "[CV 1/2; 44/64] END colsample_bytree=1, eval_metric=rmse, gamma=3, grow_policy=depthwise, learning_rate=0.05, max_depth=6, n_estimators=100, reg_alpha=1, reg_lambda=3, subsample=0.8;, score=(train=-0.044, test=-0.045) total time=   2.5s\n",
      "[CV 2/2; 44/64] START colsample_bytree=1, eval_metric=rmse, gamma=3, grow_policy=depthwise, learning_rate=0.05, max_depth=6, n_estimators=100, reg_alpha=1, reg_lambda=3, subsample=0.8\n",
      "[CV 2/2; 44/64] END colsample_bytree=1, eval_metric=rmse, gamma=3, grow_policy=depthwise, learning_rate=0.05, max_depth=6, n_estimators=100, reg_alpha=1, reg_lambda=3, subsample=0.8;, score=(train=-0.045, test=-0.044) total time=   3.3s\n",
      "[CV 1/2; 45/64] START colsample_bytree=1, eval_metric=rmse, gamma=3, grow_policy=depthwise, learning_rate=0.05, max_depth=6, n_estimators=300, reg_alpha=0, reg_lambda=0, subsample=0.8\n",
      "[CV 1/2; 45/64] END colsample_bytree=1, eval_metric=rmse, gamma=3, grow_policy=depthwise, learning_rate=0.05, max_depth=6, n_estimators=300, reg_alpha=0, reg_lambda=0, subsample=0.8;, score=(train=-0.044, test=-0.045) total time=   8.7s\n",
      "[CV 2/2; 45/64] START colsample_bytree=1, eval_metric=rmse, gamma=3, grow_policy=depthwise, learning_rate=0.05, max_depth=6, n_estimators=300, reg_alpha=0, reg_lambda=0, subsample=0.8\n",
      "[CV 2/2; 45/64] END colsample_bytree=1, eval_metric=rmse, gamma=3, grow_policy=depthwise, learning_rate=0.05, max_depth=6, n_estimators=300, reg_alpha=0, reg_lambda=0, subsample=0.8;, score=(train=-0.045, test=-0.044) total time=   7.8s\n",
      "[CV 1/2; 46/64] START colsample_bytree=1, eval_metric=rmse, gamma=3, grow_policy=depthwise, learning_rate=0.05, max_depth=6, n_estimators=300, reg_alpha=0, reg_lambda=3, subsample=0.8\n",
      "[CV 1/2; 46/64] END colsample_bytree=1, eval_metric=rmse, gamma=3, grow_policy=depthwise, learning_rate=0.05, max_depth=6, n_estimators=300, reg_alpha=0, reg_lambda=3, subsample=0.8;, score=(train=-0.044, test=-0.045) total time=   7.6s\n",
      "[CV 2/2; 46/64] START colsample_bytree=1, eval_metric=rmse, gamma=3, grow_policy=depthwise, learning_rate=0.05, max_depth=6, n_estimators=300, reg_alpha=0, reg_lambda=3, subsample=0.8\n",
      "[CV 2/2; 46/64] END colsample_bytree=1, eval_metric=rmse, gamma=3, grow_policy=depthwise, learning_rate=0.05, max_depth=6, n_estimators=300, reg_alpha=0, reg_lambda=3, subsample=0.8;, score=(train=-0.045, test=-0.044) total time=   7.9s\n",
      "[CV 1/2; 47/64] START colsample_bytree=1, eval_metric=rmse, gamma=3, grow_policy=depthwise, learning_rate=0.05, max_depth=6, n_estimators=300, reg_alpha=1, reg_lambda=0, subsample=0.8\n",
      "[CV 1/2; 47/64] END colsample_bytree=1, eval_metric=rmse, gamma=3, grow_policy=depthwise, learning_rate=0.05, max_depth=6, n_estimators=300, reg_alpha=1, reg_lambda=0, subsample=0.8;, score=(train=-0.044, test=-0.045) total time=   7.8s\n",
      "[CV 2/2; 47/64] START colsample_bytree=1, eval_metric=rmse, gamma=3, grow_policy=depthwise, learning_rate=0.05, max_depth=6, n_estimators=300, reg_alpha=1, reg_lambda=0, subsample=0.8\n",
      "[CV 2/2; 47/64] END colsample_bytree=1, eval_metric=rmse, gamma=3, grow_policy=depthwise, learning_rate=0.05, max_depth=6, n_estimators=300, reg_alpha=1, reg_lambda=0, subsample=0.8;, score=(train=-0.045, test=-0.044) total time=   7.7s\n",
      "[CV 1/2; 48/64] START colsample_bytree=1, eval_metric=rmse, gamma=3, grow_policy=depthwise, learning_rate=0.05, max_depth=6, n_estimators=300, reg_alpha=1, reg_lambda=3, subsample=0.8\n",
      "[CV 1/2; 48/64] END colsample_bytree=1, eval_metric=rmse, gamma=3, grow_policy=depthwise, learning_rate=0.05, max_depth=6, n_estimators=300, reg_alpha=1, reg_lambda=3, subsample=0.8;, score=(train=-0.044, test=-0.045) total time=   7.6s\n",
      "[CV 2/2; 48/64] START colsample_bytree=1, eval_metric=rmse, gamma=3, grow_policy=depthwise, learning_rate=0.05, max_depth=6, n_estimators=300, reg_alpha=1, reg_lambda=3, subsample=0.8\n",
      "[CV 2/2; 48/64] END colsample_bytree=1, eval_metric=rmse, gamma=3, grow_policy=depthwise, learning_rate=0.05, max_depth=6, n_estimators=300, reg_alpha=1, reg_lambda=3, subsample=0.8;, score=(train=-0.045, test=-0.044) total time=   7.3s\n",
      "[CV 1/2; 49/64] START colsample_bytree=1, eval_metric=rmse, gamma=3, grow_policy=depthwise, learning_rate=0.03, max_depth=4, n_estimators=100, reg_alpha=0, reg_lambda=0, subsample=0.8\n",
      "[CV 1/2; 49/64] END colsample_bytree=1, eval_metric=rmse, gamma=3, grow_policy=depthwise, learning_rate=0.03, max_depth=4, n_estimators=100, reg_alpha=0, reg_lambda=0, subsample=0.8;, score=(train=-0.050, test=-0.050) total time=   1.7s\n",
      "[CV 2/2; 49/64] START colsample_bytree=1, eval_metric=rmse, gamma=3, grow_policy=depthwise, learning_rate=0.03, max_depth=4, n_estimators=100, reg_alpha=0, reg_lambda=0, subsample=0.8\n",
      "[CV 2/2; 49/64] END colsample_bytree=1, eval_metric=rmse, gamma=3, grow_policy=depthwise, learning_rate=0.03, max_depth=4, n_estimators=100, reg_alpha=0, reg_lambda=0, subsample=0.8;, score=(train=-0.050, test=-0.050) total time=   1.7s\n",
      "[CV 1/2; 50/64] START colsample_bytree=1, eval_metric=rmse, gamma=3, grow_policy=depthwise, learning_rate=0.03, max_depth=4, n_estimators=100, reg_alpha=0, reg_lambda=3, subsample=0.8\n",
      "[CV 1/2; 50/64] END colsample_bytree=1, eval_metric=rmse, gamma=3, grow_policy=depthwise, learning_rate=0.03, max_depth=4, n_estimators=100, reg_alpha=0, reg_lambda=3, subsample=0.8;, score=(train=-0.050, test=-0.050) total time=   1.6s\n",
      "[CV 2/2; 50/64] START colsample_bytree=1, eval_metric=rmse, gamma=3, grow_policy=depthwise, learning_rate=0.03, max_depth=4, n_estimators=100, reg_alpha=0, reg_lambda=3, subsample=0.8\n",
      "[CV 2/2; 50/64] END colsample_bytree=1, eval_metric=rmse, gamma=3, grow_policy=depthwise, learning_rate=0.03, max_depth=4, n_estimators=100, reg_alpha=0, reg_lambda=3, subsample=0.8;, score=(train=-0.051, test=-0.050) total time=   1.6s\n",
      "[CV 1/2; 51/64] START colsample_bytree=1, eval_metric=rmse, gamma=3, grow_policy=depthwise, learning_rate=0.03, max_depth=4, n_estimators=100, reg_alpha=1, reg_lambda=0, subsample=0.8\n",
      "[CV 1/2; 51/64] END colsample_bytree=1, eval_metric=rmse, gamma=3, grow_policy=depthwise, learning_rate=0.03, max_depth=4, n_estimators=100, reg_alpha=1, reg_lambda=0, subsample=0.8;, score=(train=-0.050, test=-0.051) total time=   1.7s\n",
      "[CV 2/2; 51/64] START colsample_bytree=1, eval_metric=rmse, gamma=3, grow_policy=depthwise, learning_rate=0.03, max_depth=4, n_estimators=100, reg_alpha=1, reg_lambda=0, subsample=0.8\n",
      "[CV 2/2; 51/64] END colsample_bytree=1, eval_metric=rmse, gamma=3, grow_policy=depthwise, learning_rate=0.03, max_depth=4, n_estimators=100, reg_alpha=1, reg_lambda=0, subsample=0.8;, score=(train=-0.051, test=-0.050) total time=   1.5s\n",
      "[CV 1/2; 52/64] START colsample_bytree=1, eval_metric=rmse, gamma=3, grow_policy=depthwise, learning_rate=0.03, max_depth=4, n_estimators=100, reg_alpha=1, reg_lambda=3, subsample=0.8\n",
      "[CV 1/2; 52/64] END colsample_bytree=1, eval_metric=rmse, gamma=3, grow_policy=depthwise, learning_rate=0.03, max_depth=4, n_estimators=100, reg_alpha=1, reg_lambda=3, subsample=0.8;, score=(train=-0.050, test=-0.051) total time=   1.7s\n",
      "[CV 2/2; 52/64] START colsample_bytree=1, eval_metric=rmse, gamma=3, grow_policy=depthwise, learning_rate=0.03, max_depth=4, n_estimators=100, reg_alpha=1, reg_lambda=3, subsample=0.8\n",
      "[CV 2/2; 52/64] END colsample_bytree=1, eval_metric=rmse, gamma=3, grow_policy=depthwise, learning_rate=0.03, max_depth=4, n_estimators=100, reg_alpha=1, reg_lambda=3, subsample=0.8;, score=(train=-0.051, test=-0.050) total time=   1.6s\n",
      "[CV 1/2; 53/64] START colsample_bytree=1, eval_metric=rmse, gamma=3, grow_policy=depthwise, learning_rate=0.03, max_depth=4, n_estimators=300, reg_alpha=0, reg_lambda=0, subsample=0.8\n",
      "[CV 1/2; 53/64] END colsample_bytree=1, eval_metric=rmse, gamma=3, grow_policy=depthwise, learning_rate=0.03, max_depth=4, n_estimators=300, reg_alpha=0, reg_lambda=0, subsample=0.8;, score=(train=-0.044, test=-0.045) total time=   5.5s\n",
      "[CV 2/2; 53/64] START colsample_bytree=1, eval_metric=rmse, gamma=3, grow_policy=depthwise, learning_rate=0.03, max_depth=4, n_estimators=300, reg_alpha=0, reg_lambda=0, subsample=0.8\n",
      "[CV 2/2; 53/64] END colsample_bytree=1, eval_metric=rmse, gamma=3, grow_policy=depthwise, learning_rate=0.03, max_depth=4, n_estimators=300, reg_alpha=0, reg_lambda=0, subsample=0.8;, score=(train=-0.044, test=-0.044) total time=   5.2s\n",
      "[CV 1/2; 54/64] START colsample_bytree=1, eval_metric=rmse, gamma=3, grow_policy=depthwise, learning_rate=0.03, max_depth=4, n_estimators=300, reg_alpha=0, reg_lambda=3, subsample=0.8\n",
      "[CV 1/2; 54/64] END colsample_bytree=1, eval_metric=rmse, gamma=3, grow_policy=depthwise, learning_rate=0.03, max_depth=4, n_estimators=300, reg_alpha=0, reg_lambda=3, subsample=0.8;, score=(train=-0.044, test=-0.045) total time=   5.5s\n",
      "[CV 2/2; 54/64] START colsample_bytree=1, eval_metric=rmse, gamma=3, grow_policy=depthwise, learning_rate=0.03, max_depth=4, n_estimators=300, reg_alpha=0, reg_lambda=3, subsample=0.8\n",
      "[CV 2/2; 54/64] END colsample_bytree=1, eval_metric=rmse, gamma=3, grow_policy=depthwise, learning_rate=0.03, max_depth=4, n_estimators=300, reg_alpha=0, reg_lambda=3, subsample=0.8;, score=(train=-0.045, test=-0.044) total time=   5.0s\n",
      "[CV 1/2; 55/64] START colsample_bytree=1, eval_metric=rmse, gamma=3, grow_policy=depthwise, learning_rate=0.03, max_depth=4, n_estimators=300, reg_alpha=1, reg_lambda=0, subsample=0.8\n",
      "[CV 1/2; 55/64] END colsample_bytree=1, eval_metric=rmse, gamma=3, grow_policy=depthwise, learning_rate=0.03, max_depth=4, n_estimators=300, reg_alpha=1, reg_lambda=0, subsample=0.8;, score=(train=-0.044, test=-0.045) total time=   5.3s\n",
      "[CV 2/2; 55/64] START colsample_bytree=1, eval_metric=rmse, gamma=3, grow_policy=depthwise, learning_rate=0.03, max_depth=4, n_estimators=300, reg_alpha=1, reg_lambda=0, subsample=0.8\n",
      "[CV 2/2; 55/64] END colsample_bytree=1, eval_metric=rmse, gamma=3, grow_policy=depthwise, learning_rate=0.03, max_depth=4, n_estimators=300, reg_alpha=1, reg_lambda=0, subsample=0.8;, score=(train=-0.045, test=-0.044) total time=   6.0s\n",
      "[CV 1/2; 56/64] START colsample_bytree=1, eval_metric=rmse, gamma=3, grow_policy=depthwise, learning_rate=0.03, max_depth=4, n_estimators=300, reg_alpha=1, reg_lambda=3, subsample=0.8\n",
      "[CV 1/2; 56/64] END colsample_bytree=1, eval_metric=rmse, gamma=3, grow_policy=depthwise, learning_rate=0.03, max_depth=4, n_estimators=300, reg_alpha=1, reg_lambda=3, subsample=0.8;, score=(train=-0.044, test=-0.045) total time=   5.7s\n",
      "[CV 2/2; 56/64] START colsample_bytree=1, eval_metric=rmse, gamma=3, grow_policy=depthwise, learning_rate=0.03, max_depth=4, n_estimators=300, reg_alpha=1, reg_lambda=3, subsample=0.8\n",
      "[CV 2/2; 56/64] END colsample_bytree=1, eval_metric=rmse, gamma=3, grow_policy=depthwise, learning_rate=0.03, max_depth=4, n_estimators=300, reg_alpha=1, reg_lambda=3, subsample=0.8;, score=(train=-0.045, test=-0.044) total time=   5.6s\n",
      "[CV 1/2; 57/64] START colsample_bytree=1, eval_metric=rmse, gamma=3, grow_policy=depthwise, learning_rate=0.03, max_depth=6, n_estimators=100, reg_alpha=0, reg_lambda=0, subsample=0.8\n",
      "[CV 1/2; 57/64] END colsample_bytree=1, eval_metric=rmse, gamma=3, grow_policy=depthwise, learning_rate=0.03, max_depth=6, n_estimators=100, reg_alpha=0, reg_lambda=0, subsample=0.8;, score=(train=-0.050, test=-0.050) total time=   2.8s\n",
      "[CV 2/2; 57/64] START colsample_bytree=1, eval_metric=rmse, gamma=3, grow_policy=depthwise, learning_rate=0.03, max_depth=6, n_estimators=100, reg_alpha=0, reg_lambda=0, subsample=0.8\n",
      "[CV 2/2; 57/64] END colsample_bytree=1, eval_metric=rmse, gamma=3, grow_policy=depthwise, learning_rate=0.03, max_depth=6, n_estimators=100, reg_alpha=0, reg_lambda=0, subsample=0.8;, score=(train=-0.050, test=-0.050) total time=   2.9s\n",
      "[CV 1/2; 58/64] START colsample_bytree=1, eval_metric=rmse, gamma=3, grow_policy=depthwise, learning_rate=0.03, max_depth=6, n_estimators=100, reg_alpha=0, reg_lambda=3, subsample=0.8\n",
      "[CV 1/2; 58/64] END colsample_bytree=1, eval_metric=rmse, gamma=3, grow_policy=depthwise, learning_rate=0.03, max_depth=6, n_estimators=100, reg_alpha=0, reg_lambda=3, subsample=0.8;, score=(train=-0.050, test=-0.050) total time=   2.5s\n",
      "[CV 2/2; 58/64] START colsample_bytree=1, eval_metric=rmse, gamma=3, grow_policy=depthwise, learning_rate=0.03, max_depth=6, n_estimators=100, reg_alpha=0, reg_lambda=3, subsample=0.8\n",
      "[CV 2/2; 58/64] END colsample_bytree=1, eval_metric=rmse, gamma=3, grow_policy=depthwise, learning_rate=0.03, max_depth=6, n_estimators=100, reg_alpha=0, reg_lambda=3, subsample=0.8;, score=(train=-0.051, test=-0.050) total time=   2.6s\n",
      "[CV 1/2; 59/64] START colsample_bytree=1, eval_metric=rmse, gamma=3, grow_policy=depthwise, learning_rate=0.03, max_depth=6, n_estimators=100, reg_alpha=1, reg_lambda=0, subsample=0.8\n",
      "[CV 1/2; 59/64] END colsample_bytree=1, eval_metric=rmse, gamma=3, grow_policy=depthwise, learning_rate=0.03, max_depth=6, n_estimators=100, reg_alpha=1, reg_lambda=0, subsample=0.8;, score=(train=-0.050, test=-0.051) total time=   2.4s\n",
      "[CV 2/2; 59/64] START colsample_bytree=1, eval_metric=rmse, gamma=3, grow_policy=depthwise, learning_rate=0.03, max_depth=6, n_estimators=100, reg_alpha=1, reg_lambda=0, subsample=0.8\n",
      "[CV 2/2; 59/64] END colsample_bytree=1, eval_metric=rmse, gamma=3, grow_policy=depthwise, learning_rate=0.03, max_depth=6, n_estimators=100, reg_alpha=1, reg_lambda=0, subsample=0.8;, score=(train=-0.051, test=-0.050) total time=   2.4s\n",
      "[CV 1/2; 60/64] START colsample_bytree=1, eval_metric=rmse, gamma=3, grow_policy=depthwise, learning_rate=0.03, max_depth=6, n_estimators=100, reg_alpha=1, reg_lambda=3, subsample=0.8\n",
      "[CV 1/2; 60/64] END colsample_bytree=1, eval_metric=rmse, gamma=3, grow_policy=depthwise, learning_rate=0.03, max_depth=6, n_estimators=100, reg_alpha=1, reg_lambda=3, subsample=0.8;, score=(train=-0.050, test=-0.051) total time=   2.2s\n",
      "[CV 2/2; 60/64] START colsample_bytree=1, eval_metric=rmse, gamma=3, grow_policy=depthwise, learning_rate=0.03, max_depth=6, n_estimators=100, reg_alpha=1, reg_lambda=3, subsample=0.8\n",
      "[CV 2/2; 60/64] END colsample_bytree=1, eval_metric=rmse, gamma=3, grow_policy=depthwise, learning_rate=0.03, max_depth=6, n_estimators=100, reg_alpha=1, reg_lambda=3, subsample=0.8;, score=(train=-0.051, test=-0.050) total time=   2.2s\n",
      "[CV 1/2; 61/64] START colsample_bytree=1, eval_metric=rmse, gamma=3, grow_policy=depthwise, learning_rate=0.03, max_depth=6, n_estimators=300, reg_alpha=0, reg_lambda=0, subsample=0.8\n",
      "[CV 1/2; 61/64] END colsample_bytree=1, eval_metric=rmse, gamma=3, grow_policy=depthwise, learning_rate=0.03, max_depth=6, n_estimators=300, reg_alpha=0, reg_lambda=0, subsample=0.8;, score=(train=-0.044, test=-0.045) total time=   8.5s\n",
      "[CV 2/2; 61/64] START colsample_bytree=1, eval_metric=rmse, gamma=3, grow_policy=depthwise, learning_rate=0.03, max_depth=6, n_estimators=300, reg_alpha=0, reg_lambda=0, subsample=0.8\n",
      "[CV 2/2; 61/64] END colsample_bytree=1, eval_metric=rmse, gamma=3, grow_policy=depthwise, learning_rate=0.03, max_depth=6, n_estimators=300, reg_alpha=0, reg_lambda=0, subsample=0.8;, score=(train=-0.044, test=-0.044) total time=  10.2s\n",
      "[CV 1/2; 62/64] START colsample_bytree=1, eval_metric=rmse, gamma=3, grow_policy=depthwise, learning_rate=0.03, max_depth=6, n_estimators=300, reg_alpha=0, reg_lambda=3, subsample=0.8\n",
      "[CV 1/2; 62/64] END colsample_bytree=1, eval_metric=rmse, gamma=3, grow_policy=depthwise, learning_rate=0.03, max_depth=6, n_estimators=300, reg_alpha=0, reg_lambda=3, subsample=0.8;, score=(train=-0.044, test=-0.045) total time=   9.3s\n",
      "[CV 2/2; 62/64] START colsample_bytree=1, eval_metric=rmse, gamma=3, grow_policy=depthwise, learning_rate=0.03, max_depth=6, n_estimators=300, reg_alpha=0, reg_lambda=3, subsample=0.8\n",
      "[CV 2/2; 62/64] END colsample_bytree=1, eval_metric=rmse, gamma=3, grow_policy=depthwise, learning_rate=0.03, max_depth=6, n_estimators=300, reg_alpha=0, reg_lambda=3, subsample=0.8;, score=(train=-0.045, test=-0.044) total time=   9.4s\n",
      "[CV 1/2; 63/64] START colsample_bytree=1, eval_metric=rmse, gamma=3, grow_policy=depthwise, learning_rate=0.03, max_depth=6, n_estimators=300, reg_alpha=1, reg_lambda=0, subsample=0.8\n",
      "[CV 1/2; 63/64] END colsample_bytree=1, eval_metric=rmse, gamma=3, grow_policy=depthwise, learning_rate=0.03, max_depth=6, n_estimators=300, reg_alpha=1, reg_lambda=0, subsample=0.8;, score=(train=-0.044, test=-0.045) total time=  10.1s\n",
      "[CV 2/2; 63/64] START colsample_bytree=1, eval_metric=rmse, gamma=3, grow_policy=depthwise, learning_rate=0.03, max_depth=6, n_estimators=300, reg_alpha=1, reg_lambda=0, subsample=0.8\n",
      "[CV 2/2; 63/64] END colsample_bytree=1, eval_metric=rmse, gamma=3, grow_policy=depthwise, learning_rate=0.03, max_depth=6, n_estimators=300, reg_alpha=1, reg_lambda=0, subsample=0.8;, score=(train=-0.045, test=-0.044) total time=  10.2s\n",
      "[CV 1/2; 64/64] START colsample_bytree=1, eval_metric=rmse, gamma=3, grow_policy=depthwise, learning_rate=0.03, max_depth=6, n_estimators=300, reg_alpha=1, reg_lambda=3, subsample=0.8\n",
      "[CV 1/2; 64/64] END colsample_bytree=1, eval_metric=rmse, gamma=3, grow_policy=depthwise, learning_rate=0.03, max_depth=6, n_estimators=300, reg_alpha=1, reg_lambda=3, subsample=0.8;, score=(train=-0.044, test=-0.045) total time=  10.8s\n",
      "[CV 2/2; 64/64] START colsample_bytree=1, eval_metric=rmse, gamma=3, grow_policy=depthwise, learning_rate=0.03, max_depth=6, n_estimators=300, reg_alpha=1, reg_lambda=3, subsample=0.8\n",
      "[CV 2/2; 64/64] END colsample_bytree=1, eval_metric=rmse, gamma=3, grow_policy=depthwise, learning_rate=0.03, max_depth=6, n_estimators=300, reg_alpha=1, reg_lambda=3, subsample=0.8;, score=(train=-0.045, test=-0.044) total time=  10.8s\n",
      "{'colsample_bytree': 1, 'eval_metric': 'rmse', 'gamma': 0, 'grow_policy': 'depthwise', 'learning_rate': 0.05, 'max_depth': 6, 'n_estimators': 300, 'reg_alpha': 0, 'reg_lambda': 0, 'subsample': 0.8}\n"
     ]
    }
   ],
   "source": [
    "x = model_cv.fit(X_train, y_train)\n",
    "model = x.best_estimator_\n",
    "print(x.best_params_)\n",
    "pred = model.predict(X_test)"
   ]
  },
  {
   "cell_type": "code",
   "execution_count": 92,
   "metadata": {
    "id": "Rt7YEB8vhBDj"
   },
   "outputs": [],
   "source": [
    "y_pred = model_cv.predict(X_test)"
   ]
  },
  {
   "cell_type": "code",
   "execution_count": 98,
   "metadata": {},
   "outputs": [],
   "source": [
    "y_pred_train = model_cv.predict(X_train)"
   ]
  },
  {
   "cell_type": "code",
   "execution_count": 93,
   "metadata": {
    "colab": {
     "base_uri": "https://localhost:8080/"
    },
    "id": "wLjLD1bAdXqr",
    "outputId": "782a3491-1762-42fb-fa3c-4180cd66d7b4"
   },
   "outputs": [
    {
     "name": "stdout",
     "output_type": "stream",
     "text": [
      "Testing performance\n",
      "RMSE: 0.02\n",
      "R2: 0.82\n",
      "MAE: 0.01\n"
     ]
    }
   ],
   "source": [
    "rmse = (np.sqrt(mean_squared_error(y_test, y_pred)))\n",
    "r2 = r2_score(y_test, y_pred)\n",
    "mae = mean_absolute_error(y_test, y_pred)\n",
    "print('Testing performance')\n",
    "print('RMSE: {:.2f}'.format(rmse))\n",
    "print('R2: {:.2f}'.format(r2))\n",
    "print('MAE: {:.2f}'.format(mae))"
   ]
  },
  {
   "cell_type": "code",
   "execution_count": 94,
   "metadata": {},
   "outputs": [],
   "source": [
    "# {'colsample_bytree': 1, 'eval_metric': 'rmse', 'gamma': 0, 'grow_policy': 'depthwise', 'learning_rate': 0.05, 'max_depth': 6, 'n_estimators': 300, 'reg_alpha': 0, 'reg_lambda': 0, 'subsample': 0.8}"
   ]
  },
  {
   "cell_type": "code",
   "execution_count": 71,
   "metadata": {},
   "outputs": [],
   "source": [
    "import seaborn as sns\n",
    "def plot_scatter_avp(actuals, predictions):\n",
    "        df = pd.DataFrame({\"actual\": actuals, \"predicted\": predictions})\n",
    "\n",
    "        max_actual = max(df.actual)\n",
    "\n",
    "        fig = sns.scatterplot(data=df, x=\"actual\", y=\"predicted\", s=3, marker=\"o\")\n",
    "        fig.plot(np.linspace(0, max_actual), np.linspace(0, max_actual), \"-r\")\n",
    "        plt.show()"
   ]
  },
  {
   "cell_type": "code",
   "execution_count": 97,
   "metadata": {},
   "outputs": [
    {
     "data": {
      "image/png": "[encoded data removed]",
      "text/plain": [
       "<Figure size 432x288 with 1 Axes>"
      ]
     },
     "metadata": {
      "needs_background": "light"
     },
     "output_type": "display_data"
    }
   ],
   "source": [
    "plot_scatter_avp(y_test, y_pred)"
   ]
  },
  {
   "cell_type": "code",
   "execution_count": 99,
   "metadata": {},
   "outputs": [
    {
     "data": {
      "image/png": "[encoded data removed]",
      "text/plain": [
       "<Figure size 432x288 with 1 Axes>"
      ]
     },
     "metadata": {
      "needs_background": "light"
     },
     "output_type": "display_data"
    }
   ],
   "source": [
    "plot_scatter_avp(y_train, y_pred_train)"
   ]
  },
  {
   "cell_type": "markdown",
   "metadata": {},
   "source": [
    "## LSTM/GRU "
   ]
  },
  {
   "cell_type": "code",
   "execution_count": 18,
   "metadata": {},
   "outputs": [],
   "source": [
    "X_dl = X.to_numpy()\n",
    "y_dl = y.to_numpy()"
   ]
  },
  {
   "cell_type": "code",
   "execution_count": 19,
   "metadata": {},
   "outputs": [],
   "source": [
    "X_train, X_test, y_train, y_test = train_test_split(X_dl, y_dl, test_size=0.2, random_state=420)"
   ]
  },
  {
   "cell_type": "code",
   "execution_count": 20,
   "metadata": {},
   "outputs": [],
   "source": [
    "X_train_tensors = Variable(torch.Tensor(X_train))\n",
    "X_test_tensors = Variable(torch.Tensor(X_test))\n",
    "\n",
    "y_train_tensors = Variable(torch.Tensor(y_train))\n",
    "y_test_tensors = Variable(torch.Tensor(y_test)) "
   ]
  },
  {
   "cell_type": "code",
   "execution_count": 21,
   "metadata": {},
   "outputs": [],
   "source": [
    "#reshaping to rows, timestamps, features\n",
    "\n",
    "X_train_tensors_final = torch.reshape(X_train_tensors,   (X_train_tensors.shape[0], X_train_tensors.shape[1], 1))\n",
    "\n",
    "\n",
    "X_test_tensors_final = torch.reshape(X_test_tensors,  (X_test_tensors.shape[0], X_test_tensors.shape[1], 1)) "
   ]
  },
  {
   "cell_type": "code",
   "execution_count": 22,
   "metadata": {},
   "outputs": [
    {
     "data": {
      "text/plain": [
       "torch.Size([15272, 495, 1])"
      ]
     },
     "execution_count": 22,
     "metadata": {},
     "output_type": "execute_result"
    }
   ],
   "source": [
    "X_train_tensors_final.shape"
   ]
  },
  {
   "cell_type": "code",
   "execution_count": 23,
   "metadata": {},
   "outputs": [],
   "source": [
    "input_dim = 1\n",
    "hidden_dim = 32\n",
    "num_layers = 2\n",
    "output_dim = 1\n",
    "num_epochs = 50"
   ]
  },
  {
   "cell_type": "code",
   "execution_count": 24,
   "metadata": {},
   "outputs": [],
   "source": [
    "class LSTM1(nn.Module):\n",
    "    def __init__(self, num_classes, input_size, hidden_size, num_layers):\n",
    "        super(LSTM1, self).__init__()\n",
    "        self.num_classes = num_classes #number of classes\n",
    "        self.num_layers = num_layers #number of layers\n",
    "        self.input_size = input_size #input size\n",
    "        self.hidden_size = hidden_size #hidden state\n",
    "\n",
    "        self.lstm = nn.LSTM(input_size=input_size, \n",
    "                            hidden_size=hidden_size,\n",
    "                          num_layers=num_layers, \n",
    "                            batch_first=True) #lstm\n",
    "        self.fc_1 =  nn.Linear(hidden_size, 128) #fully connected 1\n",
    "        self.fc = nn.Linear(128, num_classes) #fully connected last layer\n",
    "\n",
    "        self.relu = nn.ReLU()\n",
    "    \n",
    "    def forward(self,x):\n",
    "        h_0 = Variable(torch.zeros(self.num_layers, x.size(0), self.hidden_size)) #hidden state\n",
    "        c_0 = Variable(torch.zeros(self.num_layers, x.size(0), self.hidden_size)) #internal state\n",
    "        # Propagate input through LSTM\n",
    "        output, (hn, cn) = self.lstm(x, (h_0, c_0)) #lstm with input, hidden, and internal state\n",
    "        hn = hn.view(-1, self.hidden_size) #reshaping the data for Dense layer next\n",
    "        out = self.relu(hn)\n",
    "        out = self.fc_1(out) #first Dense\n",
    "        out = self.relu(out) #relu\n",
    "        out = self.fc(out) #Final Output\n",
    "        return out"
   ]
  },
  {
   "cell_type": "code",
   "execution_count": 25,
   "metadata": {},
   "outputs": [],
   "source": [
    "class LSTM(nn.Module):\n",
    "    def __init__(self, input_dim, hidden_dim, num_layers, output_dim):\n",
    "        super(LSTM, self).__init__()\n",
    "        self.hidden_dim = hidden_dim\n",
    "        self.num_layers = num_layers\n",
    "        \n",
    "        self.lstm = nn.LSTM(input_dim, hidden_dim, num_layers, batch_first=True)\n",
    "        self.fc = nn.Linear(hidden_dim, output_dim)\n",
    "        \n",
    "        # self.relu = nn.ReLU()\n",
    "\n",
    "    def forward(self, x):\n",
    "        h0 = torch.zeros(self.num_layers, x.size(0), self.hidden_dim).requires_grad_()\n",
    "        c0 = torch.zeros(self.num_layers, x.size(0), self.hidden_dim).requires_grad_()\n",
    "        out, (hn, cn) = self.lstm(x, (h0.detach(), c0.detach()))\n",
    "        out = self.fc(out[:, -1, :]) \n",
    "        return out"
   ]
  },
  {
   "cell_type": "code",
   "execution_count": 26,
   "metadata": {},
   "outputs": [],
   "source": [
    "class GRU(nn.Module):\n",
    "    def __init__(self, input_dim, hidden_dim, num_layers, output_dim):\n",
    "        super(GRU, self).__init__()\n",
    "        self.hidden_dim = hidden_dim\n",
    "        self.num_layers = num_layers\n",
    "        \n",
    "        self.gru = nn.GRU(input_dim, hidden_dim, num_layers, batch_first=True)\n",
    "        self.fc = nn.Linear(hidden_dim, output_dim)\n",
    "\n",
    "    def forward(self, x):\n",
    "        h0 = torch.zeros(self.num_layers, x.size(0), self.hidden_dim).requires_grad_()\n",
    "        out, (hn) = self.gru(x, (h0.detach()))\n",
    "        out = self.fc(out[:, -1, :]) \n",
    "        return out"
   ]
  },
  {
   "cell_type": "code",
   "execution_count": 27,
   "metadata": {},
   "outputs": [],
   "source": [
    "model = LSTM(input_dim=input_dim, \n",
    "             hidden_dim=hidden_dim, \n",
    "             output_dim=output_dim, \n",
    "             num_layers=num_layers)\n",
    "criterion = torch.nn.MSELoss(reduction='mean')\n",
    "optimiser = torch.optim.Adam(model.parameters(), lr=0.01)"
   ]
  },
  {
   "cell_type": "code",
   "execution_count": 28,
   "metadata": {},
   "outputs": [
    {
     "name": "stderr",
     "output_type": "stream",
     "text": [
      "c:\\users\\kkwas\\pycharmprojects\\pythonproject\\venv\\lib\\site-packages\\torch\\nn\\modules\\loss.py:520: UserWarning: Using a target size (torch.Size([15272])) that is different to the input size (torch.Size([15272, 1])). This will likely lead to incorrect results due to broadcasting. Please ensure they have the same size.\n",
      "  return F.mse_loss(input, target, reduction=self.reduction)\n"
     ]
    },
    {
     "name": "stdout",
     "output_type": "stream",
     "text": [
      "Epoch  0 MSE:  0.014247039332985878\n",
      "Epoch  1 MSE:  0.012886828742921352\n",
      "Epoch  2 MSE:  0.005582157522439957\n",
      "Epoch  3 MSE:  0.0029675750993192196\n",
      "Epoch  4 MSE:  0.004534550942480564\n",
      "Epoch  5 MSE:  0.005457490682601929\n",
      "Epoch  6 MSE:  0.004901775624603033\n",
      "Epoch  7 MSE:  0.0037883203476667404\n",
      "Epoch  8 MSE:  0.003028755309060216\n",
      "Epoch  9 MSE:  0.003014299087226391\n",
      "Epoch  10 MSE:  0.003498805919662118\n",
      "Epoch  11 MSE:  0.0038640303537249565\n",
      "Epoch  12 MSE:  0.0037785267923027277\n",
      "Epoch  13 MSE:  0.0033958163112401962\n",
      "Epoch  14 MSE:  0.003044934943318367\n",
      "Epoch  15 MSE:  0.0029198762495070696\n",
      "Epoch  16 MSE:  0.0030070391949266195\n",
      "Epoch  17 MSE:  0.0031747345346957445\n",
      "Epoch  18 MSE:  0.0032915682531893253\n",
      "Epoch  19 MSE:  0.0032915547490119934\n",
      "Epoch  20 MSE:  0.0031870263628661633\n",
      "Epoch  21 MSE:  0.0030480094719678164\n",
      "Epoch  22 MSE:  0.002946653636172414\n",
      "Epoch  23 MSE:  0.002914441516622901\n",
      "Epoch  24 MSE:  0.0029470534063875675\n",
      "Epoch  25 MSE:  0.003009016625583172\n",
      "Epoch  26 MSE:  0.0030542174354195595\n",
      "Epoch  27 MSE:  0.003054112195968628\n",
      "Epoch  28 MSE:  0.0030124238692224026\n",
      "Epoch  29 MSE:  0.002957121701911092\n",
      "Epoch  30 MSE:  0.0029187847394496202\n",
      "Epoch  31 MSE:  0.00291222776286304\n",
      "Epoch  32 MSE:  0.002931702882051468\n",
      "Epoch  33 MSE:  0.002958715194836259\n",
      "Epoch  34 MSE:  0.0029747318476438522\n",
      "Epoch  35 MSE:  0.0029709439259022474\n",
      "Epoch  36 MSE:  0.002951031783595681\n",
      "Epoch  37 MSE:  0.0029270309023559093\n",
      "Epoch  38 MSE:  0.002911477815359831\n",
      "Epoch  39 MSE:  0.002910356502979994\n",
      "Epoch  40 MSE:  0.002920544473454356\n",
      "Epoch  41 MSE:  0.00293276971206069\n",
      "Epoch  42 MSE:  0.002937938552349806\n",
      "Epoch  43 MSE:  0.0029327149968594313\n",
      "Epoch  44 MSE:  0.0029212699737399817\n",
      "Epoch  45 MSE:  0.0029115660581737757\n",
      "Epoch  46 MSE:  0.0029080400709062815\n",
      "Epoch  47 MSE:  0.0029104433488100767\n",
      "Epoch  48 MSE:  0.002915492746978998\n",
      "Epoch  49 MSE:  0.0029191405046731234\n",
      "Training time: 3741.962508916855\n"
     ]
    }
   ],
   "source": [
    "import time\n",
    "hist = np.zeros(num_epochs)\n",
    "start_time = time.time()\n",
    "lstm = []\n",
    "for t in range(num_epochs):\n",
    "    y_train_pred = model(X_train_tensors_final)\n",
    "    loss = criterion(y_train_pred, y_train_tensors)\n",
    "    print(\"Epoch \", t, \"MSE: \", loss.item())\n",
    "    hist[t] = loss.item()\n",
    "    optimiser.zero_grad()\n",
    "    loss.backward()\n",
    "    optimiser.step()\n",
    "    \n",
    "training_time = time.time()-start_time\n",
    "print(\"Training time: {}\".format(training_time))"
   ]
  },
  {
   "cell_type": "code",
   "execution_count": 35,
   "metadata": {},
   "outputs": [
    {
     "data": {
      "text/plain": [
       "torch.Size([3819, 1])"
      ]
     },
     "execution_count": 35,
     "metadata": {},
     "output_type": "execute_result"
    }
   ],
   "source": [
    "import math, time\n",
    "from sklearn.metrics import mean_squared_error\n",
    "\n",
    "# make predictions\n",
    "y_test_pred = model(X_test_tensors_final)\n",
    "y_test_pred.shape"
   ]
  },
  {
   "cell_type": "code",
   "execution_count": 36,
   "metadata": {},
   "outputs": [],
   "source": [
    "# invert predictions\n",
    "# y_train_pred = y_train_pred.detach().numpy()\n",
    "y_train = y_train_tensors.detach().numpy()\n",
    "y_test_pred = y_test_pred.detach().numpy()\n",
    "y_test = y_test_tensors.detach().numpy()"
   ]
  },
  {
   "cell_type": "code",
   "execution_count": 41,
   "metadata": {},
   "outputs": [
    {
     "name": "stdout",
     "output_type": "stream",
     "text": [
      "Train Score: 0.05 RMSE\n",
      "Test Score: 0.05 RMSE\n"
     ]
    }
   ],
   "source": [
    "# calculate root mean squared error\n",
    "trainScore = math.sqrt(mean_squared_error(y_train, y_train_pred[:,0]))\n",
    "print('Train Score: %.2f RMSE' % (trainScore))\n",
    "testScore = math.sqrt(mean_squared_error(y_test, y_test_pred[:,0]))\n",
    "print('Test Score: %.2f RMSE' % (testScore))\n",
    "lstm.append(trainScore)\n",
    "lstm.append(testScore)\n",
    "lstm.append(training_time)"
   ]
  },
  {
   "cell_type": "code",
   "execution_count": 44,
   "metadata": {},
   "outputs": [],
   "source": [
    "model = GRU(input_dim=input_dim, hidden_dim=hidden_dim, output_dim=output_dim, num_layers=num_layers)\n",
    "criterion = torch.nn.MSELoss(reduction='mean')\n",
    "optimiser = torch.optim.Adam(model.parameters(), lr=0.01)"
   ]
  },
  {
   "cell_type": "code",
   "execution_count": 45,
   "metadata": {},
   "outputs": [],
   "source": [
    "X_train, X_test, y_train, y_test = train_test_split(X_dl, y_dl, test_size=0.2, random_state=420)\n",
    "\n",
    "X_train_tensors = Variable(torch.Tensor(X_train))\n",
    "X_test_tensors = Variable(torch.Tensor(X_test))\n",
    "\n",
    "y_train_tensors = Variable(torch.Tensor(y_train))\n",
    "y_test_tensors = Variable(torch.Tensor(y_test))\n",
    "\n",
    "X_train_tensors_final = torch.reshape(X_train_tensors,   (X_train_tensors.shape[0], X_train_tensors.shape[1], 1))\n",
    "\n",
    "X_test_tensors_final = torch.reshape(X_test_tensors,  (X_test_tensors.shape[0], X_test_tensors.shape[1], 1)) "
   ]
  },
  {
   "cell_type": "code",
   "execution_count": 51,
   "metadata": {},
   "outputs": [
    {
     "ename": "KeyboardInterrupt",
     "evalue": "",
     "output_type": "error",
     "traceback": [
      "\u001b[1;31m---------------------------------------------------------------------------\u001b[0m",
      "\u001b[1;31mKeyboardInterrupt\u001b[0m                         Traceback (most recent call last)",
      "\u001b[1;32m~\\AppData\\Local\\Temp/ipykernel_30864/3176852971.py\u001b[0m in \u001b[0;36m<module>\u001b[1;34m\u001b[0m\n\u001b[0;32m      4\u001b[0m \u001b[0mlstm\u001b[0m \u001b[1;33m=\u001b[0m \u001b[1;33m[\u001b[0m\u001b[1;33m]\u001b[0m\u001b[1;33m\u001b[0m\u001b[1;33m\u001b[0m\u001b[0m\n\u001b[0;32m      5\u001b[0m \u001b[1;32mfor\u001b[0m \u001b[0mt\u001b[0m \u001b[1;32min\u001b[0m \u001b[0mrange\u001b[0m\u001b[1;33m(\u001b[0m\u001b[0mnum_epochs\u001b[0m\u001b[1;33m)\u001b[0m\u001b[1;33m:\u001b[0m\u001b[1;33m\u001b[0m\u001b[1;33m\u001b[0m\u001b[0m\n\u001b[1;32m----> 6\u001b[1;33m     \u001b[0my_train_pred\u001b[0m \u001b[1;33m=\u001b[0m \u001b[0mmodel\u001b[0m\u001b[1;33m(\u001b[0m\u001b[0mX_train_tensors_final\u001b[0m\u001b[1;33m)\u001b[0m\u001b[1;33m\u001b[0m\u001b[1;33m\u001b[0m\u001b[0m\n\u001b[0m\u001b[0;32m      7\u001b[0m     \u001b[0mloss\u001b[0m \u001b[1;33m=\u001b[0m \u001b[0mcriterion\u001b[0m\u001b[1;33m(\u001b[0m\u001b[0my_train_pred\u001b[0m\u001b[1;33m,\u001b[0m \u001b[0my_train_tensors\u001b[0m\u001b[1;33m)\u001b[0m\u001b[1;33m\u001b[0m\u001b[1;33m\u001b[0m\u001b[0m\n\u001b[0;32m      8\u001b[0m     \u001b[0mprint\u001b[0m\u001b[1;33m(\u001b[0m\u001b[1;34m\"Epoch \"\u001b[0m\u001b[1;33m,\u001b[0m \u001b[0mt\u001b[0m\u001b[1;33m,\u001b[0m \u001b[1;34m\"MSE: \"\u001b[0m\u001b[1;33m,\u001b[0m \u001b[0mloss\u001b[0m\u001b[1;33m.\u001b[0m\u001b[0mitem\u001b[0m\u001b[1;33m(\u001b[0m\u001b[1;33m)\u001b[0m\u001b[1;33m)\u001b[0m\u001b[1;33m\u001b[0m\u001b[1;33m\u001b[0m\u001b[0m\n",
      "\u001b[1;32mc:\\users\\kkwas\\pycharmprojects\\pythonproject\\venv\\lib\\site-packages\\torch\\nn\\modules\\module.py\u001b[0m in \u001b[0;36m_call_impl\u001b[1;34m(self, *input, **kwargs)\u001b[0m\n\u001b[0;32m   1100\u001b[0m         if not (self._backward_hooks or self._forward_hooks or self._forward_pre_hooks or _global_backward_hooks\n\u001b[0;32m   1101\u001b[0m                 or _global_forward_hooks or _global_forward_pre_hooks):\n\u001b[1;32m-> 1102\u001b[1;33m             \u001b[1;32mreturn\u001b[0m \u001b[0mforward_call\u001b[0m\u001b[1;33m(\u001b[0m\u001b[1;33m*\u001b[0m\u001b[0minput\u001b[0m\u001b[1;33m,\u001b[0m \u001b[1;33m**\u001b[0m\u001b[0mkwargs\u001b[0m\u001b[1;33m)\u001b[0m\u001b[1;33m\u001b[0m\u001b[1;33m\u001b[0m\u001b[0m\n\u001b[0m\u001b[0;32m   1103\u001b[0m         \u001b[1;31m# Do not call functions when jit is used\u001b[0m\u001b[1;33m\u001b[0m\u001b[1;33m\u001b[0m\u001b[0m\n\u001b[0;32m   1104\u001b[0m         \u001b[0mfull_backward_hooks\u001b[0m\u001b[1;33m,\u001b[0m \u001b[0mnon_full_backward_hooks\u001b[0m \u001b[1;33m=\u001b[0m \u001b[1;33m[\u001b[0m\u001b[1;33m]\u001b[0m\u001b[1;33m,\u001b[0m \u001b[1;33m[\u001b[0m\u001b[1;33m]\u001b[0m\u001b[1;33m\u001b[0m\u001b[1;33m\u001b[0m\u001b[0m\n",
      "\u001b[1;32m~\\AppData\\Local\\Temp/ipykernel_30864/167894823.py\u001b[0m in \u001b[0;36mforward\u001b[1;34m(self, x)\u001b[0m\n\u001b[0;32m     10\u001b[0m     \u001b[1;32mdef\u001b[0m \u001b[0mforward\u001b[0m\u001b[1;33m(\u001b[0m\u001b[0mself\u001b[0m\u001b[1;33m,\u001b[0m \u001b[0mx\u001b[0m\u001b[1;33m)\u001b[0m\u001b[1;33m:\u001b[0m\u001b[1;33m\u001b[0m\u001b[1;33m\u001b[0m\u001b[0m\n\u001b[0;32m     11\u001b[0m         \u001b[0mh0\u001b[0m \u001b[1;33m=\u001b[0m \u001b[0mtorch\u001b[0m\u001b[1;33m.\u001b[0m\u001b[0mzeros\u001b[0m\u001b[1;33m(\u001b[0m\u001b[0mself\u001b[0m\u001b[1;33m.\u001b[0m\u001b[0mnum_layers\u001b[0m\u001b[1;33m,\u001b[0m \u001b[0mx\u001b[0m\u001b[1;33m.\u001b[0m\u001b[0msize\u001b[0m\u001b[1;33m(\u001b[0m\u001b[1;36m0\u001b[0m\u001b[1;33m)\u001b[0m\u001b[1;33m,\u001b[0m \u001b[0mself\u001b[0m\u001b[1;33m.\u001b[0m\u001b[0mhidden_dim\u001b[0m\u001b[1;33m)\u001b[0m\u001b[1;33m.\u001b[0m\u001b[0mrequires_grad_\u001b[0m\u001b[1;33m(\u001b[0m\u001b[1;33m)\u001b[0m\u001b[1;33m\u001b[0m\u001b[1;33m\u001b[0m\u001b[0m\n\u001b[1;32m---> 12\u001b[1;33m         \u001b[0mout\u001b[0m\u001b[1;33m,\u001b[0m \u001b[1;33m(\u001b[0m\u001b[0mhn\u001b[0m\u001b[1;33m)\u001b[0m \u001b[1;33m=\u001b[0m \u001b[0mself\u001b[0m\u001b[1;33m.\u001b[0m\u001b[0mgru\u001b[0m\u001b[1;33m(\u001b[0m\u001b[0mx\u001b[0m\u001b[1;33m,\u001b[0m \u001b[1;33m(\u001b[0m\u001b[0mh0\u001b[0m\u001b[1;33m.\u001b[0m\u001b[0mdetach\u001b[0m\u001b[1;33m(\u001b[0m\u001b[1;33m)\u001b[0m\u001b[1;33m)\u001b[0m\u001b[1;33m)\u001b[0m\u001b[1;33m\u001b[0m\u001b[1;33m\u001b[0m\u001b[0m\n\u001b[0m\u001b[0;32m     13\u001b[0m         \u001b[0mout\u001b[0m \u001b[1;33m=\u001b[0m \u001b[0mself\u001b[0m\u001b[1;33m.\u001b[0m\u001b[0mfc\u001b[0m\u001b[1;33m(\u001b[0m\u001b[0mout\u001b[0m\u001b[1;33m[\u001b[0m\u001b[1;33m:\u001b[0m\u001b[1;33m,\u001b[0m \u001b[1;33m-\u001b[0m\u001b[1;36m1\u001b[0m\u001b[1;33m,\u001b[0m \u001b[1;33m:\u001b[0m\u001b[1;33m]\u001b[0m\u001b[1;33m)\u001b[0m\u001b[1;33m\u001b[0m\u001b[1;33m\u001b[0m\u001b[0m\n\u001b[0;32m     14\u001b[0m         \u001b[1;32mreturn\u001b[0m \u001b[0mout\u001b[0m\u001b[1;33m\u001b[0m\u001b[1;33m\u001b[0m\u001b[0m\n",
      "\u001b[1;32mc:\\users\\kkwas\\pycharmprojects\\pythonproject\\venv\\lib\\site-packages\\torch\\nn\\modules\\module.py\u001b[0m in \u001b[0;36m_call_impl\u001b[1;34m(self, *input, **kwargs)\u001b[0m\n\u001b[0;32m   1100\u001b[0m         if not (self._backward_hooks or self._forward_hooks or self._forward_pre_hooks or _global_backward_hooks\n\u001b[0;32m   1101\u001b[0m                 or _global_forward_hooks or _global_forward_pre_hooks):\n\u001b[1;32m-> 1102\u001b[1;33m             \u001b[1;32mreturn\u001b[0m \u001b[0mforward_call\u001b[0m\u001b[1;33m(\u001b[0m\u001b[1;33m*\u001b[0m\u001b[0minput\u001b[0m\u001b[1;33m,\u001b[0m \u001b[1;33m**\u001b[0m\u001b[0mkwargs\u001b[0m\u001b[1;33m)\u001b[0m\u001b[1;33m\u001b[0m\u001b[1;33m\u001b[0m\u001b[0m\n\u001b[0m\u001b[0;32m   1103\u001b[0m         \u001b[1;31m# Do not call functions when jit is used\u001b[0m\u001b[1;33m\u001b[0m\u001b[1;33m\u001b[0m\u001b[0m\n\u001b[0;32m   1104\u001b[0m         \u001b[0mfull_backward_hooks\u001b[0m\u001b[1;33m,\u001b[0m \u001b[0mnon_full_backward_hooks\u001b[0m \u001b[1;33m=\u001b[0m \u001b[1;33m[\u001b[0m\u001b[1;33m]\u001b[0m\u001b[1;33m,\u001b[0m \u001b[1;33m[\u001b[0m\u001b[1;33m]\u001b[0m\u001b[1;33m\u001b[0m\u001b[1;33m\u001b[0m\u001b[0m\n",
      "\u001b[1;32mc:\\users\\kkwas\\pycharmprojects\\pythonproject\\venv\\lib\\site-packages\\torch\\nn\\modules\\rnn.py\u001b[0m in \u001b[0;36mforward\u001b[1;34m(self, input, hx)\u001b[0m\n\u001b[0;32m    847\u001b[0m         \u001b[0mself\u001b[0m\u001b[1;33m.\u001b[0m\u001b[0mcheck_forward_args\u001b[0m\u001b[1;33m(\u001b[0m\u001b[0minput\u001b[0m\u001b[1;33m,\u001b[0m \u001b[0mhx\u001b[0m\u001b[1;33m,\u001b[0m \u001b[0mbatch_sizes\u001b[0m\u001b[1;33m)\u001b[0m\u001b[1;33m\u001b[0m\u001b[1;33m\u001b[0m\u001b[0m\n\u001b[0;32m    848\u001b[0m         \u001b[1;32mif\u001b[0m \u001b[0mbatch_sizes\u001b[0m \u001b[1;32mis\u001b[0m \u001b[1;32mNone\u001b[0m\u001b[1;33m:\u001b[0m\u001b[1;33m\u001b[0m\u001b[1;33m\u001b[0m\u001b[0m\n\u001b[1;32m--> 849\u001b[1;33m             result = _VF.gru(input, hx, self._flat_weights, self.bias, self.num_layers,\n\u001b[0m\u001b[0;32m    850\u001b[0m                              self.dropout, self.training, self.bidirectional, self.batch_first)\n\u001b[0;32m    851\u001b[0m         \u001b[1;32melse\u001b[0m\u001b[1;33m:\u001b[0m\u001b[1;33m\u001b[0m\u001b[1;33m\u001b[0m\u001b[0m\n",
      "\u001b[1;31mKeyboardInterrupt\u001b[0m: "
     ]
    }
   ],
   "source": [
    "import time\n",
    "hist = np.zeros(num_epochs)\n",
    "start_time = time.time()\n",
    "lstm = []\n",
    "for t in range(num_epochs):\n",
    "    y_train_pred = model(X_train_tensors_final)\n",
    "    loss = criterion(y_train_pred, y_train_tensors)\n",
    "    print(\"Epoch \", t, \"MSE: \", loss.item())\n",
    "    hist[t] = loss.item()\n",
    "    optimiser.zero_grad()\n",
    "    loss.backward()\n",
    "    optimiser.step()\n",
    "    \n",
    "training_time = time.time()-start_time\n",
    "print(\"Training time: {}\".format(training_time))"
   ]
  },
  {
   "cell_type": "code",
   "execution_count": 47,
   "metadata": {},
   "outputs": [
    {
     "data": {
      "text/plain": [
       "torch.Size([3819, 1])"
      ]
     },
     "execution_count": 47,
     "metadata": {},
     "output_type": "execute_result"
    }
   ],
   "source": [
    "y_test_pred = model(X_test_tensors_final)\n",
    "y_test_pred.shape"
   ]
  },
  {
   "cell_type": "code",
   "execution_count": 49,
   "metadata": {},
   "outputs": [],
   "source": [
    "y_train_pred = y_train_pred.detach().numpy()\n",
    "y_train = y_train_tensors.detach().numpy()\n",
    "y_test_pred = y_test_pred.detach().numpy()\n",
    "y_test = y_test_tensors.detach().numpy()"
   ]
  },
  {
   "cell_type": "code",
   "execution_count": 50,
   "metadata": {},
   "outputs": [
    {
     "name": "stdout",
     "output_type": "stream",
     "text": [
      "Train Score: 0.05 RMSE\n",
      "Test Score: 0.05 RMSE\n"
     ]
    }
   ],
   "source": [
    "trainScore = math.sqrt(mean_squared_error(y_train, y_train_pred[:,0]))\n",
    "print('Train Score: %.2f RMSE' % (trainScore))\n",
    "testScore = math.sqrt(mean_squared_error(y_test, y_test_pred[:,0]))\n",
    "print('Test Score: %.2f RMSE' % (testScore))\n",
    "lstm.append(trainScore)\n",
    "lstm.append(testScore)\n",
    "lstm.append(training_time)"
   ]
  },
  {
   "cell_type": "markdown",
   "metadata": {},
   "source": [
    "## Random Forest"
   ]
  },
  {
   "cell_type": "code",
   "execution_count": 52,
   "metadata": {},
   "outputs": [],
   "source": [
    "from sklearn.ensemble import RandomForestRegressor"
   ]
  },
  {
   "cell_type": "code",
   "execution_count": 64,
   "metadata": {},
   "outputs": [],
   "source": [
    "params_CV_rf = {\n",
    "    'n_estimators': [100, 300, 500],\n",
    "    'max_depth': [4, 6, 8],\n",
    "    'min_samples_split': [2, 4],\n",
    "    'bootstrap': [True],\n",
    "    'max_samples': [0.75, 1]\n",
    "    \n",
    "}"
   ]
  },
  {
   "cell_type": "code",
   "execution_count": 65,
   "metadata": {},
   "outputs": [],
   "source": [
    "rf = RandomForestRegressor()"
   ]
  },
  {
   "cell_type": "code",
   "execution_count": 66,
   "metadata": {},
   "outputs": [],
   "source": [
    "kf=KFold(n_splits=3)\n",
    "model_cv = GridSearchCV(estimator = rf, \n",
    "                        param_grid = params_CV_rf, \n",
    "                        scoring= 'neg_mean_squared_error', \n",
    "                        cv = kf, \n",
    "                        verbose = 100,\n",
    "                        return_train_score=True)  "
   ]
  },
  {
   "cell_type": "code",
   "execution_count": 67,
   "metadata": {},
   "outputs": [
    {
     "name": "stdout",
     "output_type": "stream",
     "text": [
      "Fitting 3 folds for each of 36 candidates, totalling 108 fits\n",
      "[CV 1/3; 1/36] START bootstrap=True, max_depth=4, max_samples=0.75, min_samples_split=2, n_estimators=100\n",
      "[CV 1/3; 1/36] END bootstrap=True, max_depth=4, max_samples=0.75, min_samples_split=2, n_estimators=100;, score=(train=-0.001, test=-0.001) total time=  16.7s\n",
      "[CV 2/3; 1/36] START bootstrap=True, max_depth=4, max_samples=0.75, min_samples_split=2, n_estimators=100\n",
      "[CV 2/3; 1/36] END bootstrap=True, max_depth=4, max_samples=0.75, min_samples_split=2, n_estimators=100;, score=(train=-0.001, test=-0.001) total time=  16.7s\n",
      "[CV 3/3; 1/36] START bootstrap=True, max_depth=4, max_samples=0.75, min_samples_split=2, n_estimators=100\n",
      "[CV 3/3; 1/36] END bootstrap=True, max_depth=4, max_samples=0.75, min_samples_split=2, n_estimators=100;, score=(train=-0.001, test=-0.001) total time=  16.6s\n",
      "[CV 1/3; 2/36] START bootstrap=True, max_depth=4, max_samples=0.75, min_samples_split=2, n_estimators=300\n",
      "[CV 1/3; 2/36] END bootstrap=True, max_depth=4, max_samples=0.75, min_samples_split=2, n_estimators=300;, score=(train=-0.001, test=-0.001) total time=  50.4s\n",
      "[CV 2/3; 2/36] START bootstrap=True, max_depth=4, max_samples=0.75, min_samples_split=2, n_estimators=300\n",
      "[CV 2/3; 2/36] END bootstrap=True, max_depth=4, max_samples=0.75, min_samples_split=2, n_estimators=300;, score=(train=-0.001, test=-0.001) total time=  50.5s\n",
      "[CV 3/3; 2/36] START bootstrap=True, max_depth=4, max_samples=0.75, min_samples_split=2, n_estimators=300\n",
      "[CV 3/3; 2/36] END bootstrap=True, max_depth=4, max_samples=0.75, min_samples_split=2, n_estimators=300;, score=(train=-0.001, test=-0.001) total time=  50.0s\n",
      "[CV 1/3; 3/36] START bootstrap=True, max_depth=4, max_samples=0.75, min_samples_split=2, n_estimators=500\n",
      "[CV 1/3; 3/36] END bootstrap=True, max_depth=4, max_samples=0.75, min_samples_split=2, n_estimators=500;, score=(train=-0.001, test=-0.001) total time= 1.4min\n",
      "[CV 2/3; 3/36] START bootstrap=True, max_depth=4, max_samples=0.75, min_samples_split=2, n_estimators=500\n",
      "[CV 2/3; 3/36] END bootstrap=True, max_depth=4, max_samples=0.75, min_samples_split=2, n_estimators=500;, score=(train=-0.001, test=-0.001) total time= 1.6min\n",
      "[CV 3/3; 3/36] START bootstrap=True, max_depth=4, max_samples=0.75, min_samples_split=2, n_estimators=500\n",
      "[CV 3/3; 3/36] END bootstrap=True, max_depth=4, max_samples=0.75, min_samples_split=2, n_estimators=500;, score=(train=-0.001, test=-0.001) total time= 1.5min\n",
      "[CV 1/3; 4/36] START bootstrap=True, max_depth=4, max_samples=0.75, min_samples_split=4, n_estimators=100\n",
      "[CV 1/3; 4/36] END bootstrap=True, max_depth=4, max_samples=0.75, min_samples_split=4, n_estimators=100;, score=(train=-0.001, test=-0.001) total time=  16.8s\n",
      "[CV 2/3; 4/36] START bootstrap=True, max_depth=4, max_samples=0.75, min_samples_split=4, n_estimators=100\n",
      "[CV 2/3; 4/36] END bootstrap=True, max_depth=4, max_samples=0.75, min_samples_split=4, n_estimators=100;, score=(train=-0.001, test=-0.001) total time=  17.0s\n",
      "[CV 3/3; 4/36] START bootstrap=True, max_depth=4, max_samples=0.75, min_samples_split=4, n_estimators=100\n",
      "[CV 3/3; 4/36] END bootstrap=True, max_depth=4, max_samples=0.75, min_samples_split=4, n_estimators=100;, score=(train=-0.001, test=-0.001) total time=  16.8s\n",
      "[CV 1/3; 5/36] START bootstrap=True, max_depth=4, max_samples=0.75, min_samples_split=4, n_estimators=300\n",
      "[CV 1/3; 5/36] END bootstrap=True, max_depth=4, max_samples=0.75, min_samples_split=4, n_estimators=300;, score=(train=-0.001, test=-0.001) total time=  50.6s\n",
      "[CV 2/3; 5/36] START bootstrap=True, max_depth=4, max_samples=0.75, min_samples_split=4, n_estimators=300\n",
      "[CV 2/3; 5/36] END bootstrap=True, max_depth=4, max_samples=0.75, min_samples_split=4, n_estimators=300;, score=(train=-0.001, test=-0.001) total time=  50.2s\n",
      "[CV 3/3; 5/36] START bootstrap=True, max_depth=4, max_samples=0.75, min_samples_split=4, n_estimators=300\n",
      "[CV 3/3; 5/36] END bootstrap=True, max_depth=4, max_samples=0.75, min_samples_split=4, n_estimators=300;, score=(train=-0.001, test=-0.001) total time=  50.2s\n",
      "[CV 1/3; 6/36] START bootstrap=True, max_depth=4, max_samples=0.75, min_samples_split=4, n_estimators=500\n",
      "[CV 1/3; 6/36] END bootstrap=True, max_depth=4, max_samples=0.75, min_samples_split=4, n_estimators=500;, score=(train=-0.001, test=-0.001) total time= 1.4min\n",
      "[CV 2/3; 6/36] START bootstrap=True, max_depth=4, max_samples=0.75, min_samples_split=4, n_estimators=500\n",
      "[CV 2/3; 6/36] END bootstrap=True, max_depth=4, max_samples=0.75, min_samples_split=4, n_estimators=500;, score=(train=-0.001, test=-0.001) total time= 1.4min\n",
      "[CV 3/3; 6/36] START bootstrap=True, max_depth=4, max_samples=0.75, min_samples_split=4, n_estimators=500\n",
      "[CV 3/3; 6/36] END bootstrap=True, max_depth=4, max_samples=0.75, min_samples_split=4, n_estimators=500;, score=(train=-0.001, test=-0.001) total time= 1.4min\n",
      "[CV 1/3; 7/36] START bootstrap=True, max_depth=4, max_samples=1, min_samples_split=2, n_estimators=100\n",
      "[CV 1/3; 7/36] END bootstrap=True, max_depth=4, max_samples=1, min_samples_split=2, n_estimators=100;, score=(train=-0.003, test=-0.003) total time=   0.0s\n",
      "[CV 2/3; 7/36] START bootstrap=True, max_depth=4, max_samples=1, min_samples_split=2, n_estimators=100\n",
      "[CV 2/3; 7/36] END bootstrap=True, max_depth=4, max_samples=1, min_samples_split=2, n_estimators=100;, score=(train=-0.003, test=-0.003) total time=   0.0s\n",
      "[CV 3/3; 7/36] START bootstrap=True, max_depth=4, max_samples=1, min_samples_split=2, n_estimators=100\n",
      "[CV 3/3; 7/36] END bootstrap=True, max_depth=4, max_samples=1, min_samples_split=2, n_estimators=100;, score=(train=-0.003, test=-0.003) total time=   0.0s\n",
      "[CV 1/3; 8/36] START bootstrap=True, max_depth=4, max_samples=1, min_samples_split=2, n_estimators=300\n",
      "[CV 1/3; 8/36] END bootstrap=True, max_depth=4, max_samples=1, min_samples_split=2, n_estimators=300;, score=(train=-0.003, test=-0.003) total time=   0.1s\n",
      "[CV 2/3; 8/36] START bootstrap=True, max_depth=4, max_samples=1, min_samples_split=2, n_estimators=300\n",
      "[CV 2/3; 8/36] END bootstrap=True, max_depth=4, max_samples=1, min_samples_split=2, n_estimators=300;, score=(train=-0.003, test=-0.003) total time=   0.1s\n",
      "[CV 3/3; 8/36] START bootstrap=True, max_depth=4, max_samples=1, min_samples_split=2, n_estimators=300\n",
      "[CV 3/3; 8/36] END bootstrap=True, max_depth=4, max_samples=1, min_samples_split=2, n_estimators=300;, score=(train=-0.003, test=-0.003) total time=   0.1s\n",
      "[CV 1/3; 9/36] START bootstrap=True, max_depth=4, max_samples=1, min_samples_split=2, n_estimators=500\n",
      "[CV 1/3; 9/36] END bootstrap=True, max_depth=4, max_samples=1, min_samples_split=2, n_estimators=500;, score=(train=-0.003, test=-0.003) total time=   0.3s\n",
      "[CV 2/3; 9/36] START bootstrap=True, max_depth=4, max_samples=1, min_samples_split=2, n_estimators=500\n",
      "[CV 2/3; 9/36] END bootstrap=True, max_depth=4, max_samples=1, min_samples_split=2, n_estimators=500;, score=(train=-0.003, test=-0.003) total time=   0.2s\n",
      "[CV 3/3; 9/36] START bootstrap=True, max_depth=4, max_samples=1, min_samples_split=2, n_estimators=500\n",
      "[CV 3/3; 9/36] END bootstrap=True, max_depth=4, max_samples=1, min_samples_split=2, n_estimators=500;, score=(train=-0.003, test=-0.003) total time=   0.2s\n",
      "[CV 1/3; 10/36] START bootstrap=True, max_depth=4, max_samples=1, min_samples_split=4, n_estimators=100\n",
      "[CV 1/3; 10/36] END bootstrap=True, max_depth=4, max_samples=1, min_samples_split=4, n_estimators=100;, score=(train=-0.003, test=-0.003) total time=   0.0s\n",
      "[CV 2/3; 10/36] START bootstrap=True, max_depth=4, max_samples=1, min_samples_split=4, n_estimators=100\n",
      "[CV 2/3; 10/36] END bootstrap=True, max_depth=4, max_samples=1, min_samples_split=4, n_estimators=100;, score=(train=-0.003, test=-0.003) total time=   0.0s\n",
      "[CV 3/3; 10/36] START bootstrap=True, max_depth=4, max_samples=1, min_samples_split=4, n_estimators=100\n",
      "[CV 3/3; 10/36] END bootstrap=True, max_depth=4, max_samples=1, min_samples_split=4, n_estimators=100;, score=(train=-0.003, test=-0.003) total time=   0.0s\n",
      "[CV 1/3; 11/36] START bootstrap=True, max_depth=4, max_samples=1, min_samples_split=4, n_estimators=300\n",
      "[CV 1/3; 11/36] END bootstrap=True, max_depth=4, max_samples=1, min_samples_split=4, n_estimators=300;, score=(train=-0.003, test=-0.003) total time=   0.1s\n",
      "[CV 2/3; 11/36] START bootstrap=True, max_depth=4, max_samples=1, min_samples_split=4, n_estimators=300\n",
      "[CV 2/3; 11/36] END bootstrap=True, max_depth=4, max_samples=1, min_samples_split=4, n_estimators=300;, score=(train=-0.003, test=-0.003) total time=   0.1s\n",
      "[CV 3/3; 11/36] START bootstrap=True, max_depth=4, max_samples=1, min_samples_split=4, n_estimators=300\n",
      "[CV 3/3; 11/36] END bootstrap=True, max_depth=4, max_samples=1, min_samples_split=4, n_estimators=300;, score=(train=-0.003, test=-0.003) total time=   0.1s\n",
      "[CV 1/3; 12/36] START bootstrap=True, max_depth=4, max_samples=1, min_samples_split=4, n_estimators=500\n",
      "[CV 1/3; 12/36] END bootstrap=True, max_depth=4, max_samples=1, min_samples_split=4, n_estimators=500;, score=(train=-0.003, test=-0.003) total time=   0.3s\n",
      "[CV 2/3; 12/36] START bootstrap=True, max_depth=4, max_samples=1, min_samples_split=4, n_estimators=500\n",
      "[CV 2/3; 12/36] END bootstrap=True, max_depth=4, max_samples=1, min_samples_split=4, n_estimators=500;, score=(train=-0.003, test=-0.003) total time=   0.2s\n",
      "[CV 3/3; 12/36] START bootstrap=True, max_depth=4, max_samples=1, min_samples_split=4, n_estimators=500\n",
      "[CV 3/3; 12/36] END bootstrap=True, max_depth=4, max_samples=1, min_samples_split=4, n_estimators=500;, score=(train=-0.003, test=-0.003) total time=   0.2s\n",
      "[CV 1/3; 13/36] START bootstrap=True, max_depth=6, max_samples=0.75, min_samples_split=2, n_estimators=100\n",
      "[CV 1/3; 13/36] END bootstrap=True, max_depth=6, max_samples=0.75, min_samples_split=2, n_estimators=100;, score=(train=-0.001, test=-0.001) total time=  22.9s\n",
      "[CV 2/3; 13/36] START bootstrap=True, max_depth=6, max_samples=0.75, min_samples_split=2, n_estimators=100\n",
      "[CV 2/3; 13/36] END bootstrap=True, max_depth=6, max_samples=0.75, min_samples_split=2, n_estimators=100;, score=(train=-0.001, test=-0.001) total time=  22.8s\n",
      "[CV 3/3; 13/36] START bootstrap=True, max_depth=6, max_samples=0.75, min_samples_split=2, n_estimators=100\n",
      "[CV 3/3; 13/36] END bootstrap=True, max_depth=6, max_samples=0.75, min_samples_split=2, n_estimators=100;, score=(train=-0.001, test=-0.001) total time=  22.7s\n",
      "[CV 1/3; 14/36] START bootstrap=True, max_depth=6, max_samples=0.75, min_samples_split=2, n_estimators=300\n",
      "[CV 1/3; 14/36] END bootstrap=True, max_depth=6, max_samples=0.75, min_samples_split=2, n_estimators=300;, score=(train=-0.001, test=-0.001) total time= 1.1min\n",
      "[CV 2/3; 14/36] START bootstrap=True, max_depth=6, max_samples=0.75, min_samples_split=2, n_estimators=300\n",
      "[CV 2/3; 14/36] END bootstrap=True, max_depth=6, max_samples=0.75, min_samples_split=2, n_estimators=300;, score=(train=-0.001, test=-0.001) total time= 1.1min\n",
      "[CV 3/3; 14/36] START bootstrap=True, max_depth=6, max_samples=0.75, min_samples_split=2, n_estimators=300\n",
      "[CV 3/3; 14/36] END bootstrap=True, max_depth=6, max_samples=0.75, min_samples_split=2, n_estimators=300;, score=(train=-0.001, test=-0.001) total time= 1.1min\n",
      "[CV 1/3; 15/36] START bootstrap=True, max_depth=6, max_samples=0.75, min_samples_split=2, n_estimators=500\n",
      "[CV 1/3; 15/36] END bootstrap=True, max_depth=6, max_samples=0.75, min_samples_split=2, n_estimators=500;, score=(train=-0.001, test=-0.001) total time= 1.9min\n",
      "[CV 2/3; 15/36] START bootstrap=True, max_depth=6, max_samples=0.75, min_samples_split=2, n_estimators=500\n",
      "[CV 2/3; 15/36] END bootstrap=True, max_depth=6, max_samples=0.75, min_samples_split=2, n_estimators=500;, score=(train=-0.001, test=-0.001) total time= 2.1min\n",
      "[CV 3/3; 15/36] START bootstrap=True, max_depth=6, max_samples=0.75, min_samples_split=2, n_estimators=500\n",
      "[CV 3/3; 15/36] END bootstrap=True, max_depth=6, max_samples=0.75, min_samples_split=2, n_estimators=500;, score=(train=-0.001, test=-0.001) total time= 2.0min\n",
      "[CV 1/3; 16/36] START bootstrap=True, max_depth=6, max_samples=0.75, min_samples_split=4, n_estimators=100\n",
      "[CV 1/3; 16/36] END bootstrap=True, max_depth=6, max_samples=0.75, min_samples_split=4, n_estimators=100;, score=(train=-0.001, test=-0.001) total time=  24.5s\n",
      "[CV 2/3; 16/36] START bootstrap=True, max_depth=6, max_samples=0.75, min_samples_split=4, n_estimators=100\n",
      "[CV 2/3; 16/36] END bootstrap=True, max_depth=6, max_samples=0.75, min_samples_split=4, n_estimators=100;, score=(train=-0.001, test=-0.001) total time=  24.6s\n",
      "[CV 3/3; 16/36] START bootstrap=True, max_depth=6, max_samples=0.75, min_samples_split=4, n_estimators=100\n",
      "[CV 3/3; 16/36] END bootstrap=True, max_depth=6, max_samples=0.75, min_samples_split=4, n_estimators=100;, score=(train=-0.001, test=-0.001) total time=  24.5s\n",
      "[CV 1/3; 17/36] START bootstrap=True, max_depth=6, max_samples=0.75, min_samples_split=4, n_estimators=300\n",
      "[CV 1/3; 17/36] END bootstrap=True, max_depth=6, max_samples=0.75, min_samples_split=4, n_estimators=300;, score=(train=-0.001, test=-0.001) total time= 1.2min\n",
      "[CV 2/3; 17/36] START bootstrap=True, max_depth=6, max_samples=0.75, min_samples_split=4, n_estimators=300\n",
      "[CV 2/3; 17/36] END bootstrap=True, max_depth=6, max_samples=0.75, min_samples_split=4, n_estimators=300;, score=(train=-0.001, test=-0.001) total time= 1.1min\n",
      "[CV 3/3; 17/36] START bootstrap=True, max_depth=6, max_samples=0.75, min_samples_split=4, n_estimators=300\n",
      "[CV 3/3; 17/36] END bootstrap=True, max_depth=6, max_samples=0.75, min_samples_split=4, n_estimators=300;, score=(train=-0.001, test=-0.001) total time= 1.1min\n",
      "[CV 1/3; 18/36] START bootstrap=True, max_depth=6, max_samples=0.75, min_samples_split=4, n_estimators=500\n",
      "[CV 1/3; 18/36] END bootstrap=True, max_depth=6, max_samples=0.75, min_samples_split=4, n_estimators=500;, score=(train=-0.001, test=-0.001) total time= 1.9min\n",
      "[CV 2/3; 18/36] START bootstrap=True, max_depth=6, max_samples=0.75, min_samples_split=4, n_estimators=500\n",
      "[CV 2/3; 18/36] END bootstrap=True, max_depth=6, max_samples=0.75, min_samples_split=4, n_estimators=500;, score=(train=-0.001, test=-0.001) total time= 1.9min\n",
      "[CV 3/3; 18/36] START bootstrap=True, max_depth=6, max_samples=0.75, min_samples_split=4, n_estimators=500\n",
      "[CV 3/3; 18/36] END bootstrap=True, max_depth=6, max_samples=0.75, min_samples_split=4, n_estimators=500;, score=(train=-0.001, test=-0.001) total time= 1.9min\n",
      "[CV 1/3; 19/36] START bootstrap=True, max_depth=6, max_samples=1, min_samples_split=2, n_estimators=100\n",
      "[CV 1/3; 19/36] END bootstrap=True, max_depth=6, max_samples=1, min_samples_split=2, n_estimators=100;, score=(train=-0.003, test=-0.003) total time=   0.0s\n",
      "[CV 2/3; 19/36] START bootstrap=True, max_depth=6, max_samples=1, min_samples_split=2, n_estimators=100\n",
      "[CV 2/3; 19/36] END bootstrap=True, max_depth=6, max_samples=1, min_samples_split=2, n_estimators=100;, score=(train=-0.003, test=-0.003) total time=   0.0s\n",
      "[CV 3/3; 19/36] START bootstrap=True, max_depth=6, max_samples=1, min_samples_split=2, n_estimators=100\n",
      "[CV 3/3; 19/36] END bootstrap=True, max_depth=6, max_samples=1, min_samples_split=2, n_estimators=100;, score=(train=-0.003, test=-0.003) total time=   0.0s\n",
      "[CV 1/3; 20/36] START bootstrap=True, max_depth=6, max_samples=1, min_samples_split=2, n_estimators=300\n",
      "[CV 1/3; 20/36] END bootstrap=True, max_depth=6, max_samples=1, min_samples_split=2, n_estimators=300;, score=(train=-0.003, test=-0.003) total time=   0.1s\n",
      "[CV 2/3; 20/36] START bootstrap=True, max_depth=6, max_samples=1, min_samples_split=2, n_estimators=300\n",
      "[CV 2/3; 20/36] END bootstrap=True, max_depth=6, max_samples=1, min_samples_split=2, n_estimators=300;, score=(train=-0.003, test=-0.003) total time=   0.1s\n",
      "[CV 3/3; 20/36] START bootstrap=True, max_depth=6, max_samples=1, min_samples_split=2, n_estimators=300\n",
      "[CV 3/3; 20/36] END bootstrap=True, max_depth=6, max_samples=1, min_samples_split=2, n_estimators=300;, score=(train=-0.003, test=-0.003) total time=   0.1s\n",
      "[CV 1/3; 21/36] START bootstrap=True, max_depth=6, max_samples=1, min_samples_split=2, n_estimators=500\n",
      "[CV 1/3; 21/36] END bootstrap=True, max_depth=6, max_samples=1, min_samples_split=2, n_estimators=500;, score=(train=-0.003, test=-0.003) total time=   0.2s\n",
      "[CV 2/3; 21/36] START bootstrap=True, max_depth=6, max_samples=1, min_samples_split=2, n_estimators=500\n",
      "[CV 2/3; 21/36] END bootstrap=True, max_depth=6, max_samples=1, min_samples_split=2, n_estimators=500;, score=(train=-0.003, test=-0.003) total time=   0.2s\n",
      "[CV 3/3; 21/36] START bootstrap=True, max_depth=6, max_samples=1, min_samples_split=2, n_estimators=500\n",
      "[CV 3/3; 21/36] END bootstrap=True, max_depth=6, max_samples=1, min_samples_split=2, n_estimators=500;, score=(train=-0.003, test=-0.003) total time=   0.2s\n",
      "[CV 1/3; 22/36] START bootstrap=True, max_depth=6, max_samples=1, min_samples_split=4, n_estimators=100\n",
      "[CV 1/3; 22/36] END bootstrap=True, max_depth=6, max_samples=1, min_samples_split=4, n_estimators=100;, score=(train=-0.003, test=-0.003) total time=   0.0s\n",
      "[CV 2/3; 22/36] START bootstrap=True, max_depth=6, max_samples=1, min_samples_split=4, n_estimators=100\n",
      "[CV 2/3; 22/36] END bootstrap=True, max_depth=6, max_samples=1, min_samples_split=4, n_estimators=100;, score=(train=-0.003, test=-0.003) total time=   0.0s\n",
      "[CV 3/3; 22/36] START bootstrap=True, max_depth=6, max_samples=1, min_samples_split=4, n_estimators=100\n",
      "[CV 3/3; 22/36] END bootstrap=True, max_depth=6, max_samples=1, min_samples_split=4, n_estimators=100;, score=(train=-0.003, test=-0.003) total time=   0.0s\n",
      "[CV 1/3; 23/36] START bootstrap=True, max_depth=6, max_samples=1, min_samples_split=4, n_estimators=300\n",
      "[CV 1/3; 23/36] END bootstrap=True, max_depth=6, max_samples=1, min_samples_split=4, n_estimators=300;, score=(train=-0.003, test=-0.003) total time=   0.1s\n",
      "[CV 2/3; 23/36] START bootstrap=True, max_depth=6, max_samples=1, min_samples_split=4, n_estimators=300\n",
      "[CV 2/3; 23/36] END bootstrap=True, max_depth=6, max_samples=1, min_samples_split=4, n_estimators=300;, score=(train=-0.003, test=-0.003) total time=   0.1s\n",
      "[CV 3/3; 23/36] START bootstrap=True, max_depth=6, max_samples=1, min_samples_split=4, n_estimators=300\n",
      "[CV 3/3; 23/36] END bootstrap=True, max_depth=6, max_samples=1, min_samples_split=4, n_estimators=300;, score=(train=-0.003, test=-0.003) total time=   0.1s\n",
      "[CV 1/3; 24/36] START bootstrap=True, max_depth=6, max_samples=1, min_samples_split=4, n_estimators=500\n",
      "[CV 1/3; 24/36] END bootstrap=True, max_depth=6, max_samples=1, min_samples_split=4, n_estimators=500;, score=(train=-0.003, test=-0.003) total time=   0.2s\n",
      "[CV 2/3; 24/36] START bootstrap=True, max_depth=6, max_samples=1, min_samples_split=4, n_estimators=500\n",
      "[CV 2/3; 24/36] END bootstrap=True, max_depth=6, max_samples=1, min_samples_split=4, n_estimators=500;, score=(train=-0.003, test=-0.003) total time=   0.2s\n",
      "[CV 3/3; 24/36] START bootstrap=True, max_depth=6, max_samples=1, min_samples_split=4, n_estimators=500\n",
      "[CV 3/3; 24/36] END bootstrap=True, max_depth=6, max_samples=1, min_samples_split=4, n_estimators=500;, score=(train=-0.003, test=-0.003) total time=   0.2s\n",
      "[CV 1/3; 25/36] START bootstrap=True, max_depth=8, max_samples=0.75, min_samples_split=2, n_estimators=100\n",
      "[CV 1/3; 25/36] END bootstrap=True, max_depth=8, max_samples=0.75, min_samples_split=2, n_estimators=100;, score=(train=-0.001, test=-0.001) total time=  27.7s\n",
      "[CV 2/3; 25/36] START bootstrap=True, max_depth=8, max_samples=0.75, min_samples_split=2, n_estimators=100\n",
      "[CV 2/3; 25/36] END bootstrap=True, max_depth=8, max_samples=0.75, min_samples_split=2, n_estimators=100;, score=(train=-0.001, test=-0.001) total time=  27.6s\n",
      "[CV 3/3; 25/36] START bootstrap=True, max_depth=8, max_samples=0.75, min_samples_split=2, n_estimators=100\n",
      "[CV 3/3; 25/36] END bootstrap=True, max_depth=8, max_samples=0.75, min_samples_split=2, n_estimators=100;, score=(train=-0.001, test=-0.001) total time=  27.7s\n",
      "[CV 1/3; 26/36] START bootstrap=True, max_depth=8, max_samples=0.75, min_samples_split=2, n_estimators=300\n",
      "[CV 1/3; 26/36] END bootstrap=True, max_depth=8, max_samples=0.75, min_samples_split=2, n_estimators=300;, score=(train=-0.001, test=-0.001) total time= 1.4min\n",
      "[CV 2/3; 26/36] START bootstrap=True, max_depth=8, max_samples=0.75, min_samples_split=2, n_estimators=300\n",
      "[CV 2/3; 26/36] END bootstrap=True, max_depth=8, max_samples=0.75, min_samples_split=2, n_estimators=300;, score=(train=-0.001, test=-0.001) total time= 1.4min\n",
      "[CV 3/3; 26/36] START bootstrap=True, max_depth=8, max_samples=0.75, min_samples_split=2, n_estimators=300\n",
      "[CV 3/3; 26/36] END bootstrap=True, max_depth=8, max_samples=0.75, min_samples_split=2, n_estimators=300;, score=(train=-0.001, test=-0.001) total time= 1.4min\n",
      "[CV 1/3; 27/36] START bootstrap=True, max_depth=8, max_samples=0.75, min_samples_split=2, n_estimators=500\n",
      "[CV 1/3; 27/36] END bootstrap=True, max_depth=8, max_samples=0.75, min_samples_split=2, n_estimators=500;, score=(train=-0.001, test=-0.001) total time= 2.3min\n",
      "[CV 2/3; 27/36] START bootstrap=True, max_depth=8, max_samples=0.75, min_samples_split=2, n_estimators=500\n",
      "[CV 2/3; 27/36] END bootstrap=True, max_depth=8, max_samples=0.75, min_samples_split=2, n_estimators=500;, score=(train=-0.001, test=-0.001) total time= 2.4min\n",
      "[CV 3/3; 27/36] START bootstrap=True, max_depth=8, max_samples=0.75, min_samples_split=2, n_estimators=500\n",
      "[CV 3/3; 27/36] END bootstrap=True, max_depth=8, max_samples=0.75, min_samples_split=2, n_estimators=500;, score=(train=-0.001, test=-0.001) total time= 2.5min\n",
      "[CV 1/3; 28/36] START bootstrap=True, max_depth=8, max_samples=0.75, min_samples_split=4, n_estimators=100\n",
      "[CV 1/3; 28/36] END bootstrap=True, max_depth=8, max_samples=0.75, min_samples_split=4, n_estimators=100;, score=(train=-0.001, test=-0.001) total time=  29.3s\n",
      "[CV 2/3; 28/36] START bootstrap=True, max_depth=8, max_samples=0.75, min_samples_split=4, n_estimators=100\n",
      "[CV 2/3; 28/36] END bootstrap=True, max_depth=8, max_samples=0.75, min_samples_split=4, n_estimators=100;, score=(train=-0.001, test=-0.001) total time=  27.8s\n",
      "[CV 3/3; 28/36] START bootstrap=True, max_depth=8, max_samples=0.75, min_samples_split=4, n_estimators=100\n",
      "[CV 3/3; 28/36] END bootstrap=True, max_depth=8, max_samples=0.75, min_samples_split=4, n_estimators=100;, score=(train=-0.001, test=-0.001) total time=  27.4s\n",
      "[CV 1/3; 29/36] START bootstrap=True, max_depth=8, max_samples=0.75, min_samples_split=4, n_estimators=300\n",
      "[CV 1/3; 29/36] END bootstrap=True, max_depth=8, max_samples=0.75, min_samples_split=4, n_estimators=300;, score=(train=-0.001, test=-0.001) total time= 1.4min\n",
      "[CV 2/3; 29/36] START bootstrap=True, max_depth=8, max_samples=0.75, min_samples_split=4, n_estimators=300\n",
      "[CV 2/3; 29/36] END bootstrap=True, max_depth=8, max_samples=0.75, min_samples_split=4, n_estimators=300;, score=(train=-0.001, test=-0.001) total time= 1.4min\n",
      "[CV 3/3; 29/36] START bootstrap=True, max_depth=8, max_samples=0.75, min_samples_split=4, n_estimators=300\n",
      "[CV 3/3; 29/36] END bootstrap=True, max_depth=8, max_samples=0.75, min_samples_split=4, n_estimators=300;, score=(train=-0.001, test=-0.001) total time= 1.4min\n",
      "[CV 1/3; 30/36] START bootstrap=True, max_depth=8, max_samples=0.75, min_samples_split=4, n_estimators=500\n",
      "[CV 1/3; 30/36] END bootstrap=True, max_depth=8, max_samples=0.75, min_samples_split=4, n_estimators=500;, score=(train=-0.001, test=-0.001) total time= 2.5min\n",
      "[CV 2/3; 30/36] START bootstrap=True, max_depth=8, max_samples=0.75, min_samples_split=4, n_estimators=500\n",
      "[CV 2/3; 30/36] END bootstrap=True, max_depth=8, max_samples=0.75, min_samples_split=4, n_estimators=500;, score=(train=-0.001, test=-0.001) total time= 2.5min\n",
      "[CV 3/3; 30/36] START bootstrap=True, max_depth=8, max_samples=0.75, min_samples_split=4, n_estimators=500\n",
      "[CV 3/3; 30/36] END bootstrap=True, max_depth=8, max_samples=0.75, min_samples_split=4, n_estimators=500;, score=(train=-0.001, test=-0.001) total time= 2.3min\n",
      "[CV 1/3; 31/36] START bootstrap=True, max_depth=8, max_samples=1, min_samples_split=2, n_estimators=100\n",
      "[CV 1/3; 31/36] END bootstrap=True, max_depth=8, max_samples=1, min_samples_split=2, n_estimators=100;, score=(train=-0.003, test=-0.003) total time=   0.0s\n",
      "[CV 2/3; 31/36] START bootstrap=True, max_depth=8, max_samples=1, min_samples_split=2, n_estimators=100\n",
      "[CV 2/3; 31/36] END bootstrap=True, max_depth=8, max_samples=1, min_samples_split=2, n_estimators=100;, score=(train=-0.003, test=-0.003) total time=   0.0s\n",
      "[CV 3/3; 31/36] START bootstrap=True, max_depth=8, max_samples=1, min_samples_split=2, n_estimators=100\n",
      "[CV 3/3; 31/36] END bootstrap=True, max_depth=8, max_samples=1, min_samples_split=2, n_estimators=100;, score=(train=-0.003, test=-0.003) total time=   0.0s\n",
      "[CV 1/3; 32/36] START bootstrap=True, max_depth=8, max_samples=1, min_samples_split=2, n_estimators=300\n",
      "[CV 1/3; 32/36] END bootstrap=True, max_depth=8, max_samples=1, min_samples_split=2, n_estimators=300;, score=(train=-0.003, test=-0.003) total time=   0.1s\n",
      "[CV 2/3; 32/36] START bootstrap=True, max_depth=8, max_samples=1, min_samples_split=2, n_estimators=300\n",
      "[CV 2/3; 32/36] END bootstrap=True, max_depth=8, max_samples=1, min_samples_split=2, n_estimators=300;, score=(train=-0.003, test=-0.003) total time=   0.1s\n",
      "[CV 3/3; 32/36] START bootstrap=True, max_depth=8, max_samples=1, min_samples_split=2, n_estimators=300\n",
      "[CV 3/3; 32/36] END bootstrap=True, max_depth=8, max_samples=1, min_samples_split=2, n_estimators=300;, score=(train=-0.003, test=-0.003) total time=   0.1s\n",
      "[CV 1/3; 33/36] START bootstrap=True, max_depth=8, max_samples=1, min_samples_split=2, n_estimators=500\n",
      "[CV 1/3; 33/36] END bootstrap=True, max_depth=8, max_samples=1, min_samples_split=2, n_estimators=500;, score=(train=-0.003, test=-0.003) total time=   0.3s\n",
      "[CV 2/3; 33/36] START bootstrap=True, max_depth=8, max_samples=1, min_samples_split=2, n_estimators=500\n",
      "[CV 2/3; 33/36] END bootstrap=True, max_depth=8, max_samples=1, min_samples_split=2, n_estimators=500;, score=(train=-0.003, test=-0.003) total time=   0.2s\n",
      "[CV 3/3; 33/36] START bootstrap=True, max_depth=8, max_samples=1, min_samples_split=2, n_estimators=500\n",
      "[CV 3/3; 33/36] END bootstrap=True, max_depth=8, max_samples=1, min_samples_split=2, n_estimators=500;, score=(train=-0.003, test=-0.003) total time=   0.2s\n",
      "[CV 1/3; 34/36] START bootstrap=True, max_depth=8, max_samples=1, min_samples_split=4, n_estimators=100\n",
      "[CV 1/3; 34/36] END bootstrap=True, max_depth=8, max_samples=1, min_samples_split=4, n_estimators=100;, score=(train=-0.003, test=-0.003) total time=   0.0s\n",
      "[CV 2/3; 34/36] START bootstrap=True, max_depth=8, max_samples=1, min_samples_split=4, n_estimators=100\n",
      "[CV 2/3; 34/36] END bootstrap=True, max_depth=8, max_samples=1, min_samples_split=4, n_estimators=100;, score=(train=-0.003, test=-0.003) total time=   0.0s\n",
      "[CV 3/3; 34/36] START bootstrap=True, max_depth=8, max_samples=1, min_samples_split=4, n_estimators=100\n",
      "[CV 3/3; 34/36] END bootstrap=True, max_depth=8, max_samples=1, min_samples_split=4, n_estimators=100;, score=(train=-0.003, test=-0.003) total time=   0.0s\n",
      "[CV 1/3; 35/36] START bootstrap=True, max_depth=8, max_samples=1, min_samples_split=4, n_estimators=300\n",
      "[CV 1/3; 35/36] END bootstrap=True, max_depth=8, max_samples=1, min_samples_split=4, n_estimators=300;, score=(train=-0.003, test=-0.003) total time=   0.1s\n",
      "[CV 2/3; 35/36] START bootstrap=True, max_depth=8, max_samples=1, min_samples_split=4, n_estimators=300\n",
      "[CV 2/3; 35/36] END bootstrap=True, max_depth=8, max_samples=1, min_samples_split=4, n_estimators=300;, score=(train=-0.003, test=-0.003) total time=   0.1s\n",
      "[CV 3/3; 35/36] START bootstrap=True, max_depth=8, max_samples=1, min_samples_split=4, n_estimators=300\n",
      "[CV 3/3; 35/36] END bootstrap=True, max_depth=8, max_samples=1, min_samples_split=4, n_estimators=300;, score=(train=-0.003, test=-0.003) total time=   0.1s\n",
      "[CV 1/3; 36/36] START bootstrap=True, max_depth=8, max_samples=1, min_samples_split=4, n_estimators=500\n",
      "[CV 1/3; 36/36] END bootstrap=True, max_depth=8, max_samples=1, min_samples_split=4, n_estimators=500;, score=(train=-0.003, test=-0.003) total time=   0.2s\n",
      "[CV 2/3; 36/36] START bootstrap=True, max_depth=8, max_samples=1, min_samples_split=4, n_estimators=500\n",
      "[CV 2/3; 36/36] END bootstrap=True, max_depth=8, max_samples=1, min_samples_split=4, n_estimators=500;, score=(train=-0.003, test=-0.003) total time=   0.2s\n",
      "[CV 3/3; 36/36] START bootstrap=True, max_depth=8, max_samples=1, min_samples_split=4, n_estimators=500\n",
      "[CV 3/3; 36/36] END bootstrap=True, max_depth=8, max_samples=1, min_samples_split=4, n_estimators=500;, score=(train=-0.003, test=-0.003) total time=   0.3s\n",
      "{'bootstrap': True, 'max_depth': 8, 'max_samples': 0.75, 'min_samples_split': 2, 'n_estimators': 500}\n"
     ]
    }
   ],
   "source": [
    "x = model_cv.fit(X_train, y_train)\n",
    "model = x.best_estimator_\n",
    "print(x.best_params_)\n",
    "pred = model.predict(X_test)"
   ]
  },
  {
   "cell_type": "code",
   "execution_count": 68,
   "metadata": {},
   "outputs": [],
   "source": [
    "y_pred_train = model_cv.predict(X_train)"
   ]
  },
  {
   "cell_type": "code",
   "execution_count": 70,
   "metadata": {},
   "outputs": [
    {
     "name": "stdout",
     "output_type": "stream",
     "text": [
      "Testing performance\n",
      "RMSE: 0.03\n",
      "R2: 0.72\n",
      "MAE: 0.02\n"
     ]
    }
   ],
   "source": [
    "rmse = (np.sqrt(mean_squared_error(y_test, pred)))\n",
    "r2 = r2_score(y_test, pred)\n",
    "mae = mean_absolute_error(y_test, pred)\n",
    "print('Testing performance')\n",
    "print('RMSE: {:.2f}'.format(rmse))\n",
    "print('R2: {:.2f}'.format(r2))\n",
    "print('MAE: {:.2f}'.format(mae))"
   ]
  },
  {
   "cell_type": "code",
   "execution_count": 75,
   "metadata": {},
   "outputs": [
    {
     "data": {
      "image/png": "[encoded data removed]",
      "text/plain": [
       "<Figure size 432x288 with 1 Axes>"
      ]
     },
     "metadata": {
      "needs_background": "light"
     },
     "output_type": "display_data"
    }
   ],
   "source": [
    "plot_scatter_avp(y_test, pred)"
   ]
  },
  {
   "cell_type": "code",
   "execution_count": 76,
   "metadata": {},
   "outputs": [
    {
     "data": {
      "image/png": "[encoded data removed]",
      "text/plain": [
       "<Figure size 432x288 with 1 Axes>"
      ]
     },
     "metadata": {
      "needs_background": "light"
     },
     "output_type": "display_data"
    }
   ],
   "source": [
    "plot_scatter_avp(y_train, y_pred_train)"
   ]
  },
  {
   "cell_type": "code",
   "execution_count": null,
   "metadata": {},
   "outputs": [],
   "source": [
    "# {'bootstrap': True, 'max_depth': 8, 'max_samples': 0.75, 'min_samples_split': 2, 'n_estimators': 500}"
   ]
  }
 ],
 "metadata": {
  "colab": {
   "name": "LinearRegression.ipynb",
   "provenance": []
  },
  "kernelspec": {
   "display_name": "Python 3 (ipykernel)",
   "language": "python",
   "name": "python3"
  },
  "language_info": {
   "codemirror_mode": {
    "name": "ipython",
    "version": 3
   },
   "file_extension": ".py",
   "mimetype": "text/x-python",
   "name": "python",
   "nbconvert_exporter": "python",
   "pygments_lexer": "ipython3",
   "version": "3.9.7"
  }
 },
 "nbformat": 4,
 "nbformat_minor": 4
}
